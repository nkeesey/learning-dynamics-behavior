{
 "cells": [
  {
   "cell_type": "markdown",
   "metadata": {},
   "source": [
    "### Demo for FP Analysis "
   ]
  },
  {
   "cell_type": "code",
   "execution_count": 50,
   "metadata": {},
   "outputs": [],
   "source": [
    "%matplotlib inline\n",
    "import numpy as np\n",
    "import pandas as pd\n",
    "import matplotlib.pyplot as plt\n",
    "import statsmodels.api as sm\n",
    "import seaborn as sns\n",
    "import pandas as pd\n",
    "import os\n",
    "import plotly.express as px"
   ]
  },
  {
   "cell_type": "code",
   "execution_count": 70,
   "metadata": {},
   "outputs": [
    {
     "data": {
      "text/html": [
       "<div>\n",
       "<style scoped>\n",
       "    .dataframe tbody tr th:only-of-type {\n",
       "        vertical-align: middle;\n",
       "    }\n",
       "\n",
       "    .dataframe tbody tr th {\n",
       "        vertical-align: top;\n",
       "    }\n",
       "\n",
       "    .dataframe thead th {\n",
       "        text-align: right;\n",
       "    }\n",
       "</style>\n",
       "<table border=\"1\" class=\"dataframe\">\n",
       "  <thead>\n",
       "    <tr style=\"text-align: right;\">\n",
       "      <th></th>\n",
       "      <th>subject_id</th>\n",
       "      <th>session_date</th>\n",
       "      <th>nwb_suffix</th>\n",
       "      <th>session</th>\n",
       "      <th>rig</th>\n",
       "      <th>user_name</th>\n",
       "      <th>curriculum_name</th>\n",
       "      <th>curriculum_version</th>\n",
       "      <th>current_stage_actual</th>\n",
       "      <th>task</th>\n",
       "      <th>...</th>\n",
       "      <th>water_after_session_last_session</th>\n",
       "      <th>location</th>\n",
       "      <th>session_name</th>\n",
       "      <th>creation_time</th>\n",
       "      <th>subject_genotype</th>\n",
       "      <th>probes</th>\n",
       "      <th>results</th>\n",
       "      <th>results_location</th>\n",
       "      <th>session_time</th>\n",
       "      <th>docDB_status</th>\n",
       "    </tr>\n",
       "  </thead>\n",
       "  <tbody>\n",
       "    <tr>\n",
       "      <th>0</th>\n",
       "      <td>730942</td>\n",
       "      <td>2024-09-10</td>\n",
       "      <td>181826</td>\n",
       "      <td>14.0</td>\n",
       "      <td>447-3-D</td>\n",
       "      <td>Bowen Tan</td>\n",
       "      <td>Uncoupled Baiting</td>\n",
       "      <td>2.3</td>\n",
       "      <td>GRADUATED</td>\n",
       "      <td>Uncoupled Baiting</td>\n",
       "      <td>...</td>\n",
       "      <td>NaN</td>\n",
       "      <td>NaN</td>\n",
       "      <td>NaN</td>\n",
       "      <td>NaN</td>\n",
       "      <td>NaN</td>\n",
       "      <td>NaN</td>\n",
       "      <td>NaN</td>\n",
       "      <td>NaN</td>\n",
       "      <td>NaN</td>\n",
       "      <td>0_not uploaded</td>\n",
       "    </tr>\n",
       "    <tr>\n",
       "      <th>1</th>\n",
       "      <td>741211</td>\n",
       "      <td>2024-09-10</td>\n",
       "      <td>181707</td>\n",
       "      <td>14.0</td>\n",
       "      <td>447-3-C</td>\n",
       "      <td>Bowen Tan</td>\n",
       "      <td>Uncoupled Baiting</td>\n",
       "      <td>2.3</td>\n",
       "      <td>GRADUATED</td>\n",
       "      <td>Uncoupled Baiting</td>\n",
       "      <td>...</td>\n",
       "      <td>NaN</td>\n",
       "      <td>s3://aind-private-data-prod-o5171v/behavior_74...</td>\n",
       "      <td>behavior_741211_2024-09-10_18-17-07</td>\n",
       "      <td>2024-09-10T18:17:07-07:00</td>\n",
       "      <td>wt/wt</td>\n",
       "      <td>[]</td>\n",
       "      <td>NaN</td>\n",
       "      <td>NaN</td>\n",
       "      <td>18-17-07</td>\n",
       "      <td>1_uploaded but not processed</td>\n",
       "    </tr>\n",
       "    <tr>\n",
       "      <th>2</th>\n",
       "      <td>736198</td>\n",
       "      <td>2024-09-10</td>\n",
       "      <td>181446</td>\n",
       "      <td>14.0</td>\n",
       "      <td>447-2-C</td>\n",
       "      <td>Bowen Tan</td>\n",
       "      <td>Uncoupled Baiting</td>\n",
       "      <td>2.3</td>\n",
       "      <td>GRADUATED</td>\n",
       "      <td>Uncoupled Baiting</td>\n",
       "      <td>...</td>\n",
       "      <td>NaN</td>\n",
       "      <td>s3://aind-private-data-prod-o5171v/behavior_73...</td>\n",
       "      <td>behavior_736198_2024-09-10_18-14-46</td>\n",
       "      <td>2024-09-10T18:14:46-07:00</td>\n",
       "      <td>wt/wt</td>\n",
       "      <td>[]</td>\n",
       "      <td>NaN</td>\n",
       "      <td>NaN</td>\n",
       "      <td>18-14-46</td>\n",
       "      <td>1_uploaded but not processed</td>\n",
       "    </tr>\n",
       "    <tr>\n",
       "      <th>3</th>\n",
       "      <td>730945</td>\n",
       "      <td>2024-09-10</td>\n",
       "      <td>181112</td>\n",
       "      <td>14.0</td>\n",
       "      <td>447-2-B</td>\n",
       "      <td>Bowen Tan</td>\n",
       "      <td>Uncoupled Baiting</td>\n",
       "      <td>2.3</td>\n",
       "      <td>GRADUATED</td>\n",
       "      <td>Uncoupled Baiting</td>\n",
       "      <td>...</td>\n",
       "      <td>NaN</td>\n",
       "      <td>NaN</td>\n",
       "      <td>NaN</td>\n",
       "      <td>NaN</td>\n",
       "      <td>NaN</td>\n",
       "      <td>NaN</td>\n",
       "      <td>NaN</td>\n",
       "      <td>NaN</td>\n",
       "      <td>NaN</td>\n",
       "      <td>0_not uploaded</td>\n",
       "    </tr>\n",
       "    <tr>\n",
       "      <th>4</th>\n",
       "      <td>741213</td>\n",
       "      <td>2024-09-10</td>\n",
       "      <td>180831</td>\n",
       "      <td>14.0</td>\n",
       "      <td>447-2-A</td>\n",
       "      <td>Bowen Tan</td>\n",
       "      <td>Uncoupled Baiting</td>\n",
       "      <td>2.3</td>\n",
       "      <td>GRADUATED</td>\n",
       "      <td>Uncoupled Baiting</td>\n",
       "      <td>...</td>\n",
       "      <td>NaN</td>\n",
       "      <td>s3://aind-private-data-prod-o5171v/behavior_74...</td>\n",
       "      <td>behavior_741213_2024-09-10_18-08-31</td>\n",
       "      <td>2024-09-10T18:08:31-07:00</td>\n",
       "      <td>wt/wt</td>\n",
       "      <td>[]</td>\n",
       "      <td>NaN</td>\n",
       "      <td>NaN</td>\n",
       "      <td>18-08-31</td>\n",
       "      <td>1_uploaded but not processed</td>\n",
       "    </tr>\n",
       "  </tbody>\n",
       "</table>\n",
       "<p>5 rows × 155 columns</p>\n",
       "</div>"
      ],
      "text/plain": [
       "   subject_id session_date  nwb_suffix  session      rig  user_name  \\\n",
       "0      730942   2024-09-10      181826     14.0  447-3-D  Bowen Tan   \n",
       "1      741211   2024-09-10      181707     14.0  447-3-C  Bowen Tan   \n",
       "2      736198   2024-09-10      181446     14.0  447-2-C  Bowen Tan   \n",
       "3      730945   2024-09-10      181112     14.0  447-2-B  Bowen Tan   \n",
       "4      741213   2024-09-10      180831     14.0  447-2-A  Bowen Tan   \n",
       "\n",
       "     curriculum_name curriculum_version current_stage_actual  \\\n",
       "0  Uncoupled Baiting                2.3            GRADUATED   \n",
       "1  Uncoupled Baiting                2.3            GRADUATED   \n",
       "2  Uncoupled Baiting                2.3            GRADUATED   \n",
       "3  Uncoupled Baiting                2.3            GRADUATED   \n",
       "4  Uncoupled Baiting                2.3            GRADUATED   \n",
       "\n",
       "                task  ... water_after_session_last_session  \\\n",
       "0  Uncoupled Baiting  ...                              NaN   \n",
       "1  Uncoupled Baiting  ...                              NaN   \n",
       "2  Uncoupled Baiting  ...                              NaN   \n",
       "3  Uncoupled Baiting  ...                              NaN   \n",
       "4  Uncoupled Baiting  ...                              NaN   \n",
       "\n",
       "                                            location  \\\n",
       "0                                                NaN   \n",
       "1  s3://aind-private-data-prod-o5171v/behavior_74...   \n",
       "2  s3://aind-private-data-prod-o5171v/behavior_73...   \n",
       "3                                                NaN   \n",
       "4  s3://aind-private-data-prod-o5171v/behavior_74...   \n",
       "\n",
       "                          session_name              creation_time  \\\n",
       "0                                  NaN                        NaN   \n",
       "1  behavior_741211_2024-09-10_18-17-07  2024-09-10T18:17:07-07:00   \n",
       "2  behavior_736198_2024-09-10_18-14-46  2024-09-10T18:14:46-07:00   \n",
       "3                                  NaN                        NaN   \n",
       "4  behavior_741213_2024-09-10_18-08-31  2024-09-10T18:08:31-07:00   \n",
       "\n",
       "   subject_genotype  probes  results  results_location  session_time  \\\n",
       "0               NaN     NaN      NaN               NaN           NaN   \n",
       "1             wt/wt      []      NaN               NaN      18-17-07   \n",
       "2             wt/wt      []      NaN               NaN      18-14-46   \n",
       "3               NaN     NaN      NaN               NaN           NaN   \n",
       "4             wt/wt      []      NaN               NaN      18-08-31   \n",
       "\n",
       "                   docDB_status  \n",
       "0                0_not uploaded  \n",
       "1  1_uploaded but not processed  \n",
       "2  1_uploaded but not processed  \n",
       "3                0_not uploaded  \n",
       "4  1_uploaded but not processed  \n",
       "\n",
       "[5 rows x 155 columns]"
      ]
     },
     "execution_count": 70,
     "metadata": {},
     "output_type": "execute_result"
    }
   ],
   "source": [
    "# Load in local csv\n",
    "folder = '/root/capsule/data/filtered_data_20240911/filtered_data_20240911.csv'\n",
    "df = pd.read_csv(folder)\n",
    "df.head()"
   ]
  },
  {
   "cell_type": "code",
   "execution_count": 52,
   "metadata": {},
   "outputs": [
    {
     "name": "stdout",
     "output_type": "stream",
     "text": [
      "['subject_id', 'session_date', 'nwb_suffix', 'session', 'rig', 'user_name', 'curriculum_name', 'curriculum_version', 'current_stage_actual', 'task', 'notes', 'experiment_description', 'session_start_time', 'session_end_time', 'session_run_time_in_min', 'water_in_session_foraging', 'water_in_session_manual', 'water_in_session_total', 'water_after_session', 'water_day_total', 'base_weight', 'target_weight', 'target_weight_ratio', 'weight_after', 'laser_1_calibration_power', 'laser_2_calibration_power', 'laser_1_target_areas', 'laser_2_target_areas', 'commit_ID', 'repo_url', 'current_branch', 'weight_after_ratio', 'p_reward_sum_mean', 'p_reward_sum_std', 'p_reward_sum_median', 'p_reward_contrast_mean', 'p_reware_contrast_median', 'effective_block_length_mean', 'effective_block_length_std', 'effective_block_length_median', 'effective_block_length_min', 'effective_block_length_max', 'duration_gocue_stop_mean', 'duration_gocue_stop_std', 'duration_gocue_stop_median', 'duration_gocue_stop_min', 'duration_gocue_stop_max', 'duration_delay_period_mean', 'duration_delay_period_std', 'duration_delay_period_median', 'duration_delay_period_min', 'duration_delay_period_max', 'duration_iti_mean', 'duration_iti_std', 'duration_iti_median', 'duration_iti_min', 'duration_iti_max', 'reward_volume_left_mean', 'reward_volume_right_mean', 'lickspout_movement_range_x', 'lickspout_movement_range_y', 'lickspout_movement_range_z', 'lickspout_initial_pos_x', 'lickspout_initial_pos_y', 'lickspout_initial_pos_z', 'lickspout_median_pos_x', 'lickspout_median_pos_y', 'lickspout_median_pos_z', 'curriculum_schema_version', 'if_overriden_by_trainer', 'if_consistent_within_session', 'total_trials_with_autowater', 'finished_trials_with_autowater', 'finished_rate_with_autowater', 'ignore_rate_with_autowater', 'autowater_collected', 'autowater_ignored', 'total_trials', 'finished_trials', 'ignored_trials', 'finished_rate', 'ignore_rate', 'reward_trials', 'reward_rate', 'foraging_eff', 'foraging_eff_random_seed', 'foraging_performance', 'foraging_performance_random_seed', 'bias_naive', 'reaction_time_median', 'reaction_time_mean', 'early_lick_rate', 'invalid_lick_ratio', 'double_dipping_rate_finished_trials', 'double_dipping_rate_finished_reward_trials', 'double_dipping_rate_finished_noreward_trials', 'lick_consistency_mean_finished_trials', 'lick_consistency_mean_finished_reward_trials', 'lick_consistency_mean_finished_noreward_trials', 'logistic_Su2022_RewC_amp', 'logistic_Su2022_RewC_tau', 'logistic_Su2022_UnrC_amp', 'logistic_Su2022_UnrC_tau', 'logistic_Su2022_bias', 'logistic_Su2022_score_mean', 'logistic_Su2022_score_std', 'logistic_Bari2019_RewC_amp', 'logistic_Bari2019_RewC_tau', 'logistic_Bari2019_Choice_amp', 'logistic_Bari2019_Choice_tau', 'logistic_Bari2019_bias', 'logistic_Bari2019_score_mean', 'logistic_Bari2019_score_std', 'logistic_Hattori2019_RewC_amp', 'logistic_Hattori2019_RewC_tau', 'logistic_Hattori2019_UnrC_amp', 'logistic_Hattori2019_UnrC_tau', 'logistic_Hattori2019_Choice_amp', 'logistic_Hattori2019_Choice_tau', 'logistic_Hattori2019_bias', 'logistic_Hattori2019_score_mean', 'logistic_Hattori2019_score_std', 'logistic_Miller2021_Choice_amp', 'logistic_Miller2021_Choice_tau', 'logistic_Miller2021_Reward_amp', 'logistic_Miller2021_Reward_tau', 'logistic_Miller2021_Choice_x_Reward_amp', 'logistic_Miller2021_Choice_x_Reward_tau', 'logistic_Miller2021_bias', 'logistic_Miller2021_score_mean', 'logistic_Miller2021_score_std', 'h2o', 'institute', 'rig_type', 'room', 'hardware', 'data_source', 'abs(bias_naive)', 'abs(logistic_Su2022_bias)', 'abs(logistic_Bari2019_bias)', 'abs(logistic_Hattori2019_bias)', 'abs(logistic_Miller2021_bias)', 'weekday', 'avg_trial_length_in_seconds', 'water_day_total_last_session', 'water_after_session_last_session', 'location', 'session_name', 'creation_time', 'subject_genotype', 'probes', 'results', 'results_location', 'session_time', 'docDB_status']\n"
     ]
    }
   ],
   "source": [
    "print(df.columns.tolist())"
   ]
  },
  {
   "cell_type": "code",
   "execution_count": 71,
   "metadata": {},
   "outputs": [
    {
     "data": {
      "text/html": [
       "<div>\n",
       "<style scoped>\n",
       "    .dataframe tbody tr th:only-of-type {\n",
       "        vertical-align: middle;\n",
       "    }\n",
       "\n",
       "    .dataframe tbody tr th {\n",
       "        vertical-align: top;\n",
       "    }\n",
       "\n",
       "    .dataframe thead th {\n",
       "        text-align: right;\n",
       "    }\n",
       "</style>\n",
       "<table border=\"1\" class=\"dataframe\">\n",
       "  <thead>\n",
       "    <tr style=\"text-align: right;\">\n",
       "      <th></th>\n",
       "      <th>curriculum_name</th>\n",
       "      <th>current_stage_actual</th>\n",
       "      <th>duration_iti_mean</th>\n",
       "      <th>foraging_eff</th>\n",
       "    </tr>\n",
       "  </thead>\n",
       "  <tbody>\n",
       "    <tr>\n",
       "      <th>0</th>\n",
       "      <td>Uncoupled Baiting</td>\n",
       "      <td>GRADUATED</td>\n",
       "      <td>3.874871</td>\n",
       "      <td>0.761435</td>\n",
       "    </tr>\n",
       "    <tr>\n",
       "      <th>1</th>\n",
       "      <td>Uncoupled Baiting</td>\n",
       "      <td>GRADUATED</td>\n",
       "      <td>3.880825</td>\n",
       "      <td>0.768945</td>\n",
       "    </tr>\n",
       "    <tr>\n",
       "      <th>2</th>\n",
       "      <td>Uncoupled Baiting</td>\n",
       "      <td>GRADUATED</td>\n",
       "      <td>3.937447</td>\n",
       "      <td>0.708424</td>\n",
       "    </tr>\n",
       "    <tr>\n",
       "      <th>3</th>\n",
       "      <td>Uncoupled Baiting</td>\n",
       "      <td>GRADUATED</td>\n",
       "      <td>4.053222</td>\n",
       "      <td>0.722345</td>\n",
       "    </tr>\n",
       "    <tr>\n",
       "      <th>4</th>\n",
       "      <td>Uncoupled Baiting</td>\n",
       "      <td>GRADUATED</td>\n",
       "      <td>4.171514</td>\n",
       "      <td>0.740106</td>\n",
       "    </tr>\n",
       "    <tr>\n",
       "      <th>5</th>\n",
       "      <td>Uncoupled Baiting</td>\n",
       "      <td>STAGE_3</td>\n",
       "      <td>3.960249</td>\n",
       "      <td>0.567419</td>\n",
       "    </tr>\n",
       "    <tr>\n",
       "      <th>6</th>\n",
       "      <td>Uncoupled Baiting</td>\n",
       "      <td>STAGE_1_WARMUP</td>\n",
       "      <td>3.570820</td>\n",
       "      <td>0.805369</td>\n",
       "    </tr>\n",
       "    <tr>\n",
       "      <th>7</th>\n",
       "      <td>Uncoupled Baiting</td>\n",
       "      <td>STAGE_1_WARMUP</td>\n",
       "      <td>3.571913</td>\n",
       "      <td>0.788745</td>\n",
       "    </tr>\n",
       "    <tr>\n",
       "      <th>8</th>\n",
       "      <td>Uncoupled Baiting</td>\n",
       "      <td>STAGE_1_WARMUP</td>\n",
       "      <td>3.522750</td>\n",
       "      <td>0.652372</td>\n",
       "    </tr>\n",
       "    <tr>\n",
       "      <th>9</th>\n",
       "      <td>Uncoupled Baiting</td>\n",
       "      <td>STAGE_1_WARMUP</td>\n",
       "      <td>3.584696</td>\n",
       "      <td>0.799051</td>\n",
       "    </tr>\n",
       "  </tbody>\n",
       "</table>\n",
       "</div>"
      ],
      "text/plain": [
       "     curriculum_name current_stage_actual  duration_iti_mean  foraging_eff\n",
       "0  Uncoupled Baiting            GRADUATED           3.874871      0.761435\n",
       "1  Uncoupled Baiting            GRADUATED           3.880825      0.768945\n",
       "2  Uncoupled Baiting            GRADUATED           3.937447      0.708424\n",
       "3  Uncoupled Baiting            GRADUATED           4.053222      0.722345\n",
       "4  Uncoupled Baiting            GRADUATED           4.171514      0.740106\n",
       "5  Uncoupled Baiting              STAGE_3           3.960249      0.567419\n",
       "6  Uncoupled Baiting       STAGE_1_WARMUP           3.570820      0.805369\n",
       "7  Uncoupled Baiting       STAGE_1_WARMUP           3.571913      0.788745\n",
       "8  Uncoupled Baiting       STAGE_1_WARMUP           3.522750      0.652372\n",
       "9  Uncoupled Baiting       STAGE_1_WARMUP           3.584696      0.799051"
      ]
     },
     "execution_count": 71,
     "metadata": {},
     "output_type": "execute_result"
    }
   ],
   "source": [
    "# copy new df with select columns \n",
    "select_df = df[['curriculum_name', 'current_stage_actual','duration_iti_mean','foraging_eff']]\n",
    "select_df = select_df.dropna().copy() # remove na values\n",
    "select_df.head(10)"
   ]
  },
  {
   "cell_type": "code",
   "execution_count": 54,
   "metadata": {},
   "outputs": [
    {
     "data": {
      "text/html": [
       "<div>\n",
       "<style scoped>\n",
       "    .dataframe tbody tr th:only-of-type {\n",
       "        vertical-align: middle;\n",
       "    }\n",
       "\n",
       "    .dataframe tbody tr th {\n",
       "        vertical-align: top;\n",
       "    }\n",
       "\n",
       "    .dataframe thead th {\n",
       "        text-align: right;\n",
       "    }\n",
       "</style>\n",
       "<table border=\"1\" class=\"dataframe\">\n",
       "  <thead>\n",
       "    <tr style=\"text-align: right;\">\n",
       "      <th></th>\n",
       "      <th>curriculum_name</th>\n",
       "      <th>current_stage_actual</th>\n",
       "      <th>duration_iti_mean</th>\n",
       "      <th>foraging_eff</th>\n",
       "    </tr>\n",
       "  </thead>\n",
       "  <tbody>\n",
       "    <tr>\n",
       "      <th>0</th>\n",
       "      <td>Uncoupled Baiting</td>\n",
       "      <td>GRADUATED</td>\n",
       "      <td>3.874871</td>\n",
       "      <td>0.761435</td>\n",
       "    </tr>\n",
       "    <tr>\n",
       "      <th>1</th>\n",
       "      <td>Uncoupled Baiting</td>\n",
       "      <td>GRADUATED</td>\n",
       "      <td>3.880825</td>\n",
       "      <td>0.768945</td>\n",
       "    </tr>\n",
       "    <tr>\n",
       "      <th>2</th>\n",
       "      <td>Uncoupled Baiting</td>\n",
       "      <td>GRADUATED</td>\n",
       "      <td>3.937447</td>\n",
       "      <td>0.708424</td>\n",
       "    </tr>\n",
       "    <tr>\n",
       "      <th>3</th>\n",
       "      <td>Uncoupled Baiting</td>\n",
       "      <td>GRADUATED</td>\n",
       "      <td>4.053222</td>\n",
       "      <td>0.722345</td>\n",
       "    </tr>\n",
       "    <tr>\n",
       "      <th>4</th>\n",
       "      <td>Uncoupled Baiting</td>\n",
       "      <td>GRADUATED</td>\n",
       "      <td>4.171514</td>\n",
       "      <td>0.740106</td>\n",
       "    </tr>\n",
       "    <tr>\n",
       "      <th>21</th>\n",
       "      <td>Uncoupled Baiting</td>\n",
       "      <td>GRADUATED</td>\n",
       "      <td>3.952259</td>\n",
       "      <td>0.685184</td>\n",
       "    </tr>\n",
       "    <tr>\n",
       "      <th>22</th>\n",
       "      <td>Uncoupled Baiting</td>\n",
       "      <td>GRADUATED</td>\n",
       "      <td>3.929457</td>\n",
       "      <td>0.707968</td>\n",
       "    </tr>\n",
       "    <tr>\n",
       "      <th>25</th>\n",
       "      <td>Uncoupled Baiting</td>\n",
       "      <td>GRADUATED</td>\n",
       "      <td>3.915232</td>\n",
       "      <td>0.778647</td>\n",
       "    </tr>\n",
       "    <tr>\n",
       "      <th>26</th>\n",
       "      <td>Uncoupled Baiting</td>\n",
       "      <td>GRADUATED</td>\n",
       "      <td>4.138684</td>\n",
       "      <td>0.817939</td>\n",
       "    </tr>\n",
       "    <tr>\n",
       "      <th>27</th>\n",
       "      <td>Uncoupled Baiting</td>\n",
       "      <td>GRADUATED</td>\n",
       "      <td>4.115079</td>\n",
       "      <td>0.752913</td>\n",
       "    </tr>\n",
       "  </tbody>\n",
       "</table>\n",
       "</div>"
      ],
      "text/plain": [
       "      curriculum_name current_stage_actual  duration_iti_mean  foraging_eff\n",
       "0   Uncoupled Baiting            GRADUATED           3.874871      0.761435\n",
       "1   Uncoupled Baiting            GRADUATED           3.880825      0.768945\n",
       "2   Uncoupled Baiting            GRADUATED           3.937447      0.708424\n",
       "3   Uncoupled Baiting            GRADUATED           4.053222      0.722345\n",
       "4   Uncoupled Baiting            GRADUATED           4.171514      0.740106\n",
       "21  Uncoupled Baiting            GRADUATED           3.952259      0.685184\n",
       "22  Uncoupled Baiting            GRADUATED           3.929457      0.707968\n",
       "25  Uncoupled Baiting            GRADUATED           3.915232      0.778647\n",
       "26  Uncoupled Baiting            GRADUATED           4.138684      0.817939\n",
       "27  Uncoupled Baiting            GRADUATED           4.115079      0.752913"
      ]
     },
     "execution_count": 54,
     "metadata": {},
     "output_type": "execute_result"
    }
   ],
   "source": [
    "# Uncoupled baiting & graduated with iti_mean and foraging efficacy \n",
    "select_df_1 = df[(df['curriculum_name'] == 'Uncoupled Baiting') & (df['current_stage_actual'] == 'GRADUATED')][['curriculum_name', 'current_stage_actual', 'duration_iti_mean', 'foraging_eff']]\n",
    "select_df_1.head(10)"
   ]
  },
  {
   "cell_type": "code",
   "execution_count": 55,
   "metadata": {},
   "outputs": [
    {
     "data": {
      "application/vnd.plotly.v1+json": {
       "config": {
        "plotlyServerURL": "https://plot.ly"
       },
       "data": [
        {
         "hovertemplate": "duration_iti_mean=%{x}<br>foraging_eff=%{y}<extra></extra>",
         "legendgroup": "",
         "marker": {
          "color": "#636efa",
          "symbol": "circle"
         },
         "mode": "markers",
         "name": "",
         "orientation": "v",
         "showlegend": false,
         "type": "scatter",
         "x": [
          3.8748708837268544,
          3.8808253258891625,
          3.937446501021525,
          4.0532219842824295,
          4.171513977184353,
          3.952258625958214,
          3.9294569869003495,
          3.915232063539578,
          4.138684178084165,
          4.115078534379971,
          3.9566925493315774,
          4.130355920953669,
          3.9292215757534095,
          4.057886288079736,
          4.169083480261926,
          3.950583238080735,
          4.013194501926784,
          3.976390727274437,
          4.261014445804837,
          3.855257159406049,
          3.842180413849516,
          3.916700007993601,
          3.93851721281512,
          4.187450741438236,
          3.9438293132333535,
          3.9451568244089095,
          3.988731452926818,
          4.285710956516636,
          3.934170656542398,
          4.146328281998679,
          4.1033570745702725,
          4.119370686779466,
          3.930916694002829,
          3.839072321558768,
          3.99060684757953,
          4.247964909868295,
          4.046702535940924,
          4.0303463302760045,
          4.373958036629739,
          3.9036099072001873,
          4.183240364297823,
          3.881580596824827,
          4.1819501527963,
          3.9621956168506234,
          3.985247749514484,
          4.225290060590134,
          3.9573639133143534,
          3.80595902572378,
          3.9358948571448393,
          3.830347040044144,
          4.155768774236188,
          4.158537390739902,
          3.9083856903084415,
          3.866042790690423,
          3.6727106333379553,
          3.9038520506362113,
          4.0114425086945245,
          3.769804044073726,
          4.007643948709115,
          4.05622987414326,
          3.918475961641441,
          4.164923340335423,
          4.080151649914996,
          4.098570852127412,
          4.156830918962589,
          4.297612901599634,
          3.9580854425535033,
          3.90384160470668,
          4.017244920022117,
          4.222959973105864,
          3.9733968290618873,
          3.923837154228139,
          4.030561845160444,
          4.033011873060512,
          3.9159917199136216,
          3.905674709864792,
          4.046475934024544,
          4.003785423317387,
          3.9958231428214015,
          3.8854893031214015,
          4.109915062806436,
          4.273787804884927,
          3.962091780683468,
          3.998703935202437,
          3.800256552906872,
          4.219217124988063,
          3.767239164102322,
          4.172906786517314,
          4.0596143789554455,
          3.8187104581635114,
          4.182315475425729,
          3.9245985099484986,
          4.045835466176898,
          3.9052995490968567,
          4.0966392835821965,
          4.096285478430792,
          3.962504865277817,
          3.941782049906678,
          3.875054612727961,
          4.001526592279856,
          4.174465072627099,
          4.179821664232074,
          3.745739812825716,
          3.987650068966544,
          4.046236999999934,
          3.8115244990098,
          3.895773180616731,
          4.1144032964824415,
          3.925255511450148,
          3.927930752001703,
          3.9100003361295,
          4.019695540491306
         ],
         "xaxis": "x",
         "y": [
          0.7614350095548705,
          0.7689447295841312,
          0.7084240603495334,
          0.7223445260523936,
          0.740105885442062,
          0.6851844409137647,
          0.7079677015902305,
          0.7786467392980104,
          0.8179386880780697,
          0.7529132329682113,
          0.7497070377354663,
          0.8116790906400345,
          0.841094399911941,
          0.872882823552382,
          0.7138553935010499,
          0.6544367248282487,
          0.8045876441254047,
          0.8242439118395225,
          0.8005365932650229,
          0.739762226286351,
          0.7638886604972933,
          0.7620942175530498,
          0.722128143043749,
          0.7184598497807262,
          0.6769690867164524,
          0.8434734703953626,
          0.6835604375603184,
          0.7385301982597688,
          0.7612558280698248,
          0.6728374365654589,
          0.7126831175897334,
          0.5770957408314551,
          0.7295351691676291,
          0.8679495281382879,
          0.7743705557227865,
          0.7918514236913202,
          0.597939573188046,
          0.7033646717783648,
          0.6812501645937561,
          0.6643821812588252,
          0.7424492074937856,
          0.6271180830388073,
          0.7430474463832037,
          0.7432019355049039,
          0.6060715801721522,
          0.5672530729054422,
          0.768212239506841,
          0.7035185630714039,
          0.791138714051946,
          0.5232438748880882,
          0.6959330122900629,
          0.7755383752801334,
          0.7094537613097202,
          0.7839460844226233,
          0.3608372150559911,
          0.7975012520008702,
          0.7080054558065709,
          0.6308419482211827,
          0.6834173147985269,
          0.7697696483892764,
          0.5976558709454617,
          0.7922958862504742,
          0.7472515755620718,
          1.0228530637637003,
          0.926421825564937,
          0.8008374832815943,
          0.7766302035407773,
          0.76693891529749,
          0.7539348978936472,
          0.7555876077545551,
          0.8195812363994942,
          0.7375729799461211,
          0.5469835430080883,
          0.7427434414240184,
          0.7196141191432465,
          0.8732361637499122,
          0.8143883994947116,
          0.6679543368927952,
          0.4849397645746414,
          0.7603538438470048,
          0.840234946371801,
          0.7118119652869778,
          0.8298542533317403,
          0.8828633899744771,
          0.6639827888125347,
          0.8173583425578494,
          0.777622685998904,
          0.83341182754598,
          0.725014356970153,
          0.8250448696950262,
          0.8304435393853682,
          0.7535436219989626,
          0.7622872076140761,
          0.7562227048274742,
          0.8671144425843256,
          0.7466064092384039,
          0.8551274435752282,
          0.7347211226810528,
          0.669054541584251,
          0.7209473781670116,
          0.6466537951386322,
          0.7631803266458218,
          0.7258632786019653,
          0.8356591260497334,
          0.8183329033583918,
          0.8489664843180048,
          0.7752411183717003,
          0.8363939379647247,
          0.8386327505137074,
          0.8216935147067007,
          0.7304194105794918,
          0.7938704811133399
         ],
         "yaxis": "y"
        }
       ],
       "layout": {
        "legend": {
         "tracegroupgap": 0
        },
        "margin": {
         "t": 60
        },
        "template": {
         "data": {
          "bar": [
           {
            "error_x": {
             "color": "#2a3f5f"
            },
            "error_y": {
             "color": "#2a3f5f"
            },
            "marker": {
             "line": {
              "color": "#E5ECF6",
              "width": 0.5
             },
             "pattern": {
              "fillmode": "overlay",
              "size": 10,
              "solidity": 0.2
             }
            },
            "type": "bar"
           }
          ],
          "barpolar": [
           {
            "marker": {
             "line": {
              "color": "#E5ECF6",
              "width": 0.5
             },
             "pattern": {
              "fillmode": "overlay",
              "size": 10,
              "solidity": 0.2
             }
            },
            "type": "barpolar"
           }
          ],
          "carpet": [
           {
            "aaxis": {
             "endlinecolor": "#2a3f5f",
             "gridcolor": "white",
             "linecolor": "white",
             "minorgridcolor": "white",
             "startlinecolor": "#2a3f5f"
            },
            "baxis": {
             "endlinecolor": "#2a3f5f",
             "gridcolor": "white",
             "linecolor": "white",
             "minorgridcolor": "white",
             "startlinecolor": "#2a3f5f"
            },
            "type": "carpet"
           }
          ],
          "choropleth": [
           {
            "colorbar": {
             "outlinewidth": 0,
             "ticks": ""
            },
            "type": "choropleth"
           }
          ],
          "contour": [
           {
            "colorbar": {
             "outlinewidth": 0,
             "ticks": ""
            },
            "colorscale": [
             [
              0,
              "#0d0887"
             ],
             [
              0.1111111111111111,
              "#46039f"
             ],
             [
              0.2222222222222222,
              "#7201a8"
             ],
             [
              0.3333333333333333,
              "#9c179e"
             ],
             [
              0.4444444444444444,
              "#bd3786"
             ],
             [
              0.5555555555555556,
              "#d8576b"
             ],
             [
              0.6666666666666666,
              "#ed7953"
             ],
             [
              0.7777777777777778,
              "#fb9f3a"
             ],
             [
              0.8888888888888888,
              "#fdca26"
             ],
             [
              1,
              "#f0f921"
             ]
            ],
            "type": "contour"
           }
          ],
          "contourcarpet": [
           {
            "colorbar": {
             "outlinewidth": 0,
             "ticks": ""
            },
            "type": "contourcarpet"
           }
          ],
          "heatmap": [
           {
            "colorbar": {
             "outlinewidth": 0,
             "ticks": ""
            },
            "colorscale": [
             [
              0,
              "#0d0887"
             ],
             [
              0.1111111111111111,
              "#46039f"
             ],
             [
              0.2222222222222222,
              "#7201a8"
             ],
             [
              0.3333333333333333,
              "#9c179e"
             ],
             [
              0.4444444444444444,
              "#bd3786"
             ],
             [
              0.5555555555555556,
              "#d8576b"
             ],
             [
              0.6666666666666666,
              "#ed7953"
             ],
             [
              0.7777777777777778,
              "#fb9f3a"
             ],
             [
              0.8888888888888888,
              "#fdca26"
             ],
             [
              1,
              "#f0f921"
             ]
            ],
            "type": "heatmap"
           }
          ],
          "heatmapgl": [
           {
            "colorbar": {
             "outlinewidth": 0,
             "ticks": ""
            },
            "colorscale": [
             [
              0,
              "#0d0887"
             ],
             [
              0.1111111111111111,
              "#46039f"
             ],
             [
              0.2222222222222222,
              "#7201a8"
             ],
             [
              0.3333333333333333,
              "#9c179e"
             ],
             [
              0.4444444444444444,
              "#bd3786"
             ],
             [
              0.5555555555555556,
              "#d8576b"
             ],
             [
              0.6666666666666666,
              "#ed7953"
             ],
             [
              0.7777777777777778,
              "#fb9f3a"
             ],
             [
              0.8888888888888888,
              "#fdca26"
             ],
             [
              1,
              "#f0f921"
             ]
            ],
            "type": "heatmapgl"
           }
          ],
          "histogram": [
           {
            "marker": {
             "pattern": {
              "fillmode": "overlay",
              "size": 10,
              "solidity": 0.2
             }
            },
            "type": "histogram"
           }
          ],
          "histogram2d": [
           {
            "colorbar": {
             "outlinewidth": 0,
             "ticks": ""
            },
            "colorscale": [
             [
              0,
              "#0d0887"
             ],
             [
              0.1111111111111111,
              "#46039f"
             ],
             [
              0.2222222222222222,
              "#7201a8"
             ],
             [
              0.3333333333333333,
              "#9c179e"
             ],
             [
              0.4444444444444444,
              "#bd3786"
             ],
             [
              0.5555555555555556,
              "#d8576b"
             ],
             [
              0.6666666666666666,
              "#ed7953"
             ],
             [
              0.7777777777777778,
              "#fb9f3a"
             ],
             [
              0.8888888888888888,
              "#fdca26"
             ],
             [
              1,
              "#f0f921"
             ]
            ],
            "type": "histogram2d"
           }
          ],
          "histogram2dcontour": [
           {
            "colorbar": {
             "outlinewidth": 0,
             "ticks": ""
            },
            "colorscale": [
             [
              0,
              "#0d0887"
             ],
             [
              0.1111111111111111,
              "#46039f"
             ],
             [
              0.2222222222222222,
              "#7201a8"
             ],
             [
              0.3333333333333333,
              "#9c179e"
             ],
             [
              0.4444444444444444,
              "#bd3786"
             ],
             [
              0.5555555555555556,
              "#d8576b"
             ],
             [
              0.6666666666666666,
              "#ed7953"
             ],
             [
              0.7777777777777778,
              "#fb9f3a"
             ],
             [
              0.8888888888888888,
              "#fdca26"
             ],
             [
              1,
              "#f0f921"
             ]
            ],
            "type": "histogram2dcontour"
           }
          ],
          "mesh3d": [
           {
            "colorbar": {
             "outlinewidth": 0,
             "ticks": ""
            },
            "type": "mesh3d"
           }
          ],
          "parcoords": [
           {
            "line": {
             "colorbar": {
              "outlinewidth": 0,
              "ticks": ""
             }
            },
            "type": "parcoords"
           }
          ],
          "pie": [
           {
            "automargin": true,
            "type": "pie"
           }
          ],
          "scatter": [
           {
            "fillpattern": {
             "fillmode": "overlay",
             "size": 10,
             "solidity": 0.2
            },
            "type": "scatter"
           }
          ],
          "scatter3d": [
           {
            "line": {
             "colorbar": {
              "outlinewidth": 0,
              "ticks": ""
             }
            },
            "marker": {
             "colorbar": {
              "outlinewidth": 0,
              "ticks": ""
             }
            },
            "type": "scatter3d"
           }
          ],
          "scattercarpet": [
           {
            "marker": {
             "colorbar": {
              "outlinewidth": 0,
              "ticks": ""
             }
            },
            "type": "scattercarpet"
           }
          ],
          "scattergeo": [
           {
            "marker": {
             "colorbar": {
              "outlinewidth": 0,
              "ticks": ""
             }
            },
            "type": "scattergeo"
           }
          ],
          "scattergl": [
           {
            "marker": {
             "colorbar": {
              "outlinewidth": 0,
              "ticks": ""
             }
            },
            "type": "scattergl"
           }
          ],
          "scattermapbox": [
           {
            "marker": {
             "colorbar": {
              "outlinewidth": 0,
              "ticks": ""
             }
            },
            "type": "scattermapbox"
           }
          ],
          "scatterpolar": [
           {
            "marker": {
             "colorbar": {
              "outlinewidth": 0,
              "ticks": ""
             }
            },
            "type": "scatterpolar"
           }
          ],
          "scatterpolargl": [
           {
            "marker": {
             "colorbar": {
              "outlinewidth": 0,
              "ticks": ""
             }
            },
            "type": "scatterpolargl"
           }
          ],
          "scatterternary": [
           {
            "marker": {
             "colorbar": {
              "outlinewidth": 0,
              "ticks": ""
             }
            },
            "type": "scatterternary"
           }
          ],
          "surface": [
           {
            "colorbar": {
             "outlinewidth": 0,
             "ticks": ""
            },
            "colorscale": [
             [
              0,
              "#0d0887"
             ],
             [
              0.1111111111111111,
              "#46039f"
             ],
             [
              0.2222222222222222,
              "#7201a8"
             ],
             [
              0.3333333333333333,
              "#9c179e"
             ],
             [
              0.4444444444444444,
              "#bd3786"
             ],
             [
              0.5555555555555556,
              "#d8576b"
             ],
             [
              0.6666666666666666,
              "#ed7953"
             ],
             [
              0.7777777777777778,
              "#fb9f3a"
             ],
             [
              0.8888888888888888,
              "#fdca26"
             ],
             [
              1,
              "#f0f921"
             ]
            ],
            "type": "surface"
           }
          ],
          "table": [
           {
            "cells": {
             "fill": {
              "color": "#EBF0F8"
             },
             "line": {
              "color": "white"
             }
            },
            "header": {
             "fill": {
              "color": "#C8D4E3"
             },
             "line": {
              "color": "white"
             }
            },
            "type": "table"
           }
          ]
         },
         "layout": {
          "annotationdefaults": {
           "arrowcolor": "#2a3f5f",
           "arrowhead": 0,
           "arrowwidth": 1
          },
          "autotypenumbers": "strict",
          "coloraxis": {
           "colorbar": {
            "outlinewidth": 0,
            "ticks": ""
           }
          },
          "colorscale": {
           "diverging": [
            [
             0,
             "#8e0152"
            ],
            [
             0.1,
             "#c51b7d"
            ],
            [
             0.2,
             "#de77ae"
            ],
            [
             0.3,
             "#f1b6da"
            ],
            [
             0.4,
             "#fde0ef"
            ],
            [
             0.5,
             "#f7f7f7"
            ],
            [
             0.6,
             "#e6f5d0"
            ],
            [
             0.7,
             "#b8e186"
            ],
            [
             0.8,
             "#7fbc41"
            ],
            [
             0.9,
             "#4d9221"
            ],
            [
             1,
             "#276419"
            ]
           ],
           "sequential": [
            [
             0,
             "#0d0887"
            ],
            [
             0.1111111111111111,
             "#46039f"
            ],
            [
             0.2222222222222222,
             "#7201a8"
            ],
            [
             0.3333333333333333,
             "#9c179e"
            ],
            [
             0.4444444444444444,
             "#bd3786"
            ],
            [
             0.5555555555555556,
             "#d8576b"
            ],
            [
             0.6666666666666666,
             "#ed7953"
            ],
            [
             0.7777777777777778,
             "#fb9f3a"
            ],
            [
             0.8888888888888888,
             "#fdca26"
            ],
            [
             1,
             "#f0f921"
            ]
           ],
           "sequentialminus": [
            [
             0,
             "#0d0887"
            ],
            [
             0.1111111111111111,
             "#46039f"
            ],
            [
             0.2222222222222222,
             "#7201a8"
            ],
            [
             0.3333333333333333,
             "#9c179e"
            ],
            [
             0.4444444444444444,
             "#bd3786"
            ],
            [
             0.5555555555555556,
             "#d8576b"
            ],
            [
             0.6666666666666666,
             "#ed7953"
            ],
            [
             0.7777777777777778,
             "#fb9f3a"
            ],
            [
             0.8888888888888888,
             "#fdca26"
            ],
            [
             1,
             "#f0f921"
            ]
           ]
          },
          "colorway": [
           "#636efa",
           "#EF553B",
           "#00cc96",
           "#ab63fa",
           "#FFA15A",
           "#19d3f3",
           "#FF6692",
           "#B6E880",
           "#FF97FF",
           "#FECB52"
          ],
          "font": {
           "color": "#2a3f5f"
          },
          "geo": {
           "bgcolor": "white",
           "lakecolor": "white",
           "landcolor": "#E5ECF6",
           "showlakes": true,
           "showland": true,
           "subunitcolor": "white"
          },
          "hoverlabel": {
           "align": "left"
          },
          "hovermode": "closest",
          "mapbox": {
           "style": "light"
          },
          "paper_bgcolor": "white",
          "plot_bgcolor": "#E5ECF6",
          "polar": {
           "angularaxis": {
            "gridcolor": "white",
            "linecolor": "white",
            "ticks": ""
           },
           "bgcolor": "#E5ECF6",
           "radialaxis": {
            "gridcolor": "white",
            "linecolor": "white",
            "ticks": ""
           }
          },
          "scene": {
           "xaxis": {
            "backgroundcolor": "#E5ECF6",
            "gridcolor": "white",
            "gridwidth": 2,
            "linecolor": "white",
            "showbackground": true,
            "ticks": "",
            "zerolinecolor": "white"
           },
           "yaxis": {
            "backgroundcolor": "#E5ECF6",
            "gridcolor": "white",
            "gridwidth": 2,
            "linecolor": "white",
            "showbackground": true,
            "ticks": "",
            "zerolinecolor": "white"
           },
           "zaxis": {
            "backgroundcolor": "#E5ECF6",
            "gridcolor": "white",
            "gridwidth": 2,
            "linecolor": "white",
            "showbackground": true,
            "ticks": "",
            "zerolinecolor": "white"
           }
          },
          "shapedefaults": {
           "line": {
            "color": "#2a3f5f"
           }
          },
          "ternary": {
           "aaxis": {
            "gridcolor": "white",
            "linecolor": "white",
            "ticks": ""
           },
           "baxis": {
            "gridcolor": "white",
            "linecolor": "white",
            "ticks": ""
           },
           "bgcolor": "#E5ECF6",
           "caxis": {
            "gridcolor": "white",
            "linecolor": "white",
            "ticks": ""
           }
          },
          "title": {
           "x": 0.05
          },
          "xaxis": {
           "automargin": true,
           "gridcolor": "white",
           "linecolor": "white",
           "ticks": "",
           "title": {
            "standoff": 15
           },
           "zerolinecolor": "white",
           "zerolinewidth": 2
          },
          "yaxis": {
           "automargin": true,
           "gridcolor": "white",
           "linecolor": "white",
           "ticks": "",
           "title": {
            "standoff": 15
           },
           "zerolinecolor": "white",
           "zerolinewidth": 2
          }
         }
        },
        "xaxis": {
         "anchor": "y",
         "domain": [
          0,
          1
         ],
         "title": {
          "text": "duration_iti_mean"
         }
        },
        "yaxis": {
         "anchor": "x",
         "domain": [
          0,
          1
         ],
         "title": {
          "text": "foraging_eff"
         }
        }
       }
      },
      "text/html": [
       "<div>                            <div id=\"efbd7c2a-c8a2-44f7-be1e-11290e1775f6\" class=\"plotly-graph-div\" style=\"height:525px; width:100%;\"></div>            <script type=\"text/javascript\">                require([\"plotly\"], function(Plotly) {                    window.PLOTLYENV=window.PLOTLYENV || {};                                    if (document.getElementById(\"efbd7c2a-c8a2-44f7-be1e-11290e1775f6\")) {                    Plotly.newPlot(                        \"efbd7c2a-c8a2-44f7-be1e-11290e1775f6\",                        [{\"hovertemplate\":\"duration_iti_mean=%{x}\\u003cbr\\u003eforaging_eff=%{y}\\u003cextra\\u003e\\u003c\\u002fextra\\u003e\",\"legendgroup\":\"\",\"marker\":{\"color\":\"#636efa\",\"symbol\":\"circle\"},\"mode\":\"markers\",\"name\":\"\",\"orientation\":\"v\",\"showlegend\":false,\"x\":[3.8748708837268544,3.8808253258891625,3.937446501021525,4.0532219842824295,4.171513977184353,3.952258625958214,3.9294569869003495,3.915232063539578,4.138684178084165,4.115078534379971,3.9566925493315774,4.130355920953669,3.9292215757534095,4.057886288079736,4.169083480261926,3.950583238080735,4.013194501926784,3.976390727274437,4.261014445804837,3.855257159406049,3.842180413849516,3.916700007993601,3.93851721281512,4.187450741438236,3.9438293132333535,3.9451568244089095,3.988731452926818,4.285710956516636,3.934170656542398,4.146328281998679,4.1033570745702725,4.119370686779466,3.930916694002829,3.839072321558768,3.99060684757953,4.247964909868295,4.046702535940924,4.0303463302760045,4.373958036629739,3.9036099072001873,4.183240364297823,3.881580596824827,4.1819501527963,3.9621956168506234,3.985247749514484,4.225290060590134,3.9573639133143534,3.80595902572378,3.9358948571448393,3.830347040044144,4.155768774236188,4.158537390739902,3.9083856903084415,3.866042790690423,3.6727106333379553,3.9038520506362113,4.0114425086945245,3.769804044073726,4.007643948709115,4.05622987414326,3.918475961641441,4.164923340335423,4.080151649914996,4.098570852127412,4.156830918962589,4.297612901599634,3.9580854425535033,3.90384160470668,4.017244920022117,4.222959973105864,3.9733968290618873,3.923837154228139,4.030561845160444,4.033011873060512,3.9159917199136216,3.905674709864792,4.046475934024544,4.003785423317387,3.9958231428214015,3.8854893031214015,4.109915062806436,4.273787804884927,3.962091780683468,3.998703935202437,3.800256552906872,4.219217124988063,3.767239164102322,4.172906786517314,4.0596143789554455,3.8187104581635114,4.182315475425729,3.9245985099484986,4.045835466176898,3.9052995490968567,4.0966392835821965,4.096285478430792,3.962504865277817,3.941782049906678,3.875054612727961,4.001526592279856,4.174465072627099,4.179821664232074,3.745739812825716,3.987650068966544,4.046236999999934,3.8115244990098,3.895773180616731,4.1144032964824415,3.925255511450148,3.927930752001703,3.9100003361295,4.019695540491306],\"xaxis\":\"x\",\"y\":[0.7614350095548705,0.7689447295841312,0.7084240603495334,0.7223445260523936,0.740105885442062,0.6851844409137647,0.7079677015902305,0.7786467392980104,0.8179386880780697,0.7529132329682113,0.7497070377354663,0.8116790906400345,0.841094399911941,0.872882823552382,0.7138553935010499,0.6544367248282487,0.8045876441254047,0.8242439118395225,0.8005365932650229,0.739762226286351,0.7638886604972933,0.7620942175530498,0.722128143043749,0.7184598497807262,0.6769690867164524,0.8434734703953626,0.6835604375603184,0.7385301982597688,0.7612558280698248,0.6728374365654589,0.7126831175897334,0.5770957408314551,0.7295351691676291,0.8679495281382879,0.7743705557227865,0.7918514236913202,0.597939573188046,0.7033646717783648,0.6812501645937561,0.6643821812588252,0.7424492074937856,0.6271180830388073,0.7430474463832037,0.7432019355049039,0.6060715801721522,0.5672530729054422,0.768212239506841,0.7035185630714039,0.791138714051946,0.5232438748880882,0.6959330122900629,0.7755383752801334,0.7094537613097202,0.7839460844226233,0.3608372150559911,0.7975012520008702,0.7080054558065709,0.6308419482211827,0.6834173147985269,0.7697696483892764,0.5976558709454617,0.7922958862504742,0.7472515755620718,1.0228530637637003,0.926421825564937,0.8008374832815943,0.7766302035407773,0.76693891529749,0.7539348978936472,0.7555876077545551,0.8195812363994942,0.7375729799461211,0.5469835430080883,0.7427434414240184,0.7196141191432465,0.8732361637499122,0.8143883994947116,0.6679543368927952,0.4849397645746414,0.7603538438470048,0.840234946371801,0.7118119652869778,0.8298542533317403,0.8828633899744771,0.6639827888125347,0.8173583425578494,0.777622685998904,0.83341182754598,0.725014356970153,0.8250448696950262,0.8304435393853682,0.7535436219989626,0.7622872076140761,0.7562227048274742,0.8671144425843256,0.7466064092384039,0.8551274435752282,0.7347211226810528,0.669054541584251,0.7209473781670116,0.6466537951386322,0.7631803266458218,0.7258632786019653,0.8356591260497334,0.8183329033583918,0.8489664843180048,0.7752411183717003,0.8363939379647247,0.8386327505137074,0.8216935147067007,0.7304194105794918,0.7938704811133399],\"yaxis\":\"y\",\"type\":\"scatter\"}],                        {\"template\":{\"data\":{\"histogram2dcontour\":[{\"type\":\"histogram2dcontour\",\"colorbar\":{\"outlinewidth\":0,\"ticks\":\"\"},\"colorscale\":[[0.0,\"#0d0887\"],[0.1111111111111111,\"#46039f\"],[0.2222222222222222,\"#7201a8\"],[0.3333333333333333,\"#9c179e\"],[0.4444444444444444,\"#bd3786\"],[0.5555555555555556,\"#d8576b\"],[0.6666666666666666,\"#ed7953\"],[0.7777777777777778,\"#fb9f3a\"],[0.8888888888888888,\"#fdca26\"],[1.0,\"#f0f921\"]]}],\"choropleth\":[{\"type\":\"choropleth\",\"colorbar\":{\"outlinewidth\":0,\"ticks\":\"\"}}],\"histogram2d\":[{\"type\":\"histogram2d\",\"colorbar\":{\"outlinewidth\":0,\"ticks\":\"\"},\"colorscale\":[[0.0,\"#0d0887\"],[0.1111111111111111,\"#46039f\"],[0.2222222222222222,\"#7201a8\"],[0.3333333333333333,\"#9c179e\"],[0.4444444444444444,\"#bd3786\"],[0.5555555555555556,\"#d8576b\"],[0.6666666666666666,\"#ed7953\"],[0.7777777777777778,\"#fb9f3a\"],[0.8888888888888888,\"#fdca26\"],[1.0,\"#f0f921\"]]}],\"heatmap\":[{\"type\":\"heatmap\",\"colorbar\":{\"outlinewidth\":0,\"ticks\":\"\"},\"colorscale\":[[0.0,\"#0d0887\"],[0.1111111111111111,\"#46039f\"],[0.2222222222222222,\"#7201a8\"],[0.3333333333333333,\"#9c179e\"],[0.4444444444444444,\"#bd3786\"],[0.5555555555555556,\"#d8576b\"],[0.6666666666666666,\"#ed7953\"],[0.7777777777777778,\"#fb9f3a\"],[0.8888888888888888,\"#fdca26\"],[1.0,\"#f0f921\"]]}],\"heatmapgl\":[{\"type\":\"heatmapgl\",\"colorbar\":{\"outlinewidth\":0,\"ticks\":\"\"},\"colorscale\":[[0.0,\"#0d0887\"],[0.1111111111111111,\"#46039f\"],[0.2222222222222222,\"#7201a8\"],[0.3333333333333333,\"#9c179e\"],[0.4444444444444444,\"#bd3786\"],[0.5555555555555556,\"#d8576b\"],[0.6666666666666666,\"#ed7953\"],[0.7777777777777778,\"#fb9f3a\"],[0.8888888888888888,\"#fdca26\"],[1.0,\"#f0f921\"]]}],\"contourcarpet\":[{\"type\":\"contourcarpet\",\"colorbar\":{\"outlinewidth\":0,\"ticks\":\"\"}}],\"contour\":[{\"type\":\"contour\",\"colorbar\":{\"outlinewidth\":0,\"ticks\":\"\"},\"colorscale\":[[0.0,\"#0d0887\"],[0.1111111111111111,\"#46039f\"],[0.2222222222222222,\"#7201a8\"],[0.3333333333333333,\"#9c179e\"],[0.4444444444444444,\"#bd3786\"],[0.5555555555555556,\"#d8576b\"],[0.6666666666666666,\"#ed7953\"],[0.7777777777777778,\"#fb9f3a\"],[0.8888888888888888,\"#fdca26\"],[1.0,\"#f0f921\"]]}],\"surface\":[{\"type\":\"surface\",\"colorbar\":{\"outlinewidth\":0,\"ticks\":\"\"},\"colorscale\":[[0.0,\"#0d0887\"],[0.1111111111111111,\"#46039f\"],[0.2222222222222222,\"#7201a8\"],[0.3333333333333333,\"#9c179e\"],[0.4444444444444444,\"#bd3786\"],[0.5555555555555556,\"#d8576b\"],[0.6666666666666666,\"#ed7953\"],[0.7777777777777778,\"#fb9f3a\"],[0.8888888888888888,\"#fdca26\"],[1.0,\"#f0f921\"]]}],\"mesh3d\":[{\"type\":\"mesh3d\",\"colorbar\":{\"outlinewidth\":0,\"ticks\":\"\"}}],\"scatter\":[{\"fillpattern\":{\"fillmode\":\"overlay\",\"size\":10,\"solidity\":0.2},\"type\":\"scatter\"}],\"parcoords\":[{\"type\":\"parcoords\",\"line\":{\"colorbar\":{\"outlinewidth\":0,\"ticks\":\"\"}}}],\"scatterpolargl\":[{\"type\":\"scatterpolargl\",\"marker\":{\"colorbar\":{\"outlinewidth\":0,\"ticks\":\"\"}}}],\"bar\":[{\"error_x\":{\"color\":\"#2a3f5f\"},\"error_y\":{\"color\":\"#2a3f5f\"},\"marker\":{\"line\":{\"color\":\"#E5ECF6\",\"width\":0.5},\"pattern\":{\"fillmode\":\"overlay\",\"size\":10,\"solidity\":0.2}},\"type\":\"bar\"}],\"scattergeo\":[{\"type\":\"scattergeo\",\"marker\":{\"colorbar\":{\"outlinewidth\":0,\"ticks\":\"\"}}}],\"scatterpolar\":[{\"type\":\"scatterpolar\",\"marker\":{\"colorbar\":{\"outlinewidth\":0,\"ticks\":\"\"}}}],\"histogram\":[{\"marker\":{\"pattern\":{\"fillmode\":\"overlay\",\"size\":10,\"solidity\":0.2}},\"type\":\"histogram\"}],\"scattergl\":[{\"type\":\"scattergl\",\"marker\":{\"colorbar\":{\"outlinewidth\":0,\"ticks\":\"\"}}}],\"scatter3d\":[{\"type\":\"scatter3d\",\"line\":{\"colorbar\":{\"outlinewidth\":0,\"ticks\":\"\"}},\"marker\":{\"colorbar\":{\"outlinewidth\":0,\"ticks\":\"\"}}}],\"scattermapbox\":[{\"type\":\"scattermapbox\",\"marker\":{\"colorbar\":{\"outlinewidth\":0,\"ticks\":\"\"}}}],\"scatterternary\":[{\"type\":\"scatterternary\",\"marker\":{\"colorbar\":{\"outlinewidth\":0,\"ticks\":\"\"}}}],\"scattercarpet\":[{\"type\":\"scattercarpet\",\"marker\":{\"colorbar\":{\"outlinewidth\":0,\"ticks\":\"\"}}}],\"carpet\":[{\"aaxis\":{\"endlinecolor\":\"#2a3f5f\",\"gridcolor\":\"white\",\"linecolor\":\"white\",\"minorgridcolor\":\"white\",\"startlinecolor\":\"#2a3f5f\"},\"baxis\":{\"endlinecolor\":\"#2a3f5f\",\"gridcolor\":\"white\",\"linecolor\":\"white\",\"minorgridcolor\":\"white\",\"startlinecolor\":\"#2a3f5f\"},\"type\":\"carpet\"}],\"table\":[{\"cells\":{\"fill\":{\"color\":\"#EBF0F8\"},\"line\":{\"color\":\"white\"}},\"header\":{\"fill\":{\"color\":\"#C8D4E3\"},\"line\":{\"color\":\"white\"}},\"type\":\"table\"}],\"barpolar\":[{\"marker\":{\"line\":{\"color\":\"#E5ECF6\",\"width\":0.5},\"pattern\":{\"fillmode\":\"overlay\",\"size\":10,\"solidity\":0.2}},\"type\":\"barpolar\"}],\"pie\":[{\"automargin\":true,\"type\":\"pie\"}]},\"layout\":{\"autotypenumbers\":\"strict\",\"colorway\":[\"#636efa\",\"#EF553B\",\"#00cc96\",\"#ab63fa\",\"#FFA15A\",\"#19d3f3\",\"#FF6692\",\"#B6E880\",\"#FF97FF\",\"#FECB52\"],\"font\":{\"color\":\"#2a3f5f\"},\"hovermode\":\"closest\",\"hoverlabel\":{\"align\":\"left\"},\"paper_bgcolor\":\"white\",\"plot_bgcolor\":\"#E5ECF6\",\"polar\":{\"bgcolor\":\"#E5ECF6\",\"angularaxis\":{\"gridcolor\":\"white\",\"linecolor\":\"white\",\"ticks\":\"\"},\"radialaxis\":{\"gridcolor\":\"white\",\"linecolor\":\"white\",\"ticks\":\"\"}},\"ternary\":{\"bgcolor\":\"#E5ECF6\",\"aaxis\":{\"gridcolor\":\"white\",\"linecolor\":\"white\",\"ticks\":\"\"},\"baxis\":{\"gridcolor\":\"white\",\"linecolor\":\"white\",\"ticks\":\"\"},\"caxis\":{\"gridcolor\":\"white\",\"linecolor\":\"white\",\"ticks\":\"\"}},\"coloraxis\":{\"colorbar\":{\"outlinewidth\":0,\"ticks\":\"\"}},\"colorscale\":{\"sequential\":[[0.0,\"#0d0887\"],[0.1111111111111111,\"#46039f\"],[0.2222222222222222,\"#7201a8\"],[0.3333333333333333,\"#9c179e\"],[0.4444444444444444,\"#bd3786\"],[0.5555555555555556,\"#d8576b\"],[0.6666666666666666,\"#ed7953\"],[0.7777777777777778,\"#fb9f3a\"],[0.8888888888888888,\"#fdca26\"],[1.0,\"#f0f921\"]],\"sequentialminus\":[[0.0,\"#0d0887\"],[0.1111111111111111,\"#46039f\"],[0.2222222222222222,\"#7201a8\"],[0.3333333333333333,\"#9c179e\"],[0.4444444444444444,\"#bd3786\"],[0.5555555555555556,\"#d8576b\"],[0.6666666666666666,\"#ed7953\"],[0.7777777777777778,\"#fb9f3a\"],[0.8888888888888888,\"#fdca26\"],[1.0,\"#f0f921\"]],\"diverging\":[[0,\"#8e0152\"],[0.1,\"#c51b7d\"],[0.2,\"#de77ae\"],[0.3,\"#f1b6da\"],[0.4,\"#fde0ef\"],[0.5,\"#f7f7f7\"],[0.6,\"#e6f5d0\"],[0.7,\"#b8e186\"],[0.8,\"#7fbc41\"],[0.9,\"#4d9221\"],[1,\"#276419\"]]},\"xaxis\":{\"gridcolor\":\"white\",\"linecolor\":\"white\",\"ticks\":\"\",\"title\":{\"standoff\":15},\"zerolinecolor\":\"white\",\"automargin\":true,\"zerolinewidth\":2},\"yaxis\":{\"gridcolor\":\"white\",\"linecolor\":\"white\",\"ticks\":\"\",\"title\":{\"standoff\":15},\"zerolinecolor\":\"white\",\"automargin\":true,\"zerolinewidth\":2},\"scene\":{\"xaxis\":{\"backgroundcolor\":\"#E5ECF6\",\"gridcolor\":\"white\",\"linecolor\":\"white\",\"showbackground\":true,\"ticks\":\"\",\"zerolinecolor\":\"white\",\"gridwidth\":2},\"yaxis\":{\"backgroundcolor\":\"#E5ECF6\",\"gridcolor\":\"white\",\"linecolor\":\"white\",\"showbackground\":true,\"ticks\":\"\",\"zerolinecolor\":\"white\",\"gridwidth\":2},\"zaxis\":{\"backgroundcolor\":\"#E5ECF6\",\"gridcolor\":\"white\",\"linecolor\":\"white\",\"showbackground\":true,\"ticks\":\"\",\"zerolinecolor\":\"white\",\"gridwidth\":2}},\"shapedefaults\":{\"line\":{\"color\":\"#2a3f5f\"}},\"annotationdefaults\":{\"arrowcolor\":\"#2a3f5f\",\"arrowhead\":0,\"arrowwidth\":1},\"geo\":{\"bgcolor\":\"white\",\"landcolor\":\"#E5ECF6\",\"subunitcolor\":\"white\",\"showland\":true,\"showlakes\":true,\"lakecolor\":\"white\"},\"title\":{\"x\":0.05},\"mapbox\":{\"style\":\"light\"}}},\"xaxis\":{\"anchor\":\"y\",\"domain\":[0.0,1.0],\"title\":{\"text\":\"duration_iti_mean\"}},\"yaxis\":{\"anchor\":\"x\",\"domain\":[0.0,1.0],\"title\":{\"text\":\"foraging_eff\"}},\"legend\":{\"tracegroupgap\":0},\"margin\":{\"t\":60}},                        {\"responsive\": true}                    ).then(function(){\n",
       "                            \n",
       "var gd = document.getElementById('efbd7c2a-c8a2-44f7-be1e-11290e1775f6');\n",
       "var x = new MutationObserver(function (mutations, observer) {{\n",
       "        var display = window.getComputedStyle(gd).display;\n",
       "        if (!display || display === 'none') {{\n",
       "            console.log([gd, 'removed!']);\n",
       "            Plotly.purge(gd);\n",
       "            observer.disconnect();\n",
       "        }}\n",
       "}});\n",
       "\n",
       "// Listen for the removal of the full notebook cells\n",
       "var notebookContainer = gd.closest('#notebook-container');\n",
       "if (notebookContainer) {{\n",
       "    x.observe(notebookContainer, {childList: true});\n",
       "}}\n",
       "\n",
       "// Listen for the clearing of the current output cell\n",
       "var outputEl = gd.closest('.output');\n",
       "if (outputEl) {{\n",
       "    x.observe(outputEl, {childList: true});\n",
       "}}\n",
       "\n",
       "                        })                };                });            </script>        </div>"
      ]
     },
     "metadata": {},
     "output_type": "display_data"
    }
   ],
   "source": [
    "fig1 = px.scatter(select_df_1, x=\"duration_iti_mean\", y=\"foraging_eff\")\n",
    "fig1.show()"
   ]
  },
  {
   "cell_type": "code",
   "execution_count": 63,
   "metadata": {},
   "outputs": [
    {
     "data": {
      "text/html": [
       "<div>\n",
       "<style scoped>\n",
       "    .dataframe tbody tr th:only-of-type {\n",
       "        vertical-align: middle;\n",
       "    }\n",
       "\n",
       "    .dataframe tbody tr th {\n",
       "        vertical-align: top;\n",
       "    }\n",
       "\n",
       "    .dataframe thead th {\n",
       "        text-align: right;\n",
       "    }\n",
       "</style>\n",
       "<table border=\"1\" class=\"dataframe\">\n",
       "  <thead>\n",
       "    <tr style=\"text-align: right;\">\n",
       "      <th></th>\n",
       "      <th>duration_iti_mean</th>\n",
       "      <th>foraging_eff</th>\n",
       "    </tr>\n",
       "  </thead>\n",
       "  <tbody>\n",
       "    <tr>\n",
       "      <th>count</th>\n",
       "      <td>238.000000</td>\n",
       "      <td>238.000000</td>\n",
       "    </tr>\n",
       "    <tr>\n",
       "      <th>mean</th>\n",
       "      <td>4.290252</td>\n",
       "      <td>0.749523</td>\n",
       "    </tr>\n",
       "    <tr>\n",
       "      <th>std</th>\n",
       "      <td>0.457896</td>\n",
       "      <td>0.098750</td>\n",
       "    </tr>\n",
       "    <tr>\n",
       "      <th>min</th>\n",
       "      <td>3.671706</td>\n",
       "      <td>0.360837</td>\n",
       "    </tr>\n",
       "    <tr>\n",
       "      <th>25%</th>\n",
       "      <td>3.934602</td>\n",
       "      <td>0.703403</td>\n",
       "    </tr>\n",
       "    <tr>\n",
       "      <th>50%</th>\n",
       "      <td>4.086050</td>\n",
       "      <td>0.753739</td>\n",
       "    </tr>\n",
       "    <tr>\n",
       "      <th>75%</th>\n",
       "      <td>4.812208</td>\n",
       "      <td>0.811349</td>\n",
       "    </tr>\n",
       "    <tr>\n",
       "      <th>max</th>\n",
       "      <td>5.428197</td>\n",
       "      <td>1.022853</td>\n",
       "    </tr>\n",
       "  </tbody>\n",
       "</table>\n",
       "</div>"
      ],
      "text/plain": [
       "       duration_iti_mean  foraging_eff\n",
       "count         238.000000    238.000000\n",
       "mean            4.290252      0.749523\n",
       "std             0.457896      0.098750\n",
       "min             3.671706      0.360837\n",
       "25%             3.934602      0.703403\n",
       "50%             4.086050      0.753739\n",
       "75%             4.812208      0.811349\n",
       "max             5.428197      1.022853"
      ]
     },
     "execution_count": 63,
     "metadata": {},
     "output_type": "execute_result"
    }
   ],
   "source": [
    "# Compare cumulative foraging efficacy with curriculums \n",
    "select_df_2 = df[(df['current_stage_actual'] == 'GRADUATED')][['curriculum_name', 'current_stage_actual', 'duration_iti_mean', 'foraging_eff']]\n",
    "\n",
    "\n",
    "select_df_2['curriculum_name'].value_counts()\n",
    "select_df_2.describe()\n"
   ]
  },
  {
   "cell_type": "code",
   "execution_count": 57,
   "metadata": {},
   "outputs": [
    {
     "data": {
      "application/vnd.plotly.v1+json": {
       "config": {
        "plotlyServerURL": "https://plot.ly"
       },
       "data": [
        {
         "alignmentgroup": "True",
         "hovertemplate": "curriculum_name=%{x}<br>foraging_eff=%{y}<extra></extra>",
         "legendgroup": "",
         "marker": {
          "color": "#636efa",
          "pattern": {
           "shape": ""
          }
         },
         "name": "",
         "offsetgroup": "",
         "orientation": "v",
         "showlegend": false,
         "textposition": "auto",
         "type": "bar",
         "x": [
          "Uncoupled Baiting",
          "Uncoupled Baiting",
          "Uncoupled Baiting",
          "Uncoupled Baiting",
          "Uncoupled Baiting",
          "Uncoupled Baiting",
          "Uncoupled Baiting",
          "Uncoupled Baiting",
          "Uncoupled Baiting",
          "Uncoupled Baiting",
          "Uncoupled Without Baiting",
          "Uncoupled Baiting",
          "Uncoupled Without Baiting",
          "Uncoupled Baiting",
          "Uncoupled Baiting",
          "Uncoupled Baiting",
          "Uncoupled Baiting",
          "Uncoupled Without Baiting",
          "Uncoupled Without Baiting",
          "Uncoupled Baiting",
          "Uncoupled Baiting",
          "Uncoupled Baiting",
          "Uncoupled Baiting",
          "Uncoupled Baiting",
          "Uncoupled Without Baiting",
          "Uncoupled Baiting",
          "Uncoupled Without Baiting",
          "Uncoupled Without Baiting",
          "Uncoupled Baiting",
          "Uncoupled Without Baiting",
          "Uncoupled Without Baiting",
          "Uncoupled Baiting",
          "Uncoupled Without Baiting",
          "Uncoupled Baiting",
          "Uncoupled Without Baiting",
          "Uncoupled Baiting",
          "Uncoupled Without Baiting",
          "Uncoupled Without Baiting",
          "Uncoupled Without Baiting",
          "Uncoupled Without Baiting",
          "Uncoupled Baiting",
          "Uncoupled Without Baiting",
          "Uncoupled Without Baiting",
          "Uncoupled Without Baiting",
          "Uncoupled Baiting",
          "Uncoupled Baiting",
          "Uncoupled Baiting",
          "Uncoupled Without Baiting",
          "Uncoupled Without Baiting",
          "Uncoupled Without Baiting",
          "Uncoupled Baiting",
          "Uncoupled Baiting",
          "Uncoupled Baiting",
          "Uncoupled Without Baiting",
          "Uncoupled Without Baiting",
          "Uncoupled Without Baiting",
          "Uncoupled Baiting",
          "Uncoupled Baiting",
          "Uncoupled Baiting",
          "Uncoupled Without Baiting",
          "Uncoupled Without Baiting",
          "Uncoupled Without Baiting",
          "Uncoupled Baiting",
          "Uncoupled Baiting",
          "Uncoupled Baiting",
          "Uncoupled Without Baiting",
          "Uncoupled Baiting",
          "Uncoupled Baiting",
          "Uncoupled Baiting",
          "Uncoupled Baiting",
          "Uncoupled Baiting",
          "Uncoupled Baiting",
          "Uncoupled Without Baiting",
          "Uncoupled Without Baiting",
          "Uncoupled Without Baiting",
          "Uncoupled Baiting",
          "Uncoupled Without Baiting",
          "Uncoupled Without Baiting",
          "Uncoupled Without Baiting",
          "Uncoupled Without Baiting",
          "Uncoupled Without Baiting",
          "Uncoupled Without Baiting",
          "Uncoupled Without Baiting",
          "Uncoupled Without Baiting",
          "Uncoupled Without Baiting",
          "Uncoupled Without Baiting",
          "Uncoupled Without Baiting",
          "Uncoupled Without Baiting",
          "Uncoupled Without Baiting",
          "Uncoupled Without Baiting",
          "Uncoupled Without Baiting",
          "Uncoupled Without Baiting",
          "Uncoupled Without Baiting",
          "Uncoupled Without Baiting",
          "Uncoupled Without Baiting",
          "Uncoupled Without Baiting",
          "Uncoupled Without Baiting",
          "Uncoupled Without Baiting",
          "Uncoupled Without Baiting",
          "Uncoupled Without Baiting",
          "Uncoupled Without Baiting",
          "Uncoupled Without Baiting",
          "Uncoupled Without Baiting",
          "Uncoupled Without Baiting",
          "Uncoupled Without Baiting",
          "Uncoupled Without Baiting",
          "Uncoupled Without Baiting",
          "Uncoupled Without Baiting",
          "Uncoupled Without Baiting",
          "Uncoupled Without Baiting",
          "Coupled Baiting",
          "Coupled Baiting",
          "Uncoupled Without Baiting",
          "Uncoupled Without Baiting",
          "Coupled Baiting",
          "Coupled Baiting",
          "Uncoupled Without Baiting",
          "Uncoupled Without Baiting",
          "Uncoupled Without Baiting",
          "Coupled Baiting",
          "Coupled Baiting",
          "Coupled Baiting",
          "Coupled Baiting",
          "Uncoupled Without Baiting",
          "Coupled Baiting",
          "Coupled Baiting",
          "Uncoupled Baiting",
          "Uncoupled Without Baiting",
          "Uncoupled Baiting",
          "Coupled Baiting",
          "Coupled Baiting",
          "Uncoupled Without Baiting",
          "Uncoupled Baiting",
          "Uncoupled Baiting",
          "Uncoupled Without Baiting",
          "Coupled Baiting",
          "Coupled Baiting",
          "Uncoupled Baiting",
          "Coupled Baiting",
          "Uncoupled Without Baiting",
          "Coupled Baiting",
          "Coupled Baiting",
          "Uncoupled Without Baiting",
          "Uncoupled Baiting",
          "Uncoupled Baiting",
          "Coupled Baiting",
          "Coupled Baiting",
          "Uncoupled Without Baiting",
          "Uncoupled Baiting",
          "Uncoupled Baiting",
          "Uncoupled Baiting",
          "Uncoupled Baiting",
          "Uncoupled Without Baiting",
          "Coupled Baiting",
          "Uncoupled Baiting",
          "Uncoupled Baiting",
          "Uncoupled Without Baiting",
          "Uncoupled Without Baiting",
          "Coupled Baiting",
          "Uncoupled Without Baiting",
          "Uncoupled Baiting",
          "Uncoupled Without Baiting",
          "Uncoupled Baiting",
          "Uncoupled Baiting",
          "Uncoupled Baiting",
          "Uncoupled Baiting",
          "Uncoupled Baiting",
          "Uncoupled Baiting",
          "Uncoupled Baiting",
          "Uncoupled Baiting",
          "Uncoupled Baiting",
          "Uncoupled Baiting",
          "Uncoupled Baiting",
          "Uncoupled Baiting",
          "Uncoupled Baiting",
          "Uncoupled Baiting",
          "Uncoupled Baiting",
          "Uncoupled Baiting",
          "Uncoupled Baiting",
          "Coupled Baiting",
          "Uncoupled Baiting",
          "Coupled Baiting",
          "Coupled Baiting",
          "Uncoupled Baiting",
          "Coupled Baiting",
          "Coupled Baiting",
          "Uncoupled Baiting",
          "Uncoupled Baiting",
          "Coupled Baiting",
          "Uncoupled Baiting",
          "Coupled Baiting",
          "Uncoupled Baiting",
          "Uncoupled Baiting",
          "Coupled Baiting",
          "Uncoupled Baiting",
          "Coupled Baiting",
          "Uncoupled Baiting",
          "Coupled Baiting",
          "Uncoupled Baiting",
          "Coupled Baiting",
          "Uncoupled Baiting",
          "Uncoupled Baiting",
          "Coupled Baiting",
          "Uncoupled Baiting",
          "Uncoupled Baiting",
          "Coupled Baiting",
          "Uncoupled Baiting",
          "Uncoupled Baiting",
          "Coupled Baiting",
          "Uncoupled Baiting",
          "Coupled Baiting",
          "Uncoupled Baiting",
          "Coupled Baiting",
          "Uncoupled Baiting",
          "Coupled Baiting",
          "Uncoupled Baiting",
          "Coupled Baiting",
          "Uncoupled Baiting",
          "Uncoupled Baiting",
          "Uncoupled Baiting",
          "Uncoupled Baiting",
          "Uncoupled Baiting",
          "Uncoupled Baiting",
          "Uncoupled Baiting",
          "Uncoupled Baiting",
          "Coupled Baiting",
          "Coupled Baiting",
          "Uncoupled Baiting",
          "Uncoupled Baiting",
          "Coupled Baiting",
          "Uncoupled Baiting",
          "Uncoupled Baiting",
          "Uncoupled Baiting",
          "Coupled Baiting",
          "Coupled Baiting",
          "Uncoupled Baiting",
          "Uncoupled Baiting",
          "Uncoupled Baiting"
         ],
         "xaxis": "x",
         "y": [
          0.7614350095548705,
          0.7689447295841312,
          0.7084240603495334,
          0.7223445260523936,
          0.740105885442062,
          0.6851844409137647,
          0.7079677015902305,
          0.7786467392980104,
          0.8179386880780697,
          0.7529132329682113,
          0.6395475309984772,
          0.7497070377354663,
          0.6315034086831719,
          0.8116790906400345,
          0.841094399911941,
          0.872882823552382,
          0.7138553935010499,
          0.8065532451165719,
          0.7117296222664017,
          0.6544367248282487,
          0.8045876441254047,
          0.8242439118395225,
          0.8005365932650229,
          0.739762226286351,
          0.8498667456322179,
          0.7638886604972933,
          0.7421087978509067,
          0.8100453172205436,
          0.7620942175530498,
          0.8428390367553865,
          0.7849393746011485,
          0.722128143043749,
          0.5905685323931247,
          0.7184598497807262,
          0.9011976047904192,
          0.6769690867164524,
          0.7443980250664639,
          0.724597445863409,
          0.8044806517311609,
          0.8059160881376395,
          0.8434734703953626,
          0.5882352941176471,
          0.8771929824561402,
          0.8924949290060853,
          0.6835604375603184,
          0.7385301982597688,
          0.7612558280698248,
          0.7683379758588672,
          0.7334963325183373,
          0.9545049063336306,
          0.6728374365654589,
          0.7126831175897334,
          0.5770957408314551,
          0.8022170361726952,
          0.7901234567901232,
          0.9437963944856838,
          0.7295351691676291,
          0.8679495281382879,
          0.7743705557227865,
          0.6979139840329642,
          0.7961106046794287,
          0.7792946530147895,
          0.7918514236913202,
          0.597939573188046,
          0.7033646717783648,
          0.7087486157253599,
          0.6812501645937561,
          0.6643821812588252,
          0.7424492074937856,
          0.6271180830388073,
          0.7430474463832037,
          0.7432019355049039,
          0.9615384615384612,
          0.7797681770284509,
          0.7116692830978545,
          0.6060715801721522,
          0.7587806494367129,
          0.907960199004975,
          0.6520704426463588,
          0.4918827235279863,
          0.6663724624889671,
          0.6676594688508313,
          0.9397457158651188,
          0.6240858117991223,
          0.6414868105515588,
          0.7506950880444856,
          0.8482370975983647,
          0.5438959503399349,
          0.8473926380368098,
          0.6820843091334893,
          0.7458957887223411,
          0.6557377049180327,
          0.8112324492979717,
          0.6963696369636964,
          0.6004543979227523,
          0.55956678700361,
          0.7292954264524101,
          0.5907172995780593,
          0.7563619227144204,
          0.7376325088339223,
          0.78263130525221,
          0.7235528942115769,
          0.7343824511206484,
          0.7416687546980706,
          0.69523592432186,
          0.5964052287581699,
          0.825565912117177,
          0.4827586206896552,
          0.3967761934283942,
          0.7423230974632843,
          0.7795230548727567,
          0.6845162644561242,
          0.7794676806083649,
          0.6995412844036697,
          0.9073323072018308,
          0.6480339613366773,
          0.7449209932279908,
          0.8112909593367547,
          0.8831521739130433,
          0.8059788969750208,
          0.7525725141092778,
          0.7776714957843756,
          0.7098251133761804,
          0.7183758459135866,
          0.7923269376835613,
          0.7514680670151832,
          0.5672530729054422,
          0.7199185957771559,
          0.768212239506841,
          0.58820146527541,
          0.8982129689932591,
          0.7209764405336361,
          0.7035185630714039,
          0.791138714051946,
          0.7355242566510172,
          0.7667800519750545,
          0.6606081723496827,
          0.5232438748880882,
          0.8309060845030477,
          0.8029612756264237,
          0.6502512462912745,
          0.7283432625292379,
          0.8172043010752686,
          0.6959330122900629,
          0.7755383752801334,
          0.7675563611366631,
          0.7214034572550485,
          0.744485294117647,
          0.7094537613097202,
          0.7839460844226233,
          0.3608372150559911,
          0.7975012520008702,
          0.6555993247045583,
          0.7397934914663647,
          0.7080054558065709,
          0.6308419482211827,
          0.5678233438485805,
          0.6376262626262625,
          0.7679575536265985,
          0.7991660875608059,
          0.6834173147985269,
          0.729841082989994,
          0.7697696483892764,
          0.5976558709454617,
          0.7922958862504742,
          0.7472515755620718,
          1.0228530637637003,
          0.926421825564937,
          0.8008374832815943,
          0.7766302035407773,
          0.76693891529749,
          0.7539348978936472,
          0.7555876077545551,
          0.8195812363994942,
          0.7375729799461211,
          0.5469835430080883,
          0.7427434414240184,
          0.7196141191432465,
          0.8732361637499122,
          0.7733175731919208,
          0.8143883994947116,
          0.8355105301662423,
          0.6316023291241835,
          0.6679543368927952,
          0.8848225088716478,
          0.8967766198941969,
          0.4849397645746414,
          0.7603538438470048,
          0.8864618940716402,
          0.840234946371801,
          0.9028792277555724,
          0.7118119652869778,
          0.8298542533317403,
          0.8513194310852865,
          0.8828633899744771,
          0.9414843416025426,
          0.6639827888125347,
          0.8611746690190603,
          0.8173583425578494,
          0.9120991135826834,
          0.777622685998904,
          0.83341182754598,
          0.7624349001658448,
          0.725014356970153,
          0.8250448696950262,
          0.9406075667671944,
          0.8304435393853682,
          0.7535436219989626,
          0.768642353579737,
          0.7622872076140761,
          0.6604938484500785,
          0.7562227048274742,
          0.8284557664515569,
          0.8671144425843256,
          0.6530299162618285,
          0.7466064092384039,
          0.6145755198842642,
          0.8551274435752282,
          0.7347211226810528,
          0.669054541584251,
          0.7209473781670116,
          0.6466537951386322,
          0.7631803266458218,
          0.7258632786019653,
          0.8356591260497334,
          0.8531848987315442,
          0.8113689303704129,
          0.8183329033583918,
          0.8489664843180048,
          0.82346402460702,
          0.7752411183717003,
          0.8363939379647247,
          0.8386327505137074,
          0.8236937829956749,
          0.7925822340444904,
          0.8216935147067007,
          0.7304194105794918,
          0.7938704811133399
         ],
         "yaxis": "y"
        }
       ],
       "layout": {
        "barmode": "relative",
        "legend": {
         "tracegroupgap": 0
        },
        "margin": {
         "t": 60
        },
        "template": {
         "data": {
          "bar": [
           {
            "error_x": {
             "color": "#2a3f5f"
            },
            "error_y": {
             "color": "#2a3f5f"
            },
            "marker": {
             "line": {
              "color": "#E5ECF6",
              "width": 0.5
             },
             "pattern": {
              "fillmode": "overlay",
              "size": 10,
              "solidity": 0.2
             }
            },
            "type": "bar"
           }
          ],
          "barpolar": [
           {
            "marker": {
             "line": {
              "color": "#E5ECF6",
              "width": 0.5
             },
             "pattern": {
              "fillmode": "overlay",
              "size": 10,
              "solidity": 0.2
             }
            },
            "type": "barpolar"
           }
          ],
          "carpet": [
           {
            "aaxis": {
             "endlinecolor": "#2a3f5f",
             "gridcolor": "white",
             "linecolor": "white",
             "minorgridcolor": "white",
             "startlinecolor": "#2a3f5f"
            },
            "baxis": {
             "endlinecolor": "#2a3f5f",
             "gridcolor": "white",
             "linecolor": "white",
             "minorgridcolor": "white",
             "startlinecolor": "#2a3f5f"
            },
            "type": "carpet"
           }
          ],
          "choropleth": [
           {
            "colorbar": {
             "outlinewidth": 0,
             "ticks": ""
            },
            "type": "choropleth"
           }
          ],
          "contour": [
           {
            "colorbar": {
             "outlinewidth": 0,
             "ticks": ""
            },
            "colorscale": [
             [
              0,
              "#0d0887"
             ],
             [
              0.1111111111111111,
              "#46039f"
             ],
             [
              0.2222222222222222,
              "#7201a8"
             ],
             [
              0.3333333333333333,
              "#9c179e"
             ],
             [
              0.4444444444444444,
              "#bd3786"
             ],
             [
              0.5555555555555556,
              "#d8576b"
             ],
             [
              0.6666666666666666,
              "#ed7953"
             ],
             [
              0.7777777777777778,
              "#fb9f3a"
             ],
             [
              0.8888888888888888,
              "#fdca26"
             ],
             [
              1,
              "#f0f921"
             ]
            ],
            "type": "contour"
           }
          ],
          "contourcarpet": [
           {
            "colorbar": {
             "outlinewidth": 0,
             "ticks": ""
            },
            "type": "contourcarpet"
           }
          ],
          "heatmap": [
           {
            "colorbar": {
             "outlinewidth": 0,
             "ticks": ""
            },
            "colorscale": [
             [
              0,
              "#0d0887"
             ],
             [
              0.1111111111111111,
              "#46039f"
             ],
             [
              0.2222222222222222,
              "#7201a8"
             ],
             [
              0.3333333333333333,
              "#9c179e"
             ],
             [
              0.4444444444444444,
              "#bd3786"
             ],
             [
              0.5555555555555556,
              "#d8576b"
             ],
             [
              0.6666666666666666,
              "#ed7953"
             ],
             [
              0.7777777777777778,
              "#fb9f3a"
             ],
             [
              0.8888888888888888,
              "#fdca26"
             ],
             [
              1,
              "#f0f921"
             ]
            ],
            "type": "heatmap"
           }
          ],
          "heatmapgl": [
           {
            "colorbar": {
             "outlinewidth": 0,
             "ticks": ""
            },
            "colorscale": [
             [
              0,
              "#0d0887"
             ],
             [
              0.1111111111111111,
              "#46039f"
             ],
             [
              0.2222222222222222,
              "#7201a8"
             ],
             [
              0.3333333333333333,
              "#9c179e"
             ],
             [
              0.4444444444444444,
              "#bd3786"
             ],
             [
              0.5555555555555556,
              "#d8576b"
             ],
             [
              0.6666666666666666,
              "#ed7953"
             ],
             [
              0.7777777777777778,
              "#fb9f3a"
             ],
             [
              0.8888888888888888,
              "#fdca26"
             ],
             [
              1,
              "#f0f921"
             ]
            ],
            "type": "heatmapgl"
           }
          ],
          "histogram": [
           {
            "marker": {
             "pattern": {
              "fillmode": "overlay",
              "size": 10,
              "solidity": 0.2
             }
            },
            "type": "histogram"
           }
          ],
          "histogram2d": [
           {
            "colorbar": {
             "outlinewidth": 0,
             "ticks": ""
            },
            "colorscale": [
             [
              0,
              "#0d0887"
             ],
             [
              0.1111111111111111,
              "#46039f"
             ],
             [
              0.2222222222222222,
              "#7201a8"
             ],
             [
              0.3333333333333333,
              "#9c179e"
             ],
             [
              0.4444444444444444,
              "#bd3786"
             ],
             [
              0.5555555555555556,
              "#d8576b"
             ],
             [
              0.6666666666666666,
              "#ed7953"
             ],
             [
              0.7777777777777778,
              "#fb9f3a"
             ],
             [
              0.8888888888888888,
              "#fdca26"
             ],
             [
              1,
              "#f0f921"
             ]
            ],
            "type": "histogram2d"
           }
          ],
          "histogram2dcontour": [
           {
            "colorbar": {
             "outlinewidth": 0,
             "ticks": ""
            },
            "colorscale": [
             [
              0,
              "#0d0887"
             ],
             [
              0.1111111111111111,
              "#46039f"
             ],
             [
              0.2222222222222222,
              "#7201a8"
             ],
             [
              0.3333333333333333,
              "#9c179e"
             ],
             [
              0.4444444444444444,
              "#bd3786"
             ],
             [
              0.5555555555555556,
              "#d8576b"
             ],
             [
              0.6666666666666666,
              "#ed7953"
             ],
             [
              0.7777777777777778,
              "#fb9f3a"
             ],
             [
              0.8888888888888888,
              "#fdca26"
             ],
             [
              1,
              "#f0f921"
             ]
            ],
            "type": "histogram2dcontour"
           }
          ],
          "mesh3d": [
           {
            "colorbar": {
             "outlinewidth": 0,
             "ticks": ""
            },
            "type": "mesh3d"
           }
          ],
          "parcoords": [
           {
            "line": {
             "colorbar": {
              "outlinewidth": 0,
              "ticks": ""
             }
            },
            "type": "parcoords"
           }
          ],
          "pie": [
           {
            "automargin": true,
            "type": "pie"
           }
          ],
          "scatter": [
           {
            "fillpattern": {
             "fillmode": "overlay",
             "size": 10,
             "solidity": 0.2
            },
            "type": "scatter"
           }
          ],
          "scatter3d": [
           {
            "line": {
             "colorbar": {
              "outlinewidth": 0,
              "ticks": ""
             }
            },
            "marker": {
             "colorbar": {
              "outlinewidth": 0,
              "ticks": ""
             }
            },
            "type": "scatter3d"
           }
          ],
          "scattercarpet": [
           {
            "marker": {
             "colorbar": {
              "outlinewidth": 0,
              "ticks": ""
             }
            },
            "type": "scattercarpet"
           }
          ],
          "scattergeo": [
           {
            "marker": {
             "colorbar": {
              "outlinewidth": 0,
              "ticks": ""
             }
            },
            "type": "scattergeo"
           }
          ],
          "scattergl": [
           {
            "marker": {
             "colorbar": {
              "outlinewidth": 0,
              "ticks": ""
             }
            },
            "type": "scattergl"
           }
          ],
          "scattermapbox": [
           {
            "marker": {
             "colorbar": {
              "outlinewidth": 0,
              "ticks": ""
             }
            },
            "type": "scattermapbox"
           }
          ],
          "scatterpolar": [
           {
            "marker": {
             "colorbar": {
              "outlinewidth": 0,
              "ticks": ""
             }
            },
            "type": "scatterpolar"
           }
          ],
          "scatterpolargl": [
           {
            "marker": {
             "colorbar": {
              "outlinewidth": 0,
              "ticks": ""
             }
            },
            "type": "scatterpolargl"
           }
          ],
          "scatterternary": [
           {
            "marker": {
             "colorbar": {
              "outlinewidth": 0,
              "ticks": ""
             }
            },
            "type": "scatterternary"
           }
          ],
          "surface": [
           {
            "colorbar": {
             "outlinewidth": 0,
             "ticks": ""
            },
            "colorscale": [
             [
              0,
              "#0d0887"
             ],
             [
              0.1111111111111111,
              "#46039f"
             ],
             [
              0.2222222222222222,
              "#7201a8"
             ],
             [
              0.3333333333333333,
              "#9c179e"
             ],
             [
              0.4444444444444444,
              "#bd3786"
             ],
             [
              0.5555555555555556,
              "#d8576b"
             ],
             [
              0.6666666666666666,
              "#ed7953"
             ],
             [
              0.7777777777777778,
              "#fb9f3a"
             ],
             [
              0.8888888888888888,
              "#fdca26"
             ],
             [
              1,
              "#f0f921"
             ]
            ],
            "type": "surface"
           }
          ],
          "table": [
           {
            "cells": {
             "fill": {
              "color": "#EBF0F8"
             },
             "line": {
              "color": "white"
             }
            },
            "header": {
             "fill": {
              "color": "#C8D4E3"
             },
             "line": {
              "color": "white"
             }
            },
            "type": "table"
           }
          ]
         },
         "layout": {
          "annotationdefaults": {
           "arrowcolor": "#2a3f5f",
           "arrowhead": 0,
           "arrowwidth": 1
          },
          "autotypenumbers": "strict",
          "coloraxis": {
           "colorbar": {
            "outlinewidth": 0,
            "ticks": ""
           }
          },
          "colorscale": {
           "diverging": [
            [
             0,
             "#8e0152"
            ],
            [
             0.1,
             "#c51b7d"
            ],
            [
             0.2,
             "#de77ae"
            ],
            [
             0.3,
             "#f1b6da"
            ],
            [
             0.4,
             "#fde0ef"
            ],
            [
             0.5,
             "#f7f7f7"
            ],
            [
             0.6,
             "#e6f5d0"
            ],
            [
             0.7,
             "#b8e186"
            ],
            [
             0.8,
             "#7fbc41"
            ],
            [
             0.9,
             "#4d9221"
            ],
            [
             1,
             "#276419"
            ]
           ],
           "sequential": [
            [
             0,
             "#0d0887"
            ],
            [
             0.1111111111111111,
             "#46039f"
            ],
            [
             0.2222222222222222,
             "#7201a8"
            ],
            [
             0.3333333333333333,
             "#9c179e"
            ],
            [
             0.4444444444444444,
             "#bd3786"
            ],
            [
             0.5555555555555556,
             "#d8576b"
            ],
            [
             0.6666666666666666,
             "#ed7953"
            ],
            [
             0.7777777777777778,
             "#fb9f3a"
            ],
            [
             0.8888888888888888,
             "#fdca26"
            ],
            [
             1,
             "#f0f921"
            ]
           ],
           "sequentialminus": [
            [
             0,
             "#0d0887"
            ],
            [
             0.1111111111111111,
             "#46039f"
            ],
            [
             0.2222222222222222,
             "#7201a8"
            ],
            [
             0.3333333333333333,
             "#9c179e"
            ],
            [
             0.4444444444444444,
             "#bd3786"
            ],
            [
             0.5555555555555556,
             "#d8576b"
            ],
            [
             0.6666666666666666,
             "#ed7953"
            ],
            [
             0.7777777777777778,
             "#fb9f3a"
            ],
            [
             0.8888888888888888,
             "#fdca26"
            ],
            [
             1,
             "#f0f921"
            ]
           ]
          },
          "colorway": [
           "#636efa",
           "#EF553B",
           "#00cc96",
           "#ab63fa",
           "#FFA15A",
           "#19d3f3",
           "#FF6692",
           "#B6E880",
           "#FF97FF",
           "#FECB52"
          ],
          "font": {
           "color": "#2a3f5f"
          },
          "geo": {
           "bgcolor": "white",
           "lakecolor": "white",
           "landcolor": "#E5ECF6",
           "showlakes": true,
           "showland": true,
           "subunitcolor": "white"
          },
          "hoverlabel": {
           "align": "left"
          },
          "hovermode": "closest",
          "mapbox": {
           "style": "light"
          },
          "paper_bgcolor": "white",
          "plot_bgcolor": "#E5ECF6",
          "polar": {
           "angularaxis": {
            "gridcolor": "white",
            "linecolor": "white",
            "ticks": ""
           },
           "bgcolor": "#E5ECF6",
           "radialaxis": {
            "gridcolor": "white",
            "linecolor": "white",
            "ticks": ""
           }
          },
          "scene": {
           "xaxis": {
            "backgroundcolor": "#E5ECF6",
            "gridcolor": "white",
            "gridwidth": 2,
            "linecolor": "white",
            "showbackground": true,
            "ticks": "",
            "zerolinecolor": "white"
           },
           "yaxis": {
            "backgroundcolor": "#E5ECF6",
            "gridcolor": "white",
            "gridwidth": 2,
            "linecolor": "white",
            "showbackground": true,
            "ticks": "",
            "zerolinecolor": "white"
           },
           "zaxis": {
            "backgroundcolor": "#E5ECF6",
            "gridcolor": "white",
            "gridwidth": 2,
            "linecolor": "white",
            "showbackground": true,
            "ticks": "",
            "zerolinecolor": "white"
           }
          },
          "shapedefaults": {
           "line": {
            "color": "#2a3f5f"
           }
          },
          "ternary": {
           "aaxis": {
            "gridcolor": "white",
            "linecolor": "white",
            "ticks": ""
           },
           "baxis": {
            "gridcolor": "white",
            "linecolor": "white",
            "ticks": ""
           },
           "bgcolor": "#E5ECF6",
           "caxis": {
            "gridcolor": "white",
            "linecolor": "white",
            "ticks": ""
           }
          },
          "title": {
           "x": 0.05
          },
          "xaxis": {
           "automargin": true,
           "gridcolor": "white",
           "linecolor": "white",
           "ticks": "",
           "title": {
            "standoff": 15
           },
           "zerolinecolor": "white",
           "zerolinewidth": 2
          },
          "yaxis": {
           "automargin": true,
           "gridcolor": "white",
           "linecolor": "white",
           "ticks": "",
           "title": {
            "standoff": 15
           },
           "zerolinecolor": "white",
           "zerolinewidth": 2
          }
         }
        },
        "xaxis": {
         "anchor": "y",
         "domain": [
          0,
          1
         ],
         "title": {
          "text": "curriculum_name"
         }
        },
        "yaxis": {
         "anchor": "x",
         "domain": [
          0,
          1
         ],
         "title": {
          "text": "foraging_eff"
         }
        }
       }
      },
      "text/html": [
       "<div>                            <div id=\"a682d1db-f96b-4895-9cc0-2d3be3802dca\" class=\"plotly-graph-div\" style=\"height:525px; width:100%;\"></div>            <script type=\"text/javascript\">                require([\"plotly\"], function(Plotly) {                    window.PLOTLYENV=window.PLOTLYENV || {};                                    if (document.getElementById(\"a682d1db-f96b-4895-9cc0-2d3be3802dca\")) {                    Plotly.newPlot(                        \"a682d1db-f96b-4895-9cc0-2d3be3802dca\",                        [{\"alignmentgroup\":\"True\",\"hovertemplate\":\"curriculum_name=%{x}\\u003cbr\\u003eforaging_eff=%{y}\\u003cextra\\u003e\\u003c\\u002fextra\\u003e\",\"legendgroup\":\"\",\"marker\":{\"color\":\"#636efa\",\"pattern\":{\"shape\":\"\"}},\"name\":\"\",\"offsetgroup\":\"\",\"orientation\":\"v\",\"showlegend\":false,\"textposition\":\"auto\",\"x\":[\"Uncoupled Baiting\",\"Uncoupled Baiting\",\"Uncoupled Baiting\",\"Uncoupled Baiting\",\"Uncoupled Baiting\",\"Uncoupled Baiting\",\"Uncoupled Baiting\",\"Uncoupled Baiting\",\"Uncoupled Baiting\",\"Uncoupled Baiting\",\"Uncoupled Without Baiting\",\"Uncoupled Baiting\",\"Uncoupled Without Baiting\",\"Uncoupled Baiting\",\"Uncoupled Baiting\",\"Uncoupled Baiting\",\"Uncoupled Baiting\",\"Uncoupled Without Baiting\",\"Uncoupled Without Baiting\",\"Uncoupled Baiting\",\"Uncoupled Baiting\",\"Uncoupled Baiting\",\"Uncoupled Baiting\",\"Uncoupled Baiting\",\"Uncoupled Without Baiting\",\"Uncoupled Baiting\",\"Uncoupled Without Baiting\",\"Uncoupled Without Baiting\",\"Uncoupled Baiting\",\"Uncoupled Without Baiting\",\"Uncoupled Without Baiting\",\"Uncoupled Baiting\",\"Uncoupled Without Baiting\",\"Uncoupled Baiting\",\"Uncoupled Without Baiting\",\"Uncoupled Baiting\",\"Uncoupled Without Baiting\",\"Uncoupled Without Baiting\",\"Uncoupled Without Baiting\",\"Uncoupled Without Baiting\",\"Uncoupled Baiting\",\"Uncoupled Without Baiting\",\"Uncoupled Without Baiting\",\"Uncoupled Without Baiting\",\"Uncoupled Baiting\",\"Uncoupled Baiting\",\"Uncoupled Baiting\",\"Uncoupled Without Baiting\",\"Uncoupled Without Baiting\",\"Uncoupled Without Baiting\",\"Uncoupled Baiting\",\"Uncoupled Baiting\",\"Uncoupled Baiting\",\"Uncoupled Without Baiting\",\"Uncoupled Without Baiting\",\"Uncoupled Without Baiting\",\"Uncoupled Baiting\",\"Uncoupled Baiting\",\"Uncoupled Baiting\",\"Uncoupled Without Baiting\",\"Uncoupled Without Baiting\",\"Uncoupled Without Baiting\",\"Uncoupled Baiting\",\"Uncoupled Baiting\",\"Uncoupled Baiting\",\"Uncoupled Without Baiting\",\"Uncoupled Baiting\",\"Uncoupled Baiting\",\"Uncoupled Baiting\",\"Uncoupled Baiting\",\"Uncoupled Baiting\",\"Uncoupled Baiting\",\"Uncoupled Without Baiting\",\"Uncoupled Without Baiting\",\"Uncoupled Without Baiting\",\"Uncoupled Baiting\",\"Uncoupled Without Baiting\",\"Uncoupled Without Baiting\",\"Uncoupled Without Baiting\",\"Uncoupled Without Baiting\",\"Uncoupled Without Baiting\",\"Uncoupled Without Baiting\",\"Uncoupled Without Baiting\",\"Uncoupled Without Baiting\",\"Uncoupled Without Baiting\",\"Uncoupled Without Baiting\",\"Uncoupled Without Baiting\",\"Uncoupled Without Baiting\",\"Uncoupled Without Baiting\",\"Uncoupled Without Baiting\",\"Uncoupled Without Baiting\",\"Uncoupled Without Baiting\",\"Uncoupled Without Baiting\",\"Uncoupled Without Baiting\",\"Uncoupled Without Baiting\",\"Uncoupled Without Baiting\",\"Uncoupled Without Baiting\",\"Uncoupled Without Baiting\",\"Uncoupled Without Baiting\",\"Uncoupled Without Baiting\",\"Uncoupled Without Baiting\",\"Uncoupled Without Baiting\",\"Uncoupled Without Baiting\",\"Uncoupled Without Baiting\",\"Uncoupled Without Baiting\",\"Uncoupled Without Baiting\",\"Uncoupled Without Baiting\",\"Uncoupled Without Baiting\",\"Uncoupled Without Baiting\",\"Uncoupled Without Baiting\",\"Coupled Baiting\",\"Coupled Baiting\",\"Uncoupled Without Baiting\",\"Uncoupled Without Baiting\",\"Coupled Baiting\",\"Coupled Baiting\",\"Uncoupled Without Baiting\",\"Uncoupled Without Baiting\",\"Uncoupled Without Baiting\",\"Coupled Baiting\",\"Coupled Baiting\",\"Coupled Baiting\",\"Coupled Baiting\",\"Uncoupled Without Baiting\",\"Coupled Baiting\",\"Coupled Baiting\",\"Uncoupled Baiting\",\"Uncoupled Without Baiting\",\"Uncoupled Baiting\",\"Coupled Baiting\",\"Coupled Baiting\",\"Uncoupled Without Baiting\",\"Uncoupled Baiting\",\"Uncoupled Baiting\",\"Uncoupled Without Baiting\",\"Coupled Baiting\",\"Coupled Baiting\",\"Uncoupled Baiting\",\"Coupled Baiting\",\"Uncoupled Without Baiting\",\"Coupled Baiting\",\"Coupled Baiting\",\"Uncoupled Without Baiting\",\"Uncoupled Baiting\",\"Uncoupled Baiting\",\"Coupled Baiting\",\"Coupled Baiting\",\"Uncoupled Without Baiting\",\"Uncoupled Baiting\",\"Uncoupled Baiting\",\"Uncoupled Baiting\",\"Uncoupled Baiting\",\"Uncoupled Without Baiting\",\"Coupled Baiting\",\"Uncoupled Baiting\",\"Uncoupled Baiting\",\"Uncoupled Without Baiting\",\"Uncoupled Without Baiting\",\"Coupled Baiting\",\"Uncoupled Without Baiting\",\"Uncoupled Baiting\",\"Uncoupled Without Baiting\",\"Uncoupled Baiting\",\"Uncoupled Baiting\",\"Uncoupled Baiting\",\"Uncoupled Baiting\",\"Uncoupled Baiting\",\"Uncoupled Baiting\",\"Uncoupled Baiting\",\"Uncoupled Baiting\",\"Uncoupled Baiting\",\"Uncoupled Baiting\",\"Uncoupled Baiting\",\"Uncoupled Baiting\",\"Uncoupled Baiting\",\"Uncoupled Baiting\",\"Uncoupled Baiting\",\"Uncoupled Baiting\",\"Uncoupled Baiting\",\"Coupled Baiting\",\"Uncoupled Baiting\",\"Coupled Baiting\",\"Coupled Baiting\",\"Uncoupled Baiting\",\"Coupled Baiting\",\"Coupled Baiting\",\"Uncoupled Baiting\",\"Uncoupled Baiting\",\"Coupled Baiting\",\"Uncoupled Baiting\",\"Coupled Baiting\",\"Uncoupled Baiting\",\"Uncoupled Baiting\",\"Coupled Baiting\",\"Uncoupled Baiting\",\"Coupled Baiting\",\"Uncoupled Baiting\",\"Coupled Baiting\",\"Uncoupled Baiting\",\"Coupled Baiting\",\"Uncoupled Baiting\",\"Uncoupled Baiting\",\"Coupled Baiting\",\"Uncoupled Baiting\",\"Uncoupled Baiting\",\"Coupled Baiting\",\"Uncoupled Baiting\",\"Uncoupled Baiting\",\"Coupled Baiting\",\"Uncoupled Baiting\",\"Coupled Baiting\",\"Uncoupled Baiting\",\"Coupled Baiting\",\"Uncoupled Baiting\",\"Coupled Baiting\",\"Uncoupled Baiting\",\"Coupled Baiting\",\"Uncoupled Baiting\",\"Uncoupled Baiting\",\"Uncoupled Baiting\",\"Uncoupled Baiting\",\"Uncoupled Baiting\",\"Uncoupled Baiting\",\"Uncoupled Baiting\",\"Uncoupled Baiting\",\"Coupled Baiting\",\"Coupled Baiting\",\"Uncoupled Baiting\",\"Uncoupled Baiting\",\"Coupled Baiting\",\"Uncoupled Baiting\",\"Uncoupled Baiting\",\"Uncoupled Baiting\",\"Coupled Baiting\",\"Coupled Baiting\",\"Uncoupled Baiting\",\"Uncoupled Baiting\",\"Uncoupled Baiting\"],\"xaxis\":\"x\",\"y\":[0.7614350095548705,0.7689447295841312,0.7084240603495334,0.7223445260523936,0.740105885442062,0.6851844409137647,0.7079677015902305,0.7786467392980104,0.8179386880780697,0.7529132329682113,0.6395475309984772,0.7497070377354663,0.6315034086831719,0.8116790906400345,0.841094399911941,0.872882823552382,0.7138553935010499,0.8065532451165719,0.7117296222664017,0.6544367248282487,0.8045876441254047,0.8242439118395225,0.8005365932650229,0.739762226286351,0.8498667456322179,0.7638886604972933,0.7421087978509067,0.8100453172205436,0.7620942175530498,0.8428390367553865,0.7849393746011485,0.722128143043749,0.5905685323931247,0.7184598497807262,0.9011976047904192,0.6769690867164524,0.7443980250664639,0.724597445863409,0.8044806517311609,0.8059160881376395,0.8434734703953626,0.5882352941176471,0.8771929824561402,0.8924949290060853,0.6835604375603184,0.7385301982597688,0.7612558280698248,0.7683379758588672,0.7334963325183373,0.9545049063336306,0.6728374365654589,0.7126831175897334,0.5770957408314551,0.8022170361726952,0.7901234567901232,0.9437963944856838,0.7295351691676291,0.8679495281382879,0.7743705557227865,0.6979139840329642,0.7961106046794287,0.7792946530147895,0.7918514236913202,0.597939573188046,0.7033646717783648,0.7087486157253599,0.6812501645937561,0.6643821812588252,0.7424492074937856,0.6271180830388073,0.7430474463832037,0.7432019355049039,0.9615384615384612,0.7797681770284509,0.7116692830978545,0.6060715801721522,0.7587806494367129,0.907960199004975,0.6520704426463588,0.4918827235279863,0.6663724624889671,0.6676594688508313,0.9397457158651188,0.6240858117991223,0.6414868105515588,0.7506950880444856,0.8482370975983647,0.5438959503399349,0.8473926380368098,0.6820843091334893,0.7458957887223411,0.6557377049180327,0.8112324492979717,0.6963696369636964,0.6004543979227523,0.55956678700361,0.7292954264524101,0.5907172995780593,0.7563619227144204,0.7376325088339223,0.78263130525221,0.7235528942115769,0.7343824511206484,0.7416687546980706,0.69523592432186,0.5964052287581699,0.825565912117177,0.4827586206896552,0.3967761934283942,0.7423230974632843,0.7795230548727567,0.6845162644561242,0.7794676806083649,0.6995412844036697,0.9073323072018308,0.6480339613366773,0.7449209932279908,0.8112909593367547,0.8831521739130433,0.8059788969750208,0.7525725141092778,0.7776714957843756,0.7098251133761804,0.7183758459135866,0.7923269376835613,0.7514680670151832,0.5672530729054422,0.7199185957771559,0.768212239506841,0.58820146527541,0.8982129689932591,0.7209764405336361,0.7035185630714039,0.791138714051946,0.7355242566510172,0.7667800519750545,0.6606081723496827,0.5232438748880882,0.8309060845030477,0.8029612756264237,0.6502512462912745,0.7283432625292379,0.8172043010752686,0.6959330122900629,0.7755383752801334,0.7675563611366631,0.7214034572550485,0.744485294117647,0.7094537613097202,0.7839460844226233,0.3608372150559911,0.7975012520008702,0.6555993247045583,0.7397934914663647,0.7080054558065709,0.6308419482211827,0.5678233438485805,0.6376262626262625,0.7679575536265985,0.7991660875608059,0.6834173147985269,0.729841082989994,0.7697696483892764,0.5976558709454617,0.7922958862504742,0.7472515755620718,1.0228530637637003,0.926421825564937,0.8008374832815943,0.7766302035407773,0.76693891529749,0.7539348978936472,0.7555876077545551,0.8195812363994942,0.7375729799461211,0.5469835430080883,0.7427434414240184,0.7196141191432465,0.8732361637499122,0.7733175731919208,0.8143883994947116,0.8355105301662423,0.6316023291241835,0.6679543368927952,0.8848225088716478,0.8967766198941969,0.4849397645746414,0.7603538438470048,0.8864618940716402,0.840234946371801,0.9028792277555724,0.7118119652869778,0.8298542533317403,0.8513194310852865,0.8828633899744771,0.9414843416025426,0.6639827888125347,0.8611746690190603,0.8173583425578494,0.9120991135826834,0.777622685998904,0.83341182754598,0.7624349001658448,0.725014356970153,0.8250448696950262,0.9406075667671944,0.8304435393853682,0.7535436219989626,0.768642353579737,0.7622872076140761,0.6604938484500785,0.7562227048274742,0.8284557664515569,0.8671144425843256,0.6530299162618285,0.7466064092384039,0.6145755198842642,0.8551274435752282,0.7347211226810528,0.669054541584251,0.7209473781670116,0.6466537951386322,0.7631803266458218,0.7258632786019653,0.8356591260497334,0.8531848987315442,0.8113689303704129,0.8183329033583918,0.8489664843180048,0.82346402460702,0.7752411183717003,0.8363939379647247,0.8386327505137074,0.8236937829956749,0.7925822340444904,0.8216935147067007,0.7304194105794918,0.7938704811133399],\"yaxis\":\"y\",\"type\":\"bar\"}],                        {\"template\":{\"data\":{\"histogram2dcontour\":[{\"type\":\"histogram2dcontour\",\"colorbar\":{\"outlinewidth\":0,\"ticks\":\"\"},\"colorscale\":[[0.0,\"#0d0887\"],[0.1111111111111111,\"#46039f\"],[0.2222222222222222,\"#7201a8\"],[0.3333333333333333,\"#9c179e\"],[0.4444444444444444,\"#bd3786\"],[0.5555555555555556,\"#d8576b\"],[0.6666666666666666,\"#ed7953\"],[0.7777777777777778,\"#fb9f3a\"],[0.8888888888888888,\"#fdca26\"],[1.0,\"#f0f921\"]]}],\"choropleth\":[{\"type\":\"choropleth\",\"colorbar\":{\"outlinewidth\":0,\"ticks\":\"\"}}],\"histogram2d\":[{\"type\":\"histogram2d\",\"colorbar\":{\"outlinewidth\":0,\"ticks\":\"\"},\"colorscale\":[[0.0,\"#0d0887\"],[0.1111111111111111,\"#46039f\"],[0.2222222222222222,\"#7201a8\"],[0.3333333333333333,\"#9c179e\"],[0.4444444444444444,\"#bd3786\"],[0.5555555555555556,\"#d8576b\"],[0.6666666666666666,\"#ed7953\"],[0.7777777777777778,\"#fb9f3a\"],[0.8888888888888888,\"#fdca26\"],[1.0,\"#f0f921\"]]}],\"heatmap\":[{\"type\":\"heatmap\",\"colorbar\":{\"outlinewidth\":0,\"ticks\":\"\"},\"colorscale\":[[0.0,\"#0d0887\"],[0.1111111111111111,\"#46039f\"],[0.2222222222222222,\"#7201a8\"],[0.3333333333333333,\"#9c179e\"],[0.4444444444444444,\"#bd3786\"],[0.5555555555555556,\"#d8576b\"],[0.6666666666666666,\"#ed7953\"],[0.7777777777777778,\"#fb9f3a\"],[0.8888888888888888,\"#fdca26\"],[1.0,\"#f0f921\"]]}],\"heatmapgl\":[{\"type\":\"heatmapgl\",\"colorbar\":{\"outlinewidth\":0,\"ticks\":\"\"},\"colorscale\":[[0.0,\"#0d0887\"],[0.1111111111111111,\"#46039f\"],[0.2222222222222222,\"#7201a8\"],[0.3333333333333333,\"#9c179e\"],[0.4444444444444444,\"#bd3786\"],[0.5555555555555556,\"#d8576b\"],[0.6666666666666666,\"#ed7953\"],[0.7777777777777778,\"#fb9f3a\"],[0.8888888888888888,\"#fdca26\"],[1.0,\"#f0f921\"]]}],\"contourcarpet\":[{\"type\":\"contourcarpet\",\"colorbar\":{\"outlinewidth\":0,\"ticks\":\"\"}}],\"contour\":[{\"type\":\"contour\",\"colorbar\":{\"outlinewidth\":0,\"ticks\":\"\"},\"colorscale\":[[0.0,\"#0d0887\"],[0.1111111111111111,\"#46039f\"],[0.2222222222222222,\"#7201a8\"],[0.3333333333333333,\"#9c179e\"],[0.4444444444444444,\"#bd3786\"],[0.5555555555555556,\"#d8576b\"],[0.6666666666666666,\"#ed7953\"],[0.7777777777777778,\"#fb9f3a\"],[0.8888888888888888,\"#fdca26\"],[1.0,\"#f0f921\"]]}],\"surface\":[{\"type\":\"surface\",\"colorbar\":{\"outlinewidth\":0,\"ticks\":\"\"},\"colorscale\":[[0.0,\"#0d0887\"],[0.1111111111111111,\"#46039f\"],[0.2222222222222222,\"#7201a8\"],[0.3333333333333333,\"#9c179e\"],[0.4444444444444444,\"#bd3786\"],[0.5555555555555556,\"#d8576b\"],[0.6666666666666666,\"#ed7953\"],[0.7777777777777778,\"#fb9f3a\"],[0.8888888888888888,\"#fdca26\"],[1.0,\"#f0f921\"]]}],\"mesh3d\":[{\"type\":\"mesh3d\",\"colorbar\":{\"outlinewidth\":0,\"ticks\":\"\"}}],\"scatter\":[{\"fillpattern\":{\"fillmode\":\"overlay\",\"size\":10,\"solidity\":0.2},\"type\":\"scatter\"}],\"parcoords\":[{\"type\":\"parcoords\",\"line\":{\"colorbar\":{\"outlinewidth\":0,\"ticks\":\"\"}}}],\"scatterpolargl\":[{\"type\":\"scatterpolargl\",\"marker\":{\"colorbar\":{\"outlinewidth\":0,\"ticks\":\"\"}}}],\"bar\":[{\"error_x\":{\"color\":\"#2a3f5f\"},\"error_y\":{\"color\":\"#2a3f5f\"},\"marker\":{\"line\":{\"color\":\"#E5ECF6\",\"width\":0.5},\"pattern\":{\"fillmode\":\"overlay\",\"size\":10,\"solidity\":0.2}},\"type\":\"bar\"}],\"scattergeo\":[{\"type\":\"scattergeo\",\"marker\":{\"colorbar\":{\"outlinewidth\":0,\"ticks\":\"\"}}}],\"scatterpolar\":[{\"type\":\"scatterpolar\",\"marker\":{\"colorbar\":{\"outlinewidth\":0,\"ticks\":\"\"}}}],\"histogram\":[{\"marker\":{\"pattern\":{\"fillmode\":\"overlay\",\"size\":10,\"solidity\":0.2}},\"type\":\"histogram\"}],\"scattergl\":[{\"type\":\"scattergl\",\"marker\":{\"colorbar\":{\"outlinewidth\":0,\"ticks\":\"\"}}}],\"scatter3d\":[{\"type\":\"scatter3d\",\"line\":{\"colorbar\":{\"outlinewidth\":0,\"ticks\":\"\"}},\"marker\":{\"colorbar\":{\"outlinewidth\":0,\"ticks\":\"\"}}}],\"scattermapbox\":[{\"type\":\"scattermapbox\",\"marker\":{\"colorbar\":{\"outlinewidth\":0,\"ticks\":\"\"}}}],\"scatterternary\":[{\"type\":\"scatterternary\",\"marker\":{\"colorbar\":{\"outlinewidth\":0,\"ticks\":\"\"}}}],\"scattercarpet\":[{\"type\":\"scattercarpet\",\"marker\":{\"colorbar\":{\"outlinewidth\":0,\"ticks\":\"\"}}}],\"carpet\":[{\"aaxis\":{\"endlinecolor\":\"#2a3f5f\",\"gridcolor\":\"white\",\"linecolor\":\"white\",\"minorgridcolor\":\"white\",\"startlinecolor\":\"#2a3f5f\"},\"baxis\":{\"endlinecolor\":\"#2a3f5f\",\"gridcolor\":\"white\",\"linecolor\":\"white\",\"minorgridcolor\":\"white\",\"startlinecolor\":\"#2a3f5f\"},\"type\":\"carpet\"}],\"table\":[{\"cells\":{\"fill\":{\"color\":\"#EBF0F8\"},\"line\":{\"color\":\"white\"}},\"header\":{\"fill\":{\"color\":\"#C8D4E3\"},\"line\":{\"color\":\"white\"}},\"type\":\"table\"}],\"barpolar\":[{\"marker\":{\"line\":{\"color\":\"#E5ECF6\",\"width\":0.5},\"pattern\":{\"fillmode\":\"overlay\",\"size\":10,\"solidity\":0.2}},\"type\":\"barpolar\"}],\"pie\":[{\"automargin\":true,\"type\":\"pie\"}]},\"layout\":{\"autotypenumbers\":\"strict\",\"colorway\":[\"#636efa\",\"#EF553B\",\"#00cc96\",\"#ab63fa\",\"#FFA15A\",\"#19d3f3\",\"#FF6692\",\"#B6E880\",\"#FF97FF\",\"#FECB52\"],\"font\":{\"color\":\"#2a3f5f\"},\"hovermode\":\"closest\",\"hoverlabel\":{\"align\":\"left\"},\"paper_bgcolor\":\"white\",\"plot_bgcolor\":\"#E5ECF6\",\"polar\":{\"bgcolor\":\"#E5ECF6\",\"angularaxis\":{\"gridcolor\":\"white\",\"linecolor\":\"white\",\"ticks\":\"\"},\"radialaxis\":{\"gridcolor\":\"white\",\"linecolor\":\"white\",\"ticks\":\"\"}},\"ternary\":{\"bgcolor\":\"#E5ECF6\",\"aaxis\":{\"gridcolor\":\"white\",\"linecolor\":\"white\",\"ticks\":\"\"},\"baxis\":{\"gridcolor\":\"white\",\"linecolor\":\"white\",\"ticks\":\"\"},\"caxis\":{\"gridcolor\":\"white\",\"linecolor\":\"white\",\"ticks\":\"\"}},\"coloraxis\":{\"colorbar\":{\"outlinewidth\":0,\"ticks\":\"\"}},\"colorscale\":{\"sequential\":[[0.0,\"#0d0887\"],[0.1111111111111111,\"#46039f\"],[0.2222222222222222,\"#7201a8\"],[0.3333333333333333,\"#9c179e\"],[0.4444444444444444,\"#bd3786\"],[0.5555555555555556,\"#d8576b\"],[0.6666666666666666,\"#ed7953\"],[0.7777777777777778,\"#fb9f3a\"],[0.8888888888888888,\"#fdca26\"],[1.0,\"#f0f921\"]],\"sequentialminus\":[[0.0,\"#0d0887\"],[0.1111111111111111,\"#46039f\"],[0.2222222222222222,\"#7201a8\"],[0.3333333333333333,\"#9c179e\"],[0.4444444444444444,\"#bd3786\"],[0.5555555555555556,\"#d8576b\"],[0.6666666666666666,\"#ed7953\"],[0.7777777777777778,\"#fb9f3a\"],[0.8888888888888888,\"#fdca26\"],[1.0,\"#f0f921\"]],\"diverging\":[[0,\"#8e0152\"],[0.1,\"#c51b7d\"],[0.2,\"#de77ae\"],[0.3,\"#f1b6da\"],[0.4,\"#fde0ef\"],[0.5,\"#f7f7f7\"],[0.6,\"#e6f5d0\"],[0.7,\"#b8e186\"],[0.8,\"#7fbc41\"],[0.9,\"#4d9221\"],[1,\"#276419\"]]},\"xaxis\":{\"gridcolor\":\"white\",\"linecolor\":\"white\",\"ticks\":\"\",\"title\":{\"standoff\":15},\"zerolinecolor\":\"white\",\"automargin\":true,\"zerolinewidth\":2},\"yaxis\":{\"gridcolor\":\"white\",\"linecolor\":\"white\",\"ticks\":\"\",\"title\":{\"standoff\":15},\"zerolinecolor\":\"white\",\"automargin\":true,\"zerolinewidth\":2},\"scene\":{\"xaxis\":{\"backgroundcolor\":\"#E5ECF6\",\"gridcolor\":\"white\",\"linecolor\":\"white\",\"showbackground\":true,\"ticks\":\"\",\"zerolinecolor\":\"white\",\"gridwidth\":2},\"yaxis\":{\"backgroundcolor\":\"#E5ECF6\",\"gridcolor\":\"white\",\"linecolor\":\"white\",\"showbackground\":true,\"ticks\":\"\",\"zerolinecolor\":\"white\",\"gridwidth\":2},\"zaxis\":{\"backgroundcolor\":\"#E5ECF6\",\"gridcolor\":\"white\",\"linecolor\":\"white\",\"showbackground\":true,\"ticks\":\"\",\"zerolinecolor\":\"white\",\"gridwidth\":2}},\"shapedefaults\":{\"line\":{\"color\":\"#2a3f5f\"}},\"annotationdefaults\":{\"arrowcolor\":\"#2a3f5f\",\"arrowhead\":0,\"arrowwidth\":1},\"geo\":{\"bgcolor\":\"white\",\"landcolor\":\"#E5ECF6\",\"subunitcolor\":\"white\",\"showland\":true,\"showlakes\":true,\"lakecolor\":\"white\"},\"title\":{\"x\":0.05},\"mapbox\":{\"style\":\"light\"}}},\"xaxis\":{\"anchor\":\"y\",\"domain\":[0.0,1.0],\"title\":{\"text\":\"curriculum_name\"}},\"yaxis\":{\"anchor\":\"x\",\"domain\":[0.0,1.0],\"title\":{\"text\":\"foraging_eff\"}},\"legend\":{\"tracegroupgap\":0},\"margin\":{\"t\":60},\"barmode\":\"relative\"},                        {\"responsive\": true}                    ).then(function(){\n",
       "                            \n",
       "var gd = document.getElementById('a682d1db-f96b-4895-9cc0-2d3be3802dca');\n",
       "var x = new MutationObserver(function (mutations, observer) {{\n",
       "        var display = window.getComputedStyle(gd).display;\n",
       "        if (!display || display === 'none') {{\n",
       "            console.log([gd, 'removed!']);\n",
       "            Plotly.purge(gd);\n",
       "            observer.disconnect();\n",
       "        }}\n",
       "}});\n",
       "\n",
       "// Listen for the removal of the full notebook cells\n",
       "var notebookContainer = gd.closest('#notebook-container');\n",
       "if (notebookContainer) {{\n",
       "    x.observe(notebookContainer, {childList: true});\n",
       "}}\n",
       "\n",
       "// Listen for the clearing of the current output cell\n",
       "var outputEl = gd.closest('.output');\n",
       "if (outputEl) {{\n",
       "    x.observe(outputEl, {childList: true});\n",
       "}}\n",
       "\n",
       "                        })                };                });            </script>        </div>"
      ]
     },
     "metadata": {},
     "output_type": "display_data"
    }
   ],
   "source": [
    "fig2 = px.bar(select_df_2, x=\"curriculum_name\", y=\"foraging_eff\")\n",
    "fig2.show()"
   ]
  },
  {
   "cell_type": "code",
   "execution_count": 77,
   "metadata": {},
   "outputs": [
    {
     "name": "stdout",
     "output_type": "stream",
     "text": [
      "183\n"
     ]
    },
    {
     "data": {
      "text/html": [
       "<div>\n",
       "<style scoped>\n",
       "    .dataframe tbody tr th:only-of-type {\n",
       "        vertical-align: middle;\n",
       "    }\n",
       "\n",
       "    .dataframe tbody tr th {\n",
       "        vertical-align: top;\n",
       "    }\n",
       "\n",
       "    .dataframe thead th {\n",
       "        text-align: right;\n",
       "    }\n",
       "</style>\n",
       "<table border=\"1\" class=\"dataframe\">\n",
       "  <thead>\n",
       "    <tr style=\"text-align: right;\">\n",
       "      <th></th>\n",
       "      <th>subject_id</th>\n",
       "      <th>current_stage_actual</th>\n",
       "      <th>session_end_time</th>\n",
       "      <th>foraging_eff</th>\n",
       "    </tr>\n",
       "  </thead>\n",
       "  <tbody>\n",
       "    <tr>\n",
       "      <th>0</th>\n",
       "      <td>730942</td>\n",
       "      <td>GRADUATED</td>\n",
       "      <td>2024-09-10 19:33:31.344528</td>\n",
       "      <td>0.761435</td>\n",
       "    </tr>\n",
       "    <tr>\n",
       "      <th>1</th>\n",
       "      <td>741211</td>\n",
       "      <td>GRADUATED</td>\n",
       "      <td>2024-09-10 19:32:13.192281</td>\n",
       "      <td>0.768945</td>\n",
       "    </tr>\n",
       "    <tr>\n",
       "      <th>2</th>\n",
       "      <td>736198</td>\n",
       "      <td>GRADUATED</td>\n",
       "      <td>2024-09-10 19:29:48.578180</td>\n",
       "      <td>0.708424</td>\n",
       "    </tr>\n",
       "    <tr>\n",
       "      <th>3</th>\n",
       "      <td>730945</td>\n",
       "      <td>GRADUATED</td>\n",
       "      <td>2024-09-10 19:26:15.522941</td>\n",
       "      <td>0.722345</td>\n",
       "    </tr>\n",
       "    <tr>\n",
       "      <th>4</th>\n",
       "      <td>741213</td>\n",
       "      <td>GRADUATED</td>\n",
       "      <td>2024-09-10 19:23:40.247210</td>\n",
       "      <td>0.740106</td>\n",
       "    </tr>\n",
       "    <tr>\n",
       "      <th>5</th>\n",
       "      <td>753126</td>\n",
       "      <td>STAGE_3</td>\n",
       "      <td>2024-09-10 17:07:57.999314</td>\n",
       "      <td>0.567419</td>\n",
       "    </tr>\n",
       "    <tr>\n",
       "      <th>6</th>\n",
       "      <td>728568</td>\n",
       "      <td>STAGE_1_WARMUP</td>\n",
       "      <td>2024-09-10 17:13:37.156422</td>\n",
       "      <td>0.805369</td>\n",
       "    </tr>\n",
       "    <tr>\n",
       "      <th>7</th>\n",
       "      <td>743794</td>\n",
       "      <td>STAGE_1_WARMUP</td>\n",
       "      <td>2024-09-10 17:05:05.438447</td>\n",
       "      <td>0.788745</td>\n",
       "    </tr>\n",
       "    <tr>\n",
       "      <th>8</th>\n",
       "      <td>728570</td>\n",
       "      <td>STAGE_1_WARMUP</td>\n",
       "      <td>2024-09-10 17:02:54.156143</td>\n",
       "      <td>0.652372</td>\n",
       "    </tr>\n",
       "    <tr>\n",
       "      <th>9</th>\n",
       "      <td>741210</td>\n",
       "      <td>STAGE_1_WARMUP</td>\n",
       "      <td>2024-09-10 17:00:24.646744</td>\n",
       "      <td>0.799051</td>\n",
       "    </tr>\n",
       "    <tr>\n",
       "      <th>10</th>\n",
       "      <td>753125</td>\n",
       "      <td>STAGE_1</td>\n",
       "      <td>2024-09-10 17:07:47.383060</td>\n",
       "      <td>0.636161</td>\n",
       "    </tr>\n",
       "    <tr>\n",
       "      <th>11</th>\n",
       "      <td>747313</td>\n",
       "      <td>STAGE_1_WARMUP</td>\n",
       "      <td>2024-09-10 16:57:27.794370</td>\n",
       "      <td>0.740385</td>\n",
       "    </tr>\n",
       "    <tr>\n",
       "      <th>12</th>\n",
       "      <td>747315</td>\n",
       "      <td>STAGE_1_WARMUP</td>\n",
       "      <td>2024-09-10 16:55:06.414335</td>\n",
       "      <td>0.768072</td>\n",
       "    </tr>\n",
       "    <tr>\n",
       "      <th>13</th>\n",
       "      <td>729674</td>\n",
       "      <td>STAGE_1_WARMUP</td>\n",
       "      <td>2024-09-10 13:44:22.715760</td>\n",
       "      <td>0.697236</td>\n",
       "    </tr>\n",
       "    <tr>\n",
       "      <th>14</th>\n",
       "      <td>744742</td>\n",
       "      <td>STAGE_FINAL</td>\n",
       "      <td>2024-09-10 13:28:00.386450</td>\n",
       "      <td>0.715033</td>\n",
       "    </tr>\n",
       "    <tr>\n",
       "      <th>15</th>\n",
       "      <td>726649</td>\n",
       "      <td>STAGE_FINAL</td>\n",
       "      <td>2024-09-10 14:14:01.862405</td>\n",
       "      <td>0.851853</td>\n",
       "    </tr>\n",
       "    <tr>\n",
       "      <th>16</th>\n",
       "      <td>724172</td>\n",
       "      <td>STAGE_FINAL</td>\n",
       "      <td>2024-09-10 12:57:17.421209</td>\n",
       "      <td>0.751420</td>\n",
       "    </tr>\n",
       "    <tr>\n",
       "      <th>17</th>\n",
       "      <td>742320</td>\n",
       "      <td>STAGE_2</td>\n",
       "      <td>2024-09-10 11:08:45.288825</td>\n",
       "      <td>0.731037</td>\n",
       "    </tr>\n",
       "    <tr>\n",
       "      <th>18</th>\n",
       "      <td>750107</td>\n",
       "      <td>STAGE_2</td>\n",
       "      <td>2024-09-10 11:06:03.473493</td>\n",
       "      <td>0.648478</td>\n",
       "    </tr>\n",
       "    <tr>\n",
       "      <th>19</th>\n",
       "      <td>724910</td>\n",
       "      <td>STAGE_2</td>\n",
       "      <td>2024-09-10 11:12:50.791075</td>\n",
       "      <td>0.642511</td>\n",
       "    </tr>\n",
       "    <tr>\n",
       "      <th>20</th>\n",
       "      <td>711039</td>\n",
       "      <td>STAGE_FINAL</td>\n",
       "      <td>2024-09-10 11:11:10.158280</td>\n",
       "      <td>0.759213</td>\n",
       "    </tr>\n",
       "    <tr>\n",
       "      <th>21</th>\n",
       "      <td>730942</td>\n",
       "      <td>GRADUATED</td>\n",
       "      <td>2024-09-09 17:46:09.558645</td>\n",
       "      <td>0.685184</td>\n",
       "    </tr>\n",
       "    <tr>\n",
       "      <th>22</th>\n",
       "      <td>741211</td>\n",
       "      <td>GRADUATED</td>\n",
       "      <td>2024-09-09 17:44:50.087308</td>\n",
       "      <td>0.707968</td>\n",
       "    </tr>\n",
       "    <tr>\n",
       "      <th>23</th>\n",
       "      <td>753126</td>\n",
       "      <td>STAGE_2</td>\n",
       "      <td>2024-09-09 17:37:33.692712</td>\n",
       "      <td>0.756404</td>\n",
       "    </tr>\n",
       "    <tr>\n",
       "      <th>24</th>\n",
       "      <td>753125</td>\n",
       "      <td>STAGE_1</td>\n",
       "      <td>2024-09-09 17:33:13.315273</td>\n",
       "      <td>0.250000</td>\n",
       "    </tr>\n",
       "    <tr>\n",
       "      <th>25</th>\n",
       "      <td>736198</td>\n",
       "      <td>GRADUATED</td>\n",
       "      <td>2024-09-09 17:42:02.475969</td>\n",
       "      <td>0.778647</td>\n",
       "    </tr>\n",
       "    <tr>\n",
       "      <th>26</th>\n",
       "      <td>730945</td>\n",
       "      <td>GRADUATED</td>\n",
       "      <td>2024-09-09 17:38:01.586399</td>\n",
       "      <td>0.817939</td>\n",
       "    </tr>\n",
       "    <tr>\n",
       "      <th>27</th>\n",
       "      <td>741213</td>\n",
       "      <td>GRADUATED</td>\n",
       "      <td>2024-09-09 17:34:44.852787</td>\n",
       "      <td>0.752913</td>\n",
       "    </tr>\n",
       "    <tr>\n",
       "      <th>28</th>\n",
       "      <td>729674</td>\n",
       "      <td>STAGE_1_WARMUP</td>\n",
       "      <td>2024-09-09 13:22:43.089339</td>\n",
       "      <td>0.000000</td>\n",
       "    </tr>\n",
       "    <tr>\n",
       "      <th>29</th>\n",
       "      <td>744742</td>\n",
       "      <td>STAGE_FINAL</td>\n",
       "      <td>2024-09-09 14:23:10.626279</td>\n",
       "      <td>0.609861</td>\n",
       "    </tr>\n",
       "    <tr>\n",
       "      <th>30</th>\n",
       "      <td>726649</td>\n",
       "      <td>STAGE_3</td>\n",
       "      <td>2024-09-09 14:31:01.558374</td>\n",
       "      <td>0.763549</td>\n",
       "    </tr>\n",
       "    <tr>\n",
       "      <th>31</th>\n",
       "      <td>722832</td>\n",
       "      <td>GRADUATED</td>\n",
       "      <td>2024-09-09 13:38:15.560611</td>\n",
       "      <td>0.639548</td>\n",
       "    </tr>\n",
       "    <tr>\n",
       "      <th>32</th>\n",
       "      <td>742320</td>\n",
       "      <td>STAGE_1_WARMUP</td>\n",
       "      <td>2024-09-09 11:10:18.351610</td>\n",
       "      <td>0.603583</td>\n",
       "    </tr>\n",
       "    <tr>\n",
       "      <th>33</th>\n",
       "      <td>732297</td>\n",
       "      <td>STAGE_4</td>\n",
       "      <td>2024-09-09 11:08:04.337386</td>\n",
       "      <td>0.827176</td>\n",
       "    </tr>\n",
       "    <tr>\n",
       "      <th>34</th>\n",
       "      <td>750107</td>\n",
       "      <td>STAGE_2</td>\n",
       "      <td>2024-09-09 10:48:47.700864</td>\n",
       "      <td>0.703125</td>\n",
       "    </tr>\n",
       "    <tr>\n",
       "      <th>35</th>\n",
       "      <td>724910</td>\n",
       "      <td>STAGE_2</td>\n",
       "      <td>2024-09-09 10:32:42.106410</td>\n",
       "      <td>0.621094</td>\n",
       "    </tr>\n",
       "    <tr>\n",
       "      <th>36</th>\n",
       "      <td>711039</td>\n",
       "      <td>STAGE_FINAL</td>\n",
       "      <td>2024-09-09 11:11:21.093470</td>\n",
       "      <td>0.813174</td>\n",
       "    </tr>\n",
       "    <tr>\n",
       "      <th>37</th>\n",
       "      <td>750108</td>\n",
       "      <td>STAGE_1_WARMUP</td>\n",
       "      <td>2024-09-09 10:26:33.956198</td>\n",
       "      <td>0.824742</td>\n",
       "    </tr>\n",
       "    <tr>\n",
       "      <th>38</th>\n",
       "      <td>734137</td>\n",
       "      <td>STAGE_1</td>\n",
       "      <td>2024-09-09 10:44:23.020315</td>\n",
       "      <td>0.507246</td>\n",
       "    </tr>\n",
       "    <tr>\n",
       "      <th>39</th>\n",
       "      <td>739977</td>\n",
       "      <td>STAGE_1_WARMUP</td>\n",
       "      <td>2024-09-09 10:15:06.417681</td>\n",
       "      <td>0.733025</td>\n",
       "    </tr>\n",
       "    <tr>\n",
       "      <th>40</th>\n",
       "      <td>739970</td>\n",
       "      <td>STAGE_1</td>\n",
       "      <td>2024-09-09 10:42:02.194001</td>\n",
       "      <td>0.663624</td>\n",
       "    </tr>\n",
       "    <tr>\n",
       "      <th>41</th>\n",
       "      <td>733683</td>\n",
       "      <td>STAGE_2</td>\n",
       "      <td>2024-09-09 10:30:57.474625</td>\n",
       "      <td>0.778098</td>\n",
       "    </tr>\n",
       "    <tr>\n",
       "      <th>42</th>\n",
       "      <td>726441</td>\n",
       "      <td>STAGE_2</td>\n",
       "      <td>2024-09-09 10:49:44.420275</td>\n",
       "      <td>0.636226</td>\n",
       "    </tr>\n",
       "    <tr>\n",
       "      <th>43</th>\n",
       "      <td>740610</td>\n",
       "      <td>STAGE_FINAL</td>\n",
       "      <td>2024-09-09 10:38:12.775704</td>\n",
       "      <td>0.652649</td>\n",
       "    </tr>\n",
       "    <tr>\n",
       "      <th>44</th>\n",
       "      <td>744744</td>\n",
       "      <td>STAGE_3</td>\n",
       "      <td>2024-09-09 10:36:41.903884</td>\n",
       "      <td>0.696933</td>\n",
       "    </tr>\n",
       "    <tr>\n",
       "      <th>45</th>\n",
       "      <td>711042</td>\n",
       "      <td>STAGE_FINAL</td>\n",
       "      <td>2024-09-09 10:45:03.078184</td>\n",
       "      <td>0.463331</td>\n",
       "    </tr>\n",
       "    <tr>\n",
       "      <th>46</th>\n",
       "      <td>743793</td>\n",
       "      <td>GRADUATED</td>\n",
       "      <td>2024-09-09 10:22:28.019686</td>\n",
       "      <td>0.749707</td>\n",
       "    </tr>\n",
       "    <tr>\n",
       "      <th>47</th>\n",
       "      <td>753124</td>\n",
       "      <td>STAGE_FINAL</td>\n",
       "      <td>2024-09-09 10:19:42.393026</td>\n",
       "      <td>0.800611</td>\n",
       "    </tr>\n",
       "    <tr>\n",
       "      <th>48</th>\n",
       "      <td>717531</td>\n",
       "      <td>GRADUATED</td>\n",
       "      <td>2024-09-09 10:23:21.425490</td>\n",
       "      <td>0.631503</td>\n",
       "    </tr>\n",
       "    <tr>\n",
       "      <th>49</th>\n",
       "      <td>730942</td>\n",
       "      <td>GRADUATED</td>\n",
       "      <td>2024-09-06 20:31:37.547475</td>\n",
       "      <td>0.811679</td>\n",
       "    </tr>\n",
       "  </tbody>\n",
       "</table>\n",
       "</div>"
      ],
      "text/plain": [
       "    subject_id current_stage_actual            session_end_time  foraging_eff\n",
       "0       730942            GRADUATED  2024-09-10 19:33:31.344528      0.761435\n",
       "1       741211            GRADUATED  2024-09-10 19:32:13.192281      0.768945\n",
       "2       736198            GRADUATED  2024-09-10 19:29:48.578180      0.708424\n",
       "3       730945            GRADUATED  2024-09-10 19:26:15.522941      0.722345\n",
       "4       741213            GRADUATED  2024-09-10 19:23:40.247210      0.740106\n",
       "5       753126              STAGE_3  2024-09-10 17:07:57.999314      0.567419\n",
       "6       728568       STAGE_1_WARMUP  2024-09-10 17:13:37.156422      0.805369\n",
       "7       743794       STAGE_1_WARMUP  2024-09-10 17:05:05.438447      0.788745\n",
       "8       728570       STAGE_1_WARMUP  2024-09-10 17:02:54.156143      0.652372\n",
       "9       741210       STAGE_1_WARMUP  2024-09-10 17:00:24.646744      0.799051\n",
       "10      753125              STAGE_1  2024-09-10 17:07:47.383060      0.636161\n",
       "11      747313       STAGE_1_WARMUP  2024-09-10 16:57:27.794370      0.740385\n",
       "12      747315       STAGE_1_WARMUP  2024-09-10 16:55:06.414335      0.768072\n",
       "13      729674       STAGE_1_WARMUP  2024-09-10 13:44:22.715760      0.697236\n",
       "14      744742          STAGE_FINAL  2024-09-10 13:28:00.386450      0.715033\n",
       "15      726649          STAGE_FINAL  2024-09-10 14:14:01.862405      0.851853\n",
       "16      724172          STAGE_FINAL  2024-09-10 12:57:17.421209      0.751420\n",
       "17      742320              STAGE_2  2024-09-10 11:08:45.288825      0.731037\n",
       "18      750107              STAGE_2  2024-09-10 11:06:03.473493      0.648478\n",
       "19      724910              STAGE_2  2024-09-10 11:12:50.791075      0.642511\n",
       "20      711039          STAGE_FINAL  2024-09-10 11:11:10.158280      0.759213\n",
       "21      730942            GRADUATED  2024-09-09 17:46:09.558645      0.685184\n",
       "22      741211            GRADUATED  2024-09-09 17:44:50.087308      0.707968\n",
       "23      753126              STAGE_2  2024-09-09 17:37:33.692712      0.756404\n",
       "24      753125              STAGE_1  2024-09-09 17:33:13.315273      0.250000\n",
       "25      736198            GRADUATED  2024-09-09 17:42:02.475969      0.778647\n",
       "26      730945            GRADUATED  2024-09-09 17:38:01.586399      0.817939\n",
       "27      741213            GRADUATED  2024-09-09 17:34:44.852787      0.752913\n",
       "28      729674       STAGE_1_WARMUP  2024-09-09 13:22:43.089339      0.000000\n",
       "29      744742          STAGE_FINAL  2024-09-09 14:23:10.626279      0.609861\n",
       "30      726649              STAGE_3  2024-09-09 14:31:01.558374      0.763549\n",
       "31      722832            GRADUATED  2024-09-09 13:38:15.560611      0.639548\n",
       "32      742320       STAGE_1_WARMUP  2024-09-09 11:10:18.351610      0.603583\n",
       "33      732297              STAGE_4  2024-09-09 11:08:04.337386      0.827176\n",
       "34      750107              STAGE_2  2024-09-09 10:48:47.700864      0.703125\n",
       "35      724910              STAGE_2  2024-09-09 10:32:42.106410      0.621094\n",
       "36      711039          STAGE_FINAL  2024-09-09 11:11:21.093470      0.813174\n",
       "37      750108       STAGE_1_WARMUP  2024-09-09 10:26:33.956198      0.824742\n",
       "38      734137              STAGE_1  2024-09-09 10:44:23.020315      0.507246\n",
       "39      739977       STAGE_1_WARMUP  2024-09-09 10:15:06.417681      0.733025\n",
       "40      739970              STAGE_1  2024-09-09 10:42:02.194001      0.663624\n",
       "41      733683              STAGE_2  2024-09-09 10:30:57.474625      0.778098\n",
       "42      726441              STAGE_2  2024-09-09 10:49:44.420275      0.636226\n",
       "43      740610          STAGE_FINAL  2024-09-09 10:38:12.775704      0.652649\n",
       "44      744744              STAGE_3  2024-09-09 10:36:41.903884      0.696933\n",
       "45      711042          STAGE_FINAL  2024-09-09 10:45:03.078184      0.463331\n",
       "46      743793            GRADUATED  2024-09-09 10:22:28.019686      0.749707\n",
       "47      753124          STAGE_FINAL  2024-09-09 10:19:42.393026      0.800611\n",
       "48      717531            GRADUATED  2024-09-09 10:23:21.425490      0.631503\n",
       "49      730942            GRADUATED  2024-09-06 20:31:37.547475      0.811679"
      ]
     },
     "execution_count": 77,
     "metadata": {},
     "output_type": "execute_result"
    }
   ],
   "source": [
    "ids = df['subject_id'].unique()\n",
    "print(len(ids))\n",
    "\n",
    "fe_df = df[['subject_id', 'current_stage_actual','session_end_time','foraging_eff']]\n",
    "fe_df.head(50)\n"
   ]
  },
  {
   "cell_type": "code",
   "execution_count": 78,
   "metadata": {},
   "outputs": [
    {
     "ename": "AttributeError",
     "evalue": "'Series' object has no attribute 'sort'",
     "output_type": "error",
     "traceback": [
      "\u001b[0;31m---------------------------------------------------------------------------\u001b[0m",
      "\u001b[0;31mAttributeError\u001b[0m                            Traceback (most recent call last)",
      "Cell \u001b[0;32mIn[78], line 1\u001b[0m\n\u001b[0;32m----> 1\u001b[0m fe_df[\u001b[39m'\u001b[39;49m\u001b[39msubject_id\u001b[39;49m\u001b[39m'\u001b[39;49m]\u001b[39m.\u001b[39;49msort()\n",
      "File \u001b[0;32m/opt/conda/lib/python3.9/site-packages/pandas/core/generic.py:6204\u001b[0m, in \u001b[0;36mNDFrame.__getattr__\u001b[0;34m(self, name)\u001b[0m\n\u001b[1;32m   6197\u001b[0m \u001b[39mif\u001b[39;00m (\n\u001b[1;32m   6198\u001b[0m     name \u001b[39mnot\u001b[39;00m \u001b[39min\u001b[39;00m \u001b[39mself\u001b[39m\u001b[39m.\u001b[39m_internal_names_set\n\u001b[1;32m   6199\u001b[0m     \u001b[39mand\u001b[39;00m name \u001b[39mnot\u001b[39;00m \u001b[39min\u001b[39;00m \u001b[39mself\u001b[39m\u001b[39m.\u001b[39m_metadata\n\u001b[1;32m   6200\u001b[0m     \u001b[39mand\u001b[39;00m name \u001b[39mnot\u001b[39;00m \u001b[39min\u001b[39;00m \u001b[39mself\u001b[39m\u001b[39m.\u001b[39m_accessors\n\u001b[1;32m   6201\u001b[0m     \u001b[39mand\u001b[39;00m \u001b[39mself\u001b[39m\u001b[39m.\u001b[39m_info_axis\u001b[39m.\u001b[39m_can_hold_identifiers_and_holds_name(name)\n\u001b[1;32m   6202\u001b[0m ):\n\u001b[1;32m   6203\u001b[0m     \u001b[39mreturn\u001b[39;00m \u001b[39mself\u001b[39m[name]\n\u001b[0;32m-> 6204\u001b[0m \u001b[39mreturn\u001b[39;00m \u001b[39mobject\u001b[39;49m\u001b[39m.\u001b[39;49m\u001b[39m__getattribute__\u001b[39;49m(\u001b[39mself\u001b[39;49m, name)\n",
      "\u001b[0;31mAttributeError\u001b[0m: 'Series' object has no attribute 'sort'"
     ]
    }
   ],
   "source": []
  },
  {
   "cell_type": "code",
   "execution_count": null,
   "metadata": {},
   "outputs": [],
   "source": []
  }
 ],
 "metadata": {
  "kernelspec": {
   "display_name": "Python 3 (ipykernel)",
   "language": "python",
   "name": "python3"
  },
  "language_info": {
   "codemirror_mode": {
    "name": "ipython",
    "version": 3
   },
   "file_extension": ".py",
   "mimetype": "text/x-python",
   "name": "python",
   "nbconvert_exporter": "python",
   "pygments_lexer": "ipython3",
   "version": "3.9.12"
  },
  "vscode": {
   "interpreter": {
    "hash": "d4d1e4263499bec80672ea0156c357c1ee493ec2b1c70f0acce89fc37c4a6abe"
   }
  }
 },
 "nbformat": 4,
 "nbformat_minor": 2
}

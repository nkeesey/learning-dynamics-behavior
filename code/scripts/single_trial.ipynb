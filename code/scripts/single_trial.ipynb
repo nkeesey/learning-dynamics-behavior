{
 "cells": [
  {
   "cell_type": "markdown",
   "metadata": {},
   "source": [
    "#### Single Trial Analysis \n",
    "##### New Bonsai NWBs"
   ]
  },
  {
   "cell_type": "code",
   "execution_count": 42,
   "metadata": {},
   "outputs": [],
   "source": [
    "%reload_ext autoreload\n",
    "%autoreload 2\n",
    "%matplotlib inline\n",
    "\n",
    "import numpy as np\n",
    "import pandas as pd\n",
    "import matplotlib.pyplot as plt\n",
    "import seaborn as sns\n",
    "import codeocean\n",
    "from codeocean import CodeOcean \n",
    "import sys \n",
    "import pandas as pd\n",
    "import os\n",
    "from pynwb import NWBFile, TimeSeries, NWBHDF5IO\n",
    "from datetime import datetime\n",
    "from pathlib import Path \n",
    "from typing import Union, List, Optional\n",
    "\n",
    "from IPython.display import display, HTML\n",
    "\n",
    "\n",
    "import joblib\n",
    "from joblib import Memory\n",
    "import re\n",
    "import glob\n",
    "\n",
    "from aind_dynamic_foraging_data_utils import nwb_utils as nu\n",
    "import aind_dynamic_foraging_basic_analysis.licks.annotation as a\n",
    "\n",
    "sys.path.insert(1, '/root/capsule/code/utils')\n",
    "import behavior_utils as bu\n",
    "import array_utils as au\n",
    "import data_utils as du \n",
    "import nwb_utils"
   ]
  },
  {
   "cell_type": "code",
   "execution_count": 2,
   "metadata": {},
   "outputs": [],
   "source": [
    "data_folder = '/root/capsule/data/'\n",
    "behavior_folder = '/root/capsule/data/foraging_nwb_bonsai'\n",
    "master_df_path = '/root/capsule/data/df_processed_20241025.csv'"
   ]
  },
  {
   "cell_type": "code",
   "execution_count": 3,
   "metadata": {},
   "outputs": [],
   "source": [
    "# No processed_CO_dataID, session_names\n",
    "\n",
    "master_df = pd.read_csv(master_df_path)\n",
    "filtered_df = du.filter_fiber_probes(master_df)\n",
    "data_asset_IDs = du.get_processed_CO_dataID_for_stage(filtered_df, stage = 'STAGE_3')\n",
    "session_names = du.get_processed_session_name_for_stage(filtered_df, stage = 'STAGE_3')\n",
    "nwb_suffixes = du.get_nwb_suffix_for_stage(filtered_df, stage = 'STAGE_3')\n",
    "formatted_suffixes = du.format_nwb_suffixes(nwb_suffixes)"
   ]
  },
  {
   "cell_type": "code",
   "execution_count": 4,
   "metadata": {},
   "outputs": [],
   "source": [
    "data_assets = du.generate_data_asset_params(data_asset_IDs, mount_point=None)\n",
    "token = os.getenv('CUSTOM_KEY')\n",
    "client = CodeOcean(domain=\"https://codeocean.allenneuraldynamics.org\", token=token)\n",
    "capsule_id = \"6a9f6065-d87a-40ce-831d-0676a2a4a835\"\n",
    "results = client.capsules.attach_data_assets(\n",
    "    capsule_id=capsule_id,\n",
    "    attach_params=data_assets,\n",
    ")"
   ]
  },
  {
   "cell_type": "code",
   "execution_count": 5,
   "metadata": {},
   "outputs": [],
   "source": [
    "nwb_fib = nu.load_nwb_from_filename(data_folder + \n",
    "'behavior_700708_2024-06-20_09-14-58_processed_2024-06-28_23-35-30/nwb/behavior_700708_2024-06-20_09-14-58.nwb')"
   ]
  },
  {
   "cell_type": "code",
   "execution_count": 6,
   "metadata": {},
   "outputs": [
    {
     "data": {
      "text/html": [
       "\n",
       "        <style>\n",
       "            .container-fields {\n",
       "                font-family: \"Open Sans\", Arial, sans-serif;\n",
       "            }\n",
       "            .container-fields .field-value {\n",
       "                color: #00788E;\n",
       "            }\n",
       "            .container-fields details > summary {\n",
       "                cursor: pointer;\n",
       "                display: list-item;\n",
       "            }\n",
       "            .container-fields details > summary:hover {\n",
       "                color: #0A6EAA;\n",
       "            }\n",
       "        </style>\n",
       "        \n",
       "        <script>\n",
       "            function copyToClipboard(text) {\n",
       "                navigator.clipboard.writeText(text).then(function() {\n",
       "                    console.log('Copied to clipboard: ' + text);\n",
       "                }, function(err) {\n",
       "                    console.error('Could not copy text: ', err);\n",
       "                });\n",
       "            }\n",
       "\n",
       "            document.addEventListener('DOMContentLoaded', function() {\n",
       "                let fieldKeys = document.querySelectorAll('.container-fields .field-key');\n",
       "                fieldKeys.forEach(function(fieldKey) {\n",
       "                    fieldKey.addEventListener('click', function() {\n",
       "                        let accessCode = fieldKey.getAttribute('title').replace('Access code: ', '');\n",
       "                        copyToClipboard(accessCode);\n",
       "                    });\n",
       "                });\n",
       "            });\n",
       "        </script>\n",
       "        <div class='container-wrap'><div class='container-header'><div class='xr-obj-type'><h3>root (NWBFile)</h3></div></div><div style=\"margin-left: 0px;\" class=\"container-fields\"><span class=\"field-key\" title=\".session_description\">session_description: </span><span class=\"field-value\">Test File</span></div><div style=\"margin-left: 0px;\" class=\"container-fields\"><span class=\"field-key\" title=\".identifier\">identifier: </span><span class=\"field-value\">8fca8377-d683-4f72-8c1c-4296ec5792ed</span></div><details><summary style=\"display: list-item; margin-left: 0px;\" class=\"container-fields field-key\" title=\".session_start_time\"><b>session_start_time</b></summary><span class=\"field-key\">2024-06-20 09:14:58-07:53</span></details><details><summary style=\"display: list-item; margin-left: 0px;\" class=\"container-fields field-key\" title=\".timestamps_reference_time\"><b>timestamps_reference_time</b></summary><span class=\"field-key\">2024-06-20 09:14:58-07:53</span></details><details><summary style=\"display: list-item; margin-left: 0px;\" class=\"container-fields field-key\" title=\".file_create_date\"><b>file_create_date</b></summary><details><summary style=\"display: list-item; margin-left: 20px;\" class=\"container-fields field-key\" title=\".file_create_date[0]\"><b>0</b></summary><span class=\"field-key\">2024-06-28 23:27:33.507307+00:00</span></details></details><details><summary style=\"display: list-item; margin-left: 0px;\" class=\"container-fields field-key\" title=\".acquisition\"><b>acquisition</b></summary><details><summary style=\"display: list-item; margin-left: 20px;\" class=\"container-fields field-key\" title=\".acquisition['FIP_falling_time']\"><b>FIP_falling_time</b></summary><div style=\"margin-left: 40px;\" class=\"container-fields\"><span class=\"field-key\" title=\".acquisition['FIP_falling_time'].resolution\">resolution: </span><span class=\"field-value\">-1.0</span></div><div style=\"margin-left: 40px;\" class=\"container-fields\"><span class=\"field-key\" title=\".acquisition['FIP_falling_time'].comments\">comments: </span><span class=\"field-value\">no comments</span></div><div style=\"margin-left: 40px;\" class=\"container-fields\"><span class=\"field-key\" title=\".acquisition['FIP_falling_time'].description\">description: </span><span class=\"field-value\">The time of photometry falling edge (from Harp)</span></div><div style=\"margin-left: 40px;\" class=\"container-fields\"><span class=\"field-key\" title=\".acquisition['FIP_falling_time'].conversion\">conversion: </span><span class=\"field-value\">1.0</span></div><div style=\"margin-left: 40px;\" class=\"container-fields\"><span class=\"field-key\" title=\".acquisition['FIP_falling_time'].offset\">offset: </span><span class=\"field-value\">0.0</span></div><div style=\"margin-left: 40px;\" class=\"container-fields\"><span class=\"field-key\" title=\".acquisition['FIP_falling_time'].unit\">unit: </span><span class=\"field-value\">second</span></div><details><summary style=\"display: list-item; margin-left: 40px;\" class=\"container-fields field-key\" title=\".acquisition['FIP_falling_time'].data\"><b>data</b></summary><span class=\"field-key\"><zarr.core.Array '/acquisition/FIP_falling_time/data' (97759,) float64 read-only></span></details><details><summary style=\"display: list-item; margin-left: 40px;\" class=\"container-fields field-key\" title=\".acquisition['FIP_falling_time'].timestamps\"><b>timestamps</b></summary><span class=\"field-key\"><zarr.core.Array '/acquisition/FIP_falling_time/timestamps' (97759,) float64 read-only></span></details><div style=\"margin-left: 40px;\" class=\"container-fields\"><span class=\"field-key\" title=\".acquisition['FIP_falling_time'].timestamps_unit\">timestamps_unit: </span><span class=\"field-value\">seconds</span></div><div style=\"margin-left: 40px;\" class=\"container-fields\"><span class=\"field-key\" title=\".acquisition['FIP_falling_time'].interval\">interval: </span><span class=\"field-value\">1</span></div></details><details><summary style=\"display: list-item; margin-left: 20px;\" class=\"container-fields field-key\" title=\".acquisition['FIP_rising_time']\"><b>FIP_rising_time</b></summary><div style=\"margin-left: 40px;\" class=\"container-fields\"><span class=\"field-key\" title=\".acquisition['FIP_rising_time'].resolution\">resolution: </span><span class=\"field-value\">-1.0</span></div><div style=\"margin-left: 40px;\" class=\"container-fields\"><span class=\"field-key\" title=\".acquisition['FIP_rising_time'].comments\">comments: </span><span class=\"field-value\">no comments</span></div><div style=\"margin-left: 40px;\" class=\"container-fields\"><span class=\"field-key\" title=\".acquisition['FIP_rising_time'].description\">description: </span><span class=\"field-value\">The time of photometry rising edge (from Harp)</span></div><div style=\"margin-left: 40px;\" class=\"container-fields\"><span class=\"field-key\" title=\".acquisition['FIP_rising_time'].conversion\">conversion: </span><span class=\"field-value\">1.0</span></div><div style=\"margin-left: 40px;\" class=\"container-fields\"><span class=\"field-key\" title=\".acquisition['FIP_rising_time'].offset\">offset: </span><span class=\"field-value\">0.0</span></div><div style=\"margin-left: 40px;\" class=\"container-fields\"><span class=\"field-key\" title=\".acquisition['FIP_rising_time'].unit\">unit: </span><span class=\"field-value\">second</span></div><details><summary style=\"display: list-item; margin-left: 40px;\" class=\"container-fields field-key\" title=\".acquisition['FIP_rising_time'].data\"><b>data</b></summary><span class=\"field-key\"><zarr.core.Array '/acquisition/FIP_rising_time/data' (97759,) float64 read-only></span></details><details><summary style=\"display: list-item; margin-left: 40px;\" class=\"container-fields field-key\" title=\".acquisition['FIP_rising_time'].timestamps\"><b>timestamps</b></summary><span class=\"field-key\"><zarr.core.Array '/acquisition/FIP_rising_time/timestamps' (97759,) float64 read-only></span></details><div style=\"margin-left: 40px;\" class=\"container-fields\"><span class=\"field-key\" title=\".acquisition['FIP_rising_time'].timestamps_unit\">timestamps_unit: </span><span class=\"field-value\">seconds</span></div><div style=\"margin-left: 40px;\" class=\"container-fields\"><span class=\"field-key\" title=\".acquisition['FIP_rising_time'].interval\">interval: </span><span class=\"field-value\">1</span></div></details><details><summary style=\"display: list-item; margin-left: 20px;\" class=\"container-fields field-key\" title=\".acquisition['G_1']\"><b>G_1</b></summary><div style=\"margin-left: 40px;\" class=\"container-fields\"><span class=\"field-key\" title=\".acquisition['G_1'].resolution\">resolution: </span><span class=\"field-value\">-1.0</span></div><div style=\"margin-left: 40px;\" class=\"container-fields\"><span class=\"field-key\" title=\".acquisition['G_1'].comments\">comments: </span><span class=\"field-value\">no comments</span></div><div style=\"margin-left: 40px;\" class=\"container-fields\"><span class=\"field-key\" title=\".acquisition['G_1'].description\">description: </span><span class=\"field-value\">no description</span></div><div style=\"margin-left: 40px;\" class=\"container-fields\"><span class=\"field-key\" title=\".acquisition['G_1'].conversion\">conversion: </span><span class=\"field-value\">1.0</span></div><div style=\"margin-left: 40px;\" class=\"container-fields\"><span class=\"field-key\" title=\".acquisition['G_1'].offset\">offset: </span><span class=\"field-value\">0.0</span></div><div style=\"margin-left: 40px;\" class=\"container-fields\"><span class=\"field-key\" title=\".acquisition['G_1'].unit\">unit: </span><span class=\"field-value\">s</span></div><details><summary style=\"display: list-item; margin-left: 40px;\" class=\"container-fields field-key\" title=\".acquisition['G_1'].data\"><b>data</b></summary><span class=\"field-key\"><zarr.core.Array '/acquisition/G_1/data' (83715,) float64 read-only></span></details><details><summary style=\"display: list-item; margin-left: 40px;\" class=\"container-fields field-key\" title=\".acquisition['G_1'].timestamps\"><b>timestamps</b></summary><span class=\"field-key\"><zarr.core.Array '/acquisition/G_1/timestamps' (83715,) float64 read-only></span></details><div style=\"margin-left: 40px;\" class=\"container-fields\"><span class=\"field-key\" title=\".acquisition['G_1'].timestamps_unit\">timestamps_unit: </span><span class=\"field-value\">seconds</span></div><div style=\"margin-left: 40px;\" class=\"container-fields\"><span class=\"field-key\" title=\".acquisition['G_1'].interval\">interval: </span><span class=\"field-value\">1</span></div></details><details><summary style=\"display: list-item; margin-left: 20px;\" class=\"container-fields field-key\" title=\".acquisition['G_1_preprocessed']\"><b>G_1_preprocessed</b></summary><div style=\"margin-left: 40px;\" class=\"container-fields\"><span class=\"field-key\" title=\".acquisition['G_1_preprocessed'].resolution\">resolution: </span><span class=\"field-value\">-1.0</span></div><div style=\"margin-left: 40px;\" class=\"container-fields\"><span class=\"field-key\" title=\".acquisition['G_1_preprocessed'].comments\">comments: </span><span class=\"field-value\">no comments</span></div><div style=\"margin-left: 40px;\" class=\"container-fields\"><span class=\"field-key\" title=\".acquisition['G_1_preprocessed'].description\">description: </span><span class=\"field-value\">no description</span></div><div style=\"margin-left: 40px;\" class=\"container-fields\"><span class=\"field-key\" title=\".acquisition['G_1_preprocessed'].conversion\">conversion: </span><span class=\"field-value\">1.0</span></div><div style=\"margin-left: 40px;\" class=\"container-fields\"><span class=\"field-key\" title=\".acquisition['G_1_preprocessed'].offset\">offset: </span><span class=\"field-value\">0.0</span></div><div style=\"margin-left: 40px;\" class=\"container-fields\"><span class=\"field-key\" title=\".acquisition['G_1_preprocessed'].unit\">unit: </span><span class=\"field-value\">s</span></div><details><summary style=\"display: list-item; margin-left: 40px;\" class=\"container-fields field-key\" title=\".acquisition['G_1_preprocessed'].data\"><b>data</b></summary><span class=\"field-key\"><zarr.core.Array '/acquisition/G_1_preprocessed/data' (167430,) float64 read-only></span></details><details><summary style=\"display: list-item; margin-left: 40px;\" class=\"container-fields field-key\" title=\".acquisition['G_1_preprocessed'].timestamps\"><b>timestamps</b></summary><span class=\"field-key\"><zarr.core.Array '/acquisition/G_1_preprocessed/timestamps' (167430,) float64 read-only></span></details><div style=\"margin-left: 40px;\" class=\"container-fields\"><span class=\"field-key\" title=\".acquisition['G_1_preprocessed'].timestamps_unit\">timestamps_unit: </span><span class=\"field-value\">seconds</span></div><div style=\"margin-left: 40px;\" class=\"container-fields\"><span class=\"field-key\" title=\".acquisition['G_1_preprocessed'].interval\">interval: </span><span class=\"field-value\">1</span></div></details><details><summary style=\"display: list-item; margin-left: 20px;\" class=\"container-fields field-key\" title=\".acquisition['G_2']\"><b>G_2</b></summary><div style=\"margin-left: 40px;\" class=\"container-fields\"><span class=\"field-key\" title=\".acquisition['G_2'].resolution\">resolution: </span><span class=\"field-value\">-1.0</span></div><div style=\"margin-left: 40px;\" class=\"container-fields\"><span class=\"field-key\" title=\".acquisition['G_2'].comments\">comments: </span><span class=\"field-value\">no comments</span></div><div style=\"margin-left: 40px;\" class=\"container-fields\"><span class=\"field-key\" title=\".acquisition['G_2'].description\">description: </span><span class=\"field-value\">no description</span></div><div style=\"margin-left: 40px;\" class=\"container-fields\"><span class=\"field-key\" title=\".acquisition['G_2'].conversion\">conversion: </span><span class=\"field-value\">1.0</span></div><div style=\"margin-left: 40px;\" class=\"container-fields\"><span class=\"field-key\" title=\".acquisition['G_2'].offset\">offset: </span><span class=\"field-value\">0.0</span></div><div style=\"margin-left: 40px;\" class=\"container-fields\"><span class=\"field-key\" title=\".acquisition['G_2'].unit\">unit: </span><span class=\"field-value\">s</span></div><details><summary style=\"display: list-item; margin-left: 40px;\" class=\"container-fields field-key\" title=\".acquisition['G_2'].data\"><b>data</b></summary><span class=\"field-key\"><zarr.core.Array '/acquisition/G_2/data' (83715,) float64 read-only></span></details><details><summary style=\"display: list-item; margin-left: 40px;\" class=\"container-fields field-key\" title=\".acquisition['G_2'].timestamps\"><b>timestamps</b></summary><span class=\"field-key\"><zarr.core.Array '/acquisition/G_2/timestamps' (83715,) float64 read-only></span></details><div style=\"margin-left: 40px;\" class=\"container-fields\"><span class=\"field-key\" title=\".acquisition['G_2'].timestamps_unit\">timestamps_unit: </span><span class=\"field-value\">seconds</span></div><div style=\"margin-left: 40px;\" class=\"container-fields\"><span class=\"field-key\" title=\".acquisition['G_2'].interval\">interval: </span><span class=\"field-value\">1</span></div></details><details><summary style=\"display: list-item; margin-left: 20px;\" class=\"container-fields field-key\" title=\".acquisition['G_2_preprocessed']\"><b>G_2_preprocessed</b></summary><div style=\"margin-left: 40px;\" class=\"container-fields\"><span class=\"field-key\" title=\".acquisition['G_2_preprocessed'].resolution\">resolution: </span><span class=\"field-value\">-1.0</span></div><div style=\"margin-left: 40px;\" class=\"container-fields\"><span class=\"field-key\" title=\".acquisition['G_2_preprocessed'].comments\">comments: </span><span class=\"field-value\">no comments</span></div><div style=\"margin-left: 40px;\" class=\"container-fields\"><span class=\"field-key\" title=\".acquisition['G_2_preprocessed'].description\">description: </span><span class=\"field-value\">no description</span></div><div style=\"margin-left: 40px;\" class=\"container-fields\"><span class=\"field-key\" title=\".acquisition['G_2_preprocessed'].conversion\">conversion: </span><span class=\"field-value\">1.0</span></div><div style=\"margin-left: 40px;\" class=\"container-fields\"><span class=\"field-key\" title=\".acquisition['G_2_preprocessed'].offset\">offset: </span><span class=\"field-value\">0.0</span></div><div style=\"margin-left: 40px;\" class=\"container-fields\"><span class=\"field-key\" title=\".acquisition['G_2_preprocessed'].unit\">unit: </span><span class=\"field-value\">s</span></div><details><summary style=\"display: list-item; margin-left: 40px;\" class=\"container-fields field-key\" title=\".acquisition['G_2_preprocessed'].data\"><b>data</b></summary><span class=\"field-key\"><zarr.core.Array '/acquisition/G_2_preprocessed/data' (167430,) float64 read-only></span></details><details><summary style=\"display: list-item; margin-left: 40px;\" class=\"container-fields field-key\" title=\".acquisition['G_2_preprocessed'].timestamps\"><b>timestamps</b></summary><span class=\"field-key\"><zarr.core.Array '/acquisition/G_2_preprocessed/timestamps' (167430,) float64 read-only></span></details><div style=\"margin-left: 40px;\" class=\"container-fields\"><span class=\"field-key\" title=\".acquisition['G_2_preprocessed'].timestamps_unit\">timestamps_unit: </span><span class=\"field-value\">seconds</span></div><div style=\"margin-left: 40px;\" class=\"container-fields\"><span class=\"field-key\" title=\".acquisition['G_2_preprocessed'].interval\">interval: </span><span class=\"field-value\">1</span></div></details><details><summary style=\"display: list-item; margin-left: 20px;\" class=\"container-fields field-key\" title=\".acquisition['Iso_1']\"><b>Iso_1</b></summary><div style=\"margin-left: 40px;\" class=\"container-fields\"><span class=\"field-key\" title=\".acquisition['Iso_1'].resolution\">resolution: </span><span class=\"field-value\">-1.0</span></div><div style=\"margin-left: 40px;\" class=\"container-fields\"><span class=\"field-key\" title=\".acquisition['Iso_1'].comments\">comments: </span><span class=\"field-value\">no comments</span></div><div style=\"margin-left: 40px;\" class=\"container-fields\"><span class=\"field-key\" title=\".acquisition['Iso_1'].description\">description: </span><span class=\"field-value\">no description</span></div><div style=\"margin-left: 40px;\" class=\"container-fields\"><span class=\"field-key\" title=\".acquisition['Iso_1'].conversion\">conversion: </span><span class=\"field-value\">1.0</span></div><div style=\"margin-left: 40px;\" class=\"container-fields\"><span class=\"field-key\" title=\".acquisition['Iso_1'].offset\">offset: </span><span class=\"field-value\">0.0</span></div><div style=\"margin-left: 40px;\" class=\"container-fields\"><span class=\"field-key\" title=\".acquisition['Iso_1'].unit\">unit: </span><span class=\"field-value\">s</span></div><details><summary style=\"display: list-item; margin-left: 40px;\" class=\"container-fields field-key\" title=\".acquisition['Iso_1'].data\"><b>data</b></summary><span class=\"field-key\"><zarr.core.Array '/acquisition/Iso_1/data' (83729,) float64 read-only></span></details><details><summary style=\"display: list-item; margin-left: 40px;\" class=\"container-fields field-key\" title=\".acquisition['Iso_1'].timestamps\"><b>timestamps</b></summary><span class=\"field-key\"><zarr.core.Array '/acquisition/Iso_1/timestamps' (83729,) float64 read-only></span></details><div style=\"margin-left: 40px;\" class=\"container-fields\"><span class=\"field-key\" title=\".acquisition['Iso_1'].timestamps_unit\">timestamps_unit: </span><span class=\"field-value\">seconds</span></div><div style=\"margin-left: 40px;\" class=\"container-fields\"><span class=\"field-key\" title=\".acquisition['Iso_1'].interval\">interval: </span><span class=\"field-value\">1</span></div></details><details><summary style=\"display: list-item; margin-left: 20px;\" class=\"container-fields field-key\" title=\".acquisition['Iso_1_preprocessed']\"><b>Iso_1_preprocessed</b></summary><div style=\"margin-left: 40px;\" class=\"container-fields\"><span class=\"field-key\" title=\".acquisition['Iso_1_preprocessed'].resolution\">resolution: </span><span class=\"field-value\">-1.0</span></div><div style=\"margin-left: 40px;\" class=\"container-fields\"><span class=\"field-key\" title=\".acquisition['Iso_1_preprocessed'].comments\">comments: </span><span class=\"field-value\">no comments</span></div><div style=\"margin-left: 40px;\" class=\"container-fields\"><span class=\"field-key\" title=\".acquisition['Iso_1_preprocessed'].description\">description: </span><span class=\"field-value\">no description</span></div><div style=\"margin-left: 40px;\" class=\"container-fields\"><span class=\"field-key\" title=\".acquisition['Iso_1_preprocessed'].conversion\">conversion: </span><span class=\"field-value\">1.0</span></div><div style=\"margin-left: 40px;\" class=\"container-fields\"><span class=\"field-key\" title=\".acquisition['Iso_1_preprocessed'].offset\">offset: </span><span class=\"field-value\">0.0</span></div><div style=\"margin-left: 40px;\" class=\"container-fields\"><span class=\"field-key\" title=\".acquisition['Iso_1_preprocessed'].unit\">unit: </span><span class=\"field-value\">s</span></div><details><summary style=\"display: list-item; margin-left: 40px;\" class=\"container-fields field-key\" title=\".acquisition['Iso_1_preprocessed'].data\"><b>data</b></summary><span class=\"field-key\"><zarr.core.Array '/acquisition/Iso_1_preprocessed/data' (167458,) float64 read-only></span></details><details><summary style=\"display: list-item; margin-left: 40px;\" class=\"container-fields field-key\" title=\".acquisition['Iso_1_preprocessed'].timestamps\"><b>timestamps</b></summary><span class=\"field-key\"><zarr.core.Array '/acquisition/Iso_1_preprocessed/timestamps' (167458,) float64 read-only></span></details><div style=\"margin-left: 40px;\" class=\"container-fields\"><span class=\"field-key\" title=\".acquisition['Iso_1_preprocessed'].timestamps_unit\">timestamps_unit: </span><span class=\"field-value\">seconds</span></div><div style=\"margin-left: 40px;\" class=\"container-fields\"><span class=\"field-key\" title=\".acquisition['Iso_1_preprocessed'].interval\">interval: </span><span class=\"field-value\">1</span></div></details><details><summary style=\"display: list-item; margin-left: 20px;\" class=\"container-fields field-key\" title=\".acquisition['Iso_2']\"><b>Iso_2</b></summary><div style=\"margin-left: 40px;\" class=\"container-fields\"><span class=\"field-key\" title=\".acquisition['Iso_2'].resolution\">resolution: </span><span class=\"field-value\">-1.0</span></div><div style=\"margin-left: 40px;\" class=\"container-fields\"><span class=\"field-key\" title=\".acquisition['Iso_2'].comments\">comments: </span><span class=\"field-value\">no comments</span></div><div style=\"margin-left: 40px;\" class=\"container-fields\"><span class=\"field-key\" title=\".acquisition['Iso_2'].description\">description: </span><span class=\"field-value\">no description</span></div><div style=\"margin-left: 40px;\" class=\"container-fields\"><span class=\"field-key\" title=\".acquisition['Iso_2'].conversion\">conversion: </span><span class=\"field-value\">1.0</span></div><div style=\"margin-left: 40px;\" class=\"container-fields\"><span class=\"field-key\" title=\".acquisition['Iso_2'].offset\">offset: </span><span class=\"field-value\">0.0</span></div><div style=\"margin-left: 40px;\" class=\"container-fields\"><span class=\"field-key\" title=\".acquisition['Iso_2'].unit\">unit: </span><span class=\"field-value\">s</span></div><details><summary style=\"display: list-item; margin-left: 40px;\" class=\"container-fields field-key\" title=\".acquisition['Iso_2'].data\"><b>data</b></summary><span class=\"field-key\"><zarr.core.Array '/acquisition/Iso_2/data' (83729,) float64 read-only></span></details><details><summary style=\"display: list-item; margin-left: 40px;\" class=\"container-fields field-key\" title=\".acquisition['Iso_2'].timestamps\"><b>timestamps</b></summary><span class=\"field-key\"><zarr.core.Array '/acquisition/Iso_2/timestamps' (83729,) float64 read-only></span></details><div style=\"margin-left: 40px;\" class=\"container-fields\"><span class=\"field-key\" title=\".acquisition['Iso_2'].timestamps_unit\">timestamps_unit: </span><span class=\"field-value\">seconds</span></div><div style=\"margin-left: 40px;\" class=\"container-fields\"><span class=\"field-key\" title=\".acquisition['Iso_2'].interval\">interval: </span><span class=\"field-value\">1</span></div></details><details><summary style=\"display: list-item; margin-left: 20px;\" class=\"container-fields field-key\" title=\".acquisition['Iso_2_preprocessed']\"><b>Iso_2_preprocessed</b></summary><div style=\"margin-left: 40px;\" class=\"container-fields\"><span class=\"field-key\" title=\".acquisition['Iso_2_preprocessed'].resolution\">resolution: </span><span class=\"field-value\">-1.0</span></div><div style=\"margin-left: 40px;\" class=\"container-fields\"><span class=\"field-key\" title=\".acquisition['Iso_2_preprocessed'].comments\">comments: </span><span class=\"field-value\">no comments</span></div><div style=\"margin-left: 40px;\" class=\"container-fields\"><span class=\"field-key\" title=\".acquisition['Iso_2_preprocessed'].description\">description: </span><span class=\"field-value\">no description</span></div><div style=\"margin-left: 40px;\" class=\"container-fields\"><span class=\"field-key\" title=\".acquisition['Iso_2_preprocessed'].conversion\">conversion: </span><span class=\"field-value\">1.0</span></div><div style=\"margin-left: 40px;\" class=\"container-fields\"><span class=\"field-key\" title=\".acquisition['Iso_2_preprocessed'].offset\">offset: </span><span class=\"field-value\">0.0</span></div><div style=\"margin-left: 40px;\" class=\"container-fields\"><span class=\"field-key\" title=\".acquisition['Iso_2_preprocessed'].unit\">unit: </span><span class=\"field-value\">s</span></div><details><summary style=\"display: list-item; margin-left: 40px;\" class=\"container-fields field-key\" title=\".acquisition['Iso_2_preprocessed'].data\"><b>data</b></summary><span class=\"field-key\"><zarr.core.Array '/acquisition/Iso_2_preprocessed/data' (167458,) float64 read-only></span></details><details><summary style=\"display: list-item; margin-left: 40px;\" class=\"container-fields field-key\" title=\".acquisition['Iso_2_preprocessed'].timestamps\"><b>timestamps</b></summary><span class=\"field-key\"><zarr.core.Array '/acquisition/Iso_2_preprocessed/timestamps' (167458,) float64 read-only></span></details><div style=\"margin-left: 40px;\" class=\"container-fields\"><span class=\"field-key\" title=\".acquisition['Iso_2_preprocessed'].timestamps_unit\">timestamps_unit: </span><span class=\"field-value\">seconds</span></div><div style=\"margin-left: 40px;\" class=\"container-fields\"><span class=\"field-key\" title=\".acquisition['Iso_2_preprocessed'].interval\">interval: </span><span class=\"field-value\">1</span></div></details><details><summary style=\"display: list-item; margin-left: 20px;\" class=\"container-fields field-key\" title=\".acquisition['R_1']\"><b>R_1</b></summary><div style=\"margin-left: 40px;\" class=\"container-fields\"><span class=\"field-key\" title=\".acquisition['R_1'].resolution\">resolution: </span><span class=\"field-value\">-1.0</span></div><div style=\"margin-left: 40px;\" class=\"container-fields\"><span class=\"field-key\" title=\".acquisition['R_1'].comments\">comments: </span><span class=\"field-value\">no comments</span></div><div style=\"margin-left: 40px;\" class=\"container-fields\"><span class=\"field-key\" title=\".acquisition['R_1'].description\">description: </span><span class=\"field-value\">no description</span></div><div style=\"margin-left: 40px;\" class=\"container-fields\"><span class=\"field-key\" title=\".acquisition['R_1'].conversion\">conversion: </span><span class=\"field-value\">1.0</span></div><div style=\"margin-left: 40px;\" class=\"container-fields\"><span class=\"field-key\" title=\".acquisition['R_1'].offset\">offset: </span><span class=\"field-value\">0.0</span></div><div style=\"margin-left: 40px;\" class=\"container-fields\"><span class=\"field-key\" title=\".acquisition['R_1'].unit\">unit: </span><span class=\"field-value\">s</span></div><details><summary style=\"display: list-item; margin-left: 40px;\" class=\"container-fields field-key\" title=\".acquisition['R_1'].data\"><b>data</b></summary><span class=\"field-key\"><zarr.core.Array '/acquisition/R_1/data' (83729,) float64 read-only></span></details><details><summary style=\"display: list-item; margin-left: 40px;\" class=\"container-fields field-key\" title=\".acquisition['R_1'].timestamps\"><b>timestamps</b></summary><span class=\"field-key\"><zarr.core.Array '/acquisition/R_1/timestamps' (83729,) float64 read-only></span></details><div style=\"margin-left: 40px;\" class=\"container-fields\"><span class=\"field-key\" title=\".acquisition['R_1'].timestamps_unit\">timestamps_unit: </span><span class=\"field-value\">seconds</span></div><div style=\"margin-left: 40px;\" class=\"container-fields\"><span class=\"field-key\" title=\".acquisition['R_1'].interval\">interval: </span><span class=\"field-value\">1</span></div></details><details><summary style=\"display: list-item; margin-left: 20px;\" class=\"container-fields field-key\" title=\".acquisition['R_1_preprocessed']\"><b>R_1_preprocessed</b></summary><div style=\"margin-left: 40px;\" class=\"container-fields\"><span class=\"field-key\" title=\".acquisition['R_1_preprocessed'].resolution\">resolution: </span><span class=\"field-value\">-1.0</span></div><div style=\"margin-left: 40px;\" class=\"container-fields\"><span class=\"field-key\" title=\".acquisition['R_1_preprocessed'].comments\">comments: </span><span class=\"field-value\">no comments</span></div><div style=\"margin-left: 40px;\" class=\"container-fields\"><span class=\"field-key\" title=\".acquisition['R_1_preprocessed'].description\">description: </span><span class=\"field-value\">no description</span></div><div style=\"margin-left: 40px;\" class=\"container-fields\"><span class=\"field-key\" title=\".acquisition['R_1_preprocessed'].conversion\">conversion: </span><span class=\"field-value\">1.0</span></div><div style=\"margin-left: 40px;\" class=\"container-fields\"><span class=\"field-key\" title=\".acquisition['R_1_preprocessed'].offset\">offset: </span><span class=\"field-value\">0.0</span></div><div style=\"margin-left: 40px;\" class=\"container-fields\"><span class=\"field-key\" title=\".acquisition['R_1_preprocessed'].unit\">unit: </span><span class=\"field-value\">s</span></div><details><summary style=\"display: list-item; margin-left: 40px;\" class=\"container-fields field-key\" title=\".acquisition['R_1_preprocessed'].data\"><b>data</b></summary><span class=\"field-key\"><zarr.core.Array '/acquisition/R_1_preprocessed/data' (167458,) float64 read-only></span></details><details><summary style=\"display: list-item; margin-left: 40px;\" class=\"container-fields field-key\" title=\".acquisition['R_1_preprocessed'].timestamps\"><b>timestamps</b></summary><span class=\"field-key\"><zarr.core.Array '/acquisition/R_1_preprocessed/timestamps' (167458,) float64 read-only></span></details><div style=\"margin-left: 40px;\" class=\"container-fields\"><span class=\"field-key\" title=\".acquisition['R_1_preprocessed'].timestamps_unit\">timestamps_unit: </span><span class=\"field-value\">seconds</span></div><div style=\"margin-left: 40px;\" class=\"container-fields\"><span class=\"field-key\" title=\".acquisition['R_1_preprocessed'].interval\">interval: </span><span class=\"field-value\">1</span></div></details><details><summary style=\"display: list-item; margin-left: 20px;\" class=\"container-fields field-key\" title=\".acquisition['R_2']\"><b>R_2</b></summary><div style=\"margin-left: 40px;\" class=\"container-fields\"><span class=\"field-key\" title=\".acquisition['R_2'].resolution\">resolution: </span><span class=\"field-value\">-1.0</span></div><div style=\"margin-left: 40px;\" class=\"container-fields\"><span class=\"field-key\" title=\".acquisition['R_2'].comments\">comments: </span><span class=\"field-value\">no comments</span></div><div style=\"margin-left: 40px;\" class=\"container-fields\"><span class=\"field-key\" title=\".acquisition['R_2'].description\">description: </span><span class=\"field-value\">no description</span></div><div style=\"margin-left: 40px;\" class=\"container-fields\"><span class=\"field-key\" title=\".acquisition['R_2'].conversion\">conversion: </span><span class=\"field-value\">1.0</span></div><div style=\"margin-left: 40px;\" class=\"container-fields\"><span class=\"field-key\" title=\".acquisition['R_2'].offset\">offset: </span><span class=\"field-value\">0.0</span></div><div style=\"margin-left: 40px;\" class=\"container-fields\"><span class=\"field-key\" title=\".acquisition['R_2'].unit\">unit: </span><span class=\"field-value\">s</span></div><details><summary style=\"display: list-item; margin-left: 40px;\" class=\"container-fields field-key\" title=\".acquisition['R_2'].data\"><b>data</b></summary><span class=\"field-key\"><zarr.core.Array '/acquisition/R_2/data' (83729,) float64 read-only></span></details><details><summary style=\"display: list-item; margin-left: 40px;\" class=\"container-fields field-key\" title=\".acquisition['R_2'].timestamps\"><b>timestamps</b></summary><span class=\"field-key\"><zarr.core.Array '/acquisition/R_2/timestamps' (83729,) float64 read-only></span></details><div style=\"margin-left: 40px;\" class=\"container-fields\"><span class=\"field-key\" title=\".acquisition['R_2'].timestamps_unit\">timestamps_unit: </span><span class=\"field-value\">seconds</span></div><div style=\"margin-left: 40px;\" class=\"container-fields\"><span class=\"field-key\" title=\".acquisition['R_2'].interval\">interval: </span><span class=\"field-value\">1</span></div></details><details><summary style=\"display: list-item; margin-left: 20px;\" class=\"container-fields field-key\" title=\".acquisition['R_2_preprocessed']\"><b>R_2_preprocessed</b></summary><div style=\"margin-left: 40px;\" class=\"container-fields\"><span class=\"field-key\" title=\".acquisition['R_2_preprocessed'].resolution\">resolution: </span><span class=\"field-value\">-1.0</span></div><div style=\"margin-left: 40px;\" class=\"container-fields\"><span class=\"field-key\" title=\".acquisition['R_2_preprocessed'].comments\">comments: </span><span class=\"field-value\">no comments</span></div><div style=\"margin-left: 40px;\" class=\"container-fields\"><span class=\"field-key\" title=\".acquisition['R_2_preprocessed'].description\">description: </span><span class=\"field-value\">no description</span></div><div style=\"margin-left: 40px;\" class=\"container-fields\"><span class=\"field-key\" title=\".acquisition['R_2_preprocessed'].conversion\">conversion: </span><span class=\"field-value\">1.0</span></div><div style=\"margin-left: 40px;\" class=\"container-fields\"><span class=\"field-key\" title=\".acquisition['R_2_preprocessed'].offset\">offset: </span><span class=\"field-value\">0.0</span></div><div style=\"margin-left: 40px;\" class=\"container-fields\"><span class=\"field-key\" title=\".acquisition['R_2_preprocessed'].unit\">unit: </span><span class=\"field-value\">s</span></div><details><summary style=\"display: list-item; margin-left: 40px;\" class=\"container-fields field-key\" title=\".acquisition['R_2_preprocessed'].data\"><b>data</b></summary><span class=\"field-key\"><zarr.core.Array '/acquisition/R_2_preprocessed/data' (167458,) float64 read-only></span></details><details><summary style=\"display: list-item; margin-left: 40px;\" class=\"container-fields field-key\" title=\".acquisition['R_2_preprocessed'].timestamps\"><b>timestamps</b></summary><span class=\"field-key\"><zarr.core.Array '/acquisition/R_2_preprocessed/timestamps' (167458,) float64 read-only></span></details><div style=\"margin-left: 40px;\" class=\"container-fields\"><span class=\"field-key\" title=\".acquisition['R_2_preprocessed'].timestamps_unit\">timestamps_unit: </span><span class=\"field-value\">seconds</span></div><div style=\"margin-left: 40px;\" class=\"container-fields\"><span class=\"field-key\" title=\".acquisition['R_2_preprocessed'].interval\">interval: </span><span class=\"field-value\">1</span></div></details><details><summary style=\"display: list-item; margin-left: 20px;\" class=\"container-fields field-key\" title=\".acquisition['left_lick_time']\"><b>left_lick_time</b></summary><div style=\"margin-left: 40px;\" class=\"container-fields\"><span class=\"field-key\" title=\".acquisition['left_lick_time'].resolution\">resolution: </span><span class=\"field-value\">-1.0</span></div><div style=\"margin-left: 40px;\" class=\"container-fields\"><span class=\"field-key\" title=\".acquisition['left_lick_time'].comments\">comments: </span><span class=\"field-value\">no comments</span></div><div style=\"margin-left: 40px;\" class=\"container-fields\"><span class=\"field-key\" title=\".acquisition['left_lick_time'].description\">description: </span><span class=\"field-value\">The time of left licks</span></div><div style=\"margin-left: 40px;\" class=\"container-fields\"><span class=\"field-key\" title=\".acquisition['left_lick_time'].conversion\">conversion: </span><span class=\"field-value\">1.0</span></div><div style=\"margin-left: 40px;\" class=\"container-fields\"><span class=\"field-key\" title=\".acquisition['left_lick_time'].offset\">offset: </span><span class=\"field-value\">0.0</span></div><div style=\"margin-left: 40px;\" class=\"container-fields\"><span class=\"field-key\" title=\".acquisition['left_lick_time'].unit\">unit: </span><span class=\"field-value\">second</span></div><details><summary style=\"display: list-item; margin-left: 40px;\" class=\"container-fields field-key\" title=\".acquisition['left_lick_time'].data\"><b>data</b></summary><span class=\"field-key\"><zarr.core.Array '/acquisition/left_lick_time/data' (4693,) float64 read-only></span></details><details><summary style=\"display: list-item; margin-left: 40px;\" class=\"container-fields field-key\" title=\".acquisition['left_lick_time'].timestamps\"><b>timestamps</b></summary><span class=\"field-key\"><zarr.core.Array '/acquisition/left_lick_time/timestamps' (4693,) float64 read-only></span></details><div style=\"margin-left: 40px;\" class=\"container-fields\"><span class=\"field-key\" title=\".acquisition['left_lick_time'].timestamps_unit\">timestamps_unit: </span><span class=\"field-value\">seconds</span></div><div style=\"margin-left: 40px;\" class=\"container-fields\"><span class=\"field-key\" title=\".acquisition['left_lick_time'].interval\">interval: </span><span class=\"field-value\">1</span></div></details><details><summary style=\"display: list-item; margin-left: 20px;\" class=\"container-fields field-key\" title=\".acquisition['left_reward_delivery_time']\"><b>left_reward_delivery_time</b></summary><div style=\"margin-left: 40px;\" class=\"container-fields\"><span class=\"field-key\" title=\".acquisition['left_reward_delivery_time'].resolution\">resolution: </span><span class=\"field-value\">-1.0</span></div><div style=\"margin-left: 40px;\" class=\"container-fields\"><span class=\"field-key\" title=\".acquisition['left_reward_delivery_time'].comments\">comments: </span><span class=\"field-value\">no comments</span></div><div style=\"margin-left: 40px;\" class=\"container-fields\"><span class=\"field-key\" title=\".acquisition['left_reward_delivery_time'].description\">description: </span><span class=\"field-value\">The reward delivery time of the left lick port</span></div><div style=\"margin-left: 40px;\" class=\"container-fields\"><span class=\"field-key\" title=\".acquisition['left_reward_delivery_time'].conversion\">conversion: </span><span class=\"field-value\">1.0</span></div><div style=\"margin-left: 40px;\" class=\"container-fields\"><span class=\"field-key\" title=\".acquisition['left_reward_delivery_time'].offset\">offset: </span><span class=\"field-value\">0.0</span></div><div style=\"margin-left: 40px;\" class=\"container-fields\"><span class=\"field-key\" title=\".acquisition['left_reward_delivery_time'].unit\">unit: </span><span class=\"field-value\">second</span></div><details><summary style=\"display: list-item; margin-left: 40px;\" class=\"container-fields field-key\" title=\".acquisition['left_reward_delivery_time'].data\"><b>data</b></summary><span class=\"field-key\"><zarr.core.Array '/acquisition/left_reward_delivery_time/data' (189,) float64 read-only></span></details><details><summary style=\"display: list-item; margin-left: 40px;\" class=\"container-fields field-key\" title=\".acquisition['left_reward_delivery_time'].timestamps\"><b>timestamps</b></summary><span class=\"field-key\"><zarr.core.Array '/acquisition/left_reward_delivery_time/timestamps' (189,) float64 read-only></span></details><div style=\"margin-left: 40px;\" class=\"container-fields\"><span class=\"field-key\" title=\".acquisition['left_reward_delivery_time'].timestamps_unit\">timestamps_unit: </span><span class=\"field-value\">seconds</span></div><div style=\"margin-left: 40px;\" class=\"container-fields\"><span class=\"field-key\" title=\".acquisition['left_reward_delivery_time'].interval\">interval: </span><span class=\"field-value\">1</span></div></details><details><summary style=\"display: list-item; margin-left: 20px;\" class=\"container-fields field-key\" title=\".acquisition['optogenetics_time']\"><b>optogenetics_time</b></summary><div style=\"margin-left: 40px;\" class=\"container-fields\"><span class=\"field-key\" title=\".acquisition['optogenetics_time'].resolution\">resolution: </span><span class=\"field-value\">-1.0</span></div><div style=\"margin-left: 40px;\" class=\"container-fields\"><span class=\"field-key\" title=\".acquisition['optogenetics_time'].comments\">comments: </span><span class=\"field-value\">no comments</span></div><div style=\"margin-left: 40px;\" class=\"container-fields\"><span class=\"field-key\" title=\".acquisition['optogenetics_time'].description\">description: </span><span class=\"field-value\">Optogenetics time (from Harp)</span></div><div style=\"margin-left: 40px;\" class=\"container-fields\"><span class=\"field-key\" title=\".acquisition['optogenetics_time'].conversion\">conversion: </span><span class=\"field-value\">1.0</span></div><div style=\"margin-left: 40px;\" class=\"container-fields\"><span class=\"field-key\" title=\".acquisition['optogenetics_time'].offset\">offset: </span><span class=\"field-value\">0.0</span></div><div style=\"margin-left: 40px;\" class=\"container-fields\"><span class=\"field-key\" title=\".acquisition['optogenetics_time'].unit\">unit: </span><span class=\"field-value\">second</span></div><details><summary style=\"display: list-item; margin-left: 40px;\" class=\"container-fields field-key\" title=\".acquisition['optogenetics_time'].data\"><b>data</b></summary><span class=\"field-key\"><zarr.core.Array '/acquisition/optogenetics_time/data' (1,) float64 read-only></span></details><details><summary style=\"display: list-item; margin-left: 40px;\" class=\"container-fields field-key\" title=\".acquisition['optogenetics_time'].timestamps\"><b>timestamps</b></summary><span class=\"field-key\"><zarr.core.Array '/acquisition/optogenetics_time/timestamps' (1,) float64 read-only></span></details><div style=\"margin-left: 40px;\" class=\"container-fields\"><span class=\"field-key\" title=\".acquisition['optogenetics_time'].timestamps_unit\">timestamps_unit: </span><span class=\"field-value\">seconds</span></div><div style=\"margin-left: 40px;\" class=\"container-fields\"><span class=\"field-key\" title=\".acquisition['optogenetics_time'].interval\">interval: </span><span class=\"field-value\">1</span></div></details><details><summary style=\"display: list-item; margin-left: 20px;\" class=\"container-fields field-key\" title=\".acquisition['right_lick_time']\"><b>right_lick_time</b></summary><div style=\"margin-left: 40px;\" class=\"container-fields\"><span class=\"field-key\" title=\".acquisition['right_lick_time'].resolution\">resolution: </span><span class=\"field-value\">-1.0</span></div><div style=\"margin-left: 40px;\" class=\"container-fields\"><span class=\"field-key\" title=\".acquisition['right_lick_time'].comments\">comments: </span><span class=\"field-value\">no comments</span></div><div style=\"margin-left: 40px;\" class=\"container-fields\"><span class=\"field-key\" title=\".acquisition['right_lick_time'].description\">description: </span><span class=\"field-value\">The time of left licks</span></div><div style=\"margin-left: 40px;\" class=\"container-fields\"><span class=\"field-key\" title=\".acquisition['right_lick_time'].conversion\">conversion: </span><span class=\"field-value\">1.0</span></div><div style=\"margin-left: 40px;\" class=\"container-fields\"><span class=\"field-key\" title=\".acquisition['right_lick_time'].offset\">offset: </span><span class=\"field-value\">0.0</span></div><div style=\"margin-left: 40px;\" class=\"container-fields\"><span class=\"field-key\" title=\".acquisition['right_lick_time'].unit\">unit: </span><span class=\"field-value\">second</span></div><details><summary style=\"display: list-item; margin-left: 40px;\" class=\"container-fields field-key\" title=\".acquisition['right_lick_time'].data\"><b>data</b></summary><span class=\"field-key\"><zarr.core.Array '/acquisition/right_lick_time/data' (3547,) float64 read-only></span></details><details><summary style=\"display: list-item; margin-left: 40px;\" class=\"container-fields field-key\" title=\".acquisition['right_lick_time'].timestamps\"><b>timestamps</b></summary><span class=\"field-key\"><zarr.core.Array '/acquisition/right_lick_time/timestamps' (3547,) float64 read-only></span></details><div style=\"margin-left: 40px;\" class=\"container-fields\"><span class=\"field-key\" title=\".acquisition['right_lick_time'].timestamps_unit\">timestamps_unit: </span><span class=\"field-value\">seconds</span></div><div style=\"margin-left: 40px;\" class=\"container-fields\"><span class=\"field-key\" title=\".acquisition['right_lick_time'].interval\">interval: </span><span class=\"field-value\">1</span></div></details><details><summary style=\"display: list-item; margin-left: 20px;\" class=\"container-fields field-key\" title=\".acquisition['right_reward_delivery_time']\"><b>right_reward_delivery_time</b></summary><div style=\"margin-left: 40px;\" class=\"container-fields\"><span class=\"field-key\" title=\".acquisition['right_reward_delivery_time'].resolution\">resolution: </span><span class=\"field-value\">-1.0</span></div><div style=\"margin-left: 40px;\" class=\"container-fields\"><span class=\"field-key\" title=\".acquisition['right_reward_delivery_time'].comments\">comments: </span><span class=\"field-value\">no comments</span></div><div style=\"margin-left: 40px;\" class=\"container-fields\"><span class=\"field-key\" title=\".acquisition['right_reward_delivery_time'].description\">description: </span><span class=\"field-value\">The reward delivery time of the right lick port</span></div><div style=\"margin-left: 40px;\" class=\"container-fields\"><span class=\"field-key\" title=\".acquisition['right_reward_delivery_time'].conversion\">conversion: </span><span class=\"field-value\">1.0</span></div><div style=\"margin-left: 40px;\" class=\"container-fields\"><span class=\"field-key\" title=\".acquisition['right_reward_delivery_time'].offset\">offset: </span><span class=\"field-value\">0.0</span></div><div style=\"margin-left: 40px;\" class=\"container-fields\"><span class=\"field-key\" title=\".acquisition['right_reward_delivery_time'].unit\">unit: </span><span class=\"field-value\">second</span></div><details><summary style=\"display: list-item; margin-left: 40px;\" class=\"container-fields field-key\" title=\".acquisition['right_reward_delivery_time'].data\"><b>data</b></summary><span class=\"field-key\"><zarr.core.Array '/acquisition/right_reward_delivery_time/data' (155,) float64 read-only></span></details><details><summary style=\"display: list-item; margin-left: 40px;\" class=\"container-fields field-key\" title=\".acquisition['right_reward_delivery_time'].timestamps\"><b>timestamps</b></summary><span class=\"field-key\"><zarr.core.Array '/acquisition/right_reward_delivery_time/timestamps' (155,) float64 read-only></span></details><div style=\"margin-left: 40px;\" class=\"container-fields\"><span class=\"field-key\" title=\".acquisition['right_reward_delivery_time'].timestamps_unit\">timestamps_unit: </span><span class=\"field-value\">seconds</span></div><div style=\"margin-left: 40px;\" class=\"container-fields\"><span class=\"field-key\" title=\".acquisition['right_reward_delivery_time'].interval\">interval: </span><span class=\"field-value\">1</span></div></details></details><details><summary style=\"display: list-item; margin-left: 0px;\" class=\"container-fields field-key\" title=\".epoch_tags\"><b>epoch_tags</b></summary><span class=\"field-key\">set()</span></details><details><summary style=\"display: list-item; margin-left: 0px;\" class=\"container-fields field-key\" title=\".intervals\"><b>intervals</b></summary><details><summary style=\"display: list-item; margin-left: 20px;\" class=\"container-fields field-key\" title=\".intervals['trials']\"><b>trials</b></summary><div style=\"margin-left: 40px;\" class=\"container-fields\"><span class=\"field-key\" title=\".intervals['trials']\">description: </span><span class=\"field-value\">experimental trials</span></div><details><summary style=\"display: list-item; margin-left: 40px;\" class=\"container-fields field-key\" title=\".intervals['trials']\"><b>table</b></summary><table border=\"1\" class=\"dataframe\">\n",
       "  <thead>\n",
       "    <tr style=\"text-align: right;\">\n",
       "      <th></th>\n",
       "      <th>start_time</th>\n",
       "      <th>stop_time</th>\n",
       "      <th>animal_response</th>\n",
       "      <th>rewarded_historyL</th>\n",
       "      <th>rewarded_historyR</th>\n",
       "      <th>delay_start_time</th>\n",
       "      <th>goCue_start_time</th>\n",
       "      <th>reward_outcome_time</th>\n",
       "      <th>bait_left</th>\n",
       "      <th>bait_right</th>\n",
       "      <th>base_reward_probability_sum</th>\n",
       "      <th>reward_probabilityL</th>\n",
       "      <th>reward_probabilityR</th>\n",
       "      <th>reward_random_number_left</th>\n",
       "      <th>reward_random_number_right</th>\n",
       "      <th>left_valve_open_time</th>\n",
       "      <th>right_valve_open_time</th>\n",
       "      <th>block_beta</th>\n",
       "      <th>block_min</th>\n",
       "      <th>block_max</th>\n",
       "      <th>min_reward_each_block</th>\n",
       "      <th>delay_beta</th>\n",
       "      <th>delay_min</th>\n",
       "      <th>delay_max</th>\n",
       "      <th>delay_duration</th>\n",
       "      <th>ITI_beta</th>\n",
       "      <th>ITI_min</th>\n",
       "      <th>ITI_max</th>\n",
       "      <th>ITI_duration</th>\n",
       "      <th>response_duration</th>\n",
       "      <th>reward_consumption_duration</th>\n",
       "      <th>auto_waterL</th>\n",
       "      <th>auto_waterR</th>\n",
       "      <th>laser_on_trial</th>\n",
       "      <th>laser_wavelength</th>\n",
       "      <th>laser_location</th>\n",
       "      <th>laser_power</th>\n",
       "      <th>laser_duration</th>\n",
       "      <th>laser_condition</th>\n",
       "      <th>laser_condition_probability</th>\n",
       "      <th>laser_start</th>\n",
       "      <th>laser_start_offset</th>\n",
       "      <th>laser_end</th>\n",
       "      <th>laser_end_offset</th>\n",
       "      <th>laser_protocol</th>\n",
       "      <th>laser_frequency</th>\n",
       "      <th>laser_rampingdown</th>\n",
       "      <th>laser_pulse_duration</th>\n",
       "      <th>auto_train_engaged</th>\n",
       "      <th>auto_train_curriculum_name</th>\n",
       "      <th>auto_train_curriculum_version</th>\n",
       "      <th>auto_train_curriculum_schema_version</th>\n",
       "      <th>auto_train_stage</th>\n",
       "      <th>auto_train_stage_overridden</th>\n",
       "      <th>lickspout_position_x</th>\n",
       "      <th>lickspout_position_y</th>\n",
       "      <th>lickspout_position_z</th>\n",
       "      <th>reward_size_left</th>\n",
       "      <th>reward_size_right</th>\n",
       "    </tr>\n",
       "    <tr>\n",
       "      <th>id</th>\n",
       "      <th></th>\n",
       "      <th></th>\n",
       "      <th></th>\n",
       "      <th></th>\n",
       "      <th></th>\n",
       "      <th></th>\n",
       "      <th></th>\n",
       "      <th></th>\n",
       "      <th></th>\n",
       "      <th></th>\n",
       "      <th></th>\n",
       "      <th></th>\n",
       "      <th></th>\n",
       "      <th></th>\n",
       "      <th></th>\n",
       "      <th></th>\n",
       "      <th></th>\n",
       "      <th></th>\n",
       "      <th></th>\n",
       "      <th></th>\n",
       "      <th></th>\n",
       "      <th></th>\n",
       "      <th></th>\n",
       "      <th></th>\n",
       "      <th></th>\n",
       "      <th></th>\n",
       "      <th></th>\n",
       "      <th></th>\n",
       "      <th></th>\n",
       "      <th></th>\n",
       "      <th></th>\n",
       "      <th></th>\n",
       "      <th></th>\n",
       "      <th></th>\n",
       "      <th></th>\n",
       "      <th></th>\n",
       "      <th></th>\n",
       "      <th></th>\n",
       "      <th></th>\n",
       "      <th></th>\n",
       "      <th></th>\n",
       "      <th></th>\n",
       "      <th></th>\n",
       "      <th></th>\n",
       "      <th></th>\n",
       "      <th></th>\n",
       "      <th></th>\n",
       "      <th></th>\n",
       "      <th></th>\n",
       "      <th></th>\n",
       "      <th></th>\n",
       "      <th></th>\n",
       "      <th></th>\n",
       "      <th></th>\n",
       "      <th></th>\n",
       "      <th></th>\n",
       "      <th></th>\n",
       "      <th></th>\n",
       "      <th></th>\n",
       "    </tr>\n",
       "  </thead>\n",
       "  <tbody>\n",
       "    <tr>\n",
       "      <th>0</th>\n",
       "      <td>1.397235e+07</td>\n",
       "      <td>1.397235e+07</td>\n",
       "      <td>1.0</td>\n",
       "      <td>False</td>\n",
       "      <td>True</td>\n",
       "      <td>1.397235e+07</td>\n",
       "      <td>1.397235e+07</td>\n",
       "      <td>1.397235e+07</td>\n",
       "      <td>False</td>\n",
       "      <td>True</td>\n",
       "      <td>0.8</td>\n",
       "      <td>0.0</td>\n",
       "      <td>0.8</td>\n",
       "      <td>0.010383</td>\n",
       "      <td>0.511088</td>\n",
       "      <td>0.021</td>\n",
       "      <td>0.019</td>\n",
       "      <td>5.0</td>\n",
       "      <td>10.0</td>\n",
       "      <td>20.0</td>\n",
       "      <td>0.0</td>\n",
       "      <td>0.0</td>\n",
       "      <td>0.1</td>\n",
       "      <td>0.1</td>\n",
       "      <td>0.1</td>\n",
       "      <td>3.0</td>\n",
       "      <td>1.0</td>\n",
       "      <td>7.0</td>\n",
       "      <td>3.447869</td>\n",
       "      <td>5.0</td>\n",
       "      <td>1.0</td>\n",
       "      <td>0</td>\n",
       "      <td>0</td>\n",
       "      <td>0</td>\n",
       "      <td>0</td>\n",
       "      <td>0</td>\n",
       "      <td>0</td>\n",
       "      <td>0</td>\n",
       "      <td>0</td>\n",
       "      <td>0</td>\n",
       "      <td>0</td>\n",
       "      <td>0</td>\n",
       "      <td>0</td>\n",
       "      <td>0</td>\n",
       "      <td>0</td>\n",
       "      <td>0</td>\n",
       "      <td>0</td>\n",
       "      <td>0</td>\n",
       "      <td>True</td>\n",
       "      <td>Coupled Baiting</td>\n",
       "      <td>2.2</td>\n",
       "      <td>1.0</td>\n",
       "      <td>STAGE_1</td>\n",
       "      <td>True</td>\n",
       "      <td>9073.0</td>\n",
       "      <td>5981.5</td>\n",
       "      <td>3096.5</td>\n",
       "      <td>2.0</td>\n",
       "      <td>2.0</td>\n",
       "    </tr>\n",
       "    <tr>\n",
       "      <th>1</th>\n",
       "      <td>1.397235e+07</td>\n",
       "      <td>1.397236e+07</td>\n",
       "      <td>0.0</td>\n",
       "      <td>False</td>\n",
       "      <td>False</td>\n",
       "      <td>1.397236e+07</td>\n",
       "      <td>1.397236e+07</td>\n",
       "      <td>1.397236e+07</td>\n",
       "      <td>False</td>\n",
       "      <td>False</td>\n",
       "      <td>0.8</td>\n",
       "      <td>0.0</td>\n",
       "      <td>0.8</td>\n",
       "      <td>0.652389</td>\n",
       "      <td>0.961181</td>\n",
       "      <td>0.021</td>\n",
       "      <td>0.019</td>\n",
       "      <td>5.0</td>\n",
       "      <td>10.0</td>\n",
       "      <td>20.0</td>\n",
       "      <td>0.0</td>\n",
       "      <td>0.0</td>\n",
       "      <td>0.1</td>\n",
       "      <td>0.1</td>\n",
       "      <td>0.1</td>\n",
       "      <td>3.0</td>\n",
       "      <td>1.0</td>\n",
       "      <td>7.0</td>\n",
       "      <td>2.244803</td>\n",
       "      <td>5.0</td>\n",
       "      <td>1.0</td>\n",
       "      <td>0</td>\n",
       "      <td>0</td>\n",
       "      <td>0</td>\n",
       "      <td>0</td>\n",
       "      <td>0</td>\n",
       "      <td>0</td>\n",
       "      <td>0</td>\n",
       "      <td>0</td>\n",
       "      <td>0</td>\n",
       "      <td>0</td>\n",
       "      <td>0</td>\n",
       "      <td>0</td>\n",
       "      <td>0</td>\n",
       "      <td>0</td>\n",
       "      <td>0</td>\n",
       "      <td>0</td>\n",
       "      <td>0</td>\n",
       "      <td>True</td>\n",
       "      <td>Coupled Baiting</td>\n",
       "      <td>2.2</td>\n",
       "      <td>1.0</td>\n",
       "      <td>STAGE_1</td>\n",
       "      <td>True</td>\n",
       "      <td>9073.0</td>\n",
       "      <td>5981.0</td>\n",
       "      <td>3097.0</td>\n",
       "      <td>2.0</td>\n",
       "      <td>2.0</td>\n",
       "    </tr>\n",
       "    <tr>\n",
       "      <th>2</th>\n",
       "      <td>1.397236e+07</td>\n",
       "      <td>1.397237e+07</td>\n",
       "      <td>0.0</td>\n",
       "      <td>False</td>\n",
       "      <td>False</td>\n",
       "      <td>1.397236e+07</td>\n",
       "      <td>1.397236e+07</td>\n",
       "      <td>1.397237e+07</td>\n",
       "      <td>False</td>\n",
       "      <td>False</td>\n",
       "      <td>0.8</td>\n",
       "      <td>0.0</td>\n",
       "      <td>0.8</td>\n",
       "      <td>0.349353</td>\n",
       "      <td>0.896613</td>\n",
       "      <td>0.021</td>\n",
       "      <td>0.019</td>\n",
       "      <td>5.0</td>\n",
       "      <td>10.0</td>\n",
       "      <td>20.0</td>\n",
       "      <td>0.0</td>\n",
       "      <td>0.0</td>\n",
       "      <td>0.1</td>\n",
       "      <td>0.1</td>\n",
       "      <td>0.1</td>\n",
       "      <td>3.0</td>\n",
       "      <td>1.0</td>\n",
       "      <td>7.0</td>\n",
       "      <td>3.255656</td>\n",
       "      <td>5.0</td>\n",
       "      <td>1.0</td>\n",
       "      <td>0</td>\n",
       "      <td>0</td>\n",
       "      <td>0</td>\n",
       "      <td>0</td>\n",
       "      <td>0</td>\n",
       "      <td>0</td>\n",
       "      <td>0</td>\n",
       "      <td>0</td>\n",
       "      <td>0</td>\n",
       "      <td>0</td>\n",
       "      <td>0</td>\n",
       "      <td>0</td>\n",
       "      <td>0</td>\n",
       "      <td>0</td>\n",
       "      <td>0</td>\n",
       "      <td>0</td>\n",
       "      <td>0</td>\n",
       "      <td>True</td>\n",
       "      <td>Coupled Baiting</td>\n",
       "      <td>2.2</td>\n",
       "      <td>1.0</td>\n",
       "      <td>STAGE_1</td>\n",
       "      <td>True</td>\n",
       "      <td>9073.0</td>\n",
       "      <td>5981.5</td>\n",
       "      <td>3096.5</td>\n",
       "      <td>2.0</td>\n",
       "      <td>2.0</td>\n",
       "    </tr>\n",
       "    <tr>\n",
       "      <th>3</th>\n",
       "      <td>1.397237e+07</td>\n",
       "      <td>1.397238e+07</td>\n",
       "      <td>0.0</td>\n",
       "      <td>False</td>\n",
       "      <td>False</td>\n",
       "      <td>1.397237e+07</td>\n",
       "      <td>1.397237e+07</td>\n",
       "      <td>1.397238e+07</td>\n",
       "      <td>False</td>\n",
       "      <td>True</td>\n",
       "      <td>0.8</td>\n",
       "      <td>0.0</td>\n",
       "      <td>0.8</td>\n",
       "      <td>0.143479</td>\n",
       "      <td>0.239877</td>\n",
       "      <td>0.021</td>\n",
       "      <td>0.019</td>\n",
       "      <td>5.0</td>\n",
       "      <td>10.0</td>\n",
       "      <td>20.0</td>\n",
       "      <td>0.0</td>\n",
       "      <td>0.0</td>\n",
       "      <td>0.1</td>\n",
       "      <td>0.1</td>\n",
       "      <td>0.1</td>\n",
       "      <td>3.0</td>\n",
       "      <td>1.0</td>\n",
       "      <td>7.0</td>\n",
       "      <td>5.630439</td>\n",
       "      <td>5.0</td>\n",
       "      <td>1.0</td>\n",
       "      <td>0</td>\n",
       "      <td>0</td>\n",
       "      <td>0</td>\n",
       "      <td>0</td>\n",
       "      <td>0</td>\n",
       "      <td>0</td>\n",
       "      <td>0</td>\n",
       "      <td>0</td>\n",
       "      <td>0</td>\n",
       "      <td>0</td>\n",
       "      <td>0</td>\n",
       "      <td>0</td>\n",
       "      <td>0</td>\n",
       "      <td>0</td>\n",
       "      <td>0</td>\n",
       "      <td>0</td>\n",
       "      <td>0</td>\n",
       "      <td>True</td>\n",
       "      <td>Coupled Baiting</td>\n",
       "      <td>2.2</td>\n",
       "      <td>1.0</td>\n",
       "      <td>STAGE_1</td>\n",
       "      <td>True</td>\n",
       "      <td>9073.0</td>\n",
       "      <td>5981.5</td>\n",
       "      <td>3096.5</td>\n",
       "      <td>2.0</td>\n",
       "      <td>2.0</td>\n",
       "    </tr>\n",
       "  </tbody>\n",
       "</table><p>... and 647 more rows.</p></details></details></details><details><summary style=\"display: list-item; margin-left: 0px;\" class=\"container-fields field-key\" title=\".subject\"><b>subject</b></summary><div style=\"margin-left: 20px;\" class=\"container-fields\"><span class=\"field-key\" title=\".subject.age\">age: </span><span class=\"field-value\">P297 days, 9:14:58D</span></div><div style=\"margin-left: 20px;\" class=\"container-fields\"><span class=\"field-key\" title=\".subject.age__reference\">age__reference: </span><span class=\"field-value\">birth</span></div><div style=\"margin-left: 20px;\" class=\"container-fields\"><span class=\"field-key\" title=\".subject.genotype\">genotype: </span><span class=\"field-value\">Slc6a3-IRES-Cre_Bkmn/wt</span></div><div style=\"margin-left: 20px;\" class=\"container-fields\"><span class=\"field-key\" title=\".subject.sex\">sex: </span><span class=\"field-value\">F</span></div><div style=\"margin-left: 20px;\" class=\"container-fields\"><span class=\"field-key\" title=\".subject.species\">species: </span><span class=\"field-value\">Mus musculus</span></div><div style=\"margin-left: 20px;\" class=\"container-fields\"><span class=\"field-key\" title=\".subject.subject_id\">subject_id: </span><span class=\"field-value\">700708</span></div><details><summary style=\"display: list-item; margin-left: 20px;\" class=\"container-fields field-key\" title=\".subject.date_of_birth\"><b>date_of_birth</b></summary><span class=\"field-key\">2023-08-28 00:00:00-07:53</span></details></details><details><summary style=\"display: list-item; margin-left: 0px;\" class=\"container-fields field-key\" title=\".trials\"><b>trials</b></summary><div style=\"margin-left: 20px;\" class=\"container-fields\"><span class=\"field-key\" title=\".trials\">description: </span><span class=\"field-value\">experimental trials</span></div><details><summary style=\"display: list-item; margin-left: 20px;\" class=\"container-fields field-key\" title=\".trials\"><b>table</b></summary><table border=\"1\" class=\"dataframe\">\n",
       "  <thead>\n",
       "    <tr style=\"text-align: right;\">\n",
       "      <th></th>\n",
       "      <th>start_time</th>\n",
       "      <th>stop_time</th>\n",
       "      <th>animal_response</th>\n",
       "      <th>rewarded_historyL</th>\n",
       "      <th>rewarded_historyR</th>\n",
       "      <th>delay_start_time</th>\n",
       "      <th>goCue_start_time</th>\n",
       "      <th>reward_outcome_time</th>\n",
       "      <th>bait_left</th>\n",
       "      <th>bait_right</th>\n",
       "      <th>base_reward_probability_sum</th>\n",
       "      <th>reward_probabilityL</th>\n",
       "      <th>reward_probabilityR</th>\n",
       "      <th>reward_random_number_left</th>\n",
       "      <th>reward_random_number_right</th>\n",
       "      <th>left_valve_open_time</th>\n",
       "      <th>right_valve_open_time</th>\n",
       "      <th>block_beta</th>\n",
       "      <th>block_min</th>\n",
       "      <th>block_max</th>\n",
       "      <th>min_reward_each_block</th>\n",
       "      <th>delay_beta</th>\n",
       "      <th>delay_min</th>\n",
       "      <th>delay_max</th>\n",
       "      <th>delay_duration</th>\n",
       "      <th>ITI_beta</th>\n",
       "      <th>ITI_min</th>\n",
       "      <th>ITI_max</th>\n",
       "      <th>ITI_duration</th>\n",
       "      <th>response_duration</th>\n",
       "      <th>reward_consumption_duration</th>\n",
       "      <th>auto_waterL</th>\n",
       "      <th>auto_waterR</th>\n",
       "      <th>laser_on_trial</th>\n",
       "      <th>laser_wavelength</th>\n",
       "      <th>laser_location</th>\n",
       "      <th>laser_power</th>\n",
       "      <th>laser_duration</th>\n",
       "      <th>laser_condition</th>\n",
       "      <th>laser_condition_probability</th>\n",
       "      <th>laser_start</th>\n",
       "      <th>laser_start_offset</th>\n",
       "      <th>laser_end</th>\n",
       "      <th>laser_end_offset</th>\n",
       "      <th>laser_protocol</th>\n",
       "      <th>laser_frequency</th>\n",
       "      <th>laser_rampingdown</th>\n",
       "      <th>laser_pulse_duration</th>\n",
       "      <th>auto_train_engaged</th>\n",
       "      <th>auto_train_curriculum_name</th>\n",
       "      <th>auto_train_curriculum_version</th>\n",
       "      <th>auto_train_curriculum_schema_version</th>\n",
       "      <th>auto_train_stage</th>\n",
       "      <th>auto_train_stage_overridden</th>\n",
       "      <th>lickspout_position_x</th>\n",
       "      <th>lickspout_position_y</th>\n",
       "      <th>lickspout_position_z</th>\n",
       "      <th>reward_size_left</th>\n",
       "      <th>reward_size_right</th>\n",
       "    </tr>\n",
       "    <tr>\n",
       "      <th>id</th>\n",
       "      <th></th>\n",
       "      <th></th>\n",
       "      <th></th>\n",
       "      <th></th>\n",
       "      <th></th>\n",
       "      <th></th>\n",
       "      <th></th>\n",
       "      <th></th>\n",
       "      <th></th>\n",
       "      <th></th>\n",
       "      <th></th>\n",
       "      <th></th>\n",
       "      <th></th>\n",
       "      <th></th>\n",
       "      <th></th>\n",
       "      <th></th>\n",
       "      <th></th>\n",
       "      <th></th>\n",
       "      <th></th>\n",
       "      <th></th>\n",
       "      <th></th>\n",
       "      <th></th>\n",
       "      <th></th>\n",
       "      <th></th>\n",
       "      <th></th>\n",
       "      <th></th>\n",
       "      <th></th>\n",
       "      <th></th>\n",
       "      <th></th>\n",
       "      <th></th>\n",
       "      <th></th>\n",
       "      <th></th>\n",
       "      <th></th>\n",
       "      <th></th>\n",
       "      <th></th>\n",
       "      <th></th>\n",
       "      <th></th>\n",
       "      <th></th>\n",
       "      <th></th>\n",
       "      <th></th>\n",
       "      <th></th>\n",
       "      <th></th>\n",
       "      <th></th>\n",
       "      <th></th>\n",
       "      <th></th>\n",
       "      <th></th>\n",
       "      <th></th>\n",
       "      <th></th>\n",
       "      <th></th>\n",
       "      <th></th>\n",
       "      <th></th>\n",
       "      <th></th>\n",
       "      <th></th>\n",
       "      <th></th>\n",
       "      <th></th>\n",
       "      <th></th>\n",
       "      <th></th>\n",
       "      <th></th>\n",
       "      <th></th>\n",
       "    </tr>\n",
       "  </thead>\n",
       "  <tbody>\n",
       "    <tr>\n",
       "      <th>0</th>\n",
       "      <td>1.397235e+07</td>\n",
       "      <td>1.397235e+07</td>\n",
       "      <td>1.0</td>\n",
       "      <td>False</td>\n",
       "      <td>True</td>\n",
       "      <td>1.397235e+07</td>\n",
       "      <td>1.397235e+07</td>\n",
       "      <td>1.397235e+07</td>\n",
       "      <td>False</td>\n",
       "      <td>True</td>\n",
       "      <td>0.8</td>\n",
       "      <td>0.0</td>\n",
       "      <td>0.8</td>\n",
       "      <td>0.010383</td>\n",
       "      <td>0.511088</td>\n",
       "      <td>0.021</td>\n",
       "      <td>0.019</td>\n",
       "      <td>5.0</td>\n",
       "      <td>10.0</td>\n",
       "      <td>20.0</td>\n",
       "      <td>0.0</td>\n",
       "      <td>0.0</td>\n",
       "      <td>0.1</td>\n",
       "      <td>0.1</td>\n",
       "      <td>0.1</td>\n",
       "      <td>3.0</td>\n",
       "      <td>1.0</td>\n",
       "      <td>7.0</td>\n",
       "      <td>3.447869</td>\n",
       "      <td>5.0</td>\n",
       "      <td>1.0</td>\n",
       "      <td>0</td>\n",
       "      <td>0</td>\n",
       "      <td>0</td>\n",
       "      <td>0</td>\n",
       "      <td>0</td>\n",
       "      <td>0</td>\n",
       "      <td>0</td>\n",
       "      <td>0</td>\n",
       "      <td>0</td>\n",
       "      <td>0</td>\n",
       "      <td>0</td>\n",
       "      <td>0</td>\n",
       "      <td>0</td>\n",
       "      <td>0</td>\n",
       "      <td>0</td>\n",
       "      <td>0</td>\n",
       "      <td>0</td>\n",
       "      <td>True</td>\n",
       "      <td>Coupled Baiting</td>\n",
       "      <td>2.2</td>\n",
       "      <td>1.0</td>\n",
       "      <td>STAGE_1</td>\n",
       "      <td>True</td>\n",
       "      <td>9073.0</td>\n",
       "      <td>5981.5</td>\n",
       "      <td>3096.5</td>\n",
       "      <td>2.0</td>\n",
       "      <td>2.0</td>\n",
       "    </tr>\n",
       "    <tr>\n",
       "      <th>1</th>\n",
       "      <td>1.397235e+07</td>\n",
       "      <td>1.397236e+07</td>\n",
       "      <td>0.0</td>\n",
       "      <td>False</td>\n",
       "      <td>False</td>\n",
       "      <td>1.397236e+07</td>\n",
       "      <td>1.397236e+07</td>\n",
       "      <td>1.397236e+07</td>\n",
       "      <td>False</td>\n",
       "      <td>False</td>\n",
       "      <td>0.8</td>\n",
       "      <td>0.0</td>\n",
       "      <td>0.8</td>\n",
       "      <td>0.652389</td>\n",
       "      <td>0.961181</td>\n",
       "      <td>0.021</td>\n",
       "      <td>0.019</td>\n",
       "      <td>5.0</td>\n",
       "      <td>10.0</td>\n",
       "      <td>20.0</td>\n",
       "      <td>0.0</td>\n",
       "      <td>0.0</td>\n",
       "      <td>0.1</td>\n",
       "      <td>0.1</td>\n",
       "      <td>0.1</td>\n",
       "      <td>3.0</td>\n",
       "      <td>1.0</td>\n",
       "      <td>7.0</td>\n",
       "      <td>2.244803</td>\n",
       "      <td>5.0</td>\n",
       "      <td>1.0</td>\n",
       "      <td>0</td>\n",
       "      <td>0</td>\n",
       "      <td>0</td>\n",
       "      <td>0</td>\n",
       "      <td>0</td>\n",
       "      <td>0</td>\n",
       "      <td>0</td>\n",
       "      <td>0</td>\n",
       "      <td>0</td>\n",
       "      <td>0</td>\n",
       "      <td>0</td>\n",
       "      <td>0</td>\n",
       "      <td>0</td>\n",
       "      <td>0</td>\n",
       "      <td>0</td>\n",
       "      <td>0</td>\n",
       "      <td>0</td>\n",
       "      <td>True</td>\n",
       "      <td>Coupled Baiting</td>\n",
       "      <td>2.2</td>\n",
       "      <td>1.0</td>\n",
       "      <td>STAGE_1</td>\n",
       "      <td>True</td>\n",
       "      <td>9073.0</td>\n",
       "      <td>5981.0</td>\n",
       "      <td>3097.0</td>\n",
       "      <td>2.0</td>\n",
       "      <td>2.0</td>\n",
       "    </tr>\n",
       "    <tr>\n",
       "      <th>2</th>\n",
       "      <td>1.397236e+07</td>\n",
       "      <td>1.397237e+07</td>\n",
       "      <td>0.0</td>\n",
       "      <td>False</td>\n",
       "      <td>False</td>\n",
       "      <td>1.397236e+07</td>\n",
       "      <td>1.397236e+07</td>\n",
       "      <td>1.397237e+07</td>\n",
       "      <td>False</td>\n",
       "      <td>False</td>\n",
       "      <td>0.8</td>\n",
       "      <td>0.0</td>\n",
       "      <td>0.8</td>\n",
       "      <td>0.349353</td>\n",
       "      <td>0.896613</td>\n",
       "      <td>0.021</td>\n",
       "      <td>0.019</td>\n",
       "      <td>5.0</td>\n",
       "      <td>10.0</td>\n",
       "      <td>20.0</td>\n",
       "      <td>0.0</td>\n",
       "      <td>0.0</td>\n",
       "      <td>0.1</td>\n",
       "      <td>0.1</td>\n",
       "      <td>0.1</td>\n",
       "      <td>3.0</td>\n",
       "      <td>1.0</td>\n",
       "      <td>7.0</td>\n",
       "      <td>3.255656</td>\n",
       "      <td>5.0</td>\n",
       "      <td>1.0</td>\n",
       "      <td>0</td>\n",
       "      <td>0</td>\n",
       "      <td>0</td>\n",
       "      <td>0</td>\n",
       "      <td>0</td>\n",
       "      <td>0</td>\n",
       "      <td>0</td>\n",
       "      <td>0</td>\n",
       "      <td>0</td>\n",
       "      <td>0</td>\n",
       "      <td>0</td>\n",
       "      <td>0</td>\n",
       "      <td>0</td>\n",
       "      <td>0</td>\n",
       "      <td>0</td>\n",
       "      <td>0</td>\n",
       "      <td>0</td>\n",
       "      <td>True</td>\n",
       "      <td>Coupled Baiting</td>\n",
       "      <td>2.2</td>\n",
       "      <td>1.0</td>\n",
       "      <td>STAGE_1</td>\n",
       "      <td>True</td>\n",
       "      <td>9073.0</td>\n",
       "      <td>5981.5</td>\n",
       "      <td>3096.5</td>\n",
       "      <td>2.0</td>\n",
       "      <td>2.0</td>\n",
       "    </tr>\n",
       "    <tr>\n",
       "      <th>3</th>\n",
       "      <td>1.397237e+07</td>\n",
       "      <td>1.397238e+07</td>\n",
       "      <td>0.0</td>\n",
       "      <td>False</td>\n",
       "      <td>False</td>\n",
       "      <td>1.397237e+07</td>\n",
       "      <td>1.397237e+07</td>\n",
       "      <td>1.397238e+07</td>\n",
       "      <td>False</td>\n",
       "      <td>True</td>\n",
       "      <td>0.8</td>\n",
       "      <td>0.0</td>\n",
       "      <td>0.8</td>\n",
       "      <td>0.143479</td>\n",
       "      <td>0.239877</td>\n",
       "      <td>0.021</td>\n",
       "      <td>0.019</td>\n",
       "      <td>5.0</td>\n",
       "      <td>10.0</td>\n",
       "      <td>20.0</td>\n",
       "      <td>0.0</td>\n",
       "      <td>0.0</td>\n",
       "      <td>0.1</td>\n",
       "      <td>0.1</td>\n",
       "      <td>0.1</td>\n",
       "      <td>3.0</td>\n",
       "      <td>1.0</td>\n",
       "      <td>7.0</td>\n",
       "      <td>5.630439</td>\n",
       "      <td>5.0</td>\n",
       "      <td>1.0</td>\n",
       "      <td>0</td>\n",
       "      <td>0</td>\n",
       "      <td>0</td>\n",
       "      <td>0</td>\n",
       "      <td>0</td>\n",
       "      <td>0</td>\n",
       "      <td>0</td>\n",
       "      <td>0</td>\n",
       "      <td>0</td>\n",
       "      <td>0</td>\n",
       "      <td>0</td>\n",
       "      <td>0</td>\n",
       "      <td>0</td>\n",
       "      <td>0</td>\n",
       "      <td>0</td>\n",
       "      <td>0</td>\n",
       "      <td>0</td>\n",
       "      <td>True</td>\n",
       "      <td>Coupled Baiting</td>\n",
       "      <td>2.2</td>\n",
       "      <td>1.0</td>\n",
       "      <td>STAGE_1</td>\n",
       "      <td>True</td>\n",
       "      <td>9073.0</td>\n",
       "      <td>5981.5</td>\n",
       "      <td>3096.5</td>\n",
       "      <td>2.0</td>\n",
       "      <td>2.0</td>\n",
       "    </tr>\n",
       "  </tbody>\n",
       "</table><p>... and 647 more rows.</p></details></details><details><summary style=\"display: list-item; margin-left: 0px;\" class=\"container-fields field-key\" title=\".scratch\"><b>scratch</b></summary><details><summary style=\"display: list-item; margin-left: 20px;\" class=\"container-fields field-key\" title=\".scratch['metadata']\"><b>metadata</b></summary><div style=\"margin-left: 40px;\" class=\"container-fields\"><span class=\"field-key\" title=\".scratch['metadata']\">description: </span><span class=\"field-value\">Some important session-wise meta data</span></div><details><summary style=\"display: list-item; margin-left: 40px;\" class=\"container-fields field-key\" title=\".scratch['metadata']\"><b>table</b></summary><table border=\"1\" class=\"dataframe\">\n",
       "  <thead>\n",
       "    <tr style=\"text-align: right;\">\n",
       "      <th></th>\n",
       "      <th>box</th>\n",
       "      <th>session_end_time</th>\n",
       "      <th>session_run_time_in_min</th>\n",
       "      <th>water_in_session_foraging</th>\n",
       "      <th>water_in_session_manual</th>\n",
       "      <th>water_in_session_total</th>\n",
       "      <th>water_after_session</th>\n",
       "      <th>water_day_total</th>\n",
       "      <th>base_weight</th>\n",
       "      <th>target_weight</th>\n",
       "      <th>target_weight_ratio</th>\n",
       "      <th>weight_after</th>\n",
       "      <th>foraging_efficiency</th>\n",
       "      <th>foraging_efficiency_with_actual_random_seed</th>\n",
       "    </tr>\n",
       "    <tr>\n",
       "      <th>id</th>\n",
       "      <th></th>\n",
       "      <th></th>\n",
       "      <th></th>\n",
       "      <th></th>\n",
       "      <th></th>\n",
       "      <th></th>\n",
       "      <th></th>\n",
       "      <th></th>\n",
       "      <th></th>\n",
       "      <th></th>\n",
       "      <th></th>\n",
       "      <th></th>\n",
       "      <th></th>\n",
       "      <th></th>\n",
       "    </tr>\n",
       "  </thead>\n",
       "  <tbody>\n",
       "    <tr>\n",
       "      <th>0</th>\n",
       "      <td>447-1-D</td>\n",
       "      <td>2024-06-20 10:24:42.801805</td>\n",
       "      <td>81</td>\n",
       "      <td>0.657</td>\n",
       "      <td>-1.110223e-16</td>\n",
       "      <td>0.657</td>\n",
       "      <td>0.809</td>\n",
       "      <td>1.466</td>\n",
       "      <td>25.07</td>\n",
       "      <td>21.31</td>\n",
       "      <td>0.85</td>\n",
       "      <td>20.5</td>\n",
       "      <td>0.600998</td>\n",
       "      <td>0.610136</td>\n",
       "    </tr>\n",
       "  </tbody>\n",
       "</table></details></details></details><div style=\"margin-left: 0px;\" class=\"container-fields\"><span class=\"field-key\" title=\".session_id\">session_id: </span><span class=\"field-value\">behavior_700708_2024-06-20_09-14-58</span></div><div style=\"margin-left: 0px;\" class=\"container-fields\"><span class=\"field-key\" title=\".institution\">institution: </span><span class=\"field-value\">Allen Institute for Neural Dynamics</span></div></div>"
      ],
      "text/plain": [
       "root pynwb.file.NWBFile at 0x140463664960128\n",
       "Fields:\n",
       "  acquisition: {\n",
       "    FIP_falling_time <class 'pynwb.base.TimeSeries'>,\n",
       "    FIP_rising_time <class 'pynwb.base.TimeSeries'>,\n",
       "    G_1 <class 'pynwb.base.TimeSeries'>,\n",
       "    G_1_preprocessed <class 'pynwb.base.TimeSeries'>,\n",
       "    G_2 <class 'pynwb.base.TimeSeries'>,\n",
       "    G_2_preprocessed <class 'pynwb.base.TimeSeries'>,\n",
       "    Iso_1 <class 'pynwb.base.TimeSeries'>,\n",
       "    Iso_1_preprocessed <class 'pynwb.base.TimeSeries'>,\n",
       "    Iso_2 <class 'pynwb.base.TimeSeries'>,\n",
       "    Iso_2_preprocessed <class 'pynwb.base.TimeSeries'>,\n",
       "    R_1 <class 'pynwb.base.TimeSeries'>,\n",
       "    R_1_preprocessed <class 'pynwb.base.TimeSeries'>,\n",
       "    R_2 <class 'pynwb.base.TimeSeries'>,\n",
       "    R_2_preprocessed <class 'pynwb.base.TimeSeries'>,\n",
       "    left_lick_time <class 'pynwb.base.TimeSeries'>,\n",
       "    left_reward_delivery_time <class 'pynwb.base.TimeSeries'>,\n",
       "    optogenetics_time <class 'pynwb.base.TimeSeries'>,\n",
       "    right_lick_time <class 'pynwb.base.TimeSeries'>,\n",
       "    right_reward_delivery_time <class 'pynwb.base.TimeSeries'>\n",
       "  }\n",
       "  file_create_date: [datetime.datetime(2024, 6, 28, 23, 27, 33, 507307, tzinfo=tzutc())]\n",
       "  identifier: 8fca8377-d683-4f72-8c1c-4296ec5792ed\n",
       "  institution: Allen Institute for Neural Dynamics\n",
       "  intervals: {\n",
       "    trials <class 'pynwb.epoch.TimeIntervals'>\n",
       "  }\n",
       "  scratch: {\n",
       "    metadata <class 'hdmf.common.table.DynamicTable'>\n",
       "  }\n",
       "  session_description: Test File\n",
       "  session_id: behavior_700708_2024-06-20_09-14-58\n",
       "  session_start_time: 2024-06-20 09:14:58-07:53\n",
       "  subject: subject pynwb.file.Subject at 0x140463664961760\n",
       "Fields:\n",
       "  age: P297 days, 9:14:58D\n",
       "  age__reference: birth\n",
       "  date_of_birth: 2023-08-28 00:00:00-07:53\n",
       "  genotype: Slc6a3-IRES-Cre_Bkmn/wt\n",
       "  sex: F\n",
       "  species: Mus musculus\n",
       "  subject_id: 700708\n",
       "\n",
       "  timestamps_reference_time: 2024-06-20 09:14:58-07:53\n",
       "  trials: trials <class 'pynwb.epoch.TimeIntervals'>"
      ]
     },
     "execution_count": 6,
     "metadata": {},
     "output_type": "execute_result"
    }
   ],
   "source": [
    "nwb_fib"
   ]
  },
  {
   "cell_type": "code",
   "execution_count": 7,
   "metadata": {},
   "outputs": [
    {
     "data": {
      "text/html": [
       "<div>\n",
       "<style scoped>\n",
       "    .dataframe tbody tr th:only-of-type {\n",
       "        vertical-align: middle;\n",
       "    }\n",
       "\n",
       "    .dataframe tbody tr th {\n",
       "        vertical-align: top;\n",
       "    }\n",
       "\n",
       "    .dataframe thead th {\n",
       "        text-align: right;\n",
       "    }\n",
       "</style>\n",
       "<table border=\"1\" class=\"dataframe\">\n",
       "  <thead>\n",
       "    <tr style=\"text-align: right;\">\n",
       "      <th></th>\n",
       "      <th>timestamps</th>\n",
       "      <th>data</th>\n",
       "      <th>event</th>\n",
       "    </tr>\n",
       "  </thead>\n",
       "  <tbody>\n",
       "    <tr>\n",
       "      <th>0</th>\n",
       "      <td>-721.676768</td>\n",
       "      <td>1.000000</td>\n",
       "      <td>FIP_rising_time</td>\n",
       "    </tr>\n",
       "    <tr>\n",
       "      <th>1</th>\n",
       "      <td>-721.661408</td>\n",
       "      <td>1.000000</td>\n",
       "      <td>FIP_falling_time</td>\n",
       "    </tr>\n",
       "    <tr>\n",
       "      <th>2</th>\n",
       "      <td>-721.626752</td>\n",
       "      <td>1.000000</td>\n",
       "      <td>FIP_rising_time</td>\n",
       "    </tr>\n",
       "    <tr>\n",
       "      <th>3</th>\n",
       "      <td>-721.611392</td>\n",
       "      <td>1.000000</td>\n",
       "      <td>FIP_falling_time</td>\n",
       "    </tr>\n",
       "    <tr>\n",
       "      <th>4</th>\n",
       "      <td>-721.576768</td>\n",
       "      <td>1.000000</td>\n",
       "      <td>FIP_rising_time</td>\n",
       "    </tr>\n",
       "    <tr>\n",
       "      <th>...</th>\n",
       "      <td>...</td>\n",
       "      <td>...</td>\n",
       "      <td>...</td>\n",
       "    </tr>\n",
       "    <tr>\n",
       "      <th>697859</th>\n",
       "      <td>4349.438400</td>\n",
       "      <td>520.621762</td>\n",
       "      <td>Iso_1</td>\n",
       "    </tr>\n",
       "    <tr>\n",
       "      <th>697860</th>\n",
       "      <td>4349.537216</td>\n",
       "      <td>326.057013</td>\n",
       "      <td>Iso_2</td>\n",
       "    </tr>\n",
       "    <tr>\n",
       "      <th>697861</th>\n",
       "      <td>4349.537216</td>\n",
       "      <td>522.694301</td>\n",
       "      <td>Iso_1</td>\n",
       "    </tr>\n",
       "    <tr>\n",
       "      <th>697862</th>\n",
       "      <td>4349.539616</td>\n",
       "      <td>326.348917</td>\n",
       "      <td>Iso_2</td>\n",
       "    </tr>\n",
       "    <tr>\n",
       "      <th>697863</th>\n",
       "      <td>4349.539616</td>\n",
       "      <td>525.347150</td>\n",
       "      <td>Iso_1</td>\n",
       "    </tr>\n",
       "  </tbody>\n",
       "</table>\n",
       "<p>697864 rows × 3 columns</p>\n",
       "</div>"
      ],
      "text/plain": [
       "         timestamps        data             event\n",
       "0       -721.676768    1.000000   FIP_rising_time\n",
       "1       -721.661408    1.000000  FIP_falling_time\n",
       "2       -721.626752    1.000000   FIP_rising_time\n",
       "3       -721.611392    1.000000  FIP_falling_time\n",
       "4       -721.576768    1.000000   FIP_rising_time\n",
       "...             ...         ...               ...\n",
       "697859  4349.438400  520.621762             Iso_1\n",
       "697860  4349.537216  326.057013             Iso_2\n",
       "697861  4349.537216  522.694301             Iso_1\n",
       "697862  4349.539616  326.348917             Iso_2\n",
       "697863  4349.539616  525.347150             Iso_1\n",
       "\n",
       "[697864 rows x 3 columns]"
      ]
     },
     "execution_count": 7,
     "metadata": {},
     "output_type": "execute_result"
    }
   ],
   "source": [
    "fib_df = nwb_utils.create_fib_df(nwb_fib)\n",
    "fib_df"
   ]
  },
  {
   "cell_type": "markdown",
   "metadata": {},
   "source": [
    "##### behavior level analysis"
   ]
  },
  {
   "cell_type": "code",
   "execution_count": 21,
   "metadata": {},
   "outputs": [],
   "source": [
    "cachedir = '/root/capsule/scratch'\n",
    "memory = Memory(cachedir, verbose=0)\n",
    "\n",
    "@memory.cache\n",
    "def load_nwb_files(base_dir: str, ignore_dirs: Optional[List[str]] = None, process_data: bool = True, cachedir: str = '/root/capsule/scratch/') -> Union[dict, List]:\n",
    "    \"\"\" \n",
    "    Load NWB files from base directory from prior loading in OC capsule (behavior_** subdirecories)\n",
    "\n",
    "    Params: \n",
    "    base_dir (str): Base directory containing behavior sub folders and NWBs \n",
    "    ignore_dirs (List[str]) (optional: directories to ignore)\n",
    "    process_data (bool) (optional: True -> create lick, trial, events DataFrames for each NWB \n",
    "    cachedir (str): Cache directory to store CSV files \n",
    "\n",
    "    Returns: \n",
    "    Union[dict, List]: True -> Dictionary with NWB objects as values and paths as keys \n",
    "                       False -> List of paths to NWB files\n",
    "\n",
    "    \"\"\" \n",
    "\n",
    "    # Convert to path object\n",
    "    base_path = Path(base_dir)\n",
    "    cache_path = Path(cachedir)\n",
    "\n",
    "    cache_path.mkdir(parents=True, exist_ok = True)\n",
    "\n",
    "    # Find all directories with regex behavior_** \n",
    "    behavior_dirs = list(base_path.glob('behavior_*'))\n",
    "\n",
    "    if ignore_dirs:\n",
    "        behavior_dirs = [d for d in behavior_dirs if d.name not in ignore_dirs]\n",
    "\n",
    "    if not behavior_dirs:\n",
    "        raise ValueError(f'No behavior files found in {base_dir}')\n",
    "\n",
    "    # Find all NWB files in subdirectories \n",
    "    nwb_files = []\n",
    "    for behavior_dir in behavior_dirs:\n",
    "        nwb_path = behavior_dir / 'nwb'\n",
    "        if nwb_path.exists():\n",
    "            nwb_files.extend(list(nwb_path.glob('*.nwb')))\n",
    "\n",
    "    if not nwb_files:\n",
    "        raise ValueError(f'No .nwb files found in behavior folders')\n",
    "\n",
    "    if not process_data:\n",
    "        return [str(path) for path in nwb_files]\n",
    "\n",
    "    # Load / process each NWB file\n",
    "    processed_nwbs = {}\n",
    "    for nwb_file in nwb_files:\n",
    "        try:\n",
    "            # Load NWB file \n",
    "            nwb = nu.load_nwb_from_filename(str(nwb_file))\n",
    "\n",
    "            # Process DataFrames\n",
    "            nwb.df_trials = nu.create_df_trials(nwb)\n",
    "\n",
    "            # Extract filenames\n",
    "            filename = nwb_file.name\n",
    "            match = re.search(r'behavior_(\\d+)_(\\d{4}-\\d{2}-\\d{2})', filename)\n",
    "\n",
    "            if match:\n",
    "                subject_id, session_date = match.groups()\n",
    "\n",
    "                # Save trials to CSVs\n",
    "                csv_filename = f'{subject_id}_{session_date}_fip_trials.csv'\n",
    "                csv_path = cache_path / csv_filename\n",
    "                nwb.df_trials.to_csv(csv_path, index=False)\n",
    "\n",
    "            processed_nwbs[str(csv_filename)] = nwb.df_trials\n",
    "\n",
    "        except Exception as e:\n",
    "            print(f'Error processing {nwb_file}: {str(e)}')\n",
    "            continue\n",
    "\n",
    "    return processed_nwbs\n"
   ]
  },
  {
   "cell_type": "code",
   "execution_count": 22,
   "metadata": {},
   "outputs": [
    {
     "name": "stderr",
     "output_type": "stream",
     "text": [
      "/opt/conda/lib/python3.9/site-packages/aind_dynamic_foraging_data_utils/nwb_utils.py:457: UserWarning: Reward before choice time. This is likely due to manual rewards\n",
      "  warnings.warn(\"Reward before choice time. This is likely due to manual rewards\")\n"
     ]
    },
    {
     "name": "stdout",
     "output_type": "stream",
     "text": [
      "Timestamps are adjusted such that `_in_session` timestamps start at the first go cue\n",
      "Timestamps are adjusted such that `_in_session` timestamps start at the first go cue\n"
     ]
    },
    {
     "name": "stderr",
     "output_type": "stream",
     "text": [
      "/opt/conda/lib/python3.9/site-packages/aind_dynamic_foraging_data_utils/nwb_utils.py:457: UserWarning: Reward before choice time. This is likely due to manual rewards\n",
      "  warnings.warn(\"Reward before choice time. This is likely due to manual rewards\")\n"
     ]
    },
    {
     "name": "stdout",
     "output_type": "stream",
     "text": [
      "Timestamps are adjusted such that `_in_session` timestamps start at the first go cue\n"
     ]
    },
    {
     "name": "stderr",
     "output_type": "stream",
     "text": [
      "/opt/conda/lib/python3.9/site-packages/aind_dynamic_foraging_data_utils/nwb_utils.py:457: UserWarning: Reward before choice time. This is likely due to manual rewards\n",
      "  warnings.warn(\"Reward before choice time. This is likely due to manual rewards\")\n"
     ]
    },
    {
     "name": "stdout",
     "output_type": "stream",
     "text": [
      "Timestamps are adjusted such that `_in_session` timestamps start at the first go cue\n"
     ]
    },
    {
     "name": "stderr",
     "output_type": "stream",
     "text": [
      "/opt/conda/lib/python3.9/site-packages/aind_dynamic_foraging_data_utils/nwb_utils.py:457: UserWarning: Reward before choice time. This is likely due to manual rewards\n",
      "  warnings.warn(\"Reward before choice time. This is likely due to manual rewards\")\n",
      "/opt/conda/lib/python3.9/site-packages/hdmf/spec/namespace.py:535: UserWarning: Ignoring cached namespace 'core' version 2.7.0 because version 2.6.0-alpha is already loaded.\n",
      "  warn(\"Ignoring cached namespace '%s' version %s because version %s is already loaded.\"\n"
     ]
    },
    {
     "name": "stdout",
     "output_type": "stream",
     "text": [
      "Timestamps are adjusted such that `_in_session` timestamps start at the first go cue\n"
     ]
    },
    {
     "name": "stderr",
     "output_type": "stream",
     "text": [
      "/opt/conda/lib/python3.9/site-packages/aind_dynamic_foraging_data_utils/nwb_utils.py:457: UserWarning: Reward before choice time. This is likely due to manual rewards\n",
      "  warnings.warn(\"Reward before choice time. This is likely due to manual rewards\")\n",
      "/opt/conda/lib/python3.9/site-packages/hdmf/spec/namespace.py:535: UserWarning: Ignoring cached namespace 'core' version 2.7.0 because version 2.6.0-alpha is already loaded.\n",
      "  warn(\"Ignoring cached namespace '%s' version %s because version %s is already loaded.\"\n"
     ]
    },
    {
     "name": "stdout",
     "output_type": "stream",
     "text": [
      "Timestamps are adjusted such that `_in_session` timestamps start at the first go cue\n",
      "Error processing /root/capsule/data/behavior_726649_2024-09-16_13-24-32_processed_2024-10-02_05-10-14/nwb/behavior_726649_2024-09-16_13-24-32.nwb: Rewarded trials without choice time\n"
     ]
    },
    {
     "name": "stderr",
     "output_type": "stream",
     "text": [
      "/opt/conda/lib/python3.9/site-packages/aind_dynamic_foraging_data_utils/nwb_utils.py:457: UserWarning: Reward before choice time. This is likely due to manual rewards\n",
      "  warnings.warn(\"Reward before choice time. This is likely due to manual rewards\")\n"
     ]
    },
    {
     "name": "stdout",
     "output_type": "stream",
     "text": [
      "Timestamps are adjusted such that `_in_session` timestamps start at the first go cue\n"
     ]
    },
    {
     "name": "stderr",
     "output_type": "stream",
     "text": [
      "/opt/conda/lib/python3.9/site-packages/aind_dynamic_foraging_data_utils/nwb_utils.py:457: UserWarning: Reward before choice time. This is likely due to manual rewards\n",
      "  warnings.warn(\"Reward before choice time. This is likely due to manual rewards\")\n"
     ]
    },
    {
     "name": "stdout",
     "output_type": "stream",
     "text": [
      "Timestamps are adjusted such that `_in_session` timestamps start at the first go cue\n",
      "Error processing /root/capsule/data/behavior_744331_2024-10-01_16-34-25_processed_2024-10-03_19-31-17/nwb/behavior_744331_2024-10-01_16-34-25.nwb: Rewarded trials without choice time\n",
      "Timestamps are adjusted such that `_in_session` timestamps start at the first go cue\n",
      "Timestamps are adjusted such that `_in_session` timestamps start at the first go cue\n"
     ]
    },
    {
     "name": "stderr",
     "output_type": "stream",
     "text": [
      "/opt/conda/lib/python3.9/site-packages/aind_dynamic_foraging_data_utils/nwb_utils.py:457: UserWarning: Reward before choice time. This is likely due to manual rewards\n",
      "  warnings.warn(\"Reward before choice time. This is likely due to manual rewards\")\n"
     ]
    },
    {
     "name": "stdout",
     "output_type": "stream",
     "text": [
      "Timestamps are adjusted such that `_in_session` timestamps start at the first go cue\n"
     ]
    },
    {
     "name": "stderr",
     "output_type": "stream",
     "text": [
      "/opt/conda/lib/python3.9/site-packages/aind_dynamic_foraging_data_utils/nwb_utils.py:457: UserWarning: Reward before choice time. This is likely due to manual rewards\n",
      "  warnings.warn(\"Reward before choice time. This is likely due to manual rewards\")\n",
      "/opt/conda/lib/python3.9/site-packages/hdmf/spec/namespace.py:535: UserWarning: Ignoring cached namespace 'core' version 2.7.0 because version 2.6.0-alpha is already loaded.\n",
      "  warn(\"Ignoring cached namespace '%s' version %s because version %s is already loaded.\"\n"
     ]
    },
    {
     "name": "stdout",
     "output_type": "stream",
     "text": [
      "Timestamps are adjusted such that `_in_session` timestamps start at the first go cue\n",
      "Timestamps are adjusted such that `_in_session` timestamps start at the first go cue\n"
     ]
    },
    {
     "name": "stderr",
     "output_type": "stream",
     "text": [
      "/opt/conda/lib/python3.9/site-packages/aind_dynamic_foraging_data_utils/nwb_utils.py:457: UserWarning: Reward before choice time. This is likely due to manual rewards\n",
      "  warnings.warn(\"Reward before choice time. This is likely due to manual rewards\")\n"
     ]
    },
    {
     "name": "stdout",
     "output_type": "stream",
     "text": [
      "Timestamps are adjusted such that `_in_session` timestamps start at the first go cue\n",
      "Timestamps are adjusted such that `_in_session` timestamps start at the first go cue\n"
     ]
    },
    {
     "name": "stderr",
     "output_type": "stream",
     "text": [
      "/opt/conda/lib/python3.9/site-packages/aind_dynamic_foraging_data_utils/nwb_utils.py:457: UserWarning: Reward before choice time. This is likely due to manual rewards\n",
      "  warnings.warn(\"Reward before choice time. This is likely due to manual rewards\")\n",
      "/opt/conda/lib/python3.9/site-packages/hdmf/spec/namespace.py:535: UserWarning: Ignoring cached namespace 'core' version 2.7.0 because version 2.6.0-alpha is already loaded.\n",
      "  warn(\"Ignoring cached namespace '%s' version %s because version %s is already loaded.\"\n"
     ]
    },
    {
     "name": "stdout",
     "output_type": "stream",
     "text": [
      "Timestamps are adjusted such that `_in_session` timestamps start at the first go cue\n",
      "Error processing /root/capsule/data/behavior_726441_2024-09-20_08-44-25_processed_2024-09-25_05-22-26/nwb/behavior_726441_2024-09-20_08-44-25.nwb: Rewarded trials without choice time\n"
     ]
    },
    {
     "name": "stderr",
     "output_type": "stream",
     "text": [
      "/opt/conda/lib/python3.9/site-packages/hdmf/spec/namespace.py:535: UserWarning: Ignoring cached namespace 'core' version 2.7.0 because version 2.6.0-alpha is already loaded.\n",
      "  warn(\"Ignoring cached namespace '%s' version %s because version %s is already loaded.\"\n",
      "/opt/conda/lib/python3.9/site-packages/aind_dynamic_foraging_data_utils/nwb_utils.py:457: UserWarning: Reward before choice time. This is likely due to manual rewards\n",
      "  warnings.warn(\"Reward before choice time. This is likely due to manual rewards\")\n"
     ]
    },
    {
     "name": "stdout",
     "output_type": "stream",
     "text": [
      "Timestamps are adjusted such that `_in_session` timestamps start at the first go cue\n",
      "Timestamps are adjusted such that `_in_session` timestamps start at the first go cue\n"
     ]
    },
    {
     "name": "stderr",
     "output_type": "stream",
     "text": [
      "/opt/conda/lib/python3.9/site-packages/aind_dynamic_foraging_data_utils/nwb_utils.py:457: UserWarning: Reward before choice time. This is likely due to manual rewards\n",
      "  warnings.warn(\"Reward before choice time. This is likely due to manual rewards\")\n"
     ]
    },
    {
     "name": "stdout",
     "output_type": "stream",
     "text": [
      "Timestamps are adjusted such that `_in_session` timestamps start at the first go cue\n"
     ]
    },
    {
     "name": "stderr",
     "output_type": "stream",
     "text": [
      "/opt/conda/lib/python3.9/site-packages/aind_dynamic_foraging_data_utils/nwb_utils.py:457: UserWarning: Reward before choice time. This is likely due to manual rewards\n",
      "  warnings.warn(\"Reward before choice time. This is likely due to manual rewards\")\n",
      "/opt/conda/lib/python3.9/site-packages/hdmf/spec/namespace.py:535: UserWarning: Ignoring cached namespace 'core' version 2.7.0 because version 2.6.0-alpha is already loaded.\n",
      "  warn(\"Ignoring cached namespace '%s' version %s because version %s is already loaded.\"\n"
     ]
    },
    {
     "name": "stdout",
     "output_type": "stream",
     "text": [
      "Timestamps are adjusted such that `_in_session` timestamps start at the first go cue\n"
     ]
    },
    {
     "name": "stderr",
     "output_type": "stream",
     "text": [
      "/opt/conda/lib/python3.9/site-packages/aind_dynamic_foraging_data_utils/nwb_utils.py:457: UserWarning: Reward before choice time. This is likely due to manual rewards\n",
      "  warnings.warn(\"Reward before choice time. This is likely due to manual rewards\")\n"
     ]
    },
    {
     "name": "stdout",
     "output_type": "stream",
     "text": [
      "Timestamps are adjusted such that `_in_session` timestamps start at the first go cue\n"
     ]
    },
    {
     "name": "stderr",
     "output_type": "stream",
     "text": [
      "/opt/conda/lib/python3.9/site-packages/aind_dynamic_foraging_data_utils/nwb_utils.py:457: UserWarning: Reward before choice time. This is likely due to manual rewards\n",
      "  warnings.warn(\"Reward before choice time. This is likely due to manual rewards\")\n",
      "/opt/conda/lib/python3.9/site-packages/hdmf/spec/namespace.py:535: UserWarning: Ignoring cached namespace 'core' version 2.7.0 because version 2.6.0-alpha is already loaded.\n",
      "  warn(\"Ignoring cached namespace '%s' version %s because version %s is already loaded.\"\n"
     ]
    },
    {
     "name": "stdout",
     "output_type": "stream",
     "text": [
      "Timestamps are adjusted such that `_in_session` timestamps start at the first go cue\n",
      "Timestamps are adjusted such that `_in_session` timestamps start at the first go cue\n"
     ]
    },
    {
     "name": "stderr",
     "output_type": "stream",
     "text": [
      "/opt/conda/lib/python3.9/site-packages/hdmf/spec/namespace.py:535: UserWarning: Ignoring cached namespace 'core' version 2.7.0 because version 2.6.0-alpha is already loaded.\n",
      "  warn(\"Ignoring cached namespace '%s' version %s because version %s is already loaded.\"\n"
     ]
    },
    {
     "name": "stdout",
     "output_type": "stream",
     "text": [
      "Timestamps are adjusted such that `_in_session` timestamps start at the first go cue\n"
     ]
    },
    {
     "name": "stderr",
     "output_type": "stream",
     "text": [
      "/opt/conda/lib/python3.9/site-packages/hdmf/spec/namespace.py:535: UserWarning: Ignoring cached namespace 'core' version 2.7.0 because version 2.6.0-alpha is already loaded.\n",
      "  warn(\"Ignoring cached namespace '%s' version %s because version %s is already loaded.\"\n",
      "/opt/conda/lib/python3.9/site-packages/aind_dynamic_foraging_data_utils/nwb_utils.py:457: UserWarning: Reward before choice time. This is likely due to manual rewards\n",
      "  warnings.warn(\"Reward before choice time. This is likely due to manual rewards\")\n"
     ]
    },
    {
     "name": "stdout",
     "output_type": "stream",
     "text": [
      "Timestamps are adjusted such that `_in_session` timestamps start at the first go cue\n",
      "Timestamps are adjusted such that `_in_session` timestamps start at the first go cue\n"
     ]
    },
    {
     "name": "stderr",
     "output_type": "stream",
     "text": [
      "/opt/conda/lib/python3.9/site-packages/hdmf/spec/namespace.py:535: UserWarning: Ignoring cached namespace 'core' version 2.7.0 because version 2.6.0-alpha is already loaded.\n",
      "  warn(\"Ignoring cached namespace '%s' version %s because version %s is already loaded.\"\n"
     ]
    },
    {
     "name": "stdout",
     "output_type": "stream",
     "text": [
      "Timestamps are adjusted such that `_in_session` timestamps start at the first go cue\n",
      "Timestamps are adjusted such that `_in_session` timestamps start at the first go cue\n"
     ]
    },
    {
     "name": "stderr",
     "output_type": "stream",
     "text": [
      "/opt/conda/lib/python3.9/site-packages/hdmf/spec/namespace.py:535: UserWarning: Ignoring cached namespace 'core' version 2.7.0 because version 2.6.0-alpha is already loaded.\n",
      "  warn(\"Ignoring cached namespace '%s' version %s because version %s is already loaded.\"\n"
     ]
    },
    {
     "name": "stdout",
     "output_type": "stream",
     "text": [
      "Timestamps are adjusted such that `_in_session` timestamps start at the first go cue\n",
      "Timestamps are adjusted such that `_in_session` timestamps start at the first go cue\n"
     ]
    },
    {
     "name": "stderr",
     "output_type": "stream",
     "text": [
      "/opt/conda/lib/python3.9/site-packages/aind_dynamic_foraging_data_utils/nwb_utils.py:457: UserWarning: Reward before choice time. This is likely due to manual rewards\n",
      "  warnings.warn(\"Reward before choice time. This is likely due to manual rewards\")\n"
     ]
    },
    {
     "name": "stdout",
     "output_type": "stream",
     "text": [
      "Timestamps are adjusted such that `_in_session` timestamps start at the first go cue\n"
     ]
    },
    {
     "name": "stderr",
     "output_type": "stream",
     "text": [
      "/opt/conda/lib/python3.9/site-packages/aind_dynamic_foraging_data_utils/nwb_utils.py:457: UserWarning: Reward before choice time. This is likely due to manual rewards\n",
      "  warnings.warn(\"Reward before choice time. This is likely due to manual rewards\")\n"
     ]
    },
    {
     "name": "stdout",
     "output_type": "stream",
     "text": [
      "Timestamps are adjusted such that `_in_session` timestamps start at the first go cue\n",
      "Timestamps are adjusted such that `_in_session` timestamps start at the first go cue\n",
      "Timestamps are adjusted such that `_in_session` timestamps start at the first go cue\n"
     ]
    },
    {
     "name": "stderr",
     "output_type": "stream",
     "text": [
      "/opt/conda/lib/python3.9/site-packages/hdmf/spec/namespace.py:535: UserWarning: Ignoring cached namespace 'core' version 2.7.0 because version 2.6.0-alpha is already loaded.\n",
      "  warn(\"Ignoring cached namespace '%s' version %s because version %s is already loaded.\"\n",
      "/opt/conda/lib/python3.9/site-packages/aind_dynamic_foraging_data_utils/nwb_utils.py:457: UserWarning: Reward before choice time. This is likely due to manual rewards\n",
      "  warnings.warn(\"Reward before choice time. This is likely due to manual rewards\")\n"
     ]
    },
    {
     "name": "stdout",
     "output_type": "stream",
     "text": [
      "Timestamps are adjusted such that `_in_session` timestamps start at the first go cue\n"
     ]
    },
    {
     "name": "stderr",
     "output_type": "stream",
     "text": [
      "/opt/conda/lib/python3.9/site-packages/aind_dynamic_foraging_data_utils/nwb_utils.py:457: UserWarning: Reward before choice time. This is likely due to manual rewards\n",
      "  warnings.warn(\"Reward before choice time. This is likely due to manual rewards\")\n"
     ]
    },
    {
     "name": "stdout",
     "output_type": "stream",
     "text": [
      "Timestamps are adjusted such that `_in_session` timestamps start at the first go cue\n",
      "Timestamps are adjusted such that `_in_session` timestamps start at the first go cue\n"
     ]
    },
    {
     "name": "stderr",
     "output_type": "stream",
     "text": [
      "/opt/conda/lib/python3.9/site-packages/aind_dynamic_foraging_data_utils/nwb_utils.py:457: UserWarning: Reward before choice time. This is likely due to manual rewards\n",
      "  warnings.warn(\"Reward before choice time. This is likely due to manual rewards\")\n",
      "/opt/conda/lib/python3.9/site-packages/hdmf/spec/namespace.py:535: UserWarning: Ignoring cached namespace 'core' version 2.7.0 because version 2.6.0-alpha is already loaded.\n",
      "  warn(\"Ignoring cached namespace '%s' version %s because version %s is already loaded.\"\n"
     ]
    },
    {
     "name": "stdout",
     "output_type": "stream",
     "text": [
      "Timestamps are adjusted such that `_in_session` timestamps start at the first go cue\n"
     ]
    },
    {
     "name": "stderr",
     "output_type": "stream",
     "text": [
      "/opt/conda/lib/python3.9/site-packages/aind_dynamic_foraging_data_utils/nwb_utils.py:457: UserWarning: Reward before choice time. This is likely due to manual rewards\n",
      "  warnings.warn(\"Reward before choice time. This is likely due to manual rewards\")\n"
     ]
    },
    {
     "name": "stdout",
     "output_type": "stream",
     "text": [
      "Timestamps are adjusted such that `_in_session` timestamps start at the first go cue\n"
     ]
    },
    {
     "name": "stderr",
     "output_type": "stream",
     "text": [
      "/opt/conda/lib/python3.9/site-packages/hdmf/spec/namespace.py:535: UserWarning: Ignoring cached namespace 'core' version 2.7.0 because version 2.6.0-alpha is already loaded.\n",
      "  warn(\"Ignoring cached namespace '%s' version %s because version %s is already loaded.\"\n",
      "/opt/conda/lib/python3.9/site-packages/aind_dynamic_foraging_data_utils/nwb_utils.py:457: UserWarning: Reward before choice time. This is likely due to manual rewards\n",
      "  warnings.warn(\"Reward before choice time. This is likely due to manual rewards\")\n",
      "/opt/conda/lib/python3.9/site-packages/hdmf/spec/namespace.py:535: UserWarning: Ignoring cached namespace 'core' version 2.7.0 because version 2.6.0-alpha is already loaded.\n",
      "  warn(\"Ignoring cached namespace '%s' version %s because version %s is already loaded.\"\n"
     ]
    },
    {
     "name": "stdout",
     "output_type": "stream",
     "text": [
      "Timestamps are adjusted such that `_in_session` timestamps start at the first go cue\n"
     ]
    },
    {
     "name": "stderr",
     "output_type": "stream",
     "text": [
      "/opt/conda/lib/python3.9/site-packages/aind_dynamic_foraging_data_utils/nwb_utils.py:457: UserWarning: Reward before choice time. This is likely due to manual rewards\n",
      "  warnings.warn(\"Reward before choice time. This is likely due to manual rewards\")\n"
     ]
    },
    {
     "name": "stdout",
     "output_type": "stream",
     "text": [
      "Timestamps are adjusted such that `_in_session` timestamps start at the first go cue\n"
     ]
    },
    {
     "name": "stderr",
     "output_type": "stream",
     "text": [
      "/opt/conda/lib/python3.9/site-packages/aind_dynamic_foraging_data_utils/nwb_utils.py:457: UserWarning: Reward before choice time. This is likely due to manual rewards\n",
      "  warnings.warn(\"Reward before choice time. This is likely due to manual rewards\")\n"
     ]
    },
    {
     "name": "stdout",
     "output_type": "stream",
     "text": [
      "Timestamps are adjusted such that `_in_session` timestamps start at the first go cue\n"
     ]
    },
    {
     "name": "stderr",
     "output_type": "stream",
     "text": [
      "/opt/conda/lib/python3.9/site-packages/aind_dynamic_foraging_data_utils/nwb_utils.py:457: UserWarning: Reward before choice time. This is likely due to manual rewards\n",
      "  warnings.warn(\"Reward before choice time. This is likely due to manual rewards\")\n"
     ]
    },
    {
     "name": "stdout",
     "output_type": "stream",
     "text": [
      "Timestamps are adjusted such that `_in_session` timestamps start at the first go cue\n",
      "Timestamps are adjusted such that `_in_session` timestamps start at the first go cue\n"
     ]
    },
    {
     "name": "stderr",
     "output_type": "stream",
     "text": [
      "/opt/conda/lib/python3.9/site-packages/hdmf/spec/namespace.py:535: UserWarning: Ignoring cached namespace 'core' version 2.7.0 because version 2.6.0-alpha is already loaded.\n",
      "  warn(\"Ignoring cached namespace '%s' version %s because version %s is already loaded.\"\n"
     ]
    },
    {
     "name": "stdout",
     "output_type": "stream",
     "text": [
      "Error processing /root/capsule/data/behavior_724910_2024-09-10_09-44-00_processed_2024-09-13_01-32-52/nwb/behavior_724910_2024-09-10_09-44-00.nwb: Rewarded trials without choice time\n"
     ]
    },
    {
     "name": "stderr",
     "output_type": "stream",
     "text": [
      "/opt/conda/lib/python3.9/site-packages/aind_dynamic_foraging_data_utils/nwb_utils.py:457: UserWarning: Reward before choice time. This is likely due to manual rewards\n",
      "  warnings.warn(\"Reward before choice time. This is likely due to manual rewards\")\n"
     ]
    },
    {
     "name": "stdout",
     "output_type": "stream",
     "text": [
      "Timestamps are adjusted such that `_in_session` timestamps start at the first go cue\n"
     ]
    },
    {
     "name": "stderr",
     "output_type": "stream",
     "text": [
      "/opt/conda/lib/python3.9/site-packages/aind_dynamic_foraging_data_utils/nwb_utils.py:457: UserWarning: Reward before choice time. This is likely due to manual rewards\n",
      "  warnings.warn(\"Reward before choice time. This is likely due to manual rewards\")\n"
     ]
    },
    {
     "name": "stdout",
     "output_type": "stream",
     "text": [
      "Timestamps are adjusted such that `_in_session` timestamps start at the first go cue\n",
      "Timestamps are adjusted such that `_in_session` timestamps start at the first go cue\n"
     ]
    },
    {
     "name": "stderr",
     "output_type": "stream",
     "text": [
      "/opt/conda/lib/python3.9/site-packages/aind_dynamic_foraging_data_utils/nwb_utils.py:457: UserWarning: Reward before choice time. This is likely due to manual rewards\n",
      "  warnings.warn(\"Reward before choice time. This is likely due to manual rewards\")\n"
     ]
    },
    {
     "name": "stdout",
     "output_type": "stream",
     "text": [
      "Timestamps are adjusted such that `_in_session` timestamps start at the first go cue\n",
      "Timestamps are adjusted such that `_in_session` timestamps start at the first go cue\n",
      "Timestamps are adjusted such that `_in_session` timestamps start at the first go cue\n"
     ]
    },
    {
     "name": "stderr",
     "output_type": "stream",
     "text": [
      "/opt/conda/lib/python3.9/site-packages/hdmf/spec/namespace.py:535: UserWarning: Ignoring cached namespace 'core' version 2.7.0 because version 2.6.0-alpha is already loaded.\n",
      "  warn(\"Ignoring cached namespace '%s' version %s because version %s is already loaded.\"\n",
      "/opt/conda/lib/python3.9/site-packages/aind_dynamic_foraging_data_utils/nwb_utils.py:457: UserWarning: Reward before choice time. This is likely due to manual rewards\n",
      "  warnings.warn(\"Reward before choice time. This is likely due to manual rewards\")\n",
      "/opt/conda/lib/python3.9/site-packages/hdmf/spec/namespace.py:535: UserWarning: Ignoring cached namespace 'core' version 2.7.0 because version 2.6.0-alpha is already loaded.\n",
      "  warn(\"Ignoring cached namespace '%s' version %s because version %s is already loaded.\"\n"
     ]
    },
    {
     "name": "stdout",
     "output_type": "stream",
     "text": [
      "Timestamps are adjusted such that `_in_session` timestamps start at the first go cue\n"
     ]
    },
    {
     "name": "stderr",
     "output_type": "stream",
     "text": [
      "/opt/conda/lib/python3.9/site-packages/aind_dynamic_foraging_data_utils/nwb_utils.py:457: UserWarning: Reward before choice time. This is likely due to manual rewards\n",
      "  warnings.warn(\"Reward before choice time. This is likely due to manual rewards\")\n",
      "/opt/conda/lib/python3.9/site-packages/hdmf/spec/namespace.py:535: UserWarning: Ignoring cached namespace 'core' version 2.7.0 because version 2.6.0-alpha is already loaded.\n",
      "  warn(\"Ignoring cached namespace '%s' version %s because version %s is already loaded.\"\n"
     ]
    },
    {
     "name": "stdout",
     "output_type": "stream",
     "text": [
      "Timestamps are adjusted such that `_in_session` timestamps start at the first go cue\n"
     ]
    },
    {
     "name": "stderr",
     "output_type": "stream",
     "text": [
      "/opt/conda/lib/python3.9/site-packages/aind_dynamic_foraging_data_utils/nwb_utils.py:457: UserWarning: Reward before choice time. This is likely due to manual rewards\n",
      "  warnings.warn(\"Reward before choice time. This is likely due to manual rewards\")\n",
      "/opt/conda/lib/python3.9/site-packages/hdmf/spec/namespace.py:535: UserWarning: Ignoring cached namespace 'core' version 2.7.0 because version 2.6.0-alpha is already loaded.\n",
      "  warn(\"Ignoring cached namespace '%s' version %s because version %s is already loaded.\"\n"
     ]
    },
    {
     "name": "stdout",
     "output_type": "stream",
     "text": [
      "Timestamps are adjusted such that `_in_session` timestamps start at the first go cue\n",
      "Error processing /root/capsule/data/behavior_726649_2024-09-18_13-33-59_processed_2024-10-02_05-14-50/nwb/behavior_726649_2024-09-18_13-33-59.nwb: Rewarded trials without choice time\n",
      "Timestamps are adjusted such that `_in_session` timestamps start at the first go cue\n",
      "Timestamps are adjusted such that `_in_session` timestamps start at the first go cue\n",
      "Timestamps are adjusted such that `_in_session` timestamps start at the first go cue\n",
      "Timestamps are adjusted such that `_in_session` timestamps start at the first go cue\n"
     ]
    },
    {
     "name": "stderr",
     "output_type": "stream",
     "text": [
      "/opt/conda/lib/python3.9/site-packages/hdmf/spec/namespace.py:535: UserWarning: Ignoring cached namespace 'core' version 2.7.0 because version 2.6.0-alpha is already loaded.\n",
      "  warn(\"Ignoring cached namespace '%s' version %s because version %s is already loaded.\"\n"
     ]
    },
    {
     "name": "stdout",
     "output_type": "stream",
     "text": [
      "Timestamps are adjusted such that `_in_session` timestamps start at the first go cue\n"
     ]
    },
    {
     "name": "stderr",
     "output_type": "stream",
     "text": [
      "/opt/conda/lib/python3.9/site-packages/aind_dynamic_foraging_data_utils/nwb_utils.py:457: UserWarning: Reward before choice time. This is likely due to manual rewards\n",
      "  warnings.warn(\"Reward before choice time. This is likely due to manual rewards\")\n"
     ]
    },
    {
     "name": "stdout",
     "output_type": "stream",
     "text": [
      "Timestamps are adjusted such that `_in_session` timestamps start at the first go cue\n",
      "Timestamps are adjusted such that `_in_session` timestamps start at the first go cue\n",
      "Timestamps are adjusted such that `_in_session` timestamps start at the first go cue\n"
     ]
    },
    {
     "name": "stderr",
     "output_type": "stream",
     "text": [
      "/opt/conda/lib/python3.9/site-packages/hdmf/spec/namespace.py:535: UserWarning: Ignoring cached namespace 'core' version 2.7.0 because version 2.6.0-alpha is already loaded.\n",
      "  warn(\"Ignoring cached namespace '%s' version %s because version %s is already loaded.\"\n",
      "/opt/conda/lib/python3.9/site-packages/aind_dynamic_foraging_data_utils/nwb_utils.py:457: UserWarning: Reward before choice time. This is likely due to manual rewards\n",
      "  warnings.warn(\"Reward before choice time. This is likely due to manual rewards\")\n"
     ]
    },
    {
     "name": "stdout",
     "output_type": "stream",
     "text": [
      "Timestamps are adjusted such that `_in_session` timestamps start at the first go cue\n"
     ]
    },
    {
     "name": "stderr",
     "output_type": "stream",
     "text": [
      "/opt/conda/lib/python3.9/site-packages/aind_dynamic_foraging_data_utils/nwb_utils.py:457: UserWarning: Reward before choice time. This is likely due to manual rewards\n",
      "  warnings.warn(\"Reward before choice time. This is likely due to manual rewards\")\n",
      "/opt/conda/lib/python3.9/site-packages/hdmf/spec/namespace.py:535: UserWarning: Ignoring cached namespace 'core' version 2.7.0 because version 2.6.0-alpha is already loaded.\n",
      "  warn(\"Ignoring cached namespace '%s' version %s because version %s is already loaded.\"\n"
     ]
    },
    {
     "name": "stdout",
     "output_type": "stream",
     "text": [
      "Timestamps are adjusted such that `_in_session` timestamps start at the first go cue\n"
     ]
    },
    {
     "name": "stderr",
     "output_type": "stream",
     "text": [
      "/opt/conda/lib/python3.9/site-packages/aind_dynamic_foraging_data_utils/nwb_utils.py:457: UserWarning: Reward before choice time. This is likely due to manual rewards\n",
      "  warnings.warn(\"Reward before choice time. This is likely due to manual rewards\")\n"
     ]
    },
    {
     "name": "stdout",
     "output_type": "stream",
     "text": [
      "Timestamps are adjusted such that `_in_session` timestamps start at the first go cue\n",
      "Timestamps are adjusted such that `_in_session` timestamps start at the first go cue\n"
     ]
    },
    {
     "name": "stderr",
     "output_type": "stream",
     "text": [
      "/opt/conda/lib/python3.9/site-packages/aind_dynamic_foraging_data_utils/nwb_utils.py:457: UserWarning: Reward before choice time. This is likely due to manual rewards\n",
      "  warnings.warn(\"Reward before choice time. This is likely due to manual rewards\")\n"
     ]
    },
    {
     "name": "stdout",
     "output_type": "stream",
     "text": [
      "Timestamps are adjusted such that `_in_session` timestamps start at the first go cue\n"
     ]
    },
    {
     "name": "stderr",
     "output_type": "stream",
     "text": [
      "/opt/conda/lib/python3.9/site-packages/aind_dynamic_foraging_data_utils/nwb_utils.py:457: UserWarning: Reward before choice time. This is likely due to manual rewards\n",
      "  warnings.warn(\"Reward before choice time. This is likely due to manual rewards\")\n"
     ]
    },
    {
     "name": "stdout",
     "output_type": "stream",
     "text": [
      "Timestamps are adjusted such that `_in_session` timestamps start at the first go cue\n"
     ]
    },
    {
     "name": "stderr",
     "output_type": "stream",
     "text": [
      "/opt/conda/lib/python3.9/site-packages/aind_dynamic_foraging_data_utils/nwb_utils.py:457: UserWarning: Reward before choice time. This is likely due to manual rewards\n",
      "  warnings.warn(\"Reward before choice time. This is likely due to manual rewards\")\n"
     ]
    },
    {
     "name": "stdout",
     "output_type": "stream",
     "text": [
      "Timestamps are adjusted such that `_in_session` timestamps start at the first go cue\n",
      "Timestamps are adjusted such that `_in_session` timestamps start at the first go cue\n"
     ]
    },
    {
     "name": "stderr",
     "output_type": "stream",
     "text": [
      "/opt/conda/lib/python3.9/site-packages/hdmf/spec/namespace.py:535: UserWarning: Ignoring cached namespace 'core' version 2.7.0 because version 2.6.0-alpha is already loaded.\n",
      "  warn(\"Ignoring cached namespace '%s' version %s because version %s is already loaded.\"\n",
      "/opt/conda/lib/python3.9/site-packages/aind_dynamic_foraging_data_utils/nwb_utils.py:457: UserWarning: Reward before choice time. This is likely due to manual rewards\n",
      "  warnings.warn(\"Reward before choice time. This is likely due to manual rewards\")\n"
     ]
    },
    {
     "name": "stdout",
     "output_type": "stream",
     "text": [
      "Timestamps are adjusted such that `_in_session` timestamps start at the first go cue\n",
      "Error processing /root/capsule/data/behavior_757129_2024-10-04_10-02-58_processed_2024-10-06_03-20-44/nwb/behavior_757129_2024-10-04_10-02-58.nwb: Rewarded trials without reward time\n",
      "Timestamps are adjusted such that `_in_session` timestamps start at the first go cue\n"
     ]
    },
    {
     "name": "stderr",
     "output_type": "stream",
     "text": [
      "/opt/conda/lib/python3.9/site-packages/aind_dynamic_foraging_data_utils/nwb_utils.py:457: UserWarning: Reward before choice time. This is likely due to manual rewards\n",
      "  warnings.warn(\"Reward before choice time. This is likely due to manual rewards\")\n"
     ]
    },
    {
     "name": "stdout",
     "output_type": "stream",
     "text": [
      "Timestamps are adjusted such that `_in_session` timestamps start at the first go cue\n",
      "Timestamps are adjusted such that `_in_session` timestamps start at the first go cue\n"
     ]
    },
    {
     "name": "stderr",
     "output_type": "stream",
     "text": [
      "/opt/conda/lib/python3.9/site-packages/aind_dynamic_foraging_data_utils/nwb_utils.py:457: UserWarning: Reward before choice time. This is likely due to manual rewards\n",
      "  warnings.warn(\"Reward before choice time. This is likely due to manual rewards\")\n"
     ]
    },
    {
     "name": "stdout",
     "output_type": "stream",
     "text": [
      "Timestamps are adjusted such that `_in_session` timestamps start at the first go cue\n"
     ]
    },
    {
     "name": "stderr",
     "output_type": "stream",
     "text": [
      "/opt/conda/lib/python3.9/site-packages/aind_dynamic_foraging_data_utils/nwb_utils.py:457: UserWarning: Reward before choice time. This is likely due to manual rewards\n",
      "  warnings.warn(\"Reward before choice time. This is likely due to manual rewards\")\n"
     ]
    },
    {
     "name": "stdout",
     "output_type": "stream",
     "text": [
      "Timestamps are adjusted such that `_in_session` timestamps start at the first go cue\n"
     ]
    },
    {
     "name": "stderr",
     "output_type": "stream",
     "text": [
      "/opt/conda/lib/python3.9/site-packages/aind_dynamic_foraging_data_utils/nwb_utils.py:457: UserWarning: Reward before choice time. This is likely due to manual rewards\n",
      "  warnings.warn(\"Reward before choice time. This is likely due to manual rewards\")\n"
     ]
    },
    {
     "name": "stdout",
     "output_type": "stream",
     "text": [
      "Timestamps are adjusted such that `_in_session` timestamps start at the first go cue\n",
      "Timestamps are adjusted such that `_in_session` timestamps start at the first go cue\n"
     ]
    },
    {
     "name": "stderr",
     "output_type": "stream",
     "text": [
      "/opt/conda/lib/python3.9/site-packages/hdmf/spec/namespace.py:535: UserWarning: Ignoring cached namespace 'core' version 2.7.0 because version 2.6.0-alpha is already loaded.\n",
      "  warn(\"Ignoring cached namespace '%s' version %s because version %s is already loaded.\"\n",
      "/opt/conda/lib/python3.9/site-packages/aind_dynamic_foraging_data_utils/nwb_utils.py:457: UserWarning: Reward before choice time. This is likely due to manual rewards\n",
      "  warnings.warn(\"Reward before choice time. This is likely due to manual rewards\")\n"
     ]
    },
    {
     "name": "stdout",
     "output_type": "stream",
     "text": [
      "Timestamps are adjusted such that `_in_session` timestamps start at the first go cue\n"
     ]
    },
    {
     "name": "stderr",
     "output_type": "stream",
     "text": [
      "/opt/conda/lib/python3.9/site-packages/aind_dynamic_foraging_data_utils/nwb_utils.py:457: UserWarning: Reward before choice time. This is likely due to manual rewards\n",
      "  warnings.warn(\"Reward before choice time. This is likely due to manual rewards\")\n"
     ]
    },
    {
     "name": "stdout",
     "output_type": "stream",
     "text": [
      "Timestamps are adjusted such that `_in_session` timestamps start at the first go cue\n"
     ]
    },
    {
     "name": "stderr",
     "output_type": "stream",
     "text": [
      "/opt/conda/lib/python3.9/site-packages/aind_dynamic_foraging_data_utils/nwb_utils.py:457: UserWarning: Reward before choice time. This is likely due to manual rewards\n",
      "  warnings.warn(\"Reward before choice time. This is likely due to manual rewards\")\n"
     ]
    },
    {
     "name": "stdout",
     "output_type": "stream",
     "text": [
      "Timestamps are adjusted such that `_in_session` timestamps start at the first go cue\n",
      "Timestamps are adjusted such that `_in_session` timestamps start at the first go cue\n"
     ]
    },
    {
     "name": "stderr",
     "output_type": "stream",
     "text": [
      "/opt/conda/lib/python3.9/site-packages/hdmf/spec/namespace.py:535: UserWarning: Ignoring cached namespace 'core' version 2.7.0 because version 2.6.0-alpha is already loaded.\n",
      "  warn(\"Ignoring cached namespace '%s' version %s because version %s is already loaded.\"\n",
      "/opt/conda/lib/python3.9/site-packages/aind_dynamic_foraging_data_utils/nwb_utils.py:457: UserWarning: Reward before choice time. This is likely due to manual rewards\n",
      "  warnings.warn(\"Reward before choice time. This is likely due to manual rewards\")\n"
     ]
    },
    {
     "name": "stdout",
     "output_type": "stream",
     "text": [
      "Timestamps are adjusted such that `_in_session` timestamps start at the first go cue\n",
      "Timestamps are adjusted such that `_in_session` timestamps start at the first go cue\n",
      "Timestamps are adjusted such that `_in_session` timestamps start at the first go cue\n"
     ]
    },
    {
     "name": "stderr",
     "output_type": "stream",
     "text": [
      "/opt/conda/lib/python3.9/site-packages/hdmf/spec/namespace.py:535: UserWarning: Ignoring cached namespace 'core' version 2.7.0 because version 2.6.0-alpha is already loaded.\n",
      "  warn(\"Ignoring cached namespace '%s' version %s because version %s is already loaded.\"\n"
     ]
    },
    {
     "name": "stdout",
     "output_type": "stream",
     "text": [
      "Timestamps are adjusted such that `_in_session` timestamps start at the first go cue\n",
      "Timestamps are adjusted such that `_in_session` timestamps start at the first go cue\n"
     ]
    },
    {
     "name": "stderr",
     "output_type": "stream",
     "text": [
      "/opt/conda/lib/python3.9/site-packages/aind_dynamic_foraging_data_utils/nwb_utils.py:457: UserWarning: Reward before choice time. This is likely due to manual rewards\n",
      "  warnings.warn(\"Reward before choice time. This is likely due to manual rewards\")\n"
     ]
    },
    {
     "name": "stdout",
     "output_type": "stream",
     "text": [
      "Timestamps are adjusted such that `_in_session` timestamps start at the first go cue\n"
     ]
    },
    {
     "name": "stderr",
     "output_type": "stream",
     "text": [
      "/opt/conda/lib/python3.9/site-packages/aind_dynamic_foraging_data_utils/nwb_utils.py:457: UserWarning: Reward before choice time. This is likely due to manual rewards\n",
      "  warnings.warn(\"Reward before choice time. This is likely due to manual rewards\")\n",
      "/opt/conda/lib/python3.9/site-packages/hdmf/spec/namespace.py:535: UserWarning: Ignoring cached namespace 'core' version 2.7.0 because version 2.6.0-alpha is already loaded.\n",
      "  warn(\"Ignoring cached namespace '%s' version %s because version %s is already loaded.\"\n"
     ]
    },
    {
     "name": "stdout",
     "output_type": "stream",
     "text": [
      "Timestamps are adjusted such that `_in_session` timestamps start at the first go cue\n",
      "Error processing /root/capsule/data/behavior_726441_2024-10-11_09-14-16_processed_2024-10-12_04-52-39/nwb/behavior_726441_2024-10-11_09-14-16.nwb: Rewarded trials without choice time\n",
      "Timestamps are adjusted such that `_in_session` timestamps start at the first go cue\n"
     ]
    },
    {
     "name": "stderr",
     "output_type": "stream",
     "text": [
      "/opt/conda/lib/python3.9/site-packages/hdmf/spec/namespace.py:535: UserWarning: Ignoring cached namespace 'core' version 2.7.0 because version 2.6.0-alpha is already loaded.\n",
      "  warn(\"Ignoring cached namespace '%s' version %s because version %s is already loaded.\"\n",
      "/opt/conda/lib/python3.9/site-packages/aind_dynamic_foraging_data_utils/nwb_utils.py:457: UserWarning: Reward before choice time. This is likely due to manual rewards\n",
      "  warnings.warn(\"Reward before choice time. This is likely due to manual rewards\")\n"
     ]
    },
    {
     "name": "stdout",
     "output_type": "stream",
     "text": [
      "Timestamps are adjusted such that `_in_session` timestamps start at the first go cue\n"
     ]
    },
    {
     "name": "stderr",
     "output_type": "stream",
     "text": [
      "/opt/conda/lib/python3.9/site-packages/aind_dynamic_foraging_data_utils/nwb_utils.py:457: UserWarning: Reward before choice time. This is likely due to manual rewards\n",
      "  warnings.warn(\"Reward before choice time. This is likely due to manual rewards\")\n"
     ]
    },
    {
     "name": "stdout",
     "output_type": "stream",
     "text": [
      "Timestamps are adjusted such that `_in_session` timestamps start at the first go cue\n"
     ]
    },
    {
     "name": "stderr",
     "output_type": "stream",
     "text": [
      "/opt/conda/lib/python3.9/site-packages/aind_dynamic_foraging_data_utils/nwb_utils.py:457: UserWarning: Reward before choice time. This is likely due to manual rewards\n",
      "  warnings.warn(\"Reward before choice time. This is likely due to manual rewards\")\n"
     ]
    },
    {
     "name": "stdout",
     "output_type": "stream",
     "text": [
      "Timestamps are adjusted such that `_in_session` timestamps start at the first go cue\n"
     ]
    },
    {
     "name": "stderr",
     "output_type": "stream",
     "text": [
      "/opt/conda/lib/python3.9/site-packages/aind_dynamic_foraging_data_utils/nwb_utils.py:457: UserWarning: Reward before choice time. This is likely due to manual rewards\n",
      "  warnings.warn(\"Reward before choice time. This is likely due to manual rewards\")\n"
     ]
    },
    {
     "name": "stdout",
     "output_type": "stream",
     "text": [
      "Timestamps are adjusted such that `_in_session` timestamps start at the first go cue\n",
      "Timestamps are adjusted such that `_in_session` timestamps start at the first go cue\n",
      "Timestamps are adjusted such that `_in_session` timestamps start at the first go cue\n",
      "Timestamps are adjusted such that `_in_session` timestamps start at the first go cue\n",
      "Timestamps are adjusted such that `_in_session` timestamps start at the first go cue\n",
      "Timestamps are adjusted such that `_in_session` timestamps start at the first go cue\n"
     ]
    },
    {
     "name": "stderr",
     "output_type": "stream",
     "text": [
      "/opt/conda/lib/python3.9/site-packages/hdmf/spec/namespace.py:535: UserWarning: Ignoring cached namespace 'core' version 2.7.0 because version 2.6.0-alpha is already loaded.\n",
      "  warn(\"Ignoring cached namespace '%s' version %s because version %s is already loaded.\"\n"
     ]
    },
    {
     "name": "stdout",
     "output_type": "stream",
     "text": [
      "Timestamps are adjusted such that `_in_session` timestamps start at the first go cue\n",
      "Timestamps are adjusted such that `_in_session` timestamps start at the first go cue\n",
      "Timestamps are adjusted such that `_in_session` timestamps start at the first go cue\n"
     ]
    },
    {
     "name": "stderr",
     "output_type": "stream",
     "text": [
      "/opt/conda/lib/python3.9/site-packages/aind_dynamic_foraging_data_utils/nwb_utils.py:457: UserWarning: Reward before choice time. This is likely due to manual rewards\n",
      "  warnings.warn(\"Reward before choice time. This is likely due to manual rewards\")\n"
     ]
    },
    {
     "name": "stdout",
     "output_type": "stream",
     "text": [
      "Timestamps are adjusted such that `_in_session` timestamps start at the first go cue\n",
      "Timestamps are adjusted such that `_in_session` timestamps start at the first go cue\n"
     ]
    },
    {
     "name": "stderr",
     "output_type": "stream",
     "text": [
      "/opt/conda/lib/python3.9/site-packages/hdmf/spec/namespace.py:535: UserWarning: Ignoring cached namespace 'core' version 2.7.0 because version 2.6.0-alpha is already loaded.\n",
      "  warn(\"Ignoring cached namespace '%s' version %s because version %s is already loaded.\"\n"
     ]
    },
    {
     "name": "stdout",
     "output_type": "stream",
     "text": [
      "Timestamps are adjusted such that `_in_session` timestamps start at the first go cue\n",
      "Timestamps are adjusted such that `_in_session` timestamps start at the first go cue\n",
      "Timestamps are adjusted such that `_in_session` timestamps start at the first go cue\n",
      "Timestamps are adjusted such that `_in_session` timestamps start at the first go cue\n",
      "Timestamps are adjusted such that `_in_session` timestamps start at the first go cue\n",
      "Timestamps are adjusted such that `_in_session` timestamps start at the first go cue\n"
     ]
    },
    {
     "name": "stderr",
     "output_type": "stream",
     "text": [
      "/opt/conda/lib/python3.9/site-packages/aind_dynamic_foraging_data_utils/nwb_utils.py:457: UserWarning: Reward before choice time. This is likely due to manual rewards\n",
      "  warnings.warn(\"Reward before choice time. This is likely due to manual rewards\")\n"
     ]
    },
    {
     "name": "stdout",
     "output_type": "stream",
     "text": [
      "Timestamps are adjusted such that `_in_session` timestamps start at the first go cue\n",
      "Timestamps are adjusted such that `_in_session` timestamps start at the first go cue\n"
     ]
    },
    {
     "name": "stderr",
     "output_type": "stream",
     "text": [
      "/opt/conda/lib/python3.9/site-packages/aind_dynamic_foraging_data_utils/nwb_utils.py:457: UserWarning: Reward before choice time. This is likely due to manual rewards\n",
      "  warnings.warn(\"Reward before choice time. This is likely due to manual rewards\")\n"
     ]
    },
    {
     "name": "stdout",
     "output_type": "stream",
     "text": [
      "Timestamps are adjusted such that `_in_session` timestamps start at the first go cue\n"
     ]
    },
    {
     "name": "stderr",
     "output_type": "stream",
     "text": [
      "/opt/conda/lib/python3.9/site-packages/aind_dynamic_foraging_data_utils/nwb_utils.py:457: UserWarning: Reward before choice time. This is likely due to manual rewards\n",
      "  warnings.warn(\"Reward before choice time. This is likely due to manual rewards\")\n"
     ]
    },
    {
     "name": "stdout",
     "output_type": "stream",
     "text": [
      "Timestamps are adjusted such that `_in_session` timestamps start at the first go cue\n",
      "Timestamps are adjusted such that `_in_session` timestamps start at the first go cue\n",
      "Timestamps are adjusted such that `_in_session` timestamps start at the first go cue\n"
     ]
    },
    {
     "name": "stderr",
     "output_type": "stream",
     "text": [
      "/opt/conda/lib/python3.9/site-packages/aind_dynamic_foraging_data_utils/nwb_utils.py:457: UserWarning: Reward before choice time. This is likely due to manual rewards\n",
      "  warnings.warn(\"Reward before choice time. This is likely due to manual rewards\")\n",
      "/opt/conda/lib/python3.9/site-packages/hdmf/spec/namespace.py:535: UserWarning: Ignoring cached namespace 'core' version 2.7.0 because version 2.6.0-alpha is already loaded.\n",
      "  warn(\"Ignoring cached namespace '%s' version %s because version %s is already loaded.\"\n"
     ]
    },
    {
     "name": "stdout",
     "output_type": "stream",
     "text": [
      "Timestamps are adjusted such that `_in_session` timestamps start at the first go cue\n"
     ]
    },
    {
     "name": "stderr",
     "output_type": "stream",
     "text": [
      "/opt/conda/lib/python3.9/site-packages/aind_dynamic_foraging_data_utils/nwb_utils.py:457: UserWarning: Reward before choice time. This is likely due to manual rewards\n",
      "  warnings.warn(\"Reward before choice time. This is likely due to manual rewards\")\n"
     ]
    },
    {
     "name": "stdout",
     "output_type": "stream",
     "text": [
      "Timestamps are adjusted such that `_in_session` timestamps start at the first go cue\n",
      "Timestamps are adjusted such that `_in_session` timestamps start at the first go cue\n",
      "Timestamps are adjusted such that `_in_session` timestamps start at the first go cue\n"
     ]
    },
    {
     "name": "stderr",
     "output_type": "stream",
     "text": [
      "/opt/conda/lib/python3.9/site-packages/aind_dynamic_foraging_data_utils/nwb_utils.py:457: UserWarning: Reward before choice time. This is likely due to manual rewards\n",
      "  warnings.warn(\"Reward before choice time. This is likely due to manual rewards\")\n"
     ]
    },
    {
     "name": "stdout",
     "output_type": "stream",
     "text": [
      "Timestamps are adjusted such that `_in_session` timestamps start at the first go cue\n",
      "Timestamps are adjusted such that `_in_session` timestamps start at the first go cue\n"
     ]
    },
    {
     "name": "stderr",
     "output_type": "stream",
     "text": [
      "/opt/conda/lib/python3.9/site-packages/aind_dynamic_foraging_data_utils/nwb_utils.py:457: UserWarning: Reward before choice time. This is likely due to manual rewards\n",
      "  warnings.warn(\"Reward before choice time. This is likely due to manual rewards\")\n",
      "/opt/conda/lib/python3.9/site-packages/hdmf/spec/namespace.py:535: UserWarning: Ignoring cached namespace 'core' version 2.7.0 because version 2.6.0-alpha is already loaded.\n",
      "  warn(\"Ignoring cached namespace '%s' version %s because version %s is already loaded.\"\n"
     ]
    },
    {
     "name": "stdout",
     "output_type": "stream",
     "text": [
      "Timestamps are adjusted such that `_in_session` timestamps start at the first go cue\n",
      "Timestamps are adjusted such that `_in_session` timestamps start at the first go cue\n",
      "Timestamps are adjusted such that `_in_session` timestamps start at the first go cue\n"
     ]
    },
    {
     "name": "stderr",
     "output_type": "stream",
     "text": [
      "/opt/conda/lib/python3.9/site-packages/hdmf/spec/namespace.py:535: UserWarning: Ignoring cached namespace 'core' version 2.7.0 because version 2.6.0-alpha is already loaded.\n",
      "  warn(\"Ignoring cached namespace '%s' version %s because version %s is already loaded.\"\n"
     ]
    },
    {
     "name": "stdout",
     "output_type": "stream",
     "text": [
      "Timestamps are adjusted such that `_in_session` timestamps start at the first go cue\n"
     ]
    },
    {
     "name": "stderr",
     "output_type": "stream",
     "text": [
      "/opt/conda/lib/python3.9/site-packages/aind_dynamic_foraging_data_utils/nwb_utils.py:457: UserWarning: Reward before choice time. This is likely due to manual rewards\n",
      "  warnings.warn(\"Reward before choice time. This is likely due to manual rewards\")\n"
     ]
    },
    {
     "name": "stdout",
     "output_type": "stream",
     "text": [
      "Timestamps are adjusted such that `_in_session` timestamps start at the first go cue\n",
      "Timestamps are adjusted such that `_in_session` timestamps start at the first go cue\n",
      "Timestamps are adjusted such that `_in_session` timestamps start at the first go cue\n",
      "Timestamps are adjusted such that `_in_session` timestamps start at the first go cue\n"
     ]
    },
    {
     "name": "stderr",
     "output_type": "stream",
     "text": [
      "/opt/conda/lib/python3.9/site-packages/hdmf/spec/namespace.py:535: UserWarning: Ignoring cached namespace 'core' version 2.7.0 because version 2.6.0-alpha is already loaded.\n",
      "  warn(\"Ignoring cached namespace '%s' version %s because version %s is already loaded.\"\n"
     ]
    },
    {
     "name": "stdout",
     "output_type": "stream",
     "text": [
      "Timestamps are adjusted such that `_in_session` timestamps start at the first go cue\n"
     ]
    },
    {
     "name": "stderr",
     "output_type": "stream",
     "text": [
      "/opt/conda/lib/python3.9/site-packages/aind_dynamic_foraging_data_utils/nwb_utils.py:457: UserWarning: Reward before choice time. This is likely due to manual rewards\n",
      "  warnings.warn(\"Reward before choice time. This is likely due to manual rewards\")\n"
     ]
    },
    {
     "name": "stdout",
     "output_type": "stream",
     "text": [
      "Timestamps are adjusted such that `_in_session` timestamps start at the first go cue\n"
     ]
    },
    {
     "name": "stderr",
     "output_type": "stream",
     "text": [
      "/opt/conda/lib/python3.9/site-packages/aind_dynamic_foraging_data_utils/nwb_utils.py:457: UserWarning: Reward before choice time. This is likely due to manual rewards\n",
      "  warnings.warn(\"Reward before choice time. This is likely due to manual rewards\")\n"
     ]
    },
    {
     "name": "stdout",
     "output_type": "stream",
     "text": [
      "Timestamps are adjusted such that `_in_session` timestamps start at the first go cue\n"
     ]
    },
    {
     "name": "stderr",
     "output_type": "stream",
     "text": [
      "/opt/conda/lib/python3.9/site-packages/aind_dynamic_foraging_data_utils/nwb_utils.py:457: UserWarning: Reward before choice time. This is likely due to manual rewards\n",
      "  warnings.warn(\"Reward before choice time. This is likely due to manual rewards\")\n",
      "/opt/conda/lib/python3.9/site-packages/hdmf/spec/namespace.py:535: UserWarning: Ignoring cached namespace 'core' version 2.7.0 because version 2.6.0-alpha is already loaded.\n",
      "  warn(\"Ignoring cached namespace '%s' version %s because version %s is already loaded.\"\n"
     ]
    },
    {
     "name": "stdout",
     "output_type": "stream",
     "text": [
      "Timestamps are adjusted such that `_in_session` timestamps start at the first go cue\n"
     ]
    },
    {
     "name": "stderr",
     "output_type": "stream",
     "text": [
      "/opt/conda/lib/python3.9/site-packages/aind_dynamic_foraging_data_utils/nwb_utils.py:457: UserWarning: Reward before choice time. This is likely due to manual rewards\n",
      "  warnings.warn(\"Reward before choice time. This is likely due to manual rewards\")\n"
     ]
    },
    {
     "name": "stdout",
     "output_type": "stream",
     "text": [
      "Timestamps are adjusted such that `_in_session` timestamps start at the first go cue\n",
      "Timestamps are adjusted such that `_in_session` timestamps start at the first go cue\n",
      "Timestamps are adjusted such that `_in_session` timestamps start at the first go cue\n",
      "Timestamps are adjusted such that `_in_session` timestamps start at the first go cue\n",
      "Timestamps are adjusted such that `_in_session` timestamps start at the first go cue\n"
     ]
    },
    {
     "name": "stderr",
     "output_type": "stream",
     "text": [
      "/opt/conda/lib/python3.9/site-packages/hdmf/spec/namespace.py:535: UserWarning: Ignoring cached namespace 'core' version 2.7.0 because version 2.6.0-alpha is already loaded.\n",
      "  warn(\"Ignoring cached namespace '%s' version %s because version %s is already loaded.\"\n",
      "/opt/conda/lib/python3.9/site-packages/aind_dynamic_foraging_data_utils/nwb_utils.py:457: UserWarning: Reward before choice time. This is likely due to manual rewards\n",
      "  warnings.warn(\"Reward before choice time. This is likely due to manual rewards\")\n"
     ]
    },
    {
     "name": "stdout",
     "output_type": "stream",
     "text": [
      "Timestamps are adjusted such that `_in_session` timestamps start at the first go cue\n"
     ]
    },
    {
     "name": "stderr",
     "output_type": "stream",
     "text": [
      "/opt/conda/lib/python3.9/site-packages/aind_dynamic_foraging_data_utils/nwb_utils.py:457: UserWarning: Reward before choice time. This is likely due to manual rewards\n",
      "  warnings.warn(\"Reward before choice time. This is likely due to manual rewards\")\n",
      "/opt/conda/lib/python3.9/site-packages/hdmf/spec/namespace.py:535: UserWarning: Ignoring cached namespace 'core' version 2.7.0 because version 2.6.0-alpha is already loaded.\n",
      "  warn(\"Ignoring cached namespace '%s' version %s because version %s is already loaded.\"\n"
     ]
    },
    {
     "name": "stdout",
     "output_type": "stream",
     "text": [
      "Timestamps are adjusted such that `_in_session` timestamps start at the first go cue\n"
     ]
    },
    {
     "name": "stderr",
     "output_type": "stream",
     "text": [
      "/opt/conda/lib/python3.9/site-packages/aind_dynamic_foraging_data_utils/nwb_utils.py:457: UserWarning: Reward before choice time. This is likely due to manual rewards\n",
      "  warnings.warn(\"Reward before choice time. This is likely due to manual rewards\")\n"
     ]
    },
    {
     "name": "stdout",
     "output_type": "stream",
     "text": [
      "Timestamps are adjusted such that `_in_session` timestamps start at the first go cue\n"
     ]
    },
    {
     "name": "stderr",
     "output_type": "stream",
     "text": [
      "/opt/conda/lib/python3.9/site-packages/aind_dynamic_foraging_data_utils/nwb_utils.py:457: UserWarning: Reward before choice time. This is likely due to manual rewards\n",
      "  warnings.warn(\"Reward before choice time. This is likely due to manual rewards\")\n"
     ]
    },
    {
     "name": "stdout",
     "output_type": "stream",
     "text": [
      "Timestamps are adjusted such that `_in_session` timestamps start at the first go cue\n"
     ]
    },
    {
     "name": "stderr",
     "output_type": "stream",
     "text": [
      "/opt/conda/lib/python3.9/site-packages/aind_dynamic_foraging_data_utils/nwb_utils.py:457: UserWarning: Reward before choice time. This is likely due to manual rewards\n",
      "  warnings.warn(\"Reward before choice time. This is likely due to manual rewards\")\n"
     ]
    },
    {
     "name": "stdout",
     "output_type": "stream",
     "text": [
      "Timestamps are adjusted such that `_in_session` timestamps start at the first go cue\n",
      "Timestamps are adjusted such that `_in_session` timestamps start at the first go cue\n"
     ]
    },
    {
     "name": "stderr",
     "output_type": "stream",
     "text": [
      "/opt/conda/lib/python3.9/site-packages/aind_dynamic_foraging_data_utils/nwb_utils.py:457: UserWarning: Reward before choice time. This is likely due to manual rewards\n",
      "  warnings.warn(\"Reward before choice time. This is likely due to manual rewards\")\n",
      "/opt/conda/lib/python3.9/site-packages/hdmf/spec/namespace.py:535: UserWarning: Ignoring cached namespace 'core' version 2.7.0 because version 2.6.0-alpha is already loaded.\n",
      "  warn(\"Ignoring cached namespace '%s' version %s because version %s is already loaded.\"\n"
     ]
    },
    {
     "name": "stdout",
     "output_type": "stream",
     "text": [
      "Timestamps are adjusted such that `_in_session` timestamps start at the first go cue\n"
     ]
    },
    {
     "name": "stderr",
     "output_type": "stream",
     "text": [
      "/opt/conda/lib/python3.9/site-packages/aind_dynamic_foraging_data_utils/nwb_utils.py:457: UserWarning: Reward before choice time. This is likely due to manual rewards\n",
      "  warnings.warn(\"Reward before choice time. This is likely due to manual rewards\")\n"
     ]
    },
    {
     "name": "stdout",
     "output_type": "stream",
     "text": [
      "Timestamps are adjusted such that `_in_session` timestamps start at the first go cue\n"
     ]
    },
    {
     "name": "stderr",
     "output_type": "stream",
     "text": [
      "/opt/conda/lib/python3.9/site-packages/aind_dynamic_foraging_data_utils/nwb_utils.py:457: UserWarning: Reward before choice time. This is likely due to manual rewards\n",
      "  warnings.warn(\"Reward before choice time. This is likely due to manual rewards\")\n"
     ]
    },
    {
     "name": "stdout",
     "output_type": "stream",
     "text": [
      "Timestamps are adjusted such that `_in_session` timestamps start at the first go cue\n"
     ]
    },
    {
     "name": "stderr",
     "output_type": "stream",
     "text": [
      "/opt/conda/lib/python3.9/site-packages/aind_dynamic_foraging_data_utils/nwb_utils.py:457: UserWarning: Reward before choice time. This is likely due to manual rewards\n",
      "  warnings.warn(\"Reward before choice time. This is likely due to manual rewards\")\n"
     ]
    },
    {
     "name": "stdout",
     "output_type": "stream",
     "text": [
      "Timestamps are adjusted such that `_in_session` timestamps start at the first go cue\n",
      "Timestamps are adjusted such that `_in_session` timestamps start at the first go cue\n"
     ]
    },
    {
     "name": "stderr",
     "output_type": "stream",
     "text": [
      "/opt/conda/lib/python3.9/site-packages/aind_dynamic_foraging_data_utils/nwb_utils.py:457: UserWarning: Reward before choice time. This is likely due to manual rewards\n",
      "  warnings.warn(\"Reward before choice time. This is likely due to manual rewards\")\n"
     ]
    },
    {
     "name": "stdout",
     "output_type": "stream",
     "text": [
      "Timestamps are adjusted such that `_in_session` timestamps start at the first go cue\n",
      "Timestamps are adjusted such that `_in_session` timestamps start at the first go cue\n"
     ]
    },
    {
     "name": "stderr",
     "output_type": "stream",
     "text": [
      "/opt/conda/lib/python3.9/site-packages/hdmf/spec/namespace.py:535: UserWarning: Ignoring cached namespace 'core' version 2.7.0 because version 2.6.0-alpha is already loaded.\n",
      "  warn(\"Ignoring cached namespace '%s' version %s because version %s is already loaded.\"\n"
     ]
    },
    {
     "name": "stdout",
     "output_type": "stream",
     "text": [
      "Timestamps are adjusted such that `_in_session` timestamps start at the first go cue\n"
     ]
    },
    {
     "name": "stderr",
     "output_type": "stream",
     "text": [
      "/opt/conda/lib/python3.9/site-packages/hdmf/spec/namespace.py:535: UserWarning: Ignoring cached namespace 'core' version 2.7.0 because version 2.6.0-alpha is already loaded.\n",
      "  warn(\"Ignoring cached namespace '%s' version %s because version %s is already loaded.\"\n",
      "/opt/conda/lib/python3.9/site-packages/aind_dynamic_foraging_data_utils/nwb_utils.py:457: UserWarning: Reward before choice time. This is likely due to manual rewards\n",
      "  warnings.warn(\"Reward before choice time. This is likely due to manual rewards\")\n",
      "/opt/conda/lib/python3.9/site-packages/hdmf/spec/namespace.py:535: UserWarning: Ignoring cached namespace 'core' version 2.7.0 because version 2.6.0-alpha is already loaded.\n",
      "  warn(\"Ignoring cached namespace '%s' version %s because version %s is already loaded.\"\n"
     ]
    },
    {
     "name": "stdout",
     "output_type": "stream",
     "text": [
      "Timestamps are adjusted such that `_in_session` timestamps start at the first go cue\n",
      "Timestamps are adjusted such that `_in_session` timestamps start at the first go cue\n",
      "Error processing /root/capsule/data/behavior_708027_2024-08-14_13-30-19_processed_2024-08-15_06-52-16/nwb/behavior_708027_2024-08-14_13-30-19.nwb: Rewarded trials without choice time\n"
     ]
    },
    {
     "name": "stderr",
     "output_type": "stream",
     "text": [
      "/opt/conda/lib/python3.9/site-packages/hdmf/spec/namespace.py:535: UserWarning: Ignoring cached namespace 'core' version 2.7.0 because version 2.6.0-alpha is already loaded.\n",
      "  warn(\"Ignoring cached namespace '%s' version %s because version %s is already loaded.\"\n"
     ]
    },
    {
     "name": "stdout",
     "output_type": "stream",
     "text": [
      "Timestamps are adjusted such that `_in_session` timestamps start at the first go cue\n",
      "Error processing /root/capsule/data/behavior_732163_2024-08-23_13-36-21_processed_2024-08-24_06-57-41/nwb/behavior_732163_2024-08-23_13-36-21.nwb: Rewarded trials without choice time\n",
      "Timestamps are adjusted such that `_in_session` timestamps start at the first go cue\n"
     ]
    },
    {
     "name": "stderr",
     "output_type": "stream",
     "text": [
      "/opt/conda/lib/python3.9/site-packages/hdmf/spec/namespace.py:535: UserWarning: Ignoring cached namespace 'core' version 2.7.0 because version 2.6.0-alpha is already loaded.\n",
      "  warn(\"Ignoring cached namespace '%s' version %s because version %s is already loaded.\"\n"
     ]
    },
    {
     "name": "stdout",
     "output_type": "stream",
     "text": [
      "Error processing /root/capsule/data/behavior_726441_2024-10-07_09-07-18_processed_2024-10-08_04-36-56/nwb/behavior_726441_2024-10-07_09-07-18.nwb: Rewarded trials without choice time\n"
     ]
    },
    {
     "name": "stderr",
     "output_type": "stream",
     "text": [
      "/opt/conda/lib/python3.9/site-packages/hdmf/spec/namespace.py:535: UserWarning: Ignoring cached namespace 'core' version 2.7.0 because version 2.6.0-alpha is already loaded.\n",
      "  warn(\"Ignoring cached namespace '%s' version %s because version %s is already loaded.\"\n",
      "/opt/conda/lib/python3.9/site-packages/aind_dynamic_foraging_data_utils/nwb_utils.py:457: UserWarning: Reward before choice time. This is likely due to manual rewards\n",
      "  warnings.warn(\"Reward before choice time. This is likely due to manual rewards\")\n"
     ]
    },
    {
     "name": "stdout",
     "output_type": "stream",
     "text": [
      "Timestamps are adjusted such that `_in_session` timestamps start at the first go cue\n",
      "Timestamps are adjusted such that `_in_session` timestamps start at the first go cue\n"
     ]
    },
    {
     "name": "stderr",
     "output_type": "stream",
     "text": [
      "/opt/conda/lib/python3.9/site-packages/hdmf/spec/namespace.py:535: UserWarning: Ignoring cached namespace 'core' version 2.7.0 because version 2.6.0-alpha is already loaded.\n",
      "  warn(\"Ignoring cached namespace '%s' version %s because version %s is already loaded.\"\n",
      "/opt/conda/lib/python3.9/site-packages/aind_dynamic_foraging_data_utils/nwb_utils.py:457: UserWarning: Reward before choice time. This is likely due to manual rewards\n",
      "  warnings.warn(\"Reward before choice time. This is likely due to manual rewards\")\n"
     ]
    },
    {
     "name": "stdout",
     "output_type": "stream",
     "text": [
      "Timestamps are adjusted such that `_in_session` timestamps start at the first go cue\n",
      "Timestamps are adjusted such that `_in_session` timestamps start at the first go cue\n",
      "Timestamps are adjusted such that `_in_session` timestamps start at the first go cue\n"
     ]
    },
    {
     "name": "stderr",
     "output_type": "stream",
     "text": [
      "/opt/conda/lib/python3.9/site-packages/aind_dynamic_foraging_data_utils/nwb_utils.py:457: UserWarning: Reward before choice time. This is likely due to manual rewards\n",
      "  warnings.warn(\"Reward before choice time. This is likely due to manual rewards\")\n"
     ]
    },
    {
     "name": "stdout",
     "output_type": "stream",
     "text": [
      "Timestamps are adjusted such that `_in_session` timestamps start at the first go cue\n",
      "Error processing /root/capsule/data/behavior_731296_2024-09-18_08-52-32_processed_2024-09-19_03-51-47/nwb/behavior_731296_2024-09-18_08-52-32.nwb: Rewarded trials without choice time\n"
     ]
    },
    {
     "name": "stderr",
     "output_type": "stream",
     "text": [
      "/opt/conda/lib/python3.9/site-packages/hdmf/spec/namespace.py:535: UserWarning: Ignoring cached namespace 'core' version 2.7.0 because version 2.6.0-alpha is already loaded.\n",
      "  warn(\"Ignoring cached namespace '%s' version %s because version %s is already loaded.\"\n",
      "/opt/conda/lib/python3.9/site-packages/aind_dynamic_foraging_data_utils/nwb_utils.py:457: UserWarning: Reward before choice time. This is likely due to manual rewards\n",
      "  warnings.warn(\"Reward before choice time. This is likely due to manual rewards\")\n",
      "/opt/conda/lib/python3.9/site-packages/hdmf/spec/namespace.py:535: UserWarning: Ignoring cached namespace 'core' version 2.7.0 because version 2.6.0-alpha is already loaded.\n",
      "  warn(\"Ignoring cached namespace '%s' version %s because version %s is already loaded.\"\n"
     ]
    },
    {
     "name": "stdout",
     "output_type": "stream",
     "text": [
      "Timestamps are adjusted such that `_in_session` timestamps start at the first go cue\n"
     ]
    },
    {
     "name": "stderr",
     "output_type": "stream",
     "text": [
      "/opt/conda/lib/python3.9/site-packages/aind_dynamic_foraging_data_utils/nwb_utils.py:457: UserWarning: Reward before choice time. This is likely due to manual rewards\n",
      "  warnings.warn(\"Reward before choice time. This is likely due to manual rewards\")\n"
     ]
    },
    {
     "name": "stdout",
     "output_type": "stream",
     "text": [
      "Timestamps are adjusted such that `_in_session` timestamps start at the first go cue\n"
     ]
    },
    {
     "name": "stderr",
     "output_type": "stream",
     "text": [
      "/opt/conda/lib/python3.9/site-packages/aind_dynamic_foraging_data_utils/nwb_utils.py:457: UserWarning: Reward before choice time. This is likely due to manual rewards\n",
      "  warnings.warn(\"Reward before choice time. This is likely due to manual rewards\")\n"
     ]
    },
    {
     "name": "stdout",
     "output_type": "stream",
     "text": [
      "Timestamps are adjusted such that `_in_session` timestamps start at the first go cue\n",
      "Timestamps are adjusted such that `_in_session` timestamps start at the first go cue\n",
      "Timestamps are adjusted such that `_in_session` timestamps start at the first go cue\n"
     ]
    },
    {
     "name": "stderr",
     "output_type": "stream",
     "text": [
      "/opt/conda/lib/python3.9/site-packages/aind_dynamic_foraging_data_utils/nwb_utils.py:457: UserWarning: Reward before choice time. This is likely due to manual rewards\n",
      "  warnings.warn(\"Reward before choice time. This is likely due to manual rewards\")\n",
      "/opt/conda/lib/python3.9/site-packages/hdmf/spec/namespace.py:535: UserWarning: Ignoring cached namespace 'core' version 2.7.0 because version 2.6.0-alpha is already loaded.\n",
      "  warn(\"Ignoring cached namespace '%s' version %s because version %s is already loaded.\"\n"
     ]
    },
    {
     "name": "stdout",
     "output_type": "stream",
     "text": [
      "Timestamps are adjusted such that `_in_session` timestamps start at the first go cue\n"
     ]
    },
    {
     "name": "stderr",
     "output_type": "stream",
     "text": [
      "/opt/conda/lib/python3.9/site-packages/aind_dynamic_foraging_data_utils/nwb_utils.py:457: UserWarning: Reward before choice time. This is likely due to manual rewards\n",
      "  warnings.warn(\"Reward before choice time. This is likely due to manual rewards\")\n"
     ]
    },
    {
     "name": "stdout",
     "output_type": "stream",
     "text": [
      "Timestamps are adjusted such that `_in_session` timestamps start at the first go cue\n",
      "Timestamps are adjusted such that `_in_session` timestamps start at the first go cue\n",
      "Timestamps are adjusted such that `_in_session` timestamps start at the first go cue\n",
      "Timestamps are adjusted such that `_in_session` timestamps start at the first go cue\n"
     ]
    },
    {
     "name": "stderr",
     "output_type": "stream",
     "text": [
      "/opt/conda/lib/python3.9/site-packages/hdmf/spec/namespace.py:535: UserWarning: Ignoring cached namespace 'core' version 2.7.0 because version 2.6.0-alpha is already loaded.\n",
      "  warn(\"Ignoring cached namespace '%s' version %s because version %s is already loaded.\"\n"
     ]
    },
    {
     "name": "stdout",
     "output_type": "stream",
     "text": [
      "Timestamps are adjusted such that `_in_session` timestamps start at the first go cue\n"
     ]
    },
    {
     "name": "stderr",
     "output_type": "stream",
     "text": [
      "/opt/conda/lib/python3.9/site-packages/aind_dynamic_foraging_data_utils/nwb_utils.py:457: UserWarning: Reward before choice time. This is likely due to manual rewards\n",
      "  warnings.warn(\"Reward before choice time. This is likely due to manual rewards\")\n"
     ]
    },
    {
     "name": "stdout",
     "output_type": "stream",
     "text": [
      "Timestamps are adjusted such that `_in_session` timestamps start at the first go cue\n"
     ]
    },
    {
     "name": "stderr",
     "output_type": "stream",
     "text": [
      "/opt/conda/lib/python3.9/site-packages/aind_dynamic_foraging_data_utils/nwb_utils.py:457: UserWarning: Reward before choice time. This is likely due to manual rewards\n",
      "  warnings.warn(\"Reward before choice time. This is likely due to manual rewards\")\n"
     ]
    },
    {
     "name": "stdout",
     "output_type": "stream",
     "text": [
      "Timestamps are adjusted such that `_in_session` timestamps start at the first go cue\n"
     ]
    },
    {
     "name": "stderr",
     "output_type": "stream",
     "text": [
      "/opt/conda/lib/python3.9/site-packages/aind_dynamic_foraging_data_utils/nwb_utils.py:457: UserWarning: Reward before choice time. This is likely due to manual rewards\n",
      "  warnings.warn(\"Reward before choice time. This is likely due to manual rewards\")\n",
      "/opt/conda/lib/python3.9/site-packages/hdmf/spec/namespace.py:535: UserWarning: Ignoring cached namespace 'core' version 2.7.0 because version 2.6.0-alpha is already loaded.\n",
      "  warn(\"Ignoring cached namespace '%s' version %s because version %s is already loaded.\"\n"
     ]
    },
    {
     "name": "stdout",
     "output_type": "stream",
     "text": [
      "Timestamps are adjusted such that `_in_session` timestamps start at the first go cue\n",
      "Timestamps are adjusted such that `_in_session` timestamps start at the first go cue\n"
     ]
    },
    {
     "name": "stderr",
     "output_type": "stream",
     "text": [
      "/opt/conda/lib/python3.9/site-packages/hdmf/spec/namespace.py:535: UserWarning: Ignoring cached namespace 'core' version 2.7.0 because version 2.6.0-alpha is already loaded.\n",
      "  warn(\"Ignoring cached namespace '%s' version %s because version %s is already loaded.\"\n"
     ]
    },
    {
     "name": "stdout",
     "output_type": "stream",
     "text": [
      "Timestamps are adjusted such that `_in_session` timestamps start at the first go cue\n"
     ]
    },
    {
     "name": "stderr",
     "output_type": "stream",
     "text": [
      "/opt/conda/lib/python3.9/site-packages/aind_dynamic_foraging_data_utils/nwb_utils.py:457: UserWarning: Reward before choice time. This is likely due to manual rewards\n",
      "  warnings.warn(\"Reward before choice time. This is likely due to manual rewards\")\n"
     ]
    },
    {
     "name": "stdout",
     "output_type": "stream",
     "text": [
      "Timestamps are adjusted such that `_in_session` timestamps start at the first go cue\n",
      "Timestamps are adjusted such that `_in_session` timestamps start at the first go cue\n"
     ]
    },
    {
     "name": "stderr",
     "output_type": "stream",
     "text": [
      "/opt/conda/lib/python3.9/site-packages/aind_dynamic_foraging_data_utils/nwb_utils.py:457: UserWarning: Reward before choice time. This is likely due to manual rewards\n",
      "  warnings.warn(\"Reward before choice time. This is likely due to manual rewards\")\n"
     ]
    },
    {
     "name": "stdout",
     "output_type": "stream",
     "text": [
      "Timestamps are adjusted such that `_in_session` timestamps start at the first go cue\n",
      "Timestamps are adjusted such that `_in_session` timestamps start at the first go cue\n"
     ]
    },
    {
     "name": "stderr",
     "output_type": "stream",
     "text": [
      "/opt/conda/lib/python3.9/site-packages/hdmf/spec/namespace.py:535: UserWarning: Ignoring cached namespace 'core' version 2.7.0 because version 2.6.0-alpha is already loaded.\n",
      "  warn(\"Ignoring cached namespace '%s' version %s because version %s is already loaded.\"\n",
      "/opt/conda/lib/python3.9/site-packages/aind_dynamic_foraging_data_utils/nwb_utils.py:457: UserWarning: Reward before choice time. This is likely due to manual rewards\n",
      "  warnings.warn(\"Reward before choice time. This is likely due to manual rewards\")\n"
     ]
    },
    {
     "name": "stdout",
     "output_type": "stream",
     "text": [
      "Timestamps are adjusted such that `_in_session` timestamps start at the first go cue\n"
     ]
    },
    {
     "name": "stderr",
     "output_type": "stream",
     "text": [
      "/opt/conda/lib/python3.9/site-packages/aind_dynamic_foraging_data_utils/nwb_utils.py:457: UserWarning: Reward before choice time. This is likely due to manual rewards\n",
      "  warnings.warn(\"Reward before choice time. This is likely due to manual rewards\")\n"
     ]
    },
    {
     "name": "stdout",
     "output_type": "stream",
     "text": [
      "Timestamps are adjusted such that `_in_session` timestamps start at the first go cue\n"
     ]
    },
    {
     "name": "stderr",
     "output_type": "stream",
     "text": [
      "/opt/conda/lib/python3.9/site-packages/aind_dynamic_foraging_data_utils/nwb_utils.py:457: UserWarning: Reward before choice time. This is likely due to manual rewards\n",
      "  warnings.warn(\"Reward before choice time. This is likely due to manual rewards\")\n"
     ]
    },
    {
     "name": "stdout",
     "output_type": "stream",
     "text": [
      "Timestamps are adjusted such that `_in_session` timestamps start at the first go cue\n",
      "Timestamps are adjusted such that `_in_session` timestamps start at the first go cue\n",
      "Timestamps are adjusted such that `_in_session` timestamps start at the first go cue\n"
     ]
    },
    {
     "name": "stderr",
     "output_type": "stream",
     "text": [
      "/opt/conda/lib/python3.9/site-packages/hdmf/spec/namespace.py:535: UserWarning: Ignoring cached namespace 'core' version 2.7.0 because version 2.6.0-alpha is already loaded.\n",
      "  warn(\"Ignoring cached namespace '%s' version %s because version %s is already loaded.\"\n"
     ]
    },
    {
     "name": "stdout",
     "output_type": "stream",
     "text": [
      "Error processing /root/capsule/data/behavior_724910_2024-09-18_10-05-27_processed_2024-09-19_04-32-33/nwb/behavior_724910_2024-09-18_10-05-27.nwb: Rewarded trials without choice time\n"
     ]
    },
    {
     "name": "stderr",
     "output_type": "stream",
     "text": [
      "/opt/conda/lib/python3.9/site-packages/aind_dynamic_foraging_data_utils/nwb_utils.py:457: UserWarning: Reward before choice time. This is likely due to manual rewards\n",
      "  warnings.warn(\"Reward before choice time. This is likely due to manual rewards\")\n",
      "/opt/conda/lib/python3.9/site-packages/hdmf/spec/namespace.py:535: UserWarning: Ignoring cached namespace 'core' version 2.7.0 because version 2.6.0-alpha is already loaded.\n",
      "  warn(\"Ignoring cached namespace '%s' version %s because version %s is already loaded.\"\n"
     ]
    },
    {
     "name": "stdout",
     "output_type": "stream",
     "text": [
      "Timestamps are adjusted such that `_in_session` timestamps start at the first go cue\n",
      "Timestamps are adjusted such that `_in_session` timestamps start at the first go cue\n",
      "Timestamps are adjusted such that `_in_session` timestamps start at the first go cue\n",
      "Timestamps are adjusted such that `_in_session` timestamps start at the first go cue\n"
     ]
    },
    {
     "name": "stderr",
     "output_type": "stream",
     "text": [
      "/opt/conda/lib/python3.9/site-packages/aind_dynamic_foraging_data_utils/nwb_utils.py:457: UserWarning: Reward before choice time. This is likely due to manual rewards\n",
      "  warnings.warn(\"Reward before choice time. This is likely due to manual rewards\")\n"
     ]
    },
    {
     "name": "stdout",
     "output_type": "stream",
     "text": [
      "Timestamps are adjusted such that `_in_session` timestamps start at the first go cue\n"
     ]
    },
    {
     "name": "stderr",
     "output_type": "stream",
     "text": [
      "/opt/conda/lib/python3.9/site-packages/aind_dynamic_foraging_data_utils/nwb_utils.py:457: UserWarning: Reward before choice time. This is likely due to manual rewards\n",
      "  warnings.warn(\"Reward before choice time. This is likely due to manual rewards\")\n",
      "/opt/conda/lib/python3.9/site-packages/hdmf/spec/namespace.py:535: UserWarning: Ignoring cached namespace 'core' version 2.7.0 because version 2.6.0-alpha is already loaded.\n",
      "  warn(\"Ignoring cached namespace '%s' version %s because version %s is already loaded.\"\n"
     ]
    },
    {
     "name": "stdout",
     "output_type": "stream",
     "text": [
      "Timestamps are adjusted such that `_in_session` timestamps start at the first go cue\n"
     ]
    },
    {
     "name": "stderr",
     "output_type": "stream",
     "text": [
      "/opt/conda/lib/python3.9/site-packages/aind_dynamic_foraging_data_utils/nwb_utils.py:457: UserWarning: Reward before choice time. This is likely due to manual rewards\n",
      "  warnings.warn(\"Reward before choice time. This is likely due to manual rewards\")\n"
     ]
    },
    {
     "name": "stdout",
     "output_type": "stream",
     "text": [
      "Timestamps are adjusted such that `_in_session` timestamps start at the first go cue\n",
      "Timestamps are adjusted such that `_in_session` timestamps start at the first go cue\n",
      "Timestamps are adjusted such that `_in_session` timestamps start at the first go cue\n"
     ]
    },
    {
     "name": "stderr",
     "output_type": "stream",
     "text": [
      "/opt/conda/lib/python3.9/site-packages/aind_dynamic_foraging_data_utils/nwb_utils.py:457: UserWarning: Reward before choice time. This is likely due to manual rewards\n",
      "  warnings.warn(\"Reward before choice time. This is likely due to manual rewards\")\n"
     ]
    },
    {
     "name": "stdout",
     "output_type": "stream",
     "text": [
      "Timestamps are adjusted such that `_in_session` timestamps start at the first go cue\n"
     ]
    },
    {
     "name": "stderr",
     "output_type": "stream",
     "text": [
      "/opt/conda/lib/python3.9/site-packages/aind_dynamic_foraging_data_utils/nwb_utils.py:457: UserWarning: Reward before choice time. This is likely due to manual rewards\n",
      "  warnings.warn(\"Reward before choice time. This is likely due to manual rewards\")\n"
     ]
    },
    {
     "name": "stdout",
     "output_type": "stream",
     "text": [
      "Timestamps are adjusted such that `_in_session` timestamps start at the first go cue\n"
     ]
    },
    {
     "name": "stderr",
     "output_type": "stream",
     "text": [
      "/opt/conda/lib/python3.9/site-packages/aind_dynamic_foraging_data_utils/nwb_utils.py:457: UserWarning: Reward before choice time. This is likely due to manual rewards\n",
      "  warnings.warn(\"Reward before choice time. This is likely due to manual rewards\")\n"
     ]
    },
    {
     "name": "stdout",
     "output_type": "stream",
     "text": [
      "Timestamps are adjusted such that `_in_session` timestamps start at the first go cue\n"
     ]
    },
    {
     "name": "stderr",
     "output_type": "stream",
     "text": [
      "/opt/conda/lib/python3.9/site-packages/aind_dynamic_foraging_data_utils/nwb_utils.py:457: UserWarning: Reward before choice time. This is likely due to manual rewards\n",
      "  warnings.warn(\"Reward before choice time. This is likely due to manual rewards\")\n"
     ]
    },
    {
     "name": "stdout",
     "output_type": "stream",
     "text": [
      "Timestamps are adjusted such that `_in_session` timestamps start at the first go cue\n",
      "Timestamps are adjusted such that `_in_session` timestamps start at the first go cue\n"
     ]
    },
    {
     "name": "stderr",
     "output_type": "stream",
     "text": [
      "/opt/conda/lib/python3.9/site-packages/aind_dynamic_foraging_data_utils/nwb_utils.py:457: UserWarning: Reward before choice time. This is likely due to manual rewards\n",
      "  warnings.warn(\"Reward before choice time. This is likely due to manual rewards\")\n"
     ]
    },
    {
     "name": "stdout",
     "output_type": "stream",
     "text": [
      "Timestamps are adjusted such that `_in_session` timestamps start at the first go cue\n"
     ]
    },
    {
     "name": "stderr",
     "output_type": "stream",
     "text": [
      "/opt/conda/lib/python3.9/site-packages/aind_dynamic_foraging_data_utils/nwb_utils.py:457: UserWarning: Reward before choice time. This is likely due to manual rewards\n",
      "  warnings.warn(\"Reward before choice time. This is likely due to manual rewards\")\n"
     ]
    },
    {
     "name": "stdout",
     "output_type": "stream",
     "text": [
      "Timestamps are adjusted such that `_in_session` timestamps start at the first go cue\n",
      "Timestamps are adjusted such that `_in_session` timestamps start at the first go cue\n"
     ]
    },
    {
     "name": "stderr",
     "output_type": "stream",
     "text": [
      "/opt/conda/lib/python3.9/site-packages/hdmf/spec/namespace.py:535: UserWarning: Ignoring cached namespace 'core' version 2.7.0 because version 2.6.0-alpha is already loaded.\n",
      "  warn(\"Ignoring cached namespace '%s' version %s because version %s is already loaded.\"\n",
      "/opt/conda/lib/python3.9/site-packages/aind_dynamic_foraging_data_utils/nwb_utils.py:457: UserWarning: Reward before choice time. This is likely due to manual rewards\n",
      "  warnings.warn(\"Reward before choice time. This is likely due to manual rewards\")\n"
     ]
    },
    {
     "name": "stdout",
     "output_type": "stream",
     "text": [
      "Timestamps are adjusted such that `_in_session` timestamps start at the first go cue\n",
      "Timestamps are adjusted such that `_in_session` timestamps start at the first go cue\n",
      "Timestamps are adjusted such that `_in_session` timestamps start at the first go cue\n",
      "Timestamps are adjusted such that `_in_session` timestamps start at the first go cue\n"
     ]
    },
    {
     "name": "stderr",
     "output_type": "stream",
     "text": [
      "/opt/conda/lib/python3.9/site-packages/hdmf/spec/namespace.py:535: UserWarning: Ignoring cached namespace 'core' version 2.7.0 because version 2.6.0-alpha is already loaded.\n",
      "  warn(\"Ignoring cached namespace '%s' version %s because version %s is already loaded.\"\n",
      "/opt/conda/lib/python3.9/site-packages/aind_dynamic_foraging_data_utils/nwb_utils.py:457: UserWarning: Reward before choice time. This is likely due to manual rewards\n",
      "  warnings.warn(\"Reward before choice time. This is likely due to manual rewards\")\n"
     ]
    },
    {
     "name": "stdout",
     "output_type": "stream",
     "text": [
      "Timestamps are adjusted such that `_in_session` timestamps start at the first go cue\n",
      "Timestamps are adjusted such that `_in_session` timestamps start at the first go cue\n",
      "Timestamps are adjusted such that `_in_session` timestamps start at the first go cue\n"
     ]
    },
    {
     "name": "stderr",
     "output_type": "stream",
     "text": [
      "/opt/conda/lib/python3.9/site-packages/aind_dynamic_foraging_data_utils/nwb_utils.py:457: UserWarning: Reward before choice time. This is likely due to manual rewards\n",
      "  warnings.warn(\"Reward before choice time. This is likely due to manual rewards\")\n"
     ]
    },
    {
     "name": "stdout",
     "output_type": "stream",
     "text": [
      "Timestamps are adjusted such that `_in_session` timestamps start at the first go cue\n",
      "Timestamps are adjusted such that `_in_session` timestamps start at the first go cue\n"
     ]
    },
    {
     "name": "stderr",
     "output_type": "stream",
     "text": [
      "/opt/conda/lib/python3.9/site-packages/aind_dynamic_foraging_data_utils/nwb_utils.py:457: UserWarning: Reward before choice time. This is likely due to manual rewards\n",
      "  warnings.warn(\"Reward before choice time. This is likely due to manual rewards\")\n"
     ]
    },
    {
     "name": "stdout",
     "output_type": "stream",
     "text": [
      "Timestamps are adjusted such that `_in_session` timestamps start at the first go cue\n",
      "Timestamps are adjusted such that `_in_session` timestamps start at the first go cue\n"
     ]
    },
    {
     "name": "stderr",
     "output_type": "stream",
     "text": [
      "/opt/conda/lib/python3.9/site-packages/aind_dynamic_foraging_data_utils/nwb_utils.py:457: UserWarning: Reward before choice time. This is likely due to manual rewards\n",
      "  warnings.warn(\"Reward before choice time. This is likely due to manual rewards\")\n"
     ]
    },
    {
     "name": "stdout",
     "output_type": "stream",
     "text": [
      "Timestamps are adjusted such that `_in_session` timestamps start at the first go cue\n"
     ]
    },
    {
     "name": "stderr",
     "output_type": "stream",
     "text": [
      "/opt/conda/lib/python3.9/site-packages/aind_dynamic_foraging_data_utils/nwb_utils.py:457: UserWarning: Reward before choice time. This is likely due to manual rewards\n",
      "  warnings.warn(\"Reward before choice time. This is likely due to manual rewards\")\n",
      "/opt/conda/lib/python3.9/site-packages/hdmf/spec/namespace.py:535: UserWarning: Ignoring cached namespace 'core' version 2.7.0 because version 2.6.0-alpha is already loaded.\n",
      "  warn(\"Ignoring cached namespace '%s' version %s because version %s is already loaded.\"\n"
     ]
    },
    {
     "name": "stdout",
     "output_type": "stream",
     "text": [
      "Timestamps are adjusted such that `_in_session` timestamps start at the first go cue\n"
     ]
    },
    {
     "name": "stderr",
     "output_type": "stream",
     "text": [
      "/opt/conda/lib/python3.9/site-packages/aind_dynamic_foraging_data_utils/nwb_utils.py:457: UserWarning: Reward before choice time. This is likely due to manual rewards\n",
      "  warnings.warn(\"Reward before choice time. This is likely due to manual rewards\")\n"
     ]
    },
    {
     "name": "stdout",
     "output_type": "stream",
     "text": [
      "Timestamps are adjusted such that `_in_session` timestamps start at the first go cue\n",
      "Timestamps are adjusted such that `_in_session` timestamps start at the first go cue\n",
      "Timestamps are adjusted such that `_in_session` timestamps start at the first go cue\n"
     ]
    },
    {
     "name": "stderr",
     "output_type": "stream",
     "text": [
      "/opt/conda/lib/python3.9/site-packages/hdmf/spec/namespace.py:535: UserWarning: Ignoring cached namespace 'core' version 2.7.0 because version 2.6.0-alpha is already loaded.\n",
      "  warn(\"Ignoring cached namespace '%s' version %s because version %s is already loaded.\"\n",
      "/opt/conda/lib/python3.9/site-packages/aind_dynamic_foraging_data_utils/nwb_utils.py:457: UserWarning: Reward before choice time. This is likely due to manual rewards\n",
      "  warnings.warn(\"Reward before choice time. This is likely due to manual rewards\")\n",
      "/opt/conda/lib/python3.9/site-packages/hdmf/spec/namespace.py:535: UserWarning: Ignoring cached namespace 'core' version 2.7.0 because version 2.6.0-alpha is already loaded.\n",
      "  warn(\"Ignoring cached namespace '%s' version %s because version %s is already loaded.\"\n"
     ]
    },
    {
     "name": "stdout",
     "output_type": "stream",
     "text": [
      "Timestamps are adjusted such that `_in_session` timestamps start at the first go cue\n",
      "Error processing /root/capsule/data/behavior_724910_2024-09-17_09-49-15_processed_2024-09-19_04-33-43/nwb/behavior_724910_2024-09-17_09-49-15.nwb: Rewarded trials without choice time\n"
     ]
    },
    {
     "name": "stderr",
     "output_type": "stream",
     "text": [
      "/opt/conda/lib/python3.9/site-packages/hdmf/spec/namespace.py:535: UserWarning: Ignoring cached namespace 'core' version 2.7.0 because version 2.6.0-alpha is already loaded.\n",
      "  warn(\"Ignoring cached namespace '%s' version %s because version %s is already loaded.\"\n",
      "/opt/conda/lib/python3.9/site-packages/aind_dynamic_foraging_data_utils/nwb_utils.py:457: UserWarning: Reward before choice time. This is likely due to manual rewards\n",
      "  warnings.warn(\"Reward before choice time. This is likely due to manual rewards\")\n"
     ]
    },
    {
     "name": "stdout",
     "output_type": "stream",
     "text": [
      "Timestamps are adjusted such that `_in_session` timestamps start at the first go cue\n",
      "Timestamps are adjusted such that `_in_session` timestamps start at the first go cue\n",
      "Timestamps are adjusted such that `_in_session` timestamps start at the first go cue\n"
     ]
    },
    {
     "name": "stderr",
     "output_type": "stream",
     "text": [
      "/opt/conda/lib/python3.9/site-packages/hdmf/spec/namespace.py:535: UserWarning: Ignoring cached namespace 'core' version 2.7.0 because version 2.6.0-alpha is already loaded.\n",
      "  warn(\"Ignoring cached namespace '%s' version %s because version %s is already loaded.\"\n"
     ]
    },
    {
     "name": "stdout",
     "output_type": "stream",
     "text": [
      "Error processing /root/capsule/data/behavior_726649_2024-09-23_13-00-57_processed_2024-10-03_19-44-30/nwb/behavior_726649_2024-09-23_13-00-57.nwb: Rewarded trials without choice time\n"
     ]
    },
    {
     "name": "stderr",
     "output_type": "stream",
     "text": [
      "/opt/conda/lib/python3.9/site-packages/hdmf/spec/namespace.py:535: UserWarning: Ignoring cached namespace 'core' version 2.7.0 because version 2.6.0-alpha is already loaded.\n",
      "  warn(\"Ignoring cached namespace '%s' version %s because version %s is already loaded.\"\n",
      "/opt/conda/lib/python3.9/site-packages/aind_dynamic_foraging_data_utils/nwb_utils.py:457: UserWarning: Reward before choice time. This is likely due to manual rewards\n",
      "  warnings.warn(\"Reward before choice time. This is likely due to manual rewards\")\n"
     ]
    },
    {
     "name": "stdout",
     "output_type": "stream",
     "text": [
      "Timestamps are adjusted such that `_in_session` timestamps start at the first go cue\n"
     ]
    },
    {
     "name": "stderr",
     "output_type": "stream",
     "text": [
      "/opt/conda/lib/python3.9/site-packages/hdmf/spec/namespace.py:535: UserWarning: Ignoring cached namespace 'core' version 2.7.0 because version 2.6.0-alpha is already loaded.\n",
      "  warn(\"Ignoring cached namespace '%s' version %s because version %s is already loaded.\"\n",
      "/opt/conda/lib/python3.9/site-packages/aind_dynamic_foraging_data_utils/nwb_utils.py:457: UserWarning: Reward before choice time. This is likely due to manual rewards\n",
      "  warnings.warn(\"Reward before choice time. This is likely due to manual rewards\")\n"
     ]
    },
    {
     "name": "stdout",
     "output_type": "stream",
     "text": [
      "Timestamps are adjusted such that `_in_session` timestamps start at the first go cue\n",
      "Error processing /root/capsule/data/behavior_744330_2024-09-27_09-53-25_processed_2024-10-02_07-25-40/nwb/behavior_744330_2024-09-27_09-53-25.nwb: Rewarded trials without reward time\n"
     ]
    },
    {
     "name": "stderr",
     "output_type": "stream",
     "text": [
      "/opt/conda/lib/python3.9/site-packages/aind_dynamic_foraging_data_utils/nwb_utils.py:457: UserWarning: Reward before choice time. This is likely due to manual rewards\n",
      "  warnings.warn(\"Reward before choice time. This is likely due to manual rewards\")\n",
      "/opt/conda/lib/python3.9/site-packages/hdmf/spec/namespace.py:535: UserWarning: Ignoring cached namespace 'core' version 2.7.0 because version 2.6.0-alpha is already loaded.\n",
      "  warn(\"Ignoring cached namespace '%s' version %s because version %s is already loaded.\"\n"
     ]
    },
    {
     "name": "stdout",
     "output_type": "stream",
     "text": [
      "Timestamps are adjusted such that `_in_session` timestamps start at the first go cue\n",
      "Timestamps are adjusted such that `_in_session` timestamps start at the first go cue\n"
     ]
    },
    {
     "name": "stderr",
     "output_type": "stream",
     "text": [
      "/opt/conda/lib/python3.9/site-packages/aind_dynamic_foraging_data_utils/nwb_utils.py:457: UserWarning: Reward before choice time. This is likely due to manual rewards\n",
      "  warnings.warn(\"Reward before choice time. This is likely due to manual rewards\")\n",
      "/opt/conda/lib/python3.9/site-packages/hdmf/spec/namespace.py:535: UserWarning: Ignoring cached namespace 'core' version 2.7.0 because version 2.6.0-alpha is already loaded.\n",
      "  warn(\"Ignoring cached namespace '%s' version %s because version %s is already loaded.\"\n"
     ]
    },
    {
     "name": "stdout",
     "output_type": "stream",
     "text": [
      "Timestamps are adjusted such that `_in_session` timestamps start at the first go cue\n",
      "Timestamps are adjusted such that `_in_session` timestamps start at the first go cue\n",
      "Timestamps are adjusted such that `_in_session` timestamps start at the first go cue\n"
     ]
    },
    {
     "name": "stderr",
     "output_type": "stream",
     "text": [
      "/opt/conda/lib/python3.9/site-packages/hdmf/spec/namespace.py:535: UserWarning: Ignoring cached namespace 'core' version 2.7.0 because version 2.6.0-alpha is already loaded.\n",
      "  warn(\"Ignoring cached namespace '%s' version %s because version %s is already loaded.\"\n"
     ]
    },
    {
     "name": "stdout",
     "output_type": "stream",
     "text": [
      "Timestamps are adjusted such that `_in_session` timestamps start at the first go cue\n"
     ]
    },
    {
     "name": "stderr",
     "output_type": "stream",
     "text": [
      "/opt/conda/lib/python3.9/site-packages/hdmf/spec/namespace.py:535: UserWarning: Ignoring cached namespace 'core' version 2.7.0 because version 2.6.0-alpha is already loaded.\n",
      "  warn(\"Ignoring cached namespace '%s' version %s because version %s is already loaded.\"\n"
     ]
    },
    {
     "name": "stdout",
     "output_type": "stream",
     "text": [
      "Error processing /root/capsule/data/behavior_724910_2024-09-06_09-56-25_processed_2024-09-13_01-31-10/nwb/behavior_724910_2024-09-06_09-56-25.nwb: Rewarded trials without choice time\n"
     ]
    },
    {
     "name": "stderr",
     "output_type": "stream",
     "text": [
      "/opt/conda/lib/python3.9/site-packages/aind_dynamic_foraging_data_utils/nwb_utils.py:457: UserWarning: Reward before choice time. This is likely due to manual rewards\n",
      "  warnings.warn(\"Reward before choice time. This is likely due to manual rewards\")\n",
      "/opt/conda/lib/python3.9/site-packages/hdmf/spec/namespace.py:535: UserWarning: Ignoring cached namespace 'core' version 2.7.0 because version 2.6.0-alpha is already loaded.\n",
      "  warn(\"Ignoring cached namespace '%s' version %s because version %s is already loaded.\"\n"
     ]
    },
    {
     "name": "stdout",
     "output_type": "stream",
     "text": [
      "Timestamps are adjusted such that `_in_session` timestamps start at the first go cue\n"
     ]
    },
    {
     "name": "stderr",
     "output_type": "stream",
     "text": [
      "/opt/conda/lib/python3.9/site-packages/aind_dynamic_foraging_data_utils/nwb_utils.py:457: UserWarning: Reward before choice time. This is likely due to manual rewards\n",
      "  warnings.warn(\"Reward before choice time. This is likely due to manual rewards\")\n",
      "/opt/conda/lib/python3.9/site-packages/hdmf/spec/namespace.py:535: UserWarning: Ignoring cached namespace 'core' version 2.7.0 because version 2.6.0-alpha is already loaded.\n",
      "  warn(\"Ignoring cached namespace '%s' version %s because version %s is already loaded.\"\n"
     ]
    },
    {
     "name": "stdout",
     "output_type": "stream",
     "text": [
      "Timestamps are adjusted such that `_in_session` timestamps start at the first go cue\n"
     ]
    },
    {
     "name": "stderr",
     "output_type": "stream",
     "text": [
      "/opt/conda/lib/python3.9/site-packages/aind_dynamic_foraging_data_utils/nwb_utils.py:457: UserWarning: Reward before choice time. This is likely due to manual rewards\n",
      "  warnings.warn(\"Reward before choice time. This is likely due to manual rewards\")\n"
     ]
    },
    {
     "name": "stdout",
     "output_type": "stream",
     "text": [
      "Timestamps are adjusted such that `_in_session` timestamps start at the first go cue\n"
     ]
    },
    {
     "name": "stderr",
     "output_type": "stream",
     "text": [
      "/opt/conda/lib/python3.9/site-packages/aind_dynamic_foraging_data_utils/nwb_utils.py:457: UserWarning: Reward before choice time. This is likely due to manual rewards\n",
      "  warnings.warn(\"Reward before choice time. This is likely due to manual rewards\")\n"
     ]
    },
    {
     "name": "stdout",
     "output_type": "stream",
     "text": [
      "Timestamps are adjusted such that `_in_session` timestamps start at the first go cue\n"
     ]
    },
    {
     "name": "stderr",
     "output_type": "stream",
     "text": [
      "/opt/conda/lib/python3.9/site-packages/aind_dynamic_foraging_data_utils/nwb_utils.py:457: UserWarning: Reward before choice time. This is likely due to manual rewards\n",
      "  warnings.warn(\"Reward before choice time. This is likely due to manual rewards\")\n",
      "/opt/conda/lib/python3.9/site-packages/hdmf/spec/namespace.py:535: UserWarning: Ignoring cached namespace 'core' version 2.7.0 because version 2.6.0-alpha is already loaded.\n",
      "  warn(\"Ignoring cached namespace '%s' version %s because version %s is already loaded.\"\n"
     ]
    },
    {
     "name": "stdout",
     "output_type": "stream",
     "text": [
      "Timestamps are adjusted such that `_in_session` timestamps start at the first go cue\n",
      "Timestamps are adjusted such that `_in_session` timestamps start at the first go cue\n"
     ]
    },
    {
     "name": "stderr",
     "output_type": "stream",
     "text": [
      "/opt/conda/lib/python3.9/site-packages/aind_dynamic_foraging_data_utils/nwb_utils.py:457: UserWarning: Reward before choice time. This is likely due to manual rewards\n",
      "  warnings.warn(\"Reward before choice time. This is likely due to manual rewards\")\n"
     ]
    },
    {
     "name": "stdout",
     "output_type": "stream",
     "text": [
      "Timestamps are adjusted such that `_in_session` timestamps start at the first go cue\n"
     ]
    },
    {
     "name": "stderr",
     "output_type": "stream",
     "text": [
      "/opt/conda/lib/python3.9/site-packages/aind_dynamic_foraging_data_utils/nwb_utils.py:457: UserWarning: Reward before choice time. This is likely due to manual rewards\n",
      "  warnings.warn(\"Reward before choice time. This is likely due to manual rewards\")\n",
      "/opt/conda/lib/python3.9/site-packages/hdmf/spec/namespace.py:535: UserWarning: Ignoring cached namespace 'core' version 2.7.0 because version 2.6.0-alpha is already loaded.\n",
      "  warn(\"Ignoring cached namespace '%s' version %s because version %s is already loaded.\"\n"
     ]
    },
    {
     "name": "stdout",
     "output_type": "stream",
     "text": [
      "Timestamps are adjusted such that `_in_session` timestamps start at the first go cue\n",
      "Error processing /root/capsule/data/behavior_724910_2024-09-09_09-46-34_processed_2024-09-13_01-20-27/nwb/behavior_724910_2024-09-09_09-46-34.nwb: Rewarded trials without choice time\n",
      "Timestamps are adjusted such that `_in_session` timestamps start at the first go cue\n",
      "Timestamps are adjusted such that `_in_session` timestamps start at the first go cue\n",
      "Timestamps are adjusted such that `_in_session` timestamps start at the first go cue\n",
      "Timestamps are adjusted such that `_in_session` timestamps start at the first go cue\n",
      "Timestamps are adjusted such that `_in_session` timestamps start at the first go cue\n"
     ]
    },
    {
     "name": "stderr",
     "output_type": "stream",
     "text": [
      "/opt/conda/lib/python3.9/site-packages/hdmf/spec/namespace.py:535: UserWarning: Ignoring cached namespace 'core' version 2.7.0 because version 2.6.0-alpha is already loaded.\n",
      "  warn(\"Ignoring cached namespace '%s' version %s because version %s is already loaded.\"\n",
      "/opt/conda/lib/python3.9/site-packages/aind_dynamic_foraging_data_utils/nwb_utils.py:457: UserWarning: Reward before choice time. This is likely due to manual rewards\n",
      "  warnings.warn(\"Reward before choice time. This is likely due to manual rewards\")\n"
     ]
    },
    {
     "name": "stdout",
     "output_type": "stream",
     "text": [
      "Timestamps are adjusted such that `_in_session` timestamps start at the first go cue\n"
     ]
    },
    {
     "name": "stderr",
     "output_type": "stream",
     "text": [
      "/opt/conda/lib/python3.9/site-packages/hdmf/spec/namespace.py:535: UserWarning: Ignoring cached namespace 'core' version 2.7.0 because version 2.6.0-alpha is already loaded.\n",
      "  warn(\"Ignoring cached namespace '%s' version %s because version %s is already loaded.\"\n"
     ]
    },
    {
     "name": "stdout",
     "output_type": "stream",
     "text": [
      "Timestamps are adjusted such that `_in_session` timestamps start at the first go cue\n",
      "Error processing /root/capsule/data/behavior_713857_2024-06-13_08-25-28_processed_2024-06-29_00-56-32/nwb/behavior_713857_2024-06-13_08-25-28.nwb: Rewarded trials without choice time\n",
      "Timestamps are adjusted such that `_in_session` timestamps start at the first go cue\n"
     ]
    },
    {
     "name": "stderr",
     "output_type": "stream",
     "text": [
      "/opt/conda/lib/python3.9/site-packages/hdmf/spec/namespace.py:535: UserWarning: Ignoring cached namespace 'core' version 2.7.0 because version 2.6.0-alpha is already loaded.\n",
      "  warn(\"Ignoring cached namespace '%s' version %s because version %s is already loaded.\"\n"
     ]
    },
    {
     "name": "stdout",
     "output_type": "stream",
     "text": [
      "Timestamps are adjusted such that `_in_session` timestamps start at the first go cue\n"
     ]
    },
    {
     "name": "stderr",
     "output_type": "stream",
     "text": [
      "/opt/conda/lib/python3.9/site-packages/hdmf/spec/namespace.py:535: UserWarning: Ignoring cached namespace 'core' version 2.7.0 because version 2.6.0-alpha is already loaded.\n",
      "  warn(\"Ignoring cached namespace '%s' version %s because version %s is already loaded.\"\n",
      "/opt/conda/lib/python3.9/site-packages/aind_dynamic_foraging_data_utils/nwb_utils.py:457: UserWarning: Reward before choice time. This is likely due to manual rewards\n",
      "  warnings.warn(\"Reward before choice time. This is likely due to manual rewards\")\n"
     ]
    },
    {
     "name": "stdout",
     "output_type": "stream",
     "text": [
      "Timestamps are adjusted such that `_in_session` timestamps start at the first go cue\n"
     ]
    },
    {
     "name": "stderr",
     "output_type": "stream",
     "text": [
      "/opt/conda/lib/python3.9/site-packages/aind_dynamic_foraging_data_utils/nwb_utils.py:457: UserWarning: Reward before choice time. This is likely due to manual rewards\n",
      "  warnings.warn(\"Reward before choice time. This is likely due to manual rewards\")\n"
     ]
    },
    {
     "name": "stdout",
     "output_type": "stream",
     "text": [
      "Timestamps are adjusted such that `_in_session` timestamps start at the first go cue\n"
     ]
    },
    {
     "name": "stderr",
     "output_type": "stream",
     "text": [
      "/opt/conda/lib/python3.9/site-packages/aind_dynamic_foraging_data_utils/nwb_utils.py:457: UserWarning: Reward before choice time. This is likely due to manual rewards\n",
      "  warnings.warn(\"Reward before choice time. This is likely due to manual rewards\")\n"
     ]
    },
    {
     "name": "stdout",
     "output_type": "stream",
     "text": [
      "Timestamps are adjusted such that `_in_session` timestamps start at the first go cue\n"
     ]
    },
    {
     "name": "stderr",
     "output_type": "stream",
     "text": [
      "/opt/conda/lib/python3.9/site-packages/aind_dynamic_foraging_data_utils/nwb_utils.py:457: UserWarning: Reward before choice time. This is likely due to manual rewards\n",
      "  warnings.warn(\"Reward before choice time. This is likely due to manual rewards\")\n"
     ]
    },
    {
     "name": "stdout",
     "output_type": "stream",
     "text": [
      "Timestamps are adjusted such that `_in_session` timestamps start at the first go cue\n",
      "Timestamps are adjusted such that `_in_session` timestamps start at the first go cue\n"
     ]
    },
    {
     "name": "stderr",
     "output_type": "stream",
     "text": [
      "/opt/conda/lib/python3.9/site-packages/aind_dynamic_foraging_data_utils/nwb_utils.py:457: UserWarning: Reward before choice time. This is likely due to manual rewards\n",
      "  warnings.warn(\"Reward before choice time. This is likely due to manual rewards\")\n"
     ]
    },
    {
     "name": "stdout",
     "output_type": "stream",
     "text": [
      "Timestamps are adjusted such that `_in_session` timestamps start at the first go cue\n",
      "Timestamps are adjusted such that `_in_session` timestamps start at the first go cue\n"
     ]
    },
    {
     "name": "stderr",
     "output_type": "stream",
     "text": [
      "/opt/conda/lib/python3.9/site-packages/aind_dynamic_foraging_data_utils/nwb_utils.py:457: UserWarning: Reward before choice time. This is likely due to manual rewards\n",
      "  warnings.warn(\"Reward before choice time. This is likely due to manual rewards\")\n",
      "/opt/conda/lib/python3.9/site-packages/hdmf/spec/namespace.py:535: UserWarning: Ignoring cached namespace 'core' version 2.7.0 because version 2.6.0-alpha is already loaded.\n",
      "  warn(\"Ignoring cached namespace '%s' version %s because version %s is already loaded.\"\n"
     ]
    },
    {
     "name": "stdout",
     "output_type": "stream",
     "text": [
      "Timestamps are adjusted such that `_in_session` timestamps start at the first go cue\n",
      "Timestamps are adjusted such that `_in_session` timestamps start at the first go cue\n"
     ]
    },
    {
     "name": "stderr",
     "output_type": "stream",
     "text": [
      "/opt/conda/lib/python3.9/site-packages/aind_dynamic_foraging_data_utils/nwb_utils.py:457: UserWarning: Reward before choice time. This is likely due to manual rewards\n",
      "  warnings.warn(\"Reward before choice time. This is likely due to manual rewards\")\n"
     ]
    },
    {
     "name": "stdout",
     "output_type": "stream",
     "text": [
      "Timestamps are adjusted such that `_in_session` timestamps start at the first go cue\n",
      "Timestamps are adjusted such that `_in_session` timestamps start at the first go cue\n"
     ]
    },
    {
     "name": "stderr",
     "output_type": "stream",
     "text": [
      "/opt/conda/lib/python3.9/site-packages/aind_dynamic_foraging_data_utils/nwb_utils.py:457: UserWarning: Reward before choice time. This is likely due to manual rewards\n",
      "  warnings.warn(\"Reward before choice time. This is likely due to manual rewards\")\n"
     ]
    },
    {
     "name": "stdout",
     "output_type": "stream",
     "text": [
      "Timestamps are adjusted such that `_in_session` timestamps start at the first go cue\n",
      "Timestamps are adjusted such that `_in_session` timestamps start at the first go cue\n",
      "Timestamps are adjusted such that `_in_session` timestamps start at the first go cue\n"
     ]
    },
    {
     "name": "stderr",
     "output_type": "stream",
     "text": [
      "/opt/conda/lib/python3.9/site-packages/hdmf/spec/namespace.py:535: UserWarning: Ignoring cached namespace 'core' version 2.7.0 because version 2.6.0-alpha is already loaded.\n",
      "  warn(\"Ignoring cached namespace '%s' version %s because version %s is already loaded.\"\n",
      "/opt/conda/lib/python3.9/site-packages/aind_dynamic_foraging_data_utils/nwb_utils.py:457: UserWarning: Reward before choice time. This is likely due to manual rewards\n",
      "  warnings.warn(\"Reward before choice time. This is likely due to manual rewards\")\n"
     ]
    },
    {
     "name": "stdout",
     "output_type": "stream",
     "text": [
      "Timestamps are adjusted such that `_in_session` timestamps start at the first go cue\n"
     ]
    },
    {
     "name": "stderr",
     "output_type": "stream",
     "text": [
      "/opt/conda/lib/python3.9/site-packages/aind_dynamic_foraging_data_utils/nwb_utils.py:457: UserWarning: Reward before choice time. This is likely due to manual rewards\n",
      "  warnings.warn(\"Reward before choice time. This is likely due to manual rewards\")\n",
      "/opt/conda/lib/python3.9/site-packages/hdmf/spec/namespace.py:535: UserWarning: Ignoring cached namespace 'core' version 2.7.0 because version 2.6.0-alpha is already loaded.\n",
      "  warn(\"Ignoring cached namespace '%s' version %s because version %s is already loaded.\"\n"
     ]
    },
    {
     "name": "stdout",
     "output_type": "stream",
     "text": [
      "Timestamps are adjusted such that `_in_session` timestamps start at the first go cue\n"
     ]
    },
    {
     "name": "stderr",
     "output_type": "stream",
     "text": [
      "/opt/conda/lib/python3.9/site-packages/aind_dynamic_foraging_data_utils/nwb_utils.py:457: UserWarning: Reward before choice time. This is likely due to manual rewards\n",
      "  warnings.warn(\"Reward before choice time. This is likely due to manual rewards\")\n"
     ]
    },
    {
     "name": "stdout",
     "output_type": "stream",
     "text": [
      "Timestamps are adjusted such that `_in_session` timestamps start at the first go cue\n"
     ]
    },
    {
     "name": "stderr",
     "output_type": "stream",
     "text": [
      "/opt/conda/lib/python3.9/site-packages/aind_dynamic_foraging_data_utils/nwb_utils.py:457: UserWarning: Reward before choice time. This is likely due to manual rewards\n",
      "  warnings.warn(\"Reward before choice time. This is likely due to manual rewards\")\n"
     ]
    },
    {
     "name": "stdout",
     "output_type": "stream",
     "text": [
      "Timestamps are adjusted such that `_in_session` timestamps start at the first go cue\n"
     ]
    },
    {
     "name": "stderr",
     "output_type": "stream",
     "text": [
      "/opt/conda/lib/python3.9/site-packages/aind_dynamic_foraging_data_utils/nwb_utils.py:457: UserWarning: Reward before choice time. This is likely due to manual rewards\n",
      "  warnings.warn(\"Reward before choice time. This is likely due to manual rewards\")\n",
      "/opt/conda/lib/python3.9/site-packages/hdmf/spec/namespace.py:535: UserWarning: Ignoring cached namespace 'core' version 2.7.0 because version 2.6.0-alpha is already loaded.\n",
      "  warn(\"Ignoring cached namespace '%s' version %s because version %s is already loaded.\"\n"
     ]
    },
    {
     "name": "stdout",
     "output_type": "stream",
     "text": [
      "Timestamps are adjusted such that `_in_session` timestamps start at the first go cue\n"
     ]
    },
    {
     "name": "stderr",
     "output_type": "stream",
     "text": [
      "/opt/conda/lib/python3.9/site-packages/aind_dynamic_foraging_data_utils/nwb_utils.py:457: UserWarning: Reward before choice time. This is likely due to manual rewards\n",
      "  warnings.warn(\"Reward before choice time. This is likely due to manual rewards\")\n"
     ]
    },
    {
     "name": "stdout",
     "output_type": "stream",
     "text": [
      "Timestamps are adjusted such that `_in_session` timestamps start at the first go cue\n",
      "Timestamps are adjusted such that `_in_session` timestamps start at the first go cue\n"
     ]
    },
    {
     "name": "stderr",
     "output_type": "stream",
     "text": [
      "/opt/conda/lib/python3.9/site-packages/hdmf/spec/namespace.py:535: UserWarning: Ignoring cached namespace 'core' version 2.7.0 because version 2.6.0-alpha is already loaded.\n",
      "  warn(\"Ignoring cached namespace '%s' version %s because version %s is already loaded.\"\n"
     ]
    },
    {
     "name": "stdout",
     "output_type": "stream",
     "text": [
      "Timestamps are adjusted such that `_in_session` timestamps start at the first go cue\n",
      "Timestamps are adjusted such that `_in_session` timestamps start at the first go cue\n"
     ]
    },
    {
     "name": "stderr",
     "output_type": "stream",
     "text": [
      "/opt/conda/lib/python3.9/site-packages/hdmf/spec/namespace.py:535: UserWarning: Ignoring cached namespace 'core' version 2.7.0 because version 2.6.0-alpha is already loaded.\n",
      "  warn(\"Ignoring cached namespace '%s' version %s because version %s is already loaded.\"\n"
     ]
    },
    {
     "name": "stdout",
     "output_type": "stream",
     "text": [
      "Timestamps are adjusted such that `_in_session` timestamps start at the first go cue\n"
     ]
    },
    {
     "name": "stderr",
     "output_type": "stream",
     "text": [
      "/opt/conda/lib/python3.9/site-packages/aind_dynamic_foraging_data_utils/nwb_utils.py:457: UserWarning: Reward before choice time. This is likely due to manual rewards\n",
      "  warnings.warn(\"Reward before choice time. This is likely due to manual rewards\")\n"
     ]
    },
    {
     "name": "stdout",
     "output_type": "stream",
     "text": [
      "Timestamps are adjusted such that `_in_session` timestamps start at the first go cue\n"
     ]
    },
    {
     "name": "stderr",
     "output_type": "stream",
     "text": [
      "/opt/conda/lib/python3.9/site-packages/aind_dynamic_foraging_data_utils/nwb_utils.py:457: UserWarning: Reward before choice time. This is likely due to manual rewards\n",
      "  warnings.warn(\"Reward before choice time. This is likely due to manual rewards\")\n"
     ]
    },
    {
     "name": "stdout",
     "output_type": "stream",
     "text": [
      "Timestamps are adjusted such that `_in_session` timestamps start at the first go cue\n",
      "Timestamps are adjusted such that `_in_session` timestamps start at the first go cue\n",
      "Timestamps are adjusted such that `_in_session` timestamps start at the first go cue\n",
      "Timestamps are adjusted such that `_in_session` timestamps start at the first go cue\n"
     ]
    },
    {
     "name": "stderr",
     "output_type": "stream",
     "text": [
      "/opt/conda/lib/python3.9/site-packages/hdmf/spec/namespace.py:535: UserWarning: Ignoring cached namespace 'core' version 2.7.0 because version 2.6.0-alpha is already loaded.\n",
      "  warn(\"Ignoring cached namespace '%s' version %s because version %s is already loaded.\"\n",
      "/opt/conda/lib/python3.9/site-packages/aind_dynamic_foraging_data_utils/nwb_utils.py:457: UserWarning: Reward before choice time. This is likely due to manual rewards\n",
      "  warnings.warn(\"Reward before choice time. This is likely due to manual rewards\")\n",
      "/opt/conda/lib/python3.9/site-packages/hdmf/spec/namespace.py:535: UserWarning: Ignoring cached namespace 'core' version 2.7.0 because version 2.6.0-alpha is already loaded.\n",
      "  warn(\"Ignoring cached namespace '%s' version %s because version %s is already loaded.\"\n"
     ]
    },
    {
     "name": "stdout",
     "output_type": "stream",
     "text": [
      "Timestamps are adjusted such that `_in_session` timestamps start at the first go cue\n",
      "Error processing /root/capsule/data/behavior_724910_2024-09-12_09-50-25_processed_2024-09-13_04-34-23/nwb/behavior_724910_2024-09-12_09-50-25.nwb: Rewarded trials without choice time\n"
     ]
    },
    {
     "name": "stderr",
     "output_type": "stream",
     "text": [
      "/opt/conda/lib/python3.9/site-packages/aind_dynamic_foraging_data_utils/nwb_utils.py:457: UserWarning: Reward before choice time. This is likely due to manual rewards\n",
      "  warnings.warn(\"Reward before choice time. This is likely due to manual rewards\")\n",
      "/opt/conda/lib/python3.9/site-packages/hdmf/spec/namespace.py:535: UserWarning: Ignoring cached namespace 'core' version 2.7.0 because version 2.6.0-alpha is already loaded.\n",
      "  warn(\"Ignoring cached namespace '%s' version %s because version %s is already loaded.\"\n"
     ]
    },
    {
     "name": "stdout",
     "output_type": "stream",
     "text": [
      "Timestamps are adjusted such that `_in_session` timestamps start at the first go cue\n",
      "Timestamps are adjusted such that `_in_session` timestamps start at the first go cue\n",
      "Timestamps are adjusted such that `_in_session` timestamps start at the first go cue\n",
      "Timestamps are adjusted such that `_in_session` timestamps start at the first go cue\n",
      "Timestamps are adjusted such that `_in_session` timestamps start at the first go cue\n"
     ]
    },
    {
     "name": "stderr",
     "output_type": "stream",
     "text": [
      "/opt/conda/lib/python3.9/site-packages/hdmf/spec/namespace.py:535: UserWarning: Ignoring cached namespace 'core' version 2.7.0 because version 2.6.0-alpha is already loaded.\n",
      "  warn(\"Ignoring cached namespace '%s' version %s because version %s is already loaded.\"\n",
      "/opt/conda/lib/python3.9/site-packages/aind_dynamic_foraging_data_utils/nwb_utils.py:457: UserWarning: Reward before choice time. This is likely due to manual rewards\n",
      "  warnings.warn(\"Reward before choice time. This is likely due to manual rewards\")\n"
     ]
    },
    {
     "name": "stdout",
     "output_type": "stream",
     "text": [
      "Timestamps are adjusted such that `_in_session` timestamps start at the first go cue\n"
     ]
    },
    {
     "name": "stderr",
     "output_type": "stream",
     "text": [
      "/opt/conda/lib/python3.9/site-packages/aind_dynamic_foraging_data_utils/nwb_utils.py:457: UserWarning: Reward before choice time. This is likely due to manual rewards\n",
      "  warnings.warn(\"Reward before choice time. This is likely due to manual rewards\")\n"
     ]
    },
    {
     "name": "stdout",
     "output_type": "stream",
     "text": [
      "Timestamps are adjusted such that `_in_session` timestamps start at the first go cue\n",
      "Error processing /root/capsule/data/behavior_717535_2024-10-17_10-06-16_processed_2024-10-18_18-13-34/nwb/behavior_717535_2024-10-17_10-06-16.nwb: Rewarded trials without choice time\n"
     ]
    },
    {
     "name": "stderr",
     "output_type": "stream",
     "text": [
      "/opt/conda/lib/python3.9/site-packages/aind_dynamic_foraging_data_utils/nwb_utils.py:457: UserWarning: Reward before choice time. This is likely due to manual rewards\n",
      "  warnings.warn(\"Reward before choice time. This is likely due to manual rewards\")\n"
     ]
    },
    {
     "name": "stdout",
     "output_type": "stream",
     "text": [
      "Timestamps are adjusted such that `_in_session` timestamps start at the first go cue\n"
     ]
    },
    {
     "name": "stderr",
     "output_type": "stream",
     "text": [
      "/opt/conda/lib/python3.9/site-packages/aind_dynamic_foraging_data_utils/nwb_utils.py:457: UserWarning: Reward before choice time. This is likely due to manual rewards\n",
      "  warnings.warn(\"Reward before choice time. This is likely due to manual rewards\")\n",
      "/opt/conda/lib/python3.9/site-packages/hdmf/spec/namespace.py:535: UserWarning: Ignoring cached namespace 'core' version 2.7.0 because version 2.6.0-alpha is already loaded.\n",
      "  warn(\"Ignoring cached namespace '%s' version %s because version %s is already loaded.\"\n"
     ]
    },
    {
     "name": "stdout",
     "output_type": "stream",
     "text": [
      "Timestamps are adjusted such that `_in_session` timestamps start at the first go cue\n",
      "Error processing /root/capsule/data/behavior_724910_2024-09-19_09-51-27_processed_2024-09-28_05-04-32/nwb/behavior_724910_2024-09-19_09-51-27.nwb: Rewarded trials without choice time\n"
     ]
    },
    {
     "name": "stderr",
     "output_type": "stream",
     "text": [
      "/opt/conda/lib/python3.9/site-packages/aind_dynamic_foraging_data_utils/nwb_utils.py:457: UserWarning: Reward before choice time. This is likely due to manual rewards\n",
      "  warnings.warn(\"Reward before choice time. This is likely due to manual rewards\")\n"
     ]
    },
    {
     "name": "stdout",
     "output_type": "stream",
     "text": [
      "Timestamps are adjusted such that `_in_session` timestamps start at the first go cue\n",
      "Timestamps are adjusted such that `_in_session` timestamps start at the first go cue\n"
     ]
    },
    {
     "name": "stderr",
     "output_type": "stream",
     "text": [
      "/opt/conda/lib/python3.9/site-packages/hdmf/spec/namespace.py:535: UserWarning: Ignoring cached namespace 'core' version 2.7.0 because version 2.6.0-alpha is already loaded.\n",
      "  warn(\"Ignoring cached namespace '%s' version %s because version %s is already loaded.\"\n",
      "/opt/conda/lib/python3.9/site-packages/aind_dynamic_foraging_data_utils/nwb_utils.py:457: UserWarning: Reward before choice time. This is likely due to manual rewards\n",
      "  warnings.warn(\"Reward before choice time. This is likely due to manual rewards\")\n"
     ]
    },
    {
     "name": "stdout",
     "output_type": "stream",
     "text": [
      "Timestamps are adjusted such that `_in_session` timestamps start at the first go cue\n"
     ]
    },
    {
     "name": "stderr",
     "output_type": "stream",
     "text": [
      "/opt/conda/lib/python3.9/site-packages/aind_dynamic_foraging_data_utils/nwb_utils.py:457: UserWarning: Reward before choice time. This is likely due to manual rewards\n",
      "  warnings.warn(\"Reward before choice time. This is likely due to manual rewards\")\n"
     ]
    },
    {
     "name": "stdout",
     "output_type": "stream",
     "text": [
      "Timestamps are adjusted such that `_in_session` timestamps start at the first go cue\n"
     ]
    },
    {
     "name": "stderr",
     "output_type": "stream",
     "text": [
      "/opt/conda/lib/python3.9/site-packages/aind_dynamic_foraging_data_utils/nwb_utils.py:457: UserWarning: Reward before choice time. This is likely due to manual rewards\n",
      "  warnings.warn(\"Reward before choice time. This is likely due to manual rewards\")\n"
     ]
    },
    {
     "name": "stdout",
     "output_type": "stream",
     "text": [
      "Timestamps are adjusted such that `_in_session` timestamps start at the first go cue\n",
      "Timestamps are adjusted such that `_in_session` timestamps start at the first go cue\n"
     ]
    },
    {
     "name": "stderr",
     "output_type": "stream",
     "text": [
      "/opt/conda/lib/python3.9/site-packages/aind_dynamic_foraging_data_utils/nwb_utils.py:457: UserWarning: Reward before choice time. This is likely due to manual rewards\n",
      "  warnings.warn(\"Reward before choice time. This is likely due to manual rewards\")\n"
     ]
    },
    {
     "name": "stdout",
     "output_type": "stream",
     "text": [
      "Timestamps are adjusted such that `_in_session` timestamps start at the first go cue\n",
      "Timestamps are adjusted such that `_in_session` timestamps start at the first go cue\n"
     ]
    },
    {
     "name": "stderr",
     "output_type": "stream",
     "text": [
      "/opt/conda/lib/python3.9/site-packages/aind_dynamic_foraging_data_utils/nwb_utils.py:457: UserWarning: Reward before choice time. This is likely due to manual rewards\n",
      "  warnings.warn(\"Reward before choice time. This is likely due to manual rewards\")\n"
     ]
    },
    {
     "name": "stdout",
     "output_type": "stream",
     "text": [
      "Timestamps are adjusted such that `_in_session` timestamps start at the first go cue\n",
      "Timestamps are adjusted such that `_in_session` timestamps start at the first go cue\n"
     ]
    },
    {
     "name": "stderr",
     "output_type": "stream",
     "text": [
      "/opt/conda/lib/python3.9/site-packages/aind_dynamic_foraging_data_utils/nwb_utils.py:457: UserWarning: Reward before choice time. This is likely due to manual rewards\n",
      "  warnings.warn(\"Reward before choice time. This is likely due to manual rewards\")\n"
     ]
    },
    {
     "name": "stdout",
     "output_type": "stream",
     "text": [
      "Timestamps are adjusted such that `_in_session` timestamps start at the first go cue\n"
     ]
    },
    {
     "name": "stderr",
     "output_type": "stream",
     "text": [
      "/opt/conda/lib/python3.9/site-packages/aind_dynamic_foraging_data_utils/nwb_utils.py:457: UserWarning: Reward before choice time. This is likely due to manual rewards\n",
      "  warnings.warn(\"Reward before choice time. This is likely due to manual rewards\")\n"
     ]
    },
    {
     "name": "stdout",
     "output_type": "stream",
     "text": [
      "Timestamps are adjusted such that `_in_session` timestamps start at the first go cue\n"
     ]
    },
    {
     "name": "stderr",
     "output_type": "stream",
     "text": [
      "/opt/conda/lib/python3.9/site-packages/aind_dynamic_foraging_data_utils/nwb_utils.py:457: UserWarning: Reward before choice time. This is likely due to manual rewards\n",
      "  warnings.warn(\"Reward before choice time. This is likely due to manual rewards\")\n"
     ]
    },
    {
     "name": "stdout",
     "output_type": "stream",
     "text": [
      "Timestamps are adjusted such that `_in_session` timestamps start at the first go cue\n",
      "Timestamps are adjusted such that `_in_session` timestamps start at the first go cue\n",
      "Timestamps are adjusted such that `_in_session` timestamps start at the first go cue\n",
      "Timestamps are adjusted such that `_in_session` timestamps start at the first go cue\n"
     ]
    },
    {
     "name": "stderr",
     "output_type": "stream",
     "text": [
      "/opt/conda/lib/python3.9/site-packages/hdmf/spec/namespace.py:535: UserWarning: Ignoring cached namespace 'core' version 2.7.0 because version 2.6.0-alpha is already loaded.\n",
      "  warn(\"Ignoring cached namespace '%s' version %s because version %s is already loaded.\"\n",
      "/opt/conda/lib/python3.9/site-packages/aind_dynamic_foraging_data_utils/nwb_utils.py:457: UserWarning: Reward before choice time. This is likely due to manual rewards\n",
      "  warnings.warn(\"Reward before choice time. This is likely due to manual rewards\")\n"
     ]
    },
    {
     "name": "stdout",
     "output_type": "stream",
     "text": [
      "Timestamps are adjusted such that `_in_session` timestamps start at the first go cue\n",
      "Timestamps are adjusted such that `_in_session` timestamps start at the first go cue\n",
      "Error processing /root/capsule/data/behavior_721403_2024-06-07_09-06-00_processed_2024-06-28_23-09-45/nwb/behavior_721403_2024-06-07_09-06-00.nwb: Rewarded trials without choice time\n"
     ]
    },
    {
     "name": "stderr",
     "output_type": "stream",
     "text": [
      "/opt/conda/lib/python3.9/site-packages/hdmf/spec/namespace.py:535: UserWarning: Ignoring cached namespace 'core' version 2.7.0 because version 2.6.0-alpha is already loaded.\n",
      "  warn(\"Ignoring cached namespace '%s' version %s because version %s is already loaded.\"\n"
     ]
    },
    {
     "name": "stdout",
     "output_type": "stream",
     "text": [
      "Error processing /root/capsule/data/behavior_726441_2024-10-02_08-50-12_processed_2024-10-04_03-31-05/nwb/behavior_726441_2024-10-02_08-50-12.nwb: Rewarded trials without reward time\n",
      "Timestamps are adjusted such that `_in_session` timestamps start at the first go cue\n"
     ]
    },
    {
     "name": "stderr",
     "output_type": "stream",
     "text": [
      "/opt/conda/lib/python3.9/site-packages/aind_dynamic_foraging_data_utils/nwb_utils.py:457: UserWarning: Reward before choice time. This is likely due to manual rewards\n",
      "  warnings.warn(\"Reward before choice time. This is likely due to manual rewards\")\n"
     ]
    },
    {
     "name": "stdout",
     "output_type": "stream",
     "text": [
      "Timestamps are adjusted such that `_in_session` timestamps start at the first go cue\n",
      "Error processing /root/capsule/data/behavior_717535_2024-10-16_10-28-05_processed_2024-10-17_03-56-53/nwb/behavior_717535_2024-10-16_10-28-05.nwb: Rewarded trials without choice time\n"
     ]
    },
    {
     "name": "stderr",
     "output_type": "stream",
     "text": [
      "/opt/conda/lib/python3.9/site-packages/aind_dynamic_foraging_data_utils/nwb_utils.py:457: UserWarning: Reward before choice time. This is likely due to manual rewards\n",
      "  warnings.warn(\"Reward before choice time. This is likely due to manual rewards\")\n"
     ]
    },
    {
     "name": "stdout",
     "output_type": "stream",
     "text": [
      "Timestamps are adjusted such that `_in_session` timestamps start at the first go cue\n"
     ]
    },
    {
     "name": "stderr",
     "output_type": "stream",
     "text": [
      "/opt/conda/lib/python3.9/site-packages/aind_dynamic_foraging_data_utils/nwb_utils.py:457: UserWarning: Reward before choice time. This is likely due to manual rewards\n",
      "  warnings.warn(\"Reward before choice time. This is likely due to manual rewards\")\n"
     ]
    },
    {
     "name": "stdout",
     "output_type": "stream",
     "text": [
      "Timestamps are adjusted such that `_in_session` timestamps start at the first go cue\n"
     ]
    },
    {
     "name": "stderr",
     "output_type": "stream",
     "text": [
      "/opt/conda/lib/python3.9/site-packages/aind_dynamic_foraging_data_utils/nwb_utils.py:457: UserWarning: Reward before choice time. This is likely due to manual rewards\n",
      "  warnings.warn(\"Reward before choice time. This is likely due to manual rewards\")\n",
      "/opt/conda/lib/python3.9/site-packages/hdmf/spec/namespace.py:535: UserWarning: Ignoring cached namespace 'core' version 2.7.0 because version 2.6.0-alpha is already loaded.\n",
      "  warn(\"Ignoring cached namespace '%s' version %s because version %s is already loaded.\"\n"
     ]
    },
    {
     "name": "stdout",
     "output_type": "stream",
     "text": [
      "Timestamps are adjusted such that `_in_session` timestamps start at the first go cue\n",
      "Timestamps are adjusted such that `_in_session` timestamps start at the first go cue\n"
     ]
    },
    {
     "name": "stderr",
     "output_type": "stream",
     "text": [
      "/opt/conda/lib/python3.9/site-packages/aind_dynamic_foraging_data_utils/nwb_utils.py:457: UserWarning: Reward before choice time. This is likely due to manual rewards\n",
      "  warnings.warn(\"Reward before choice time. This is likely due to manual rewards\")\n"
     ]
    },
    {
     "name": "stdout",
     "output_type": "stream",
     "text": [
      "Timestamps are adjusted such that `_in_session` timestamps start at the first go cue\n"
     ]
    },
    {
     "name": "stderr",
     "output_type": "stream",
     "text": [
      "/opt/conda/lib/python3.9/site-packages/aind_dynamic_foraging_data_utils/nwb_utils.py:457: UserWarning: Reward before choice time. This is likely due to manual rewards\n",
      "  warnings.warn(\"Reward before choice time. This is likely due to manual rewards\")\n",
      "/opt/conda/lib/python3.9/site-packages/hdmf/spec/namespace.py:535: UserWarning: Ignoring cached namespace 'core' version 2.7.0 because version 2.6.0-alpha is already loaded.\n",
      "  warn(\"Ignoring cached namespace '%s' version %s because version %s is already loaded.\"\n"
     ]
    },
    {
     "name": "stdout",
     "output_type": "stream",
     "text": [
      "Timestamps are adjusted such that `_in_session` timestamps start at the first go cue\n"
     ]
    },
    {
     "name": "stderr",
     "output_type": "stream",
     "text": [
      "/opt/conda/lib/python3.9/site-packages/aind_dynamic_foraging_data_utils/nwb_utils.py:457: UserWarning: Reward before choice time. This is likely due to manual rewards\n",
      "  warnings.warn(\"Reward before choice time. This is likely due to manual rewards\")\n",
      "/opt/conda/lib/python3.9/site-packages/hdmf/spec/namespace.py:535: UserWarning: Ignoring cached namespace 'core' version 2.7.0 because version 2.6.0-alpha is already loaded.\n",
      "  warn(\"Ignoring cached namespace '%s' version %s because version %s is already loaded.\"\n"
     ]
    },
    {
     "name": "stdout",
     "output_type": "stream",
     "text": [
      "Timestamps are adjusted such that `_in_session` timestamps start at the first go cue\n",
      "Error processing /root/capsule/data/behavior_711039_2024-09-11_09-56-57_processed_2024-09-12_14-36-45/nwb/behavior_711039_2024-09-11_09-56-57.nwb: Rewarded trials without reward time\n"
     ]
    }
   ],
   "source": [
    "base_dir = '/root/capsule/data'\n",
    "#ignore_dirs = ['filtered_data_session', 'foraging_nwb_bonsai', 'foraging_nwb_bonsai_processed', 'df_processed_20241025.csv']\n",
    "nwbs = load_nwb_files(base_dir)"
   ]
  },
  {
   "cell_type": "code",
   "execution_count": 23,
   "metadata": {},
   "outputs": [
    {
     "name": "stdout",
     "output_type": "stream",
     "text": [
      "dict_keys(['708027_2024-08-26_fip_trials.csv', '746720_2024-10-10_fip_trials.csv', '714449_2024-06-18_fip_trials.csv', '757128_2024-09-30_fip_trials.csv', '731302_2024-09-25_fip_trials.csv', '726649_2024-09-11_fip_trials.csv', '744744_2024-10-08_fip_trials.csv', '714449_2024-06-11_fip_trials.csv', '711039_2024-08-16_fip_trials.csv', '731298_2024-10-02_fip_trials.csv', '708027_2024-08-12_fip_trials.csv', '757128_2024-10-02_fip_trials.csv', '731298_2024-10-10_fip_trials.csv', '744742_2024-09-06_fip_trials.csv', '711039_2024-08-14_fip_trials.csv', '744331_2024-10-10_fip_trials.csv', '726649_2024-10-08_fip_trials.csv', '711039_2024-08-15_fip_trials.csv', '757129_2024-10-10_fip_trials.csv', '746716_2024-10-10_fip_trials.csv', '726649_2024-10-01_fip_trials.csv', '732163_2024-08-22_fip_trials.csv', '726649_2024-10-11_fip_trials.csv', '724910_2024-09-26_fip_trials.csv', '726649_2024-09-13_fip_trials.csv', '700708_2024-06-24_fip_trials.csv', '724910_2024-09-11_fip_trials.csv', '711041_2024-08-07_fip_trials.csv', '746720_2024-10-15_fip_trials.csv', '757129_2024-10-18_fip_trials.csv', '746716_2024-10-08_fip_trials.csv', '731296_2024-09-27_fip_trials.csv', '700708_2024-06-04_fip_trials.csv', '757129_2024-10-17_fip_trials.csv', '726441_2024-10-03_fip_trials.csv', '746722_2024-10-02_fip_trials.csv', '708027_2024-08-28_fip_trials.csv', '757128_2024-09-26_fip_trials.csv', '726441_2024-09-11_fip_trials.csv', '708031_2024-08-29_fip_trials.csv', '750997_2024-10-16_fip_trials.csv', '757128_2024-09-18_fip_trials.csv', '705599_2024-06-24_fip_trials.csv', '708027_2024-08-07_fip_trials.csv', '757128_2024-10-04_fip_trials.csv', '708027_2024-08-08_fip_trials.csv', '744330_2024-09-26_fip_trials.csv', '711039_2024-08-12_fip_trials.csv', '708031_2024-08-07_fip_trials.csv', '708031_2024-08-26_fip_trials.csv', '726441_2024-09-18_fip_trials.csv', '726649_2024-10-14_fip_trials.csv', '731296_2024-10-09_fip_trials.csv', '711039_2024-08-08_fip_trials.csv', '732164_2024-08-08_fip_trials.csv', '750101_2024-08-30_fip_trials.csv', '746722_2024-10-18_fip_trials.csv', '711039_2024-09-06_fip_trials.csv', '708027_2024-08-20_fip_trials.csv', '757129_2024-09-25_fip_trials.csv', '711039_2024-08-20_fip_trials.csv', '724910_2024-08-30_fip_trials.csv', '721403_2024-06-05_fip_trials.csv', '726649_2024-09-24_fip_trials.csv', '746722_2024-10-11_fip_trials.csv', '744329_2024-10-11_fip_trials.csv', '720956_2024-08-08_fip_trials.csv', '744329_2024-10-04_fip_trials.csv', '757129_2024-09-20_fip_trials.csv', '726649_2024-10-09_fip_trials.csv', '731296_2024-09-23_fip_trials.csv', '712634_2024-06-03_fip_trials.csv', '708027_2024-08-21_fip_trials.csv', '744330_2024-10-02_fip_trials.csv', '731302_2024-09-24_fip_trials.csv', '744744_2024-10-04_fip_trials.csv', '746720_2024-10-01_fip_trials.csv', '726441_2024-09-25_fip_trials.csv', '721403_2024-06-21_fip_trials.csv', '757128_2024-10-08_fip_trials.csv', '720935_2024-06-11_fip_trials.csv', '726649_2024-09-19_fip_trials.csv', '708027_2024-08-22_fip_trials.csv', '720935_2024-06-03_fip_trials.csv', '746716_2024-10-17_fip_trials.csv', '744744_2024-09-26_fip_trials.csv', '757128_2024-10-11_fip_trials.csv', '744744_2024-10-03_fip_trials.csv', '744744_2024-09-13_fip_trials.csv', '726441_2024-10-10_fip_trials.csv', '750997_2024-10-09_fip_trials.csv', '750102_2024-08-20_fip_trials.csv', '731298_2024-10-04_fip_trials.csv', '720935_2024-05-29_fip_trials.csv', '713855_2024-06-26_fip_trials.csv', '757129_2024-10-02_fip_trials.csv', '711039_2024-08-09_fip_trials.csv', '746720_2024-10-09_fip_trials.csv', '726649_2024-10-02_fip_trials.csv', '731302_2024-10-07_fip_trials.csv', '740610_2024-08-29_fip_trials.csv', '744331_2024-10-11_fip_trials.csv', '744744_2024-09-20_fip_trials.csv', '726441_2024-09-13_fip_trials.csv', '757129_2024-09-23_fip_trials.csv', '750102_2024-08-30_fip_trials.csv', '748387_2024-10-09_fip_trials.csv', '744744_2024-09-18_fip_trials.csv', '757128_2024-09-20_fip_trials.csv', '750997_2024-10-07_fip_trials.csv', '740610_2024-09-16_fip_trials.csv', '708027_2024-08-15_fip_trials.csv', '714449_2024-06-26_fip_trials.csv', '731296_2024-10-03_fip_trials.csv', '744329_2024-10-03_fip_trials.csv', '744744_2024-09-27_fip_trials.csv', '731298_2024-10-09_fip_trials.csv', '705599_2024-06-12_fip_trials.csv', '757128_2024-10-09_fip_trials.csv', '746722_2024-10-17_fip_trials.csv', '750102_2024-08-28_fip_trials.csv', '740610_2024-08-30_fip_trials.csv', '746716_2024-10-22_fip_trials.csv', '720935_2024-06-05_fip_trials.csv', '724910_2024-09-16_fip_trials.csv', '700708_2024-06-26_fip_trials.csv', '720956_2024-05-30_fip_trials.csv', '720935_2024-06-07_fip_trials.csv', '740610_2024-08-28_fip_trials.csv', '746716_2024-10-18_fip_trials.csv', '732163_2024-08-07_fip_trials.csv', '744329_2024-10-01_fip_trials.csv', '732163_2024-08-08_fip_trials.csv', '746720_2024-10-23_fip_trials.csv', '731302_2024-10-04_fip_trials.csv', '757129_2024-09-26_fip_trials.csv', '708031_2024-08-15_fip_trials.csv', '746720_2024-10-04_fip_trials.csv', '726441_2024-09-27_fip_trials.csv', '732163_2024-08-26_fip_trials.csv', '746720_2024-10-21_fip_trials.csv', '744744_2024-09-25_fip_trials.csv', '732163_2024-08-16_fip_trials.csv', '757129_2024-09-17_fip_trials.csv', '746722_2024-10-10_fip_trials.csv', '726649_2024-09-17_fip_trials.csv', '744330_2024-09-25_fip_trials.csv', '744331_2024-10-09_fip_trials.csv', '708031_2024-08-20_fip_trials.csv', '757129_2024-09-18_fip_trials.csv', '711039_2024-08-07_fip_trials.csv', '726441_2024-09-06_fip_trials.csv', '746720_2024-10-16_fip_trials.csv', '724910_2024-09-25_fip_trials.csv', '711039_2024-09-04_fip_trials.csv', '721403_2024-08-07_fip_trials.csv', '746720_2024-10-22_fip_trials.csv', '744744_2024-09-12_fip_trials.csv', '726649_2024-10-16_fip_trials.csv', '720935_2024-06-04_fip_trials.csv', '746722_2024-10-14_fip_trials.csv', '744331_2024-10-03_fip_trials.csv', '731302_2024-10-11_fip_trials.csv', '750997_2024-10-21_fip_trials.csv', '721403_2024-06-26_fip_trials.csv', '720956_2024-05-28_fip_trials.csv', '708031_2024-08-21_fip_trials.csv', '740610_2024-09-12_fip_trials.csv', '726441_2024-10-16_fip_trials.csv', '712634_2024-06-10_fip_trials.csv', '750101_2024-08-26_fip_trials.csv', '744744_2024-09-09_fip_trials.csv', '726441_2024-09-12_fip_trials.csv', '713855_2024-06-25_fip_trials.csv', '713855_2024-06-07_fip_trials.csv', '700708_2024-06-20_fip_trials.csv', '724910_2024-09-04_fip_trials.csv', '726649_2024-09-20_fip_trials.csv', '750997_2024-10-02_fip_trials.csv', '750101_2024-08-28_fip_trials.csv', '731298_2024-09-24_fip_trials.csv', '721403_2024-08-05_fip_trials.csv', '726441_2024-09-26_fip_trials.csv', '740610_2024-09-06_fip_trials.csv', '744744_2024-10-11_fip_trials.csv', '705599_2024-06-27_fip_trials.csv', '711039_2024-08-19_fip_trials.csv', '713310_2024-06-07_fip_trials.csv', '724910_2024-09-23_fip_trials.csv', '750102_2024-08-26_fip_trials.csv', '757128_2024-10-10_fip_trials.csv', '740610_2024-09-05_fip_trials.csv', '757128_2024-10-17_fip_trials.csv', '724910_2024-09-20_fip_trials.csv', '731296_2024-09-20_fip_trials.csv', '746716_2024-10-07_fip_trials.csv', '744331_2024-10-07_fip_trials.csv', '744744_2024-10-02_fip_trials.csv', '744742_2024-09-12_fip_trials.csv', '740610_2024-08-26_fip_trials.csv', '732163_2024-08-15_fip_trials.csv', '744331_2024-10-08_fip_trials.csv', '708027_2024-08-16_fip_trials.csv', '721403_2024-08-08_fip_trials.csv', '711039_2024-09-09_fip_trials.csv', '746720_2024-10-08_fip_trials.csv', '750102_2024-08-29_fip_trials.csv', '757129_2024-10-11_fip_trials.csv', '726649_2024-10-17_fip_trials.csv', '744330_2024-09-19_fip_trials.csv', '713855_2024-06-12_fip_trials.csv', '757129_2024-10-03_fip_trials.csv', '748387_2024-10-07_fip_trials.csv', '746716_2024-10-09_fip_trials.csv', '708031_2024-08-08_fip_trials.csv', '744744_2024-10-10_fip_trials.csv', '746716_2024-10-11_fip_trials.csv', '726649_2024-10-15_fip_trials.csv', '714449_2024-06-21_fip_trials.csv', '705599_2024-06-07_fip_trials.csv', '726649_2024-10-10_fip_trials.csv', '748387_2024-10-23_fip_trials.csv', '757129_2024-10-09_fip_trials.csv', '744330_2024-09-18_fip_trials.csv', '726649_2024-09-25_fip_trials.csv', '750997_2024-10-14_fip_trials.csv', '757128_2024-10-23_fip_trials.csv', '726649_2024-09-27_fip_trials.csv', '744744_2024-10-07_fip_trials.csv', '726649_2024-10-04_fip_trials.csv', '750101_2024-08-23_fip_trials.csv', '748387_2024-10-21_fip_trials.csv', '750997_2024-10-03_fip_trials.csv', '731296_2024-10-10_fip_trials.csv', '726441_2024-10-18_fip_trials.csv', '757128_2024-10-03_fip_trials.csv', '744329_2024-10-08_fip_trials.csv', '708031_2024-08-23_fip_trials.csv', '757128_2024-10-07_fip_trials.csv', '732163_2024-08-09_fip_trials.csv', '708031_2024-08-22_fip_trials.csv', '708031_2024-08-19_fip_trials.csv', '757129_2024-09-19_fip_trials.csv', '748387_2024-10-08_fip_trials.csv', '748387_2024-10-04_fip_trials.csv', '750997_2024-10-17_fip_trials.csv', '724910_2024-09-13_fip_trials.csv', '711041_2024-08-08_fip_trials.csv', '726649_2024-09-12_fip_trials.csv', '748387_2024-10-24_fip_trials.csv', '731298_2024-10-01_fip_trials.csv', '732163_2024-08-28_fip_trials.csv', '731296_2024-10-04_fip_trials.csv', '746722_2024-10-08_fip_trials.csv', '740610_2024-08-23_fip_trials.csv', '744742_2024-09-13_fip_trials.csv', '744330_2024-10-03_fip_trials.csv', '731298_2024-10-11_fip_trials.csv', '744331_2024-10-04_fip_trials.csv', '748387_2024-10-14_fip_trials.csv', '744329_2024-10-10_fip_trials.csv', '732163_2024-08-12_fip_trials.csv', '744742_2024-09-11_fip_trials.csv', '746716_2024-10-16_fip_trials.csv', '708026_2024-07-18_fip_trials.csv', '750997_2024-10-18_fip_trials.csv', '740610_2024-09-13_fip_trials.csv', '700708_2024-06-07_fip_trials.csv', '726649_2024-10-03_fip_trials.csv', '731302_2024-10-01_fip_trials.csv', '746716_2024-10-21_fip_trials.csv', '708031_2024-08-28_fip_trials.csv', '726441_2024-09-19_fip_trials.csv', '744331_2024-10-14_fip_trials.csv', '750102_2024-08-23_fip_trials.csv', '740610_2024-08-21_fip_trials.csv', '713855_2024-06-11_fip_trials.csv', '711041_2024-08-14_fip_trials.csv', '726441_2024-10-09_fip_trials.csv', '746720_2024-10-02_fip_trials.csv', '711039_2024-09-05_fip_trials.csv', '711041_2024-08-12_fip_trials.csv', '732163_2024-08-14_fip_trials.csv', '708031_2024-08-12_fip_trials.csv', '726441_2024-10-04_fip_trials.csv', '713857_2024-06-12_fip_trials.csv', '708031_2024-08-16_fip_trials.csv', '748387_2024-10-10_fip_trials.csv', '746716_2024-10-04_fip_trials.csv', '711041_2024-08-09_fip_trials.csv', '746720_2024-10-24_fip_trials.csv', '744329_2024-10-09_fip_trials.csv', '746722_2024-10-03_fip_trials.csv', '708027_2024-08-19_fip_trials.csv', '750101_2024-08-29_fip_trials.csv', '705599_2024-06-26_fip_trials.csv', '757128_2024-10-21_fip_trials.csv', '731302_2024-09-27_fip_trials.csv', '744744_2024-10-09_fip_trials.csv', '757128_2024-09-27_fip_trials.csv', '711039_2024-08-28_fip_trials.csv', '757129_2024-10-24_fip_trials.csv', '708027_2024-08-23_fip_trials.csv', '721403_2024-06-13_fip_trials.csv', '732163_2024-09-05_fip_trials.csv', '757129_2024-10-07_fip_trials.csv', '731298_2024-09-25_fip_trials.csv', '732163_2024-08-21_fip_trials.csv', '714449_2024-06-27_fip_trials.csv', '708027_2024-08-09_fip_trials.csv', '700708_2024-06-10_fip_trials.csv', '724910_2024-09-27_fip_trials.csv', '720956_2024-08-09_fip_trials.csv', '744329_2024-10-07_fip_trials.csv', '731296_2024-10-08_fip_trials.csv'])\n"
     ]
    }
   ],
   "source": [
    "nwb1 = nwbs[list(nwbs.keys())[0]]\n",
    "\n",
    "print(nwbs.keys())"
   ]
  },
  {
   "cell_type": "code",
   "execution_count": 25,
   "metadata": {},
   "outputs": [],
   "source": [
    "# Group dictionary by subject_ids, session_dates\n",
    "subject_dfs = {}\n",
    "\n",
    "for filename, data, in nwbs.items():\n",
    "    parts = filename.split('_')\n",
    "    subject_id = parts[0]\n",
    "    session_date = parts[1]\n",
    "\n",
    "    session_date = datetime.strptime(session_date, '%Y-%m-%d')\n",
    "\n",
    "    data['session_date'] = session_date\n",
    "\n",
    "    if subject_id not in subject_dfs:\n",
    "        subject_dfs[subject_id] = []\n",
    "\n",
    "    subject_dfs[subject_id].append(data)\n",
    "\n",
    "# Concatenate unique subject_ids together, sort by date \n",
    "for subject_id in subject_dfs:\n",
    "    subject_data = pd.concat(subject_dfs[subject_id], ignore_index=True)\n",
    "\n",
    "    subject_data = subject_data.sort_values(by='session_date')\n",
    "\n",
    "    subject_data = subject_data.reset_index(drop=True)\n",
    "\n",
    "    subject_dfs[subject_id] = subject_data"
   ]
  },
  {
   "cell_type": "code",
   "execution_count": 35,
   "metadata": {},
   "outputs": [],
   "source": [
    "# Probability chosen metric calculation \n",
    "\n",
    "def calculate_probabilities(row):\n",
    "    # No response results in a NaN value\n",
    "    if row.animal_response == 2:\n",
    "        return np.nan, np.nan\n",
    "    # Chosen = left choice left probability, not chosen = left choice right probability \n",
    "    elif row.animal_response == 0:\n",
    "        return row.reward_probabilityL, row.reward_probabilityR\n",
    "    else: # Chosen = right choice right probability, not chosen = right choice left probability \n",
    "        return row.reward_probabilityR, row.reward_probabilityL\n"
   ]
  },
  {
   "cell_type": "code",
   "execution_count": 36,
   "metadata": {},
   "outputs": [],
   "source": [
    "def chosen_metric(df):\n",
    "    # Calculate the difference for each row\n",
    "    average = (df['probability_chosen'] - df['probability_not_chosen'])\n",
    "    \n",
    "    # Find global maximum\n",
    "    p_larger_global = max(df['probability_chosen'].max(), df['probability_not_chosen'].max())\n",
    "    \n",
    "    # Find global minimum\n",
    "    p_smaller_global = min(df['probability_chosen'].min(), df['probability_not_chosen'].min())\n",
    "    \n",
    "    # Calculate mean of the differences\n",
    "    mean_difference = average.mean()\n",
    "    \n",
    "    # Calculate final metric\n",
    "    final_metric = mean_difference / (p_larger_global - p_smaller_global)\n",
    "   \n",
    "    return(final_metric)"
   ]
  },
  {
   "cell_type": "code",
   "execution_count": 89,
   "metadata": {},
   "outputs": [],
   "source": [
    "def process_subject_data(subject_dfs):\n",
    "    \"\"\" \n",
    "    Process subject DataFrames to calculate probabilities and chosen metrics for each session / subject_id\n",
    "\n",
    "    Params:\n",
    "    subject_dfs (dict): Dictionary containing subject_id DataFrames\n",
    "\n",
    "    Returns:\n",
    "    processed_dfs (dict): Dictionary containing subject_id DataFrames with probability and chosen metrics\n",
    "    \"\"\" \n",
    "\n",
    "    processed_dfs = {}\n",
    "\n",
    "    for subject_id, subject_data in subject_dfs.items():\n",
    "        # Group data by session date\n",
    "        grouped_data = subject_data.groupby('session_date')\n",
    "\n",
    "        # Initialize lists to store results \n",
    "        session_dates = []\n",
    "        metrics = []\n",
    "        stages = []\n",
    "\n",
    "        for session_date, session_group in grouped_data:\n",
    "            # Calculate probabilities for current session\n",
    "            prob_chosen, prob_not_chosen = zip(*session_group.apply(calculate_probabilities, axis=1))\n",
    "\n",
    "            # Create temporary dataframe to store calculations\n",
    "            temp_df = pd.DataFrame({\n",
    "                'probability_chosen': prob_chosen,\n",
    "                'probability_not_chosen': prob_not_chosen\n",
    "            })\n",
    "\n",
    "            # Find chosen metric for this session\n",
    "            session_metric = chosen_metric(temp_df)\n",
    "\n",
    "            # Get stage for this session\n",
    "            stage = session_group['auto_train_stage'].iloc[0]\n",
    "\n",
    "            # Store result\n",
    "            session_dates.append(session_date)\n",
    "            metrics.append(session_metric)\n",
    "            stages.append(stage)\n",
    "\n",
    "            # Add probability columns\n",
    "            subject_data.loc[session_group.index, 'probability_chosen'] = prob_chosen\n",
    "            subject_data.loc[session_group.index, 'probability_not_chosen'] = prob_not_chosen\n",
    "\n",
    "        # Create summary dataframe for this subject\n",
    "        summary_df = pd.DataFrame({\n",
    "            'session_date': session_dates,\n",
    "            'chosen_metric': metrics,\n",
    "            'auto_train_stage': stages\n",
    "        })\n",
    "\n",
    "        summary_df = summary_df.sort_values('session_date')\n",
    "\n",
    "        # Store detailed and summary data\n",
    "        processed_dfs[subject_id] = {\n",
    "            'detailed_data': subject_data,\n",
    "            'summary_data': summary_df\n",
    "        }\n",
    "\n",
    "    return processed_dfs"
   ]
  },
  {
   "cell_type": "code",
   "execution_count": 90,
   "metadata": {},
   "outputs": [],
   "source": [
    "processed_results = process_subject_data(subject_dfs)"
   ]
  },
  {
   "cell_type": "code",
   "execution_count": 91,
   "metadata": {},
   "outputs": [],
   "source": [
    "subject_detailed_data = processed_results['711039']['detailed_data']\n",
    "subject_summary_data = processed_results['711039']['summary_data']"
   ]
  },
  {
   "cell_type": "code",
   "execution_count": 92,
   "metadata": {},
   "outputs": [
    {
     "data": {
      "text/plain": [
       "Index(['trial', 'animal_response', 'rewarded_historyL', 'rewarded_historyR',\n",
       "       'bait_left', 'bait_right', 'base_reward_probability_sum',\n",
       "       'reward_probabilityL', 'reward_probabilityR',\n",
       "       'reward_random_number_left', 'reward_random_number_right',\n",
       "       'left_valve_open_time', 'right_valve_open_time', 'block_beta',\n",
       "       'block_min', 'block_max', 'min_reward_each_block', 'delay_beta',\n",
       "       'delay_min', 'delay_max', 'delay_duration', 'ITI_beta', 'ITI_min',\n",
       "       'ITI_max', 'ITI_duration', 'response_duration',\n",
       "       'reward_consumption_duration', 'auto_waterL', 'auto_waterR',\n",
       "       'laser_on_trial', 'laser_wavelength', 'laser_location', 'laser_power',\n",
       "       'laser_duration', 'laser_condition', 'laser_condition_probability',\n",
       "       'laser_start', 'laser_start_offset', 'laser_end', 'laser_end_offset',\n",
       "       'laser_protocol', 'laser_frequency', 'laser_rampingdown',\n",
       "       'laser_pulse_duration', 'auto_train_engaged',\n",
       "       'auto_train_curriculum_name', 'auto_train_curriculum_version',\n",
       "       'auto_train_curriculum_schema_version', 'auto_train_stage',\n",
       "       'auto_train_stage_overridden', 'lickspout_position_x',\n",
       "       'lickspout_position_y', 'lickspout_position_z', 'reward_size_left',\n",
       "       'reward_size_right', 'ses_idx', 'start_time_in_session',\n",
       "       'start_time_in_trial', 'stop_time_in_session', 'stop_time_in_trial',\n",
       "       'delay_start_time_in_session', 'delay_start_time_in_trial',\n",
       "       'goCue_start_time_in_session', 'goCue_start_time_in_trial',\n",
       "       'reward_outcome_time_in_session', 'reward_outcome_time_in_trial',\n",
       "       'goCue_start_time_raw', 'reward_time_in_session',\n",
       "       'reward_time_in_trial', 'choice_time_in_session',\n",
       "       'choice_time_in_trial', 'earned_reward', 'extra_reward', 'session_date',\n",
       "       'probability_chosen', 'probability_not_chosen', 'chosen_metric'],\n",
       "      dtype='object')"
      ]
     },
     "execution_count": 92,
     "metadata": {},
     "output_type": "execute_result"
    }
   ],
   "source": [
    "subject_detailed_data.columns"
   ]
  },
  {
   "cell_type": "code",
   "execution_count": 93,
   "metadata": {},
   "outputs": [
    {
     "data": {
      "text/plain": [
       "0           STAGE_2\n",
       "1           STAGE_2\n",
       "2           STAGE_2\n",
       "3           STAGE_2\n",
       "4           STAGE_2\n",
       "           ...     \n",
       "8481    STAGE_FINAL\n",
       "8482    STAGE_FINAL\n",
       "8483    STAGE_FINAL\n",
       "8484    STAGE_FINAL\n",
       "8485    STAGE_FINAL\n",
       "Name: auto_train_stage, Length: 8486, dtype: object"
      ]
     },
     "execution_count": 93,
     "metadata": {},
     "output_type": "execute_result"
    }
   ],
   "source": [
    "subject_detailed_data.loc[:, 'auto_train_stage']"
   ]
  },
  {
   "cell_type": "code",
   "execution_count": 94,
   "metadata": {},
   "outputs": [
    {
     "data": {
      "text/html": [
       "<div>\n",
       "<style scoped>\n",
       "    .dataframe tbody tr th:only-of-type {\n",
       "        vertical-align: middle;\n",
       "    }\n",
       "\n",
       "    .dataframe tbody tr th {\n",
       "        vertical-align: top;\n",
       "    }\n",
       "\n",
       "    .dataframe thead th {\n",
       "        text-align: right;\n",
       "    }\n",
       "</style>\n",
       "<table border=\"1\" class=\"dataframe\">\n",
       "  <thead>\n",
       "    <tr style=\"text-align: right;\">\n",
       "      <th></th>\n",
       "      <th>trial</th>\n",
       "      <th>session_date</th>\n",
       "      <th>auto_train_stage</th>\n",
       "      <th>animal_response</th>\n",
       "      <th>reward_probabilityL</th>\n",
       "      <th>reward_probabilityR</th>\n",
       "      <th>probability_chosen</th>\n",
       "      <th>probability_not_chosen</th>\n",
       "      <th>chosen_metric</th>\n",
       "    </tr>\n",
       "  </thead>\n",
       "  <tbody>\n",
       "    <tr>\n",
       "      <th>0</th>\n",
       "      <td>149</td>\n",
       "      <td>2024-08-07</td>\n",
       "      <td>STAGE_2</td>\n",
       "      <td>1.0</td>\n",
       "      <td>0.088889</td>\n",
       "      <td>0.711111</td>\n",
       "      <td>0.711111</td>\n",
       "      <td>0.088889</td>\n",
       "      <td>0.359699</td>\n",
       "    </tr>\n",
       "    <tr>\n",
       "      <th>1</th>\n",
       "      <td>219</td>\n",
       "      <td>2024-08-07</td>\n",
       "      <td>STAGE_2</td>\n",
       "      <td>2.0</td>\n",
       "      <td>0.711111</td>\n",
       "      <td>0.088889</td>\n",
       "      <td>NaN</td>\n",
       "      <td>NaN</td>\n",
       "      <td>0.447563</td>\n",
       "    </tr>\n",
       "    <tr>\n",
       "      <th>2</th>\n",
       "      <td>218</td>\n",
       "      <td>2024-08-07</td>\n",
       "      <td>STAGE_2</td>\n",
       "      <td>1.0</td>\n",
       "      <td>0.711111</td>\n",
       "      <td>0.088889</td>\n",
       "      <td>0.088889</td>\n",
       "      <td>0.711111</td>\n",
       "      <td>0.317986</td>\n",
       "    </tr>\n",
       "    <tr>\n",
       "      <th>3</th>\n",
       "      <td>217</td>\n",
       "      <td>2024-08-07</td>\n",
       "      <td>STAGE_2</td>\n",
       "      <td>1.0</td>\n",
       "      <td>0.711111</td>\n",
       "      <td>0.088889</td>\n",
       "      <td>0.088889</td>\n",
       "      <td>0.711111</td>\n",
       "      <td>0.086239</td>\n",
       "    </tr>\n",
       "    <tr>\n",
       "      <th>4</th>\n",
       "      <td>216</td>\n",
       "      <td>2024-08-07</td>\n",
       "      <td>STAGE_2</td>\n",
       "      <td>1.0</td>\n",
       "      <td>0.711111</td>\n",
       "      <td>0.088889</td>\n",
       "      <td>0.088889</td>\n",
       "      <td>0.711111</td>\n",
       "      <td>0.293666</td>\n",
       "    </tr>\n",
       "    <tr>\n",
       "      <th>5</th>\n",
       "      <td>215</td>\n",
       "      <td>2024-08-07</td>\n",
       "      <td>STAGE_2</td>\n",
       "      <td>1.0</td>\n",
       "      <td>0.088889</td>\n",
       "      <td>0.711111</td>\n",
       "      <td>0.711111</td>\n",
       "      <td>0.088889</td>\n",
       "      <td>0.245779</td>\n",
       "    </tr>\n",
       "    <tr>\n",
       "      <th>6</th>\n",
       "      <td>214</td>\n",
       "      <td>2024-08-07</td>\n",
       "      <td>STAGE_2</td>\n",
       "      <td>1.0</td>\n",
       "      <td>0.088889</td>\n",
       "      <td>0.711111</td>\n",
       "      <td>0.711111</td>\n",
       "      <td>0.088889</td>\n",
       "      <td>0.149007</td>\n",
       "    </tr>\n",
       "    <tr>\n",
       "      <th>7</th>\n",
       "      <td>213</td>\n",
       "      <td>2024-08-07</td>\n",
       "      <td>STAGE_2</td>\n",
       "      <td>1.0</td>\n",
       "      <td>0.088889</td>\n",
       "      <td>0.711111</td>\n",
       "      <td>0.711111</td>\n",
       "      <td>0.088889</td>\n",
       "      <td>0.185550</td>\n",
       "    </tr>\n",
       "    <tr>\n",
       "      <th>8</th>\n",
       "      <td>220</td>\n",
       "      <td>2024-08-07</td>\n",
       "      <td>STAGE_2</td>\n",
       "      <td>1.0</td>\n",
       "      <td>0.711111</td>\n",
       "      <td>0.088889</td>\n",
       "      <td>0.088889</td>\n",
       "      <td>0.711111</td>\n",
       "      <td>0.377432</td>\n",
       "    </tr>\n",
       "    <tr>\n",
       "      <th>9</th>\n",
       "      <td>212</td>\n",
       "      <td>2024-08-07</td>\n",
       "      <td>STAGE_2</td>\n",
       "      <td>1.0</td>\n",
       "      <td>0.088889</td>\n",
       "      <td>0.711111</td>\n",
       "      <td>0.711111</td>\n",
       "      <td>0.088889</td>\n",
       "      <td>0.243697</td>\n",
       "    </tr>\n",
       "    <tr>\n",
       "      <th>10</th>\n",
       "      <td>210</td>\n",
       "      <td>2024-08-07</td>\n",
       "      <td>STAGE_2</td>\n",
       "      <td>1.0</td>\n",
       "      <td>0.088889</td>\n",
       "      <td>0.711111</td>\n",
       "      <td>0.711111</td>\n",
       "      <td>0.088889</td>\n",
       "      <td>0.107582</td>\n",
       "    </tr>\n",
       "    <tr>\n",
       "      <th>11</th>\n",
       "      <td>209</td>\n",
       "      <td>2024-08-07</td>\n",
       "      <td>STAGE_2</td>\n",
       "      <td>1.0</td>\n",
       "      <td>0.088889</td>\n",
       "      <td>0.711111</td>\n",
       "      <td>0.711111</td>\n",
       "      <td>0.088889</td>\n",
       "      <td>0.312388</td>\n",
       "    </tr>\n",
       "    <tr>\n",
       "      <th>12</th>\n",
       "      <td>208</td>\n",
       "      <td>2024-08-07</td>\n",
       "      <td>STAGE_2</td>\n",
       "      <td>1.0</td>\n",
       "      <td>0.088889</td>\n",
       "      <td>0.711111</td>\n",
       "      <td>0.711111</td>\n",
       "      <td>0.088889</td>\n",
       "      <td>0.189687</td>\n",
       "    </tr>\n",
       "    <tr>\n",
       "      <th>13</th>\n",
       "      <td>207</td>\n",
       "      <td>2024-08-07</td>\n",
       "      <td>STAGE_2</td>\n",
       "      <td>1.0</td>\n",
       "      <td>0.088889</td>\n",
       "      <td>0.711111</td>\n",
       "      <td>0.711111</td>\n",
       "      <td>0.088889</td>\n",
       "      <td>0.177189</td>\n",
       "    </tr>\n",
       "    <tr>\n",
       "      <th>14</th>\n",
       "      <td>206</td>\n",
       "      <td>2024-08-07</td>\n",
       "      <td>STAGE_2</td>\n",
       "      <td>1.0</td>\n",
       "      <td>0.088889</td>\n",
       "      <td>0.711111</td>\n",
       "      <td>0.711111</td>\n",
       "      <td>0.088889</td>\n",
       "      <td>NaN</td>\n",
       "    </tr>\n",
       "    <tr>\n",
       "      <th>15</th>\n",
       "      <td>205</td>\n",
       "      <td>2024-08-07</td>\n",
       "      <td>STAGE_2</td>\n",
       "      <td>2.0</td>\n",
       "      <td>0.088889</td>\n",
       "      <td>0.711111</td>\n",
       "      <td>NaN</td>\n",
       "      <td>NaN</td>\n",
       "      <td>NaN</td>\n",
       "    </tr>\n",
       "    <tr>\n",
       "      <th>16</th>\n",
       "      <td>204</td>\n",
       "      <td>2024-08-07</td>\n",
       "      <td>STAGE_2</td>\n",
       "      <td>0.0</td>\n",
       "      <td>0.088889</td>\n",
       "      <td>0.711111</td>\n",
       "      <td>0.088889</td>\n",
       "      <td>0.711111</td>\n",
       "      <td>NaN</td>\n",
       "    </tr>\n",
       "    <tr>\n",
       "      <th>17</th>\n",
       "      <td>211</td>\n",
       "      <td>2024-08-07</td>\n",
       "      <td>STAGE_2</td>\n",
       "      <td>1.0</td>\n",
       "      <td>0.088889</td>\n",
       "      <td>0.711111</td>\n",
       "      <td>0.711111</td>\n",
       "      <td>0.088889</td>\n",
       "      <td>NaN</td>\n",
       "    </tr>\n",
       "    <tr>\n",
       "      <th>18</th>\n",
       "      <td>203</td>\n",
       "      <td>2024-08-07</td>\n",
       "      <td>STAGE_2</td>\n",
       "      <td>0.0</td>\n",
       "      <td>0.088889</td>\n",
       "      <td>0.711111</td>\n",
       "      <td>0.088889</td>\n",
       "      <td>0.711111</td>\n",
       "      <td>NaN</td>\n",
       "    </tr>\n",
       "    <tr>\n",
       "      <th>19</th>\n",
       "      <td>221</td>\n",
       "      <td>2024-08-07</td>\n",
       "      <td>STAGE_2</td>\n",
       "      <td>1.0</td>\n",
       "      <td>0.711111</td>\n",
       "      <td>0.088889</td>\n",
       "      <td>0.088889</td>\n",
       "      <td>0.711111</td>\n",
       "      <td>NaN</td>\n",
       "    </tr>\n",
       "  </tbody>\n",
       "</table>\n",
       "</div>"
      ],
      "text/plain": [
       "    trial session_date auto_train_stage  animal_response  reward_probabilityL  \\\n",
       "0     149   2024-08-07          STAGE_2              1.0             0.088889   \n",
       "1     219   2024-08-07          STAGE_2              2.0             0.711111   \n",
       "2     218   2024-08-07          STAGE_2              1.0             0.711111   \n",
       "3     217   2024-08-07          STAGE_2              1.0             0.711111   \n",
       "4     216   2024-08-07          STAGE_2              1.0             0.711111   \n",
       "5     215   2024-08-07          STAGE_2              1.0             0.088889   \n",
       "6     214   2024-08-07          STAGE_2              1.0             0.088889   \n",
       "7     213   2024-08-07          STAGE_2              1.0             0.088889   \n",
       "8     220   2024-08-07          STAGE_2              1.0             0.711111   \n",
       "9     212   2024-08-07          STAGE_2              1.0             0.088889   \n",
       "10    210   2024-08-07          STAGE_2              1.0             0.088889   \n",
       "11    209   2024-08-07          STAGE_2              1.0             0.088889   \n",
       "12    208   2024-08-07          STAGE_2              1.0             0.088889   \n",
       "13    207   2024-08-07          STAGE_2              1.0             0.088889   \n",
       "14    206   2024-08-07          STAGE_2              1.0             0.088889   \n",
       "15    205   2024-08-07          STAGE_2              2.0             0.088889   \n",
       "16    204   2024-08-07          STAGE_2              0.0             0.088889   \n",
       "17    211   2024-08-07          STAGE_2              1.0             0.088889   \n",
       "18    203   2024-08-07          STAGE_2              0.0             0.088889   \n",
       "19    221   2024-08-07          STAGE_2              1.0             0.711111   \n",
       "\n",
       "    reward_probabilityR  probability_chosen  probability_not_chosen  \\\n",
       "0              0.711111            0.711111                0.088889   \n",
       "1              0.088889                 NaN                     NaN   \n",
       "2              0.088889            0.088889                0.711111   \n",
       "3              0.088889            0.088889                0.711111   \n",
       "4              0.088889            0.088889                0.711111   \n",
       "5              0.711111            0.711111                0.088889   \n",
       "6              0.711111            0.711111                0.088889   \n",
       "7              0.711111            0.711111                0.088889   \n",
       "8              0.088889            0.088889                0.711111   \n",
       "9              0.711111            0.711111                0.088889   \n",
       "10             0.711111            0.711111                0.088889   \n",
       "11             0.711111            0.711111                0.088889   \n",
       "12             0.711111            0.711111                0.088889   \n",
       "13             0.711111            0.711111                0.088889   \n",
       "14             0.711111            0.711111                0.088889   \n",
       "15             0.711111                 NaN                     NaN   \n",
       "16             0.711111            0.088889                0.711111   \n",
       "17             0.711111            0.711111                0.088889   \n",
       "18             0.711111            0.088889                0.711111   \n",
       "19             0.088889            0.088889                0.711111   \n",
       "\n",
       "    chosen_metric  \n",
       "0        0.359699  \n",
       "1        0.447563  \n",
       "2        0.317986  \n",
       "3        0.086239  \n",
       "4        0.293666  \n",
       "5        0.245779  \n",
       "6        0.149007  \n",
       "7        0.185550  \n",
       "8        0.377432  \n",
       "9        0.243697  \n",
       "10       0.107582  \n",
       "11       0.312388  \n",
       "12       0.189687  \n",
       "13       0.177189  \n",
       "14            NaN  \n",
       "15            NaN  \n",
       "16            NaN  \n",
       "17            NaN  \n",
       "18            NaN  \n",
       "19            NaN  "
      ]
     },
     "execution_count": 94,
     "metadata": {},
     "output_type": "execute_result"
    }
   ],
   "source": [
    "new_sample = subject_detailed_data.loc[:, ['trial', 'session_date', 'auto_train_stage', 'animal_response', 'reward_probabilityL', 'reward_probabilityR', 'probability_chosen', 'probability_not_chosen', 'chosen_metric']]\n",
    "new_sample.head(20)"
   ]
  },
  {
   "cell_type": "code",
   "execution_count": 95,
   "metadata": {},
   "outputs": [
    {
     "data": {
      "text/html": [
       "<div>\n",
       "<style scoped>\n",
       "    .dataframe tbody tr th:only-of-type {\n",
       "        vertical-align: middle;\n",
       "    }\n",
       "\n",
       "    .dataframe tbody tr th {\n",
       "        vertical-align: top;\n",
       "    }\n",
       "\n",
       "    .dataframe thead th {\n",
       "        text-align: right;\n",
       "    }\n",
       "</style>\n",
       "<table border=\"1\" class=\"dataframe\">\n",
       "  <thead>\n",
       "    <tr style=\"text-align: right;\">\n",
       "      <th></th>\n",
       "      <th>session_date</th>\n",
       "      <th>chosen_metric</th>\n",
       "      <th>auto_train_stage</th>\n",
       "    </tr>\n",
       "  </thead>\n",
       "  <tbody>\n",
       "    <tr>\n",
       "      <th>0</th>\n",
       "      <td>2024-08-07</td>\n",
       "      <td>0.359699</td>\n",
       "      <td>STAGE_2</td>\n",
       "    </tr>\n",
       "    <tr>\n",
       "      <th>1</th>\n",
       "      <td>2024-08-08</td>\n",
       "      <td>0.447563</td>\n",
       "      <td>STAGE_2</td>\n",
       "    </tr>\n",
       "    <tr>\n",
       "      <th>2</th>\n",
       "      <td>2024-08-09</td>\n",
       "      <td>0.317986</td>\n",
       "      <td>STAGE_2</td>\n",
       "    </tr>\n",
       "    <tr>\n",
       "      <th>3</th>\n",
       "      <td>2024-08-12</td>\n",
       "      <td>0.086239</td>\n",
       "      <td>STAGE_3</td>\n",
       "    </tr>\n",
       "    <tr>\n",
       "      <th>4</th>\n",
       "      <td>2024-08-14</td>\n",
       "      <td>0.293666</td>\n",
       "      <td>STAGE_3</td>\n",
       "    </tr>\n",
       "    <tr>\n",
       "      <th>5</th>\n",
       "      <td>2024-08-15</td>\n",
       "      <td>0.245779</td>\n",
       "      <td>STAGE_3</td>\n",
       "    </tr>\n",
       "    <tr>\n",
       "      <th>6</th>\n",
       "      <td>2024-08-16</td>\n",
       "      <td>0.149007</td>\n",
       "      <td>STAGE_3</td>\n",
       "    </tr>\n",
       "    <tr>\n",
       "      <th>7</th>\n",
       "      <td>2024-08-19</td>\n",
       "      <td>0.185550</td>\n",
       "      <td>STAGE_3</td>\n",
       "    </tr>\n",
       "    <tr>\n",
       "      <th>8</th>\n",
       "      <td>2024-08-20</td>\n",
       "      <td>0.377432</td>\n",
       "      <td>STAGE_3</td>\n",
       "    </tr>\n",
       "    <tr>\n",
       "      <th>9</th>\n",
       "      <td>2024-08-28</td>\n",
       "      <td>0.243697</td>\n",
       "      <td>STAGE_FINAL</td>\n",
       "    </tr>\n",
       "    <tr>\n",
       "      <th>10</th>\n",
       "      <td>2024-09-04</td>\n",
       "      <td>0.107582</td>\n",
       "      <td>STAGE_FINAL</td>\n",
       "    </tr>\n",
       "    <tr>\n",
       "      <th>11</th>\n",
       "      <td>2024-09-05</td>\n",
       "      <td>0.312388</td>\n",
       "      <td>STAGE_FINAL</td>\n",
       "    </tr>\n",
       "    <tr>\n",
       "      <th>12</th>\n",
       "      <td>2024-09-06</td>\n",
       "      <td>0.189687</td>\n",
       "      <td>STAGE_FINAL</td>\n",
       "    </tr>\n",
       "    <tr>\n",
       "      <th>13</th>\n",
       "      <td>2024-09-09</td>\n",
       "      <td>0.177189</td>\n",
       "      <td>STAGE_FINAL</td>\n",
       "    </tr>\n",
       "  </tbody>\n",
       "</table>\n",
       "</div>"
      ],
      "text/plain": [
       "   session_date  chosen_metric auto_train_stage\n",
       "0    2024-08-07       0.359699          STAGE_2\n",
       "1    2024-08-08       0.447563          STAGE_2\n",
       "2    2024-08-09       0.317986          STAGE_2\n",
       "3    2024-08-12       0.086239          STAGE_3\n",
       "4    2024-08-14       0.293666          STAGE_3\n",
       "5    2024-08-15       0.245779          STAGE_3\n",
       "6    2024-08-16       0.149007          STAGE_3\n",
       "7    2024-08-19       0.185550          STAGE_3\n",
       "8    2024-08-20       0.377432          STAGE_3\n",
       "9    2024-08-28       0.243697      STAGE_FINAL\n",
       "10   2024-09-04       0.107582      STAGE_FINAL\n",
       "11   2024-09-05       0.312388      STAGE_FINAL\n",
       "12   2024-09-06       0.189687      STAGE_FINAL\n",
       "13   2024-09-09       0.177189      STAGE_FINAL"
      ]
     },
     "execution_count": 95,
     "metadata": {},
     "output_type": "execute_result"
    }
   ],
   "source": [
    "subject_summary_data.head(20)"
   ]
  },
  {
   "cell_type": "code",
   "execution_count": 75,
   "metadata": {},
   "outputs": [
    {
     "data": {
      "text/plain": [
       "<Axes: xlabel='None', ylabel='chosen_metric'>"
      ]
     },
     "execution_count": 75,
     "metadata": {},
     "output_type": "execute_result"
    },
    {
     "data": {
      "image/png": "[encoded data removed]",
      "text/plain": [
       "<Figure size 640x480 with 1 Axes>"
      ]
     },
     "metadata": {},
     "output_type": "display_data"
    }
   ],
   "source": [
    "sns.lineplot(subject_summary_data, x=subject_summary_data.index, y='chosen_metric')"
   ]
  },
  {
   "cell_type": "code",
   "execution_count": null,
   "metadata": {},
   "outputs": [],
   "source": []
  }
 ],
 "metadata": {
  "kernelspec": {
   "display_name": "base",
   "language": "python",
   "name": "python3"
  },
  "language_info": {
   "codemirror_mode": {
    "name": "ipython",
    "version": 3
   },
   "file_extension": ".py",
   "mimetype": "text/x-python",
   "name": "python",
   "nbconvert_exporter": "python",
   "pygments_lexer": "ipython3",
   "version": "3.9.12"
  },
  "orig_nbformat": 4,
  "vscode": {
   "interpreter": {
    "hash": "d4d1e4263499bec80672ea0156c357c1ee493ec2b1c70f0acce89fc37c4a6abe"
   }
  }
 },
 "nbformat": 4,
 "nbformat_minor": 2
}

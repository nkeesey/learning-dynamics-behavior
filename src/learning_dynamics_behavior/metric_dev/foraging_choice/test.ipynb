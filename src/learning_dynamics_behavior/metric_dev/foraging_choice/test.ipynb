{
 "cells": [
  {
   "cell_type": "code",
   "execution_count": 1,
   "metadata": {},
   "outputs": [],
   "source": [
    "import numpy as np\n",
    "from pynwb import NWBHDF5IO\n",
    "\n",
    "\n",
    "def get_history_from_nwb(nwb_file):\n",
    "    \"\"\"Get choice and reward history from nwb file\"\"\"\n",
    "\n",
    "    io = NWBHDF5IO(nwb_file, mode=\"r\")\n",
    "    nwb = io.read()\n",
    "    df_trial = nwb.trials.to_dataframe()\n",
    "\n",
    "    autowater_offered = (df_trial.auto_waterL == 1) | (df_trial.auto_waterR == 1)\n",
    "    choice_history = df_trial.animal_response.map({0: 0, 1: 1, 2: np.nan}).values\n",
    "    reward_history = df_trial.rewarded_historyL | df_trial.rewarded_historyR\n",
    "    p_reward = [\n",
    "        df_trial.reward_probabilityL.values,\n",
    "        df_trial.reward_probabilityR.values,\n",
    "    ]\n",
    "    random_number = [\n",
    "        df_trial.reward_random_number_left.values,\n",
    "        df_trial.reward_random_number_right.values,\n",
    "    ]\n",
    "\n",
    "    baiting = False if \"without baiting\" in nwb.protocol.lower() else True\n",
    "\n",
    "    return (\n",
    "        baiting,\n",
    "        choice_history,\n",
    "        reward_history,\n",
    "        p_reward,\n",
    "        autowater_offered,\n",
    "        random_number,\n",
    "    )"
   ]
  },
  {
   "cell_type": "code",
   "execution_count": 2,
   "metadata": {},
   "outputs": [],
   "source": [
    "file_path = '/Users/nickkeesey/Desktop/learning-dynamics-behavior/data/771432_2024-12-09_14-31-27.nwb'\n",
    "baiting, choice_history, reward_history, p_reward, autowater_offered, random_number = get_history_from_nwb(file_path)"
   ]
  },
  {
   "cell_type": "code",
   "execution_count": 7,
   "metadata": {},
   "outputs": [
    {
     "name": "stdout",
     "output_type": "stream",
     "text": [
      "Type of p_reward: <class 'list'>\n",
      "Type of p_reward[0]: <class 'numpy.ndarray'>\n",
      "Shape of p_reward[0]: (670,)\n",
      "Shape of p_reward[1]: (670,)\n"
     ]
    }
   ],
   "source": [
    "print(f\"Type of p_reward: {type(p_reward)}\")\n",
    "print(f\"Type of p_reward[0]: {type(p_reward[0])}\")\n",
    "print(f\"Shape of p_reward[0]: {p_reward[0].shape}\")\n",
    "print(f\"Shape of p_reward[1]: {p_reward[1].shape}\")"
   ]
  },
  {
   "cell_type": "code",
   "execution_count": 8,
   "metadata": {},
   "outputs": [
    {
     "name": "stdout",
     "output_type": "stream",
     "text": [
      "Left probabilities stats:\n",
      "Mean: 0.2423880597014925\n",
      "Std: 0.3772567499459981\n",
      "Min: 0.0\n",
      "Max: 1.0\n"
     ]
    }
   ],
   "source": [
    "print(\"Left probabilities stats:\")\n",
    "print(f\"Mean: {np.mean(p_reward[0])}\")\n",
    "print(f\"Std: {np.std(p_reward[0])}\")\n",
    "print(f\"Min: {np.min(p_reward[0])}\")\n",
    "print(f\"Max: {np.max(p_reward[0])}\")"
   ]
  },
  {
   "cell_type": "code",
   "execution_count": 9,
   "metadata": {},
   "outputs": [
    {
     "name": "stdout",
     "output_type": "stream",
     "text": [
      "Right probabilities stats:\n",
      "Mean: 0.5728358208955223\n",
      "Std: 0.37173576705491795\n",
      "Min: 0.0\n",
      "Max: 1.0\n"
     ]
    }
   ],
   "source": [
    "print(\"Right probabilities stats:\")\n",
    "print(f\"Mean: {np.mean(p_reward[1])}\")\n",
    "print(f\"Std: {np.std(p_reward[1])}\")\n",
    "print(f\"Min: {np.min(p_reward[1])}\")\n",
    "print(f\"Max: {np.max(p_reward[1])}\")"
   ]
  },
  {
   "cell_type": "code",
   "execution_count": 18,
   "metadata": {},
   "outputs": [
    {
     "data": {
      "text/plain": [
       "670"
      ]
     },
     "execution_count": 18,
     "metadata": {},
     "output_type": "execute_result"
    }
   ],
   "source": [
    "len(p_reward[0])"
   ]
  },
  {
   "cell_type": "code",
   "execution_count": 10,
   "metadata": {},
   "outputs": [],
   "source": [
    "import foraging_choice as fc"
   ]
  },
  {
   "cell_type": "code",
   "execution_count": 11,
   "metadata": {},
   "outputs": [],
   "source": [
    "\n",
    "block_numbers, block_lengths, max_block_length, median_block_length = fc.add_block_transitions_and_stats(p_reward)\n"
   ]
  },
  {
   "cell_type": "code",
   "execution_count": 21,
   "metadata": {},
   "outputs": [
    {
     "name": "stdout",
     "output_type": "stream",
     "text": [
      "(670,)\n",
      "(68,)\n",
      "159\n",
      "1.0\n"
     ]
    }
   ],
   "source": [
    "print(block_numbers.shape)\n",
    "print(block_lengths.shape)\n",
    "print(max_block_length)\n",
    "print(median_block_length)\n",
    "\n"
   ]
  },
  {
   "cell_type": "code",
   "execution_count": null,
   "metadata": {},
   "outputs": [],
   "source": []
  }
 ],
 "metadata": {
  "kernelspec": {
   "display_name": "Main",
   "language": "python",
   "name": "python3"
  },
  "language_info": {
   "codemirror_mode": {
    "name": "ipython",
    "version": 3
   },
   "file_extension": ".py",
   "mimetype": "text/x-python",
   "name": "python",
   "nbconvert_exporter": "python",
   "pygments_lexer": "ipython3",
   "version": "3.12.3"
  }
 },
 "nbformat": 4,
 "nbformat_minor": 2
}

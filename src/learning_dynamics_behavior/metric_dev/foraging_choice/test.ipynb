{
 "cells": [
  {
   "cell_type": "code",
   "execution_count": 9,
   "metadata": {},
   "outputs": [
    {
     "name": "stdout",
     "output_type": "stream",
     "text": [
      "['ForagingSessionData', 'List', 'Tuple', 'Union', '__builtins__', '__cached__', '__doc__', '__file__', '__loader__', '__name__', '__package__', '__spec__', 'add_block_transitions_and_stats', 'compute_foraging_choice', 'np', 'pd']\n"
     ]
    }
   ],
   "source": [
    "import numpy as np\n",
    "from pynwb import NWBHDF5IO\n",
    "\n",
    "import importlib\n",
    "import foraging_choice as fc\n",
    "from foraging_choice import compute_foraging_choice\n",
    "\n",
    "importlib.reload(fc)\n",
    "print(dir(fc))\n",
    "\n",
    "def get_history_from_nwb(nwb_file):\n",
    "    \"\"\"Get choice and reward history from nwb file\"\"\"\n",
    "\n",
    "    io = NWBHDF5IO(nwb_file, mode=\"r\")\n",
    "    nwb = io.read()\n",
    "    df_trial = nwb.trials.to_dataframe()\n",
    "\n",
    "    autowater_offered = (df_trial.auto_waterL == 1) | (df_trial.auto_waterR == 1)\n",
    "    choice_history = df_trial.animal_response.map({0: 0, 1: 1, 2: np.nan}).values\n",
    "    reward_history = df_trial.rewarded_historyL | df_trial.rewarded_historyR\n",
    "    p_reward = [\n",
    "        df_trial.reward_probabilityL.values,\n",
    "        df_trial.reward_probabilityR.values,\n",
    "    ]\n",
    "    random_number = [\n",
    "        df_trial.reward_random_number_left.values,\n",
    "        df_trial.reward_random_number_right.values,\n",
    "    ]\n",
    "\n",
    "    baiting = False if \"without baiting\" in nwb.protocol.lower() else True\n",
    "\n",
    "    return (\n",
    "        baiting,\n",
    "        choice_history,\n",
    "        reward_history,\n",
    "        p_reward,\n",
    "        autowater_offered,\n",
    "        random_number,\n",
    "    )"
   ]
  },
  {
   "cell_type": "code",
   "execution_count": 2,
   "metadata": {},
   "outputs": [],
   "source": [
    "working_file = '/Users/nickkeesey/Desktop/learning-dynamics-behavior/data/769887_2024-11-04_09-24-25.nwb'"
   ]
  },
  {
   "cell_type": "code",
   "execution_count": 3,
   "metadata": {},
   "outputs": [],
   "source": [
    "file_path = working_file\n",
    "baiting, choice_history, reward_history, p_reward, autowater_offered, random_number = get_history_from_nwb(working_file)"
   ]
  },
  {
   "cell_type": "code",
   "execution_count": 4,
   "metadata": {},
   "outputs": [
    {
     "name": "stdout",
     "output_type": "stream",
     "text": [
      "\n",
      "Choice History Stats:\n",
      "Type: <class 'numpy.ndarray'>\n",
      "Length: 594\n",
      "Dtype: float64\n",
      "Number of unique values: 2\n",
      "Missing values: 252\n",
      "Mean: 0.4152046783625731\n",
      "Std: 0.49275729667698\n",
      "Min: 0.0\n",
      "Max: 1.0\n",
      "\n",
      "Reward History Stats:\n",
      "Type: <class 'pandas.core.series.Series'>\n",
      "Length: 594\n",
      "Dtype: bool\n",
      "Number of unique values: 2\n",
      "Missing values: 0\n",
      "True count: 59\n",
      "False count: 535\n",
      "\n",
      "P Reward Stats:\n",
      "Type: <class 'list'>\n",
      "Left Side:\n",
      "Length: 594\n",
      "Dtype: float64\n",
      "Number of unique values: 3\n",
      "Missing values: 0\n",
      "Mean: 0.2956228956228957\n",
      "Std: 0.39731552805806597\n",
      "Min: 0.0\n",
      "Max: 1.0\n",
      "\n",
      "Right Side:\n",
      "Length: 594\n",
      "Dtype: float64\n",
      "Number of unique values: 3\n",
      "Missing values: 0\n",
      "Mean: 0.5215488215488214\n",
      "Std: 0.39197371391153407\n",
      "Min: 0.0\n",
      "Max: 1.0\n",
      "\n",
      "Autowater Offered Stats:\n",
      "Type: <class 'pandas.core.series.Series'>\n",
      "Length: 594\n",
      "Dtype: bool\n",
      "Number of unique values: 2\n",
      "Missing values: 0\n",
      "True count: 186\n",
      "False count: 408\n"
     ]
    }
   ],
   "source": [
    "# Print types for all variables\n",
    "\n",
    "# Print stats for choice_history\n",
    "print(\"\\nChoice History Stats:\")\n",
    "print(f\"Type: {type(choice_history)}\")\n",
    "print(f\"Length: {len(choice_history)}\")\n",
    "print(f\"Dtype: {choice_history.dtype}\")\n",
    "print(f\"Number of unique values: {len(np.unique(choice_history[~np.isnan(choice_history)]))}\")\n",
    "print(f\"Missing values: {np.sum(np.isnan(choice_history))}\")\n",
    "print(f\"Mean: {np.nanmean(choice_history)}\")\n",
    "print(f\"Std: {np.nanstd(choice_history)}\")\n",
    "print(f\"Min: {np.nanmin(choice_history)}\")\n",
    "print(f\"Max: {np.nanmax(choice_history)}\")\n",
    "\n",
    "# Print stats for reward_history\n",
    "print(\"\\nReward History Stats:\")\n",
    "print(f\"Type: {type(reward_history)}\")\n",
    "print(f\"Length: {len(reward_history)}\")\n",
    "print(f\"Dtype: {reward_history.dtype}\")\n",
    "print(f\"Number of unique values: {reward_history.nunique()}\")\n",
    "print(f\"Missing values: {reward_history.isna().sum()}\")\n",
    "print(f\"True count: {reward_history.sum()}\")\n",
    "print(f\"False count: {(~reward_history).sum()}\")\n",
    "\n",
    "# Print stats for p_reward\n",
    "print(\"\\nP Reward Stats:\")\n",
    "print(f\"Type: {type(p_reward)}\")\n",
    "print(\"Left Side:\")\n",
    "print(f\"Length: {len(p_reward[0])}\")\n",
    "print(f\"Dtype: {p_reward[0].dtype}\")\n",
    "print(f\"Number of unique values: {len(np.unique(p_reward[0]))}\")\n",
    "print(f\"Missing values: {np.sum(np.isnan(p_reward[0]))}\")\n",
    "print(f\"Mean: {np.mean(p_reward[0])}\")\n",
    "print(f\"Std: {np.std(p_reward[0])}\")\n",
    "print(f\"Min: {np.min(p_reward[0])}\")\n",
    "print(f\"Max: {np.max(p_reward[0])}\")\n",
    "print(\"\\nRight Side:\")\n",
    "print(f\"Length: {len(p_reward[1])}\")\n",
    "print(f\"Dtype: {p_reward[1].dtype}\")\n",
    "print(f\"Number of unique values: {len(np.unique(p_reward[1]))}\")\n",
    "print(f\"Missing values: {np.sum(np.isnan(p_reward[1]))}\")\n",
    "print(f\"Mean: {np.mean(p_reward[1])}\")\n",
    "print(f\"Std: {np.std(p_reward[1])}\")\n",
    "print(f\"Min: {np.min(p_reward[1])}\")\n",
    "print(f\"Max: {np.max(p_reward[1])}\")\n",
    "\n",
    "# Print stats for autowater_offered\n",
    "print(\"\\nAutowater Offered Stats:\")\n",
    "print(f\"Type: {type(autowater_offered)}\")\n",
    "print(f\"Length: {len(autowater_offered)}\")\n",
    "print(f\"Dtype: {autowater_offered.dtype}\")\n",
    "print(f\"Number of unique values: {autowater_offered.nunique()}\")\n",
    "print(f\"Missing values: {autowater_offered.isna().sum()}\")\n",
    "print(f\"True count: {autowater_offered.sum()}\")\n",
    "print(f\"False count: {(~autowater_offered).sum()}\")\n"
   ]
  },
  {
   "cell_type": "code",
   "execution_count": 5,
   "metadata": {},
   "outputs": [
    {
     "name": "stdout",
     "output_type": "stream",
     "text": [
      "['ForagingSessionData', 'List', 'Tuple', 'Union', '__builtins__', '__cached__', '__doc__', '__file__', '__loader__', '__name__', '__package__', '__spec__', 'add_block_transitions_and_stats', 'compute_foraging_choice', 'np', 'pd']\n"
     ]
    }
   ],
   "source": [
    "import importlib\n",
    "importlib.reload(fc)\n",
    "print(dir(fc))"
   ]
  },
  {
   "cell_type": "code",
   "execution_count": 10,
   "metadata": {},
   "outputs": [
    {
     "name": "stdout",
     "output_type": "stream",
     "text": [
      "global_metric: 0.3106060606060606\n",
      "local_metric: 0.8237460397692911\n"
     ]
    }
   ],
   "source": [
    "local_metric, global_metric = compute_foraging_choice(choice_history, \n",
    "                                          reward_history, \n",
    "                                          p_reward, \n",
    "                                          autowater_offered,\n",
    "                                          global_calc=None)  # Set to None to get both metrics\n",
    "\n",
    "print(f'global_metric: {global_metric}')\n",
    "print(f'local_metric: {local_metric}')"
   ]
  }
 ],
 "metadata": {
  "kernelspec": {
   "display_name": "Main",
   "language": "python",
   "name": "python3"
  },
  "language_info": {
   "codemirror_mode": {
    "name": "ipython",
    "version": 3
   },
   "file_extension": ".py",
   "mimetype": "text/x-python",
   "name": "python",
   "nbconvert_exporter": "python",
   "pygments_lexer": "ipython3",
   "version": "3.12.3"
  }
 },
 "nbformat": 4,
 "nbformat_minor": 2
}
